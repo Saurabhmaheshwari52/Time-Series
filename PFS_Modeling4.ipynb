{
 "cells": [
  {
   "cell_type": "code",
   "execution_count": 1,
   "metadata": {},
   "outputs": [],
   "source": [
    "import os\n",
    "mingw_path = 'C:\\\\Program Files\\\\mingw-w64\\\\x86_64-7.3.0-posix-seh-rt_v5-rev0\\\\mingw64\\\\bin'\n",
    "os.environ['PATH'] = mingw_path + ';' + os.environ['PATH']"
   ]
  },
  {
   "cell_type": "code",
   "execution_count": 2,
   "metadata": {},
   "outputs": [],
   "source": [
    "import pandas as pd\n",
    "import numpy as np\n",
    "import matplotlib.pyplot as plt\n",
    "% matplotlib inline\n",
    "from matplotlib import rc\n",
    "rc('figure', figsize=(15, 5))\n",
    "import xgboost as xgb\n",
    "from xgboost import XGBRegressor\n",
    "from sklearn.ensemble import RandomForestRegressor \n",
    "from sklearn.metrics import mean_squared_error\n",
    "from catboost import CatBoostRegressor\n",
    "from sklearn.preprocessing import LabelEncoder\n",
    "from timeit import default_timer as timer\n",
    "from sklearn.feature_extraction.text import TfidfVectorizer\n",
    "from sklearn.decomposition import TruncatedSVD"
   ]
  },
  {
   "cell_type": "code",
   "execution_count": 3,
   "metadata": {},
   "outputs": [],
   "source": [
    "sales_train = pd.read_csv(r'sales_train_v2.csv')\n",
    "items = pd.read_csv(r'items.csv')\n",
    "item_categories = pd.read_csv(r'item_categories.csv')\n",
    "shops = pd.read_csv(r'shops.csv')\n",
    "sales_test = pd.read_csv(r'test.csv')"
   ]
  },
  {
   "cell_type": "code",
   "execution_count": 4,
   "metadata": {
    "scrolled": true
   },
   "outputs": [],
   "source": [
    "sales_test['ID'] = 34\n",
    "sales_test.rename({'ID': 'date_block_num'}, axis = 1, inplace = True)\n",
    "sales_test = sales_test.merge(items.loc[:,['item_category_id', 'item_id']], on = 'item_id', how = 'left')"
   ]
  },
  {
   "cell_type": "code",
   "execution_count": 5,
   "metadata": {},
   "outputs": [],
   "source": [
    "sales_train = sales_train.merge(items.loc[:,['item_category_id', 'item_id']], on = 'item_id', how = 'left')"
   ]
  },
  {
   "cell_type": "markdown",
   "metadata": {},
   "source": [
    "Create Sales column"
   ]
  },
  {
   "cell_type": "code",
   "execution_count": 6,
   "metadata": {},
   "outputs": [],
   "source": [
    "sales_train['sales'] = sales_train['item_cnt_day']*sales_train['item_price']"
   ]
  },
  {
   "cell_type": "markdown",
   "metadata": {},
   "source": [
    "Aggregating the data w.r.t shop id, item id and date_block_num"
   ]
  },
  {
   "cell_type": "code",
   "execution_count": 7,
   "metadata": {},
   "outputs": [],
   "source": [
    "grouped_data = sales_train.groupby(['date_block_num', 'shop_id', 'item_id']).agg({\n",
    "    'item_cnt_day':sum,\n",
    "    'sales':sum,\n",
    "    'item_price':'median'\n",
    "}).rename({'item_cnt_day': 'cnt_shop_item', 'sales': 'sales_shop_item', 'item_price': 'price_shop_item'}, axis = 1).reset_index()"
   ]
  },
  {
   "cell_type": "markdown",
   "metadata": {},
   "source": [
    "Aggregating the data wrt shop_id and date_block_num"
   ]
  },
  {
   "cell_type": "code",
   "execution_count": 8,
   "metadata": {},
   "outputs": [],
   "source": [
    "aggdata = sales_train.groupby(['date_block_num', 'shop_id']).agg({\n",
    "    'item_cnt_day':sum,\n",
    "    'sales':sum,\n",
    "    'item_price':'median'\n",
    "}).rename({'item_cnt_day': 'cnt_shop', 'sales': 'sales_shop', 'item_price': 'price_shop'}, axis = 1)\n",
    "grouped_data = grouped_data.join(aggdata, on = ['date_block_num', 'shop_id'])"
   ]
  },
  {
   "cell_type": "markdown",
   "metadata": {},
   "source": [
    "Aggregating the data wrt item_id and date_block_num"
   ]
  },
  {
   "cell_type": "code",
   "execution_count": 9,
   "metadata": {},
   "outputs": [],
   "source": [
    "aggdata = sales_train.groupby(['date_block_num', 'item_id']).agg({\n",
    "    'item_cnt_day':sum,\n",
    "    'sales':sum,\n",
    "    'item_price':'median'\n",
    "}).rename({'item_cnt_day': 'cnt_item', 'sales': 'sales_item', 'item_price': 'price_item'}, axis = 1)\n",
    "grouped_data = grouped_data.join(aggdata, on = ['date_block_num', 'item_id'])"
   ]
  },
  {
   "cell_type": "markdown",
   "metadata": {},
   "source": [
    "Aggregating the data wrt item_category_id and date_block_num"
   ]
  },
  {
   "cell_type": "code",
   "execution_count": 10,
   "metadata": {
    "scrolled": true
   },
   "outputs": [],
   "source": [
    "grouped_data = grouped_data.merge(items[['item_id', 'item_category_id']], on = 'item_id', how = 'left')"
   ]
  },
  {
   "cell_type": "code",
   "execution_count": 11,
   "metadata": {},
   "outputs": [],
   "source": [
    "aggdata = sales_train.groupby(['date_block_num', 'item_category_id']).agg({\n",
    "    'item_cnt_day':sum,\n",
    "    'sales':sum,\n",
    "    'item_price':'median'\n",
    "}).rename({'item_cnt_day': 'cnt_itcat', 'sales': 'sales_itcat', 'item_price': 'price_itcat'}, axis = 1)\n",
    "grouped_data = grouped_data.join(aggdata, on = ['date_block_num', 'item_category_id'])"
   ]
  },
  {
   "cell_type": "markdown",
   "metadata": {},
   "source": [
    "Appending the test data as well"
   ]
  },
  {
   "cell_type": "code",
   "execution_count": 12,
   "metadata": {},
   "outputs": [],
   "source": [
    "grouped_data = grouped_data.append(sales_test, sort = False).fillna(0)"
   ]
  },
  {
   "cell_type": "markdown",
   "metadata": {},
   "source": [
    "Splitting date to day, month and year"
   ]
  },
  {
   "cell_type": "code",
   "execution_count": 13,
   "metadata": {},
   "outputs": [],
   "source": [
    "date_mat = sales_train.date.str.split('.', expand = True)\n",
    "date_mat.columns = ['day', 'month', 'year']\n",
    "date_df = pd.concat([sales_train['date_block_num'], date_mat[['month', 'year']]], axis = 1)\n",
    "date_df.drop_duplicates(inplace = True)\n",
    "date_df = date_df.append([{'date_block_num': 34, 'month': '11', 'year': '2015'}])"
   ]
  },
  {
   "cell_type": "code",
   "execution_count": 14,
   "metadata": {
    "scrolled": true
   },
   "outputs": [],
   "source": [
    "grouped_data = grouped_data.merge(date_df, on = 'date_block_num', how = 'left')"
   ]
  },
  {
   "cell_type": "code",
   "execution_count": 15,
   "metadata": {},
   "outputs": [
    {
     "data": {
      "text/plain": [
       "Index(['date_block_num', 'shop_id', 'item_id', 'cnt_shop_item',\n",
       "       'sales_shop_item', 'price_shop_item', 'cnt_shop', 'sales_shop',\n",
       "       'price_shop', 'cnt_item', 'sales_item', 'price_item',\n",
       "       'item_category_id', 'cnt_itcat', 'sales_itcat', 'price_itcat', 'month',\n",
       "       'year'],\n",
       "      dtype='object')"
      ]
     },
     "execution_count": 15,
     "metadata": {},
     "output_type": "execute_result"
    }
   ],
   "source": [
    "grouped_data.columns"
   ]
  },
  {
   "cell_type": "markdown",
   "metadata": {},
   "source": [
    "Clipping the cnt_shop_item between 0 and 20 to remove outliers"
   ]
  },
  {
   "cell_type": "code",
   "execution_count": 16,
   "metadata": {},
   "outputs": [],
   "source": [
    "grouped_data['cnt_shop_item'].clip(0,20, inplace = True)"
   ]
  },
  {
   "cell_type": "code",
   "execution_count": 17,
   "metadata": {},
   "outputs": [],
   "source": [
    "del aggdata"
   ]
  },
  {
   "cell_type": "markdown",
   "metadata": {},
   "source": [
    "Creating Expanding Mean Encodings"
   ]
  },
  {
   "cell_type": "code",
   "execution_count": 18,
   "metadata": {},
   "outputs": [],
   "source": [
    "enc_feat = ['shop_id', 'item_id', 'item_category_id', 'month', 'year']\n",
    "target_feat = ['cnt_shop_item', 'cnt_shop', 'cnt_item', 'cnt_itcat']"
   ]
  },
  {
   "cell_type": "code",
   "execution_count": 19,
   "metadata": {},
   "outputs": [],
   "source": [
    "enc_df = grouped_data[['date_block_num', 'shop_id', 'item_id']].copy()\n",
    "for i in enc_feat:\n",
    "    for j in target_feat:\n",
    "        cum_sum = grouped_data.groupby(i).cumsum()[j] - grouped_data[j]\n",
    "        cum_count = grouped_data.groupby(i).cumcount()\n",
    "        enc_df[i+'_enc_'+j] = cum_sum/(cum_count+1)   "
   ]
  },
  {
   "cell_type": "code",
   "execution_count": 20,
   "metadata": {},
   "outputs": [
    {
     "data": {
      "text/plain": [
       "Index(['date_block_num', 'shop_id', 'item_id', 'shop_id_enc_cnt_shop_item',\n",
       "       'shop_id_enc_cnt_shop', 'shop_id_enc_cnt_item', 'shop_id_enc_cnt_itcat',\n",
       "       'item_id_enc_cnt_shop_item', 'item_id_enc_cnt_shop',\n",
       "       'item_id_enc_cnt_item', 'item_id_enc_cnt_itcat',\n",
       "       'item_category_id_enc_cnt_shop_item', 'item_category_id_enc_cnt_shop',\n",
       "       'item_category_id_enc_cnt_item', 'item_category_id_enc_cnt_itcat',\n",
       "       'month_enc_cnt_shop_item', 'month_enc_cnt_shop', 'month_enc_cnt_item',\n",
       "       'month_enc_cnt_itcat', 'year_enc_cnt_shop_item', 'year_enc_cnt_shop',\n",
       "       'year_enc_cnt_item', 'year_enc_cnt_itcat'],\n",
       "      dtype='object')"
      ]
     },
     "execution_count": 20,
     "metadata": {},
     "output_type": "execute_result"
    }
   ],
   "source": [
    "enc_df.columns"
   ]
  },
  {
   "cell_type": "markdown",
   "metadata": {},
   "source": [
    "Creating Lagged Features"
   ]
  },
  {
   "cell_type": "code",
   "execution_count": 39,
   "metadata": {},
   "outputs": [],
   "source": [
    "lag_feat = ['sales_shop_item', 'price_shop_item', 'sales_shop', 'price_shop',  \n",
    "            'sales_item', 'price_item', 'sales_itcat', 'price_itcat']\n",
    "lag_df = grouped_data[['date_block_num', 'shop_id', 'item_id']]\n",
    "lag_int = [1,2]\n",
    "for i in lag_int:\n",
    "    key_df = grouped_data[['date_block_num', 'shop_id', 'item_id']+lag_feat].copy()\n",
    "    key_df['date_block_num'] = key_df['date_block_num']+i\n",
    "    lag_df = lag_df.merge(key_df, on = ['date_block_num', 'shop_id', 'item_id'], how = 'left').fillna(0)\n",
    "    lag_df.columns = [j + '_lag_'+ str(i) if j in lag_feat else j for j in lag_df.columns]"
   ]
  },
  {
   "cell_type": "code",
   "execution_count": 40,
   "metadata": {},
   "outputs": [],
   "source": [
    "lag_feat = ['cnt_shop_item','cnt_shop', 'cnt_item', 'cnt_itcat']\n",
    "lag_int = [1,2,3,4,5,6,12]\n",
    "for i in lag_int:\n",
    "    key_df = grouped_data[['date_block_num', 'shop_id', 'item_id'] + lag_feat].copy()\n",
    "    key_df['date_block_num'] = key_df['date_block_num']+i\n",
    "    lag_df = lag_df.merge(key_df, on = ['date_block_num', 'shop_id', 'item_id'], how = 'left').fillna(0)\n",
    "    lag_df.columns = [j + '_lag_'+ str(i) if j in lag_feat else j for j in lag_df.columns]\n",
    "del key_df"
   ]
  },
  {
   "cell_type": "code",
   "execution_count": 41,
   "metadata": {},
   "outputs": [
    {
     "data": {
      "text/plain": [
       "Index(['date_block_num', 'shop_id', 'item_id', 'sales_shop_item_lag_1',\n",
       "       'price_shop_item_lag_1', 'sales_shop_lag_1', 'price_shop_lag_1',\n",
       "       'sales_item_lag_1', 'price_item_lag_1', 'sales_itcat_lag_1',\n",
       "       'price_itcat_lag_1', 'sales_shop_item_lag_2', 'price_shop_item_lag_2',\n",
       "       'sales_shop_lag_2', 'price_shop_lag_2', 'sales_item_lag_2',\n",
       "       'price_item_lag_2', 'sales_itcat_lag_2', 'price_itcat_lag_2',\n",
       "       'cnt_shop_item_lag_1', 'cnt_shop_lag_1', 'cnt_item_lag_1',\n",
       "       'cnt_itcat_lag_1', 'cnt_shop_item_lag_2', 'cnt_shop_lag_2',\n",
       "       'cnt_item_lag_2', 'cnt_itcat_lag_2', 'cnt_shop_item_lag_3',\n",
       "       'cnt_shop_lag_3', 'cnt_item_lag_3', 'cnt_itcat_lag_3',\n",
       "       'cnt_shop_item_lag_4', 'cnt_shop_lag_4', 'cnt_item_lag_4',\n",
       "       'cnt_itcat_lag_4', 'cnt_shop_item_lag_5', 'cnt_shop_lag_5',\n",
       "       'cnt_item_lag_5', 'cnt_itcat_lag_5', 'cnt_shop_item_lag_6',\n",
       "       'cnt_shop_lag_6', 'cnt_item_lag_6', 'cnt_itcat_lag_6',\n",
       "       'cnt_shop_item_lag_12', 'cnt_shop_lag_12', 'cnt_item_lag_12',\n",
       "       'cnt_itcat_lag_12'],\n",
       "      dtype='object')"
      ]
     },
     "execution_count": 41,
     "metadata": {},
     "output_type": "execute_result"
    }
   ],
   "source": [
    "lag_df.columns"
   ]
  },
  {
   "cell_type": "markdown",
   "metadata": {},
   "source": [
    "Exploiting text features in item category and item names"
   ]
  },
  {
   "cell_type": "code",
   "execution_count": 42,
   "metadata": {},
   "outputs": [],
   "source": [
    "n_comp = 5"
   ]
  },
  {
   "cell_type": "code",
   "execution_count": 43,
   "metadata": {},
   "outputs": [],
   "source": [
    "text_feat = ['item_id', 'item_category_id']\n",
    "if 'item_id' in text_feat:\n",
    "    text_df = items[['item_name', 'item_id']].copy()\n",
    "    tv = TfidfVectorizer()\n",
    "    tv_df = tv.fit_transform(text_df['item_name'])\n",
    "    svd = TruncatedSVD(n_components=n_comp, random_state = 24)\n",
    "    svd_df = svd.fit_transform(tv_df)\n",
    "    svd_df = pd.DataFrame(data = svd_df, columns = ['item_name_' + str(i) for i in np.arange(1,6)])\n",
    "    item_name_df = pd.concat((text_df['item_id'], svd_df), axis = 1)\n",
    "if 'item_category_id' in text_feat:\n",
    "    text_df = item_categories.copy()\n",
    "    tv = TfidfVectorizer()\n",
    "    tv_df = tv.fit_transform(text_df['item_category_name'])\n",
    "    svd = TruncatedSVD(n_components=n_comp, random_state = 24)\n",
    "    svd_df = svd.fit_transform(tv_df)\n",
    "    svd_df = pd.DataFrame(data = svd_df, columns = ['item_category_name_' + str(i) for i in np.arange(1,6)])\n",
    "    item_category_name_df = pd.concat((text_df['item_category_id'], svd_df), axis = 1)\n",
    "del tv_df, svd_df, text_df, svd, tv"
   ]
  },
  {
   "cell_type": "code",
   "execution_count": 44,
   "metadata": {},
   "outputs": [],
   "source": [
    "text_df = grouped_data[['date_block_num', 'shop_id', 'item_id', 'item_category_id']].copy()\n",
    "text_df = text_df.merge(item_name_df, on = 'item_id', how = 'left')\n",
    "text_df = text_df.merge(item_category_name_df, on = 'item_category_id', how = 'left')"
   ]
  },
  {
   "cell_type": "code",
   "execution_count": 45,
   "metadata": {},
   "outputs": [
    {
     "data": {
      "text/plain": [
       "Index(['date_block_num', 'shop_id', 'item_id', 'item_name_1', 'item_name_2',\n",
       "       'item_name_3', 'item_name_4', 'item_name_5', 'item_category_name_1',\n",
       "       'item_category_name_2', 'item_category_name_3', 'item_category_name_4',\n",
       "       'item_category_name_5'],\n",
       "      dtype='object')"
      ]
     },
     "execution_count": 45,
     "metadata": {},
     "output_type": "execute_result"
    }
   ],
   "source": [
    "text_df.drop('item_category_id', axis = 1, inplace = True)\n",
    "text_df.columns"
   ]
  },
  {
   "cell_type": "code",
   "execution_count": 46,
   "metadata": {},
   "outputs": [
    {
     "name": "stdout",
     "output_type": "stream",
     "text": [
      "(1823324, 18)\n",
      "(1823324, 23)\n",
      "(1823324, 47)\n",
      "(1823324, 13)\n"
     ]
    }
   ],
   "source": [
    "for df in [grouped_data, enc_df, lag_df, text_df]:\n",
    "    print(df.shape)"
   ]
  },
  {
   "cell_type": "markdown",
   "metadata": {},
   "source": [
    "Merging all the datasets to create the full set"
   ]
  },
  {
   "cell_type": "code",
   "execution_count": 47,
   "metadata": {},
   "outputs": [],
   "source": [
    "full_data = grouped_data.copy()\n",
    "key_feat = ['date_block_num', 'shop_id', 'item_id']\n",
    "df = [enc_df, lag_df, text_df]\n",
    "for i in df:\n",
    "    full_data = full_data.merge(i, on = key_feat, how = 'left')"
   ]
  },
  {
   "cell_type": "code",
   "execution_count": 48,
   "metadata": {},
   "outputs": [
    {
     "data": {
      "text/plain": [
       "(1823324, 92)"
      ]
     },
     "execution_count": 48,
     "metadata": {},
     "output_type": "execute_result"
    }
   ],
   "source": [
    "full_data.shape"
   ]
  },
  {
   "cell_type": "code",
   "execution_count": 49,
   "metadata": {},
   "outputs": [
    {
     "data": {
      "text/plain": [
       "0"
      ]
     },
     "execution_count": 49,
     "metadata": {},
     "output_type": "execute_result"
    }
   ],
   "source": [
    "full_data.isnull().sum().sum()"
   ]
  },
  {
   "cell_type": "code",
   "execution_count": 50,
   "metadata": {},
   "outputs": [],
   "source": [
    "del grouped_data, enc_df, lag_df, text_df"
   ]
  },
  {
   "cell_type": "markdown",
   "metadata": {},
   "source": [
    "Dropping non required columns"
   ]
  },
  {
   "cell_type": "code",
   "execution_count": 51,
   "metadata": {},
   "outputs": [],
   "source": [
    "to_drop = ['sales_shop_item', 'price_shop_item', 'cnt_shop', 'sales_shop', 'price_shop', 'cnt_item', 'sales_item', 'price_item',\n",
    "           'cnt_itcat', 'sales_itcat', 'price_itcat']\n",
    "full_data.drop(to_drop, axis=1, inplace = True)"
   ]
  },
  {
   "cell_type": "code",
   "execution_count": 52,
   "metadata": {},
   "outputs": [
    {
     "data": {
      "text/plain": [
       "(1823324, 81)"
      ]
     },
     "execution_count": 52,
     "metadata": {},
     "output_type": "execute_result"
    }
   ],
   "source": [
    "full_data.shape"
   ]
  },
  {
   "cell_type": "markdown",
   "metadata": {},
   "source": [
    "Implementing a catboost model to find validation sets"
   ]
  },
  {
   "cell_type": "code",
   "execution_count": 54,
   "metadata": {},
   "outputs": [],
   "source": [
    "def create_test(test):\n",
    "    test = test.loc[(test['shop_id'].isin(sales_test['shop_id']))&(test['item_id'].isin(sales_test['item_id'])),:].copy()\n",
    "    test_pred = test['cnt_shop_item'].copy()\n",
    "    test.drop('cnt_shop_item', axis = 1, inplace = True)\n",
    "    return(test, test_pred)"
   ]
  },
  {
   "cell_type": "code",
   "execution_count": 55,
   "metadata": {},
   "outputs": [],
   "source": [
    "def error(pred, act):\n",
    "    return(np.sqrt(np.sum(np.square(np.subtract(act,pred)))/sales_test.shape[0]))"
   ]
  },
  {
   "cell_type": "code",
   "execution_count": 56,
   "metadata": {},
   "outputs": [],
   "source": [
    "def create_submission_file(pred, name):\n",
    "    ID = np.arange(0, sales_test.shape[0]) \n",
    "    new_df = pd.DataFrame({'ID': ID, 'item_cnt_month': pred})\n",
    "    new_df.to_csv('Submission Time Series/'+name+'.csv',index = False)"
   ]
  },
  {
   "cell_type": "code",
   "execution_count": 57,
   "metadata": {},
   "outputs": [],
   "source": [
    "X_train = full_data[~full_data['date_block_num'].isin([33,34])].drop('cnt_shop_item', axis = 1)\n",
    "y_train = full_data.loc[~full_data['date_block_num'].isin([33,34]), 'cnt_shop_item']\n",
    "X_val, y_val = create_test(full_data[full_data['date_block_num']==33])"
   ]
  },
  {
   "cell_type": "code",
   "execution_count": 63,
   "metadata": {},
   "outputs": [
    {
     "name": "stdout",
     "output_type": "stream",
     "text": [
      "Warning: Overfitting detector is active, thus evaluation metric iscalculated on every iteration. 'metric_period' is ignored for evaluation metric.\n",
      "0:\tlearn: 3.0809803\ttest: 2.8624906\tbest: 2.8624906 (0)\ttotal: 851ms\tremaining: 42m 32s\n",
      "50:\tlearn: 1.7487774\ttest: 1.6510905\tbest: 1.6510905 (50)\ttotal: 18.7s\tremaining: 18m 3s\n",
      "100:\tlearn: 1.6827365\ttest: 1.5972767\tbest: 1.5972767 (100)\ttotal: 36.1s\tremaining: 17m 15s\n",
      "150:\tlearn: 1.6491869\ttest: 1.5723416\tbest: 1.5723416 (150)\ttotal: 53.2s\tremaining: 16m 43s\n",
      "200:\tlearn: 1.6288297\ttest: 1.5581406\tbest: 1.5581406 (200)\ttotal: 1m 10s\tremaining: 16m 16s\n",
      "250:\tlearn: 1.6126533\ttest: 1.5507875\tbest: 1.5505561 (248)\ttotal: 1m 27s\tremaining: 15m 54s\n",
      "300:\tlearn: 1.5997665\ttest: 1.5397091\tbest: 1.5397091 (300)\ttotal: 1m 43s\tremaining: 15m 27s\n",
      "350:\tlearn: 1.5885559\ttest: 1.5343202\tbest: 1.5343202 (350)\ttotal: 2m\tremaining: 15m 8s\n",
      "400:\tlearn: 1.5790480\ttest: 1.5296523\tbest: 1.5296273 (399)\ttotal: 2m 16s\tremaining: 14m 47s\n",
      "450:\tlearn: 1.5709326\ttest: 1.5235612\tbest: 1.5232619 (448)\ttotal: 2m 33s\tremaining: 14m 28s\n",
      "500:\tlearn: 1.5637104\ttest: 1.5194903\tbest: 1.5194903 (500)\ttotal: 2m 50s\tremaining: 14m 8s\n",
      "550:\tlearn: 1.5572121\ttest: 1.5151664\tbest: 1.5147033 (539)\ttotal: 3m 6s\tremaining: 13m 48s\n",
      "600:\tlearn: 1.5512811\ttest: 1.5117782\tbest: 1.5115049 (597)\ttotal: 3m 23s\tremaining: 13m 30s\n",
      "650:\tlearn: 1.5454216\ttest: 1.5085774\tbest: 1.5078007 (645)\ttotal: 3m 39s\tremaining: 13m 12s\n",
      "700:\tlearn: 1.5402292\ttest: 1.5056350\tbest: 1.5055527 (698)\ttotal: 3m 56s\tremaining: 12m 55s\n",
      "750:\tlearn: 1.5360022\ttest: 1.5033313\tbest: 1.5032931 (748)\ttotal: 4m 12s\tremaining: 12m 37s\n",
      "800:\tlearn: 1.5317808\ttest: 1.5020563\tbest: 1.5008148 (793)\ttotal: 4m 29s\tremaining: 12m 18s\n",
      "Stopped by overfitting detector  (50 iterations wait)\n",
      "\n",
      "bestTest = 1.500814817\n",
      "bestIteration = 793\n",
      "\n",
      "Shrink model to first 794 iterations.\n",
      "total time: 402.02618\n"
     ]
    }
   ],
   "source": [
    "start = timer()\n",
    "cat1 = CatBoostRegressor(iterations = 3000, l2_leaf_reg = 2, depth = 4, \n",
    "                        rsm = 1, thread_count = 4, learning_rate = 0.1, metric_period = 50)\n",
    "cat1.fit(X_train.values, y_train.values, early_stopping_rounds=50, \n",
    "             eval_set=(X_val.values, y_val.values)) \n",
    "print('total time: %.5f' %(timer()-start))"
   ]
  },
  {
   "cell_type": "code",
   "execution_count": 64,
   "metadata": {},
   "outputs": [],
   "source": [
    "X_test,_ = create_test(full_data[full_data['date_block_num']==34])"
   ]
  },
  {
   "cell_type": "code",
   "execution_count": 65,
   "metadata": {},
   "outputs": [],
   "source": [
    "create_submission_file(cat1.predict(X_test), 'cat1.csv')"
   ]
  },
  {
   "cell_type": "markdown",
   "metadata": {},
   "source": [
    "Public Leader board score comes out to be 1.54"
   ]
  },
  {
   "cell_type": "code",
   "execution_count": 61,
   "metadata": {},
   "outputs": [],
   "source": [
    "rc('figure', figsize=(15, 5))"
   ]
  },
  {
   "cell_type": "code",
   "execution_count": 62,
   "metadata": {},
   "outputs": [
    {
     "data": {
      "text/plain": [
       "<matplotlib.axes._subplots.AxesSubplot at 0x1eb7772e080>"
      ]
     },
     "execution_count": 62,
     "metadata": {},
     "output_type": "execute_result"
    },
    {
     "data": {
      "image/png": "[encoded data removed]",
      "text/plain": [
       "<Figure size 1080x360 with 1 Axes>"
      ]
     },
     "metadata": {},
     "output_type": "display_data"
    }
   ],
   "source": [
    "imp = cat1.get_feature_importance(prettified=True)\n",
    "features = [int(i[0].decode(\"utf-8\")) for i in imp]\n",
    "features = X_train.columns[features]\n",
    "pd.Series(data = [i[1] for i in imp], index=features).plot(kind= 'bar')"
   ]
  },
  {
   "cell_type": "code",
   "execution_count": null,
   "metadata": {},
   "outputs": [],
   "source": []
  }
 ],
 "metadata": {
  "kernelspec": {
   "display_name": "Python 3",
   "language": "python",
   "name": "python3"
  },
  "language_info": {
   "codemirror_mode": {
    "name": "ipython",
    "version": 3
   },
   "file_extension": ".py",
   "mimetype": "text/x-python",
   "name": "python",
   "nbconvert_exporter": "python",
   "pygments_lexer": "ipython3",
   "version": "3.6.5"
  }
 },
 "nbformat": 4,
 "nbformat_minor": 2
}
