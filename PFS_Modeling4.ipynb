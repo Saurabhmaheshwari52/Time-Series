{
 "cells": [
  {
   "cell_type": "code",
   "execution_count": 1,
   "metadata": {},
   "outputs": [],
   "source": [
    "import os\n",
    "mingw_path = 'C:\\\\Program Files\\\\mingw-w64\\\\x86_64-7.3.0-posix-seh-rt_v5-rev0\\\\mingw64\\\\bin'\n",
    "os.environ['PATH'] = mingw_path + ';' + os.environ['PATH']"
   ]
  },
  {
   "cell_type": "code",
   "execution_count": 2,
   "metadata": {},
   "outputs": [],
   "source": [
    "import pandas as pd\n",
    "import numpy as np\n",
    "import matplotlib.pyplot as plt\n",
    "% matplotlib inline\n",
    "from matplotlib import rc\n",
    "rc('figure', figsize=(15, 5))\n",
    "import xgboost as xgb\n",
    "from xgboost import XGBRegressor\n",
    "from sklearn.ensemble import RandomForestRegressor \n",
    "from sklearn.metrics import mean_squared_error\n",
    "from catboost import CatBoostRegressor\n",
    "from sklearn.preprocessing import LabelEncoder\n",
    "from timeit import default_timer as timer\n",
    "from sklearn.feature_extraction.text import TfidfVectorizer\n",
    "from sklearn.decomposition import TruncatedSVD\n",
    "import pickle"
   ]
  },
  {
   "cell_type": "code",
   "execution_count": 3,
   "metadata": {},
   "outputs": [],
   "source": [
    "sales_train = pd.read_csv(r'sales_train_v2.csv')\n",
    "items = pd.read_csv(r'items.csv')\n",
    "item_categories = pd.read_csv(r'item_categories.csv')\n",
    "shops = pd.read_csv(r'shops.csv')\n",
    "sales_test = pd.read_csv(r'test.csv')"
   ]
  },
  {
   "cell_type": "code",
   "execution_count": 4,
   "metadata": {
    "scrolled": true
   },
   "outputs": [],
   "source": [
    "sales_test['ID'] = 34\n",
    "sales_test.rename({'ID': 'date_block_num'}, axis = 1, inplace = True)\n",
    "sales_test = sales_test.merge(items.loc[:,['item_category_id', 'item_id']], on = 'item_id', how = 'left')"
   ]
  },
  {
   "cell_type": "code",
   "execution_count": 5,
   "metadata": {},
   "outputs": [],
   "source": [
    "sales_train = sales_train.merge(items.loc[:,['item_category_id', 'item_id']], on = 'item_id', how = 'left')"
   ]
  },
  {
   "cell_type": "markdown",
   "metadata": {},
   "source": [
    "Create Sales column"
   ]
  },
  {
   "cell_type": "code",
   "execution_count": 6,
   "metadata": {},
   "outputs": [],
   "source": [
    "sales_train['sales'] = sales_train['item_cnt_day']*sales_train['item_price']"
   ]
  },
  {
   "cell_type": "markdown",
   "metadata": {},
   "source": [
    "Aggregating the data w.r.t shop id, item id and date_block_num"
   ]
  },
  {
   "cell_type": "code",
   "execution_count": 7,
   "metadata": {},
   "outputs": [],
   "source": [
    "grouped_data = sales_train.groupby(['date_block_num', 'shop_id', 'item_id']).agg({\n",
    "    'item_cnt_day':sum,\n",
    "    'sales':sum,\n",
    "    'item_price':'median'\n",
    "}).rename({'item_cnt_day': 'cnt_shop_item', 'sales': 'sales_shop_item', 'item_price': 'price_shop_item'}, axis = 1).reset_index()"
   ]
  },
  {
   "cell_type": "markdown",
   "metadata": {},
   "source": [
    "Aggregating the data wrt shop_id and date_block_num"
   ]
  },
  {
   "cell_type": "code",
   "execution_count": 8,
   "metadata": {},
   "outputs": [],
   "source": [
    "aggdata = sales_train.groupby(['date_block_num', 'shop_id']).agg({\n",
    "    'item_cnt_day':sum,\n",
    "    'sales':sum,\n",
    "    'item_price':'median'\n",
    "}).rename({'item_cnt_day': 'cnt_shop', 'sales': 'sales_shop', 'item_price': 'price_shop'}, axis = 1)\n",
    "grouped_data = grouped_data.join(aggdata, on = ['date_block_num', 'shop_id'])"
   ]
  },
  {
   "cell_type": "markdown",
   "metadata": {},
   "source": [
    "Aggregating the data wrt item_id and date_block_num"
   ]
  },
  {
   "cell_type": "code",
   "execution_count": 9,
   "metadata": {},
   "outputs": [],
   "source": [
    "aggdata = sales_train.groupby(['date_block_num', 'item_id']).agg({\n",
    "    'item_cnt_day':sum,\n",
    "    'sales':sum,\n",
    "    'item_price':'median'\n",
    "}).rename({'item_cnt_day': 'cnt_item', 'sales': 'sales_item', 'item_price': 'price_item'}, axis = 1)\n",
    "grouped_data = grouped_data.join(aggdata, on = ['date_block_num', 'item_id'])"
   ]
  },
  {
   "cell_type": "markdown",
   "metadata": {},
   "source": [
    "Aggregating the data wrt item_category_id and date_block_num"
   ]
  },
  {
   "cell_type": "code",
   "execution_count": 10,
   "metadata": {
    "scrolled": true
   },
   "outputs": [],
   "source": [
    "grouped_data = grouped_data.merge(items[['item_id', 'item_category_id']], on = 'item_id', how = 'left')"
   ]
  },
  {
   "cell_type": "code",
   "execution_count": 11,
   "metadata": {},
   "outputs": [],
   "source": [
    "aggdata = sales_train.groupby(['date_block_num', 'item_category_id']).agg({\n",
    "    'item_cnt_day':sum,\n",
    "    'sales':sum,\n",
    "    'item_price':'median'\n",
    "}).rename({'item_cnt_day': 'cnt_itcat', 'sales': 'sales_itcat', 'item_price': 'price_itcat'}, axis = 1)\n",
    "grouped_data = grouped_data.join(aggdata, on = ['date_block_num', 'item_category_id'])"
   ]
  },
  {
   "cell_type": "markdown",
   "metadata": {},
   "source": [
    "Appending the test data as well"
   ]
  },
  {
   "cell_type": "code",
   "execution_count": 12,
   "metadata": {},
   "outputs": [],
   "source": [
    "grouped_data = grouped_data.append(sales_test, sort = False).fillna(0)"
   ]
  },
  {
   "cell_type": "markdown",
   "metadata": {},
   "source": [
    "Splitting date to day, month and year"
   ]
  },
  {
   "cell_type": "code",
   "execution_count": 13,
   "metadata": {},
   "outputs": [],
   "source": [
    "date_mat = sales_train.date.str.split('.', expand = True).astype('int32')\n",
    "date_mat.columns = ['day', 'month', 'year']\n",
    "date_df = pd.concat([sales_train['date_block_num'], date_mat[['month', 'year']]], axis = 1)\n",
    "date_df.drop_duplicates(inplace = True)\n",
    "date_df = date_df.append([{'date_block_num': 34, 'month': 11, 'year': 2015}])"
   ]
  },
  {
   "cell_type": "code",
   "execution_count": 14,
   "metadata": {
    "scrolled": true
   },
   "outputs": [],
   "source": [
    "grouped_data = grouped_data.merge(date_df, on = 'date_block_num', how = 'left')"
   ]
  },
  {
   "cell_type": "code",
   "execution_count": 15,
   "metadata": {},
   "outputs": [
    {
     "data": {
      "text/plain": [
       "Index(['date_block_num', 'shop_id', 'item_id', 'cnt_shop_item',\n",
       "       'sales_shop_item', 'price_shop_item', 'cnt_shop', 'sales_shop',\n",
       "       'price_shop', 'cnt_item', 'sales_item', 'price_item',\n",
       "       'item_category_id', 'cnt_itcat', 'sales_itcat', 'price_itcat', 'month',\n",
       "       'year'],\n",
       "      dtype='object')"
      ]
     },
     "execution_count": 15,
     "metadata": {},
     "output_type": "execute_result"
    }
   ],
   "source": [
    "grouped_data.columns"
   ]
  },
  {
   "cell_type": "markdown",
   "metadata": {},
   "source": [
    "Clipping the cnt_shop_item between 0 and 20 to remove outliers"
   ]
  },
  {
   "cell_type": "code",
   "execution_count": 16,
   "metadata": {},
   "outputs": [],
   "source": [
    "grouped_data['cnt_shop_item'].clip(0,20, inplace = True)"
   ]
  },
  {
   "cell_type": "code",
   "execution_count": 17,
   "metadata": {},
   "outputs": [],
   "source": [
    "del aggdata"
   ]
  },
  {
   "cell_type": "markdown",
   "metadata": {},
   "source": [
    "Creating Expanding Mean Encodings"
   ]
  },
  {
   "cell_type": "code",
   "execution_count": 18,
   "metadata": {},
   "outputs": [],
   "source": [
    "enc_feat = ['shop_id', 'item_id', 'item_category_id', 'month', 'year']\n",
    "target_feat = ['cnt_shop_item', 'cnt_shop', 'cnt_item', 'cnt_itcat']"
   ]
  },
  {
   "cell_type": "code",
   "execution_count": 19,
   "metadata": {},
   "outputs": [],
   "source": [
    "enc_df = grouped_data[['date_block_num', 'shop_id', 'item_id']].copy()\n",
    "for i in enc_feat:\n",
    "    for j in target_feat:\n",
    "        cum_sum = grouped_data.groupby(i).cumsum()[j] - grouped_data[j]\n",
    "        cum_count = grouped_data.groupby(i).cumcount()\n",
    "        enc_df[i+'_enc_'+j] = cum_sum/(cum_count+1)   "
   ]
  },
  {
   "cell_type": "code",
   "execution_count": 20,
   "metadata": {},
   "outputs": [
    {
     "data": {
      "text/plain": [
       "Index(['date_block_num', 'shop_id', 'item_id', 'shop_id_enc_cnt_shop_item',\n",
       "       'shop_id_enc_cnt_shop', 'shop_id_enc_cnt_item', 'shop_id_enc_cnt_itcat',\n",
       "       'item_id_enc_cnt_shop_item', 'item_id_enc_cnt_shop',\n",
       "       'item_id_enc_cnt_item', 'item_id_enc_cnt_itcat',\n",
       "       'item_category_id_enc_cnt_shop_item', 'item_category_id_enc_cnt_shop',\n",
       "       'item_category_id_enc_cnt_item', 'item_category_id_enc_cnt_itcat',\n",
       "       'month_enc_cnt_shop_item', 'month_enc_cnt_shop', 'month_enc_cnt_item',\n",
       "       'month_enc_cnt_itcat', 'year_enc_cnt_shop_item', 'year_enc_cnt_shop',\n",
       "       'year_enc_cnt_item', 'year_enc_cnt_itcat'],\n",
       "      dtype='object')"
      ]
     },
     "execution_count": 20,
     "metadata": {},
     "output_type": "execute_result"
    }
   ],
   "source": [
    "enc_df.columns"
   ]
  },
  {
   "cell_type": "markdown",
   "metadata": {},
   "source": [
    "Creating Lagged Features"
   ]
  },
  {
   "cell_type": "code",
   "execution_count": 21,
   "metadata": {},
   "outputs": [],
   "source": [
    "lag_feat = ['sales_shop_item', 'price_shop_item', 'sales_shop', 'price_shop',  \n",
    "            'sales_item', 'price_item', 'sales_itcat', 'price_itcat']\n",
    "lag_df = grouped_data[['date_block_num', 'shop_id', 'item_id']]\n",
    "lag_int = [1,2]\n",
    "for i in lag_int:\n",
    "    key_df = grouped_data[['date_block_num', 'shop_id', 'item_id']+lag_feat].copy()\n",
    "    key_df['date_block_num'] = key_df['date_block_num']+i\n",
    "    lag_df = lag_df.merge(key_df, on = ['date_block_num', 'shop_id', 'item_id'], how = 'left').fillna(0)\n",
    "    lag_df.columns = [j + '_lag_'+ str(i) if j in lag_feat else j for j in lag_df.columns]"
   ]
  },
  {
   "cell_type": "code",
   "execution_count": 22,
   "metadata": {},
   "outputs": [],
   "source": [
    "lag_feat = ['cnt_shop_item','cnt_shop', 'cnt_item', 'cnt_itcat']\n",
    "lag_int = [1,2,3,4,5,6,12]\n",
    "for i in lag_int:\n",
    "    key_df = grouped_data[['date_block_num', 'shop_id', 'item_id'] + lag_feat].copy()\n",
    "    key_df['date_block_num'] = key_df['date_block_num']+i\n",
    "    lag_df = lag_df.merge(key_df, on = ['date_block_num', 'shop_id', 'item_id'], how = 'left').fillna(0)\n",
    "    lag_df.columns = [j + '_lag_'+ str(i) if j in lag_feat else j for j in lag_df.columns]\n",
    "del key_df"
   ]
  },
  {
   "cell_type": "code",
   "execution_count": 23,
   "metadata": {},
   "outputs": [
    {
     "data": {
      "text/plain": [
       "Index(['date_block_num', 'shop_id', 'item_id', 'sales_shop_item_lag_1',\n",
       "       'price_shop_item_lag_1', 'sales_shop_lag_1', 'price_shop_lag_1',\n",
       "       'sales_item_lag_1', 'price_item_lag_1', 'sales_itcat_lag_1',\n",
       "       'price_itcat_lag_1', 'sales_shop_item_lag_2', 'price_shop_item_lag_2',\n",
       "       'sales_shop_lag_2', 'price_shop_lag_2', 'sales_item_lag_2',\n",
       "       'price_item_lag_2', 'sales_itcat_lag_2', 'price_itcat_lag_2',\n",
       "       'cnt_shop_item_lag_1', 'cnt_shop_lag_1', 'cnt_item_lag_1',\n",
       "       'cnt_itcat_lag_1', 'cnt_shop_item_lag_2', 'cnt_shop_lag_2',\n",
       "       'cnt_item_lag_2', 'cnt_itcat_lag_2', 'cnt_shop_item_lag_3',\n",
       "       'cnt_shop_lag_3', 'cnt_item_lag_3', 'cnt_itcat_lag_3',\n",
       "       'cnt_shop_item_lag_4', 'cnt_shop_lag_4', 'cnt_item_lag_4',\n",
       "       'cnt_itcat_lag_4', 'cnt_shop_item_lag_5', 'cnt_shop_lag_5',\n",
       "       'cnt_item_lag_5', 'cnt_itcat_lag_5', 'cnt_shop_item_lag_6',\n",
       "       'cnt_shop_lag_6', 'cnt_item_lag_6', 'cnt_itcat_lag_6',\n",
       "       'cnt_shop_item_lag_12', 'cnt_shop_lag_12', 'cnt_item_lag_12',\n",
       "       'cnt_itcat_lag_12'],\n",
       "      dtype='object')"
      ]
     },
     "execution_count": 23,
     "metadata": {},
     "output_type": "execute_result"
    }
   ],
   "source": [
    "lag_df.columns"
   ]
  },
  {
   "cell_type": "markdown",
   "metadata": {},
   "source": [
    "Exploiting text features in item category and item names"
   ]
  },
  {
   "cell_type": "code",
   "execution_count": 24,
   "metadata": {},
   "outputs": [],
   "source": [
    "n_comp = 5"
   ]
  },
  {
   "cell_type": "code",
   "execution_count": 25,
   "metadata": {},
   "outputs": [],
   "source": [
    "text_feat = ['item_id', 'item_category_id']\n",
    "if 'item_id' in text_feat:\n",
    "    text_df = items[['item_name', 'item_id']].copy()\n",
    "    tv = TfidfVectorizer()\n",
    "    tv_df = tv.fit_transform(text_df['item_name'])\n",
    "    svd = TruncatedSVD(n_components=n_comp, random_state = 24)\n",
    "    svd_df = svd.fit_transform(tv_df)\n",
    "    svd_df = pd.DataFrame(data = svd_df, columns = ['item_name_' + str(i) for i in np.arange(1,n_comp+1)])\n",
    "    item_name_df = pd.concat((text_df['item_id'], svd_df), axis = 1)\n",
    "if 'item_category_id' in text_feat:\n",
    "    text_df = item_categories.copy()\n",
    "    tv = TfidfVectorizer()\n",
    "    tv_df = tv.fit_transform(text_df['item_category_name'])\n",
    "    svd = TruncatedSVD(n_components=n_comp, random_state = 24)\n",
    "    svd_df = svd.fit_transform(tv_df)\n",
    "    svd_df = pd.DataFrame(data = svd_df, columns = ['item_category_name_' + str(i) for i in np.arange(1,n_comp+1)])\n",
    "    item_category_name_df = pd.concat((text_df['item_category_id'], svd_df), axis = 1)\n",
    "del tv_df, svd_df, text_df, svd, tv"
   ]
  },
  {
   "cell_type": "code",
   "execution_count": 26,
   "metadata": {},
   "outputs": [],
   "source": [
    "text_df = grouped_data[['date_block_num', 'shop_id', 'item_id', 'item_category_id']].copy()\n",
    "text_df = text_df.merge(item_name_df, on = 'item_id', how = 'left')\n",
    "text_df = text_df.merge(item_category_name_df, on = 'item_category_id', how = 'left')"
   ]
  },
  {
   "cell_type": "code",
   "execution_count": 27,
   "metadata": {},
   "outputs": [
    {
     "data": {
      "text/plain": [
       "Index(['date_block_num', 'shop_id', 'item_id', 'item_name_1', 'item_name_2',\n",
       "       'item_name_3', 'item_name_4', 'item_name_5', 'item_category_name_1',\n",
       "       'item_category_name_2', 'item_category_name_3', 'item_category_name_4',\n",
       "       'item_category_name_5'],\n",
       "      dtype='object')"
      ]
     },
     "execution_count": 27,
     "metadata": {},
     "output_type": "execute_result"
    }
   ],
   "source": [
    "text_df.drop('item_category_id', axis = 1, inplace = True)\n",
    "text_df.columns"
   ]
  },
  {
   "cell_type": "code",
   "execution_count": 28,
   "metadata": {},
   "outputs": [
    {
     "name": "stdout",
     "output_type": "stream",
     "text": [
      "(1823324, 18)\n",
      "(1823324, 23)\n",
      "(1823324, 47)\n",
      "(1823324, 13)\n"
     ]
    }
   ],
   "source": [
    "for df in [grouped_data, enc_df, lag_df, text_df]:\n",
    "    print(df.shape)"
   ]
  },
  {
   "cell_type": "markdown",
   "metadata": {},
   "source": [
    "Merging all the datasets to create the full set"
   ]
  },
  {
   "cell_type": "code",
   "execution_count": 29,
   "metadata": {},
   "outputs": [],
   "source": [
    "full_data = grouped_data.copy()\n",
    "key_feat = ['date_block_num', 'shop_id', 'item_id']\n",
    "df = [enc_df, lag_df, text_df]\n",
    "for i in df:\n",
    "    full_data = full_data.merge(i, on = key_feat, how = 'left')"
   ]
  },
  {
   "cell_type": "code",
   "execution_count": 30,
   "metadata": {},
   "outputs": [
    {
     "data": {
      "text/plain": [
       "(1823324, 92)"
      ]
     },
     "execution_count": 30,
     "metadata": {},
     "output_type": "execute_result"
    }
   ],
   "source": [
    "full_data.shape"
   ]
  },
  {
   "cell_type": "code",
   "execution_count": 31,
   "metadata": {},
   "outputs": [
    {
     "data": {
      "text/plain": [
       "0"
      ]
     },
     "execution_count": 31,
     "metadata": {},
     "output_type": "execute_result"
    }
   ],
   "source": [
    "full_data.isnull().sum().sum()"
   ]
  },
  {
   "cell_type": "code",
   "execution_count": 32,
   "metadata": {},
   "outputs": [],
   "source": [
    "del grouped_data, enc_df, lag_df, text_df"
   ]
  },
  {
   "cell_type": "markdown",
   "metadata": {},
   "source": [
    "Dropping non required columns"
   ]
  },
  {
   "cell_type": "code",
   "execution_count": 33,
   "metadata": {},
   "outputs": [],
   "source": [
    "to_drop = ['sales_shop_item', 'price_shop_item', 'cnt_shop', 'sales_shop', 'price_shop', 'cnt_item', 'sales_item', 'price_item',\n",
    "           'cnt_itcat', 'sales_itcat', 'price_itcat']\n",
    "full_data.drop(to_drop, axis=1, inplace = True)"
   ]
  },
  {
   "cell_type": "code",
   "execution_count": 34,
   "metadata": {},
   "outputs": [
    {
     "data": {
      "text/plain": [
       "(1823324, 81)"
      ]
     },
     "execution_count": 34,
     "metadata": {},
     "output_type": "execute_result"
    }
   ],
   "source": [
    "full_data.shape"
   ]
  },
  {
   "cell_type": "code",
   "execution_count": 35,
   "metadata": {},
   "outputs": [],
   "source": [
    "def downcast_dtypes(data):\n",
    "    float_cols = [c for c in data if data[c].dtype == \"float64\"]\n",
    "    int_cols =   [c for c in data if data[c].dtype == \"int64\"]\n",
    "    data[float_cols] = data[float_cols].astype(np.float32)\n",
    "    data[int_cols]   = data[int_cols].astype(np.int32)\n",
    "    return(data)"
   ]
  },
  {
   "cell_type": "code",
   "execution_count": 36,
   "metadata": {},
   "outputs": [],
   "source": [
    "full_data = downcast_dtypes(full_data)"
   ]
  },
  {
   "cell_type": "code",
   "execution_count": 37,
   "metadata": {},
   "outputs": [],
   "source": [
    "with open('full_data_2.pkl', 'wb') as handle:  \n",
    "    pickle.dump(full_data,handle,protocol=-1)"
   ]
  },
  {
   "cell_type": "markdown",
   "metadata": {},
   "source": [
    "Implementing a catboost model to find validation sets"
   ]
  },
  {
   "cell_type": "code",
   "execution_count": 36,
   "metadata": {},
   "outputs": [],
   "source": [
    "def create_test(test):\n",
    "    test = test.loc[(test['shop_id'].isin(sales_test['shop_id']))&(test['item_id'].isin(sales_test['item_id'])),:].copy()\n",
    "    test_pred = test['cnt_shop_item'].copy()\n",
    "    test.drop('cnt_shop_item', axis = 1, inplace = True)\n",
    "    return(test, test_pred)"
   ]
  },
  {
   "cell_type": "code",
   "execution_count": 37,
   "metadata": {},
   "outputs": [],
   "source": [
    "def error(pred, act):\n",
    "    return(np.sqrt(np.sum(np.square(np.subtract(act,pred)))/sales_test.shape[0]))"
   ]
  },
  {
   "cell_type": "code",
   "execution_count": 38,
   "metadata": {},
   "outputs": [],
   "source": [
    "def create_submission_file(pred, name):\n",
    "    ID = np.arange(0, sales_test.shape[0]) \n",
    "    new_df = pd.DataFrame({'ID': ID, 'item_cnt_month': pred})\n",
    "    new_df.to_csv('Submission Time Series/'+name+'.csv',index = False)"
   ]
  },
  {
   "cell_type": "code",
   "execution_count": 39,
   "metadata": {},
   "outputs": [],
   "source": [
    "def create_cv_sets(months, data):\n",
    "    train = []\n",
    "    test = []\n",
    "    train_pred = []\n",
    "    test_pred = []\n",
    "    for i in months:\n",
    "        x = data.loc[full_data['date_block_num']<i,:].drop('cnt_shop_item', axis = 1)\n",
    "        y_pred = data.loc[full_data['date_block_num']<i,'cnt_shop_item']\n",
    "        x_test = data.loc[full_data['date_block_num']==i,:]\n",
    "        x_test, y_test_pred = create_test(x_test)\n",
    "        train.append(x)\n",
    "        test.append(x_test)\n",
    "        train_pred.append(y_pred)\n",
    "        test_pred.append(y_test_pred)\n",
    "    return(train,test,train_pred,test_pred) "
   ]
  },
  {
   "cell_type": "code",
   "execution_count": 92,
   "metadata": {},
   "outputs": [],
   "source": [
    "X_train, X_val, y_train, y_val = create_cv_sets([33], full_data)"
   ]
  },
  {
   "cell_type": "code",
   "execution_count": 100,
   "metadata": {},
   "outputs": [
    {
     "name": "stdout",
     "output_type": "stream",
     "text": [
      "[0]\ttrain-rmse:2.65048\tval-rmse:2.42855\n",
      "Multiple eval metrics have been passed: 'val-rmse' will be used for early stopping.\n",
      "\n",
      "Will train until val-rmse hasn't improved in 20 rounds.\n",
      "[50]\ttrain-rmse:1.56967\tval-rmse:1.52745\n",
      "[100]\ttrain-rmse:1.51913\tval-rmse:1.51612\n",
      "[150]\ttrain-rmse:1.48193\tval-rmse:1.49856\n",
      "[200]\ttrain-rmse:1.45735\tval-rmse:1.48883\n",
      "[250]\ttrain-rmse:1.43821\tval-rmse:1.48362\n",
      "Stopping. Best iteration:\n",
      "[240]\ttrain-rmse:1.44155\tval-rmse:1.48308\n",
      "\n"
     ]
    }
   ],
   "source": [
    "alg = XGBRegressor(learning_rate = 0.2, n_estimators = 1000, max_depth = 5, min_child_weight = 5, gamma = 0, \n",
    "                   subsample = 0.9, colsample_bytree=0.6, eval_metric='rmse', seed = 42, n_jobs = 4)\n",
    "xgtrain = xgb.DMatrix(X_train[0], y_train[0])\n",
    "xgval = xgb.DMatrix(X_val[0], y_val[0])\n",
    "xgb_params = alg.get_xgb_params()\n",
    "watchlist = [(xgtrain, 'train'), (xgval, 'val')]\n",
    "xgbresults = xgb.train(xgb_params, xgtrain, num_boost_round = 1000, evals = watchlist,\n",
    "                          early_stopping_rounds = 20, verbose_eval = 50)"
   ]
  },
  {
   "cell_type": "code",
   "execution_count": 101,
   "metadata": {},
   "outputs": [],
   "source": [
    "train, test, train_pred, _ = create_cv_sets([34], full_data)"
   ]
  },
  {
   "cell_type": "code",
   "execution_count": 112,
   "metadata": {},
   "outputs": [
    {
     "name": "stdout",
     "output_type": "stream",
     "text": [
      "[0]\ttrain-rmse:2.65703\n",
      "[50]\ttrain-rmse:1.57071\n",
      "[100]\ttrain-rmse:1.52025\n",
      "[150]\ttrain-rmse:1.48594\n",
      "[200]\ttrain-rmse:1.46315\n",
      "[239]\ttrain-rmse:1.44655\n"
     ]
    }
   ],
   "source": [
    "alg = XGBRegressor(learning_rate = 0.2, n_estimators = 240, max_depth = 5, min_child_weight = 5, gamma = 0, \n",
    "                   subsample = 0.9, colsample_bytree=0.6, eval_metric='rmse', seed = 42, n_jobs = 4)\n",
    "xgtrain = xgb.DMatrix(train[0], train_pred[0])\n",
    "xgb_params = alg.get_xgb_params()\n",
    "watchlist = [(xgtrain, 'train')]\n",
    "xgbresults_test = xgb.train(xgb_params, xgtrain, num_boost_round=240, evals = watchlist, verbose_eval=50)"
   ]
  },
  {
   "cell_type": "code",
   "execution_count": 113,
   "metadata": {},
   "outputs": [],
   "source": [
    "create_submission_file(xgbresults_test.predict(xgb.DMatrix(test[0])), 'xgb.csv')"
   ]
  },
  {
   "cell_type": "code",
   "execution_count": 41,
   "metadata": {},
   "outputs": [],
   "source": [
    "train, test, train_pred, test_pred = create_cv_sets([31,32,33], full_data)"
   ]
  },
  {
   "cell_type": "code",
   "execution_count": 95,
   "metadata": {
    "scrolled": true
   },
   "outputs": [
    {
     "name": "stdout",
     "output_type": "stream",
     "text": [
      "Warning: Overfitting detector is active, thus evaluation metric iscalculated on every iteration. 'metric_period' is ignored for evaluation metric.\n",
      "0:\tlearn: 3.0820338\ttest: 2.8646589\tbest: 2.8646589 (0)\ttotal: 517ms\tremaining: 25m 51s\n",
      "50:\tlearn: 1.7473039\ttest: 1.6580712\tbest: 1.6580712 (50)\ttotal: 16.3s\tremaining: 15m 44s\n",
      "100:\tlearn: 1.6818579\ttest: 1.5991161\tbest: 1.5990582 (99)\ttotal: 31.3s\tremaining: 14m 59s\n",
      "150:\tlearn: 1.6482527\ttest: 1.5783490\tbest: 1.5783490 (150)\ttotal: 46.1s\tremaining: 14m 29s\n",
      "200:\tlearn: 1.6295163\ttest: 1.5694238\tbest: 1.5694238 (200)\ttotal: 1m\tremaining: 14m 1s\n",
      "250:\tlearn: 1.6152085\ttest: 1.5592435\tbest: 1.5592435 (250)\ttotal: 1m 14s\tremaining: 13m 40s\n",
      "300:\tlearn: 1.6032632\ttest: 1.5497676\tbest: 1.5497676 (300)\ttotal: 1m 29s\tremaining: 13m 19s\n",
      "350:\tlearn: 1.5932351\ttest: 1.5438495\tbest: 1.5438495 (350)\ttotal: 1m 43s\tremaining: 13m 2s\n",
      "400:\tlearn: 1.5835922\ttest: 1.5403534\tbest: 1.5402913 (399)\ttotal: 1m 57s\tremaining: 12m 44s\n",
      "450:\tlearn: 1.5755781\ttest: 1.5363696\tbest: 1.5363696 (450)\ttotal: 2m 12s\tremaining: 12m 27s\n",
      "500:\tlearn: 1.5679880\ttest: 1.5353920\tbest: 1.5351061 (495)\ttotal: 2m 26s\tremaining: 12m 13s\n",
      "550:\tlearn: 1.5608887\ttest: 1.5300467\tbest: 1.5300467 (550)\ttotal: 2m 41s\tremaining: 11m 58s\n",
      "600:\tlearn: 1.5551303\ttest: 1.5272856\tbest: 1.5272856 (600)\ttotal: 2m 55s\tremaining: 11m 42s\n",
      "650:\tlearn: 1.5496983\ttest: 1.5267992\tbest: 1.5267799 (616)\ttotal: 3m 10s\tremaining: 11m 26s\n",
      "700:\tlearn: 1.5443830\ttest: 1.5226626\tbest: 1.5226626 (700)\ttotal: 3m 24s\tremaining: 11m 11s\n",
      "750:\tlearn: 1.5395477\ttest: 1.5215237\tbest: 1.5215237 (750)\ttotal: 3m 39s\tremaining: 10m 57s\n",
      "800:\tlearn: 1.5352474\ttest: 1.5185226\tbest: 1.5185226 (800)\ttotal: 3m 54s\tremaining: 10m 42s\n",
      "850:\tlearn: 1.5312847\ttest: 1.5157147\tbest: 1.5157147 (850)\ttotal: 4m 8s\tremaining: 10m 27s\n",
      "900:\tlearn: 1.5271169\ttest: 1.5135723\tbest: 1.5135723 (900)\ttotal: 4m 23s\tremaining: 10m 13s\n",
      "950:\tlearn: 1.5235134\ttest: 1.5130247\tbest: 1.5121004 (948)\ttotal: 4m 38s\tremaining: 9m 59s\n",
      "1000:\tlearn: 1.5202176\ttest: 1.5121288\tbest: 1.5118588 (998)\ttotal: 4m 52s\tremaining: 9m 43s\n",
      "1050:\tlearn: 1.5168044\ttest: 1.5107000\tbest: 1.5106687 (1048)\ttotal: 5m 7s\tremaining: 9m 29s\n",
      "1100:\tlearn: 1.5137968\ttest: 1.5096886\tbest: 1.5096886 (1100)\ttotal: 5m 21s\tremaining: 9m 14s\n",
      "1150:\tlearn: 1.5109347\ttest: 1.5085611\tbest: 1.5080789 (1141)\ttotal: 5m 36s\tremaining: 8m 59s\n",
      "1200:\tlearn: 1.5079605\ttest: 1.5076100\tbest: 1.5070689 (1173)\ttotal: 5m 50s\tremaining: 8m 44s\n",
      "Stopped by overfitting detector  (50 iterations wait)\n",
      "\n",
      "bestTest = 1.507068896\n",
      "bestIteration = 1173\n",
      "\n",
      "Shrink model to first 1174 iterations.\n",
      "total time: 376.59919\n"
     ]
    }
   ],
   "source": [
    "start = timer()\n",
    "cat1 = CatBoostRegressor(iterations = 3000, l2_leaf_reg = 2, depth = 4, \n",
    "                        rsm = 1, learning_rate = 0.1, metric_period = 50)\n",
    "cat1.fit(X_train[0].values, y_train[0].values, early_stopping_rounds=50, \n",
    "             eval_set=(X_val[0].values, y_val[0].values)) \n",
    "print('total time: %.5f' %(timer()-start))"
   ]
  },
  {
   "cell_type": "code",
   "execution_count": 64,
   "metadata": {},
   "outputs": [],
   "source": [
    "X_test,_ = create_test(full_data[full_data['date_block_num']==34])"
   ]
  },
  {
   "cell_type": "code",
   "execution_count": 65,
   "metadata": {},
   "outputs": [],
   "source": [
    "create_submission_file(cat1.predict(X_test), 'cat1.csv')"
   ]
  },
  {
   "cell_type": "markdown",
   "metadata": {},
   "source": [
    "Public Leader board score comes out to be 1.54"
   ]
  },
  {
   "cell_type": "code",
   "execution_count": 149,
   "metadata": {},
   "outputs": [],
   "source": [
    "rc('figure', figsize=(15, 5))"
   ]
  },
  {
   "cell_type": "code",
   "execution_count": 62,
   "metadata": {},
   "outputs": [
    {
     "data": {
      "text/plain": [
       "<matplotlib.axes._subplots.AxesSubplot at 0x1eb7772e080>"
      ]
     },
     "execution_count": 62,
     "metadata": {},
     "output_type": "execute_result"
    },
    {
     "data": {
      "image/png": "[encoded data removed]",
      "text/plain": [
       "<Figure size 1080x360 with 1 Axes>"
      ]
     },
     "metadata": {},
     "output_type": "display_data"
    }
   ],
   "source": [
    "imp = cat1.get_feature_importance(prettified=True)\n",
    "features = [int(i[0].decode(\"utf-8\")) for i in imp]\n",
    "features = X_train.columns[features]\n",
    "pd.Series(data = [i[1] for i in imp], index=features).plot(kind= 'bar')"
   ]
  },
  {
   "cell_type": "code",
   "execution_count": 182,
   "metadata": {},
   "outputs": [],
   "source": [
    "train, test, train_pred, test_pred = create_cv_sets([28,29,30,31,32,33], full_data)"
   ]
  },
  {
   "cell_type": "code",
   "execution_count": 183,
   "metadata": {},
   "outputs": [
    {
     "name": "stdout",
     "output_type": "stream",
     "text": [
      "evaluating month 28 ...\n",
      "iterations:  482\n",
      "error for month 28: 1.49117\n",
      "evaluating month 29 ...\n",
      "iterations:  772\n",
      "error for month 29: 1.45207\n",
      "evaluating month 30 ...\n",
      "iterations:  373\n",
      "error for month 30: 1.35050\n",
      "evaluating month 31 ...\n",
      "iterations:  324\n",
      "error for month 31: 1.45541\n",
      "evaluating month 32 ...\n",
      "iterations:  342\n",
      "error for month 32: 1.62588\n",
      "evaluating month 33 ...\n",
      "iterations:  598\n",
      "error for month 33: 1.50708\n"
     ]
    }
   ],
   "source": [
    "cat2 = CatBoostRegressor(iterations = 3000, l2_leaf_reg = 2, depth = 4, \n",
    "                        rsm = 1, learning_rate = 0.2)\n",
    "err2 = []\n",
    "for X_train, X_val, y_train, y_val in zip(train, test, train_pred, test_pred):\n",
    "    print('evaluating month %s ...'%(X_val.date_block_num.max()))\n",
    "    cat2.fit(X_train.values, y_train.values, early_stopping_rounds=50, eval_set=(X_val.values, y_val.values), \n",
    "             logging_level = 'Silent')\n",
    "    print('iterations: ', cat2.tree_count_)\n",
    "    err2.append(cat2.score(X_val, y_val))\n",
    "    print('error for month %s: %.5f' %((X_val.date_block_num.max()), cat2.score(X_val, y_val)))"
   ]
  },
  {
   "cell_type": "code",
   "execution_count": 184,
   "metadata": {},
   "outputs": [
    {
     "data": {
      "text/plain": [
       "1.4803523775542526"
      ]
     },
     "execution_count": 184,
     "metadata": {},
     "output_type": "execute_result"
    }
   ],
   "source": [
    "np.mean(err2)"
   ]
  },
  {
   "cell_type": "code",
   "execution_count": 186,
   "metadata": {},
   "outputs": [
    {
     "data": {
      "text/plain": [
       "481.8333333333333"
      ]
     },
     "execution_count": 186,
     "metadata": {},
     "output_type": "execute_result"
    }
   ],
   "source": [
    "2891/6"
   ]
  },
  {
   "cell_type": "code",
   "execution_count": 126,
   "metadata": {},
   "outputs": [],
   "source": [
    "train, test, train_pred, _ = create_cv_sets([34], full_data)"
   ]
  },
  {
   "cell_type": "code",
   "execution_count": 127,
   "metadata": {},
   "outputs": [],
   "source": [
    "cat2_test = CatBoostRegressor(iterations = 655, l2_leaf_reg = 2, depth = 4, \n",
    "                        rsm = 1, learning_rate = 0.2)\n",
    "for X_train, y_train in zip(train, train_pred):\n",
    "    cat2_test.fit(X_train.values, y_train.values, logging_level='Silent')"
   ]
  },
  {
   "cell_type": "code",
   "execution_count": 128,
   "metadata": {},
   "outputs": [],
   "source": [
    "create_submission_file(cat2_test.predict(test[0]), 'cat2.csv')"
   ]
  },
  {
   "cell_type": "markdown",
   "metadata": {},
   "source": [
    "Error on leaderboard - 1.56"
   ]
  },
  {
   "cell_type": "code",
   "execution_count": 187,
   "metadata": {},
   "outputs": [],
   "source": [
    "train, test, train_pred, test_pred = create_cv_sets([28,29,30,31,32,33], full_data)"
   ]
  },
  {
   "cell_type": "code",
   "execution_count": 188,
   "metadata": {},
   "outputs": [
    {
     "name": "stdout",
     "output_type": "stream",
     "text": [
      "evaluating month 28 ...\n",
      "iterations:  623\n",
      "error for month 28: 1.57198\n",
      "evaluating month 29 ...\n",
      "iterations:  1128\n",
      "error for month 29: 1.50799\n",
      "evaluating month 30 ...\n",
      "iterations:  469\n",
      "error for month 30: 1.41728\n",
      "evaluating month 31 ...\n",
      "iterations:  324\n",
      "error for month 31: 1.52584\n",
      "evaluating month 32 ...\n",
      "iterations:  435\n",
      "error for month 32: 1.71090\n",
      "evaluating month 33 ...\n",
      "iterations:  1326\n",
      "error for month 33: 1.56175\n"
     ]
    }
   ],
   "source": [
    "cat3 = CatBoostRegressor(iterations = 3000, l2_leaf_reg = 1, depth = 2, \n",
    "                        rsm = 1, learning_rate = 0.2)\n",
    "err3 = []\n",
    "for X_train, X_val, y_train, y_val in zip(train, test, train_pred, test_pred):\n",
    "    print('evaluating month %s ...'%(X_val.date_block_num.max()))\n",
    "    cat3.fit(X_train.values, y_train.values, early_stopping_rounds=50, eval_set=(X_val.values, y_val.values),\n",
    "            logging_level='Silent')\n",
    "    print('iterations: ', cat3.tree_count_)\n",
    "    err3.append(cat3.score(X_val, y_val))\n",
    "    print('error for month %s: %.5f' %((X_val.date_block_num.max()), cat3.score(X_val, y_val)))"
   ]
  },
  {
   "cell_type": "code",
   "execution_count": 189,
   "metadata": {},
   "outputs": [
    {
     "data": {
      "text/plain": [
       "1.5492895744649624"
      ]
     },
     "execution_count": 189,
     "metadata": {},
     "output_type": "execute_result"
    }
   ],
   "source": [
    "np.mean(err3)"
   ]
  },
  {
   "cell_type": "code",
   "execution_count": 179,
   "metadata": {},
   "outputs": [],
   "source": [
    "train, test, train_pred, _ = create_cv_sets([34], full_data)"
   ]
  },
  {
   "cell_type": "code",
   "execution_count": 180,
   "metadata": {},
   "outputs": [],
   "source": [
    "cat3_test = CatBoostRegressor(iterations = 1500, l2_leaf_reg = 1, depth = 2, \n",
    "                        rsm = 1, learning_rate = 0.2)\n",
    "for X_train, y_train in zip(train, train_pred):\n",
    "    cat3_test.fit(X_train.values, y_train.values, logging_level='Silent')"
   ]
  },
  {
   "cell_type": "code",
   "execution_count": 181,
   "metadata": {},
   "outputs": [],
   "source": [
    "create_submission_file(cat3_test.predict(test[0]), 'cat3.csv')"
   ]
  },
  {
   "cell_type": "markdown",
   "metadata": {},
   "source": [
    "Error on Leaderboard - 1.53"
   ]
  },
  {
   "cell_type": "code",
   "execution_count": 136,
   "metadata": {},
   "outputs": [],
   "source": [
    "train, test, train_pred, test_pred = create_cv_sets([28, 29, 30, 31,32,33], full_data)"
   ]
  },
  {
   "cell_type": "code",
   "execution_count": 138,
   "metadata": {},
   "outputs": [
    {
     "name": "stdout",
     "output_type": "stream",
     "text": [
      "evaluating month 28 ...\n",
      "error for month 28: 1.48101\n",
      "evaluating month 29 ...\n",
      "error for month 29: 1.46002\n",
      "evaluating month 30 ...\n",
      "error for month 30: 1.36142\n",
      "evaluating month 31 ...\n",
      "error for month 31: 1.42904\n",
      "evaluating month 32 ...\n",
      "error for month 32: 1.58178\n",
      "evaluating month 33 ...\n",
      "error for month 33: 1.48302\n"
     ]
    }
   ],
   "source": [
    "cat4 = CatBoostRegressor(iterations = 3000, l2_leaf_reg = 15, depth = 6, \n",
    "                        rsm = 1, learning_rate = 0.2)\n",
    "err4 = []\n",
    "for X_train, X_val, y_train, y_val in zip(train, test, train_pred, test_pred):\n",
    "    print('evaluating month %s ...'%(X_val.date_block_num.max()))\n",
    "    cat4.fit(X_train.values, y_train.values, early_stopping_rounds=50, eval_set=(X_val.values, y_val.values),\n",
    "            logging_level='Silent')\n",
    "    err4.append(cat4.score(X_val, y_val))\n",
    "    print('error for month %s: %.5f' %((X_val.date_block_num.max()), cat4.score(X_val, y_val)))"
   ]
  },
  {
   "cell_type": "code",
   "execution_count": 141,
   "metadata": {},
   "outputs": [
    {
     "data": {
      "text/plain": [
       "1.4660482932407417"
      ]
     },
     "execution_count": 141,
     "metadata": {},
     "output_type": "execute_result"
    }
   ],
   "source": [
    "np.mean(err4)"
   ]
  },
  {
   "cell_type": "code",
   "execution_count": 142,
   "metadata": {},
   "outputs": [
    {
     "data": {
      "text/plain": [
       "488"
      ]
     },
     "execution_count": 142,
     "metadata": {},
     "output_type": "execute_result"
    }
   ],
   "source": [
    "cat4.tree_count_"
   ]
  },
  {
   "cell_type": "code",
   "execution_count": 135,
   "metadata": {},
   "outputs": [
    {
     "data": {
      "text/plain": [
       "1.5162041383811458"
      ]
     },
     "execution_count": 135,
     "metadata": {},
     "output_type": "execute_result"
    }
   ],
   "source": [
    "np.mean(err3_p)"
   ]
  },
  {
   "cell_type": "code",
   "execution_count": 143,
   "metadata": {},
   "outputs": [],
   "source": [
    "train, test, train_pred, _ = create_cv_sets([34], full_data)"
   ]
  },
  {
   "cell_type": "code",
   "execution_count": 144,
   "metadata": {},
   "outputs": [],
   "source": [
    "cat4_test = CatBoostRegressor(iterations = 489, l2_leaf_reg = 15, depth = 6, \n",
    "                        rsm = 1, learning_rate = 0.2)\n",
    "for X_train, y_train in zip(train, train_pred):\n",
    "    cat4_test.fit(X_train.values, y_train.values, logging_level='Silent')"
   ]
  },
  {
   "cell_type": "code",
   "execution_count": 145,
   "metadata": {},
   "outputs": [],
   "source": [
    "create_submission_file(cat4_test.predict(test[0]), 'cat4_test.csv')"
   ]
  },
  {
   "cell_type": "code",
   "execution_count": 150,
   "metadata": {},
   "outputs": [
    {
     "data": {
      "text/plain": [
       "<matplotlib.axes._subplots.AxesSubplot at 0x280e41607f0>"
      ]
     },
     "execution_count": 150,
     "metadata": {},
     "output_type": "execute_result"
    },
    {
     "data": {
      "image/png": "[encoded data removed]",
      "text/plain": [
       "<Figure size 1080x360 with 1 Axes>"
      ]
     },
     "metadata": {},
     "output_type": "display_data"
    }
   ],
   "source": [
    "imp = cat4.get_feature_importance(prettified=True)\n",
    "features = [int(i[0].decode(\"utf-8\")) for i in imp]\n",
    "features = X_train.columns[features]\n",
    "pd.Series(data = [i[1] for i in imp], index=features).plot(kind= 'bar')"
   ]
  },
  {
   "cell_type": "code",
   "execution_count": 174,
   "metadata": {},
   "outputs": [],
   "source": [
    "train, test, train_pred, test_pred = create_cv_sets([9,10,21,22], full_data)"
   ]
  },
  {
   "cell_type": "code",
   "execution_count": 175,
   "metadata": {},
   "outputs": [
    {
     "name": "stdout",
     "output_type": "stream",
     "text": [
      "evaluating month 9 ...\n",
      "error for month 9: 1.86461\n",
      "evaluating month 10 ...\n",
      "error for month 10: 1.87965\n",
      "evaluating month 21 ...\n",
      "error for month 21: 1.68715\n",
      "evaluating month 22 ...\n",
      "error for month 22: 1.68975\n"
     ]
    }
   ],
   "source": [
    "cat5 = CatBoostRegressor(iterations = 3000, l2_leaf_reg = 15, depth = 6, \n",
    "                        rsm = 1, learning_rate = 0.2)\n",
    "err5 = []\n",
    "for X_train, X_val, y_train, y_val in zip(train, test, train_pred, test_pred):\n",
    "    print('evaluating month %s ...'%(X_val.date_block_num.max()))\n",
    "    cat5.fit(X_train.values, y_train.values, early_stopping_rounds=50, eval_set=(X_val.values, y_val.values),\n",
    "            logging_level='Silent')\n",
    "    err5.append(cat5.score(X_val, y_val))\n",
    "    print('error for month %s: %.5f' %((X_val.date_block_num.max()), cat5.score(X_val, y_val)))"
   ]
  },
  {
   "cell_type": "code",
   "execution_count": 174,
   "metadata": {},
   "outputs": [],
   "source": [
    "train, test, train_pred, test_pred = create_cv_sets([9,10,21,22], full_data)"
   ]
  },
  {
   "cell_type": "code",
   "execution_count": 178,
   "metadata": {},
   "outputs": [
    {
     "name": "stdout",
     "output_type": "stream",
     "text": [
      "evaluating month 9 ...\n",
      "error for month 9: 2.08090\n",
      "evaluating month 10 ...\n",
      "error for month 10: 2.01758\n",
      "evaluating month 21 ...\n",
      "error for month 21: 1.83956\n",
      "evaluating month 22 ...\n",
      "error for month 22: 1.83282\n"
     ]
    }
   ],
   "source": [
    "cat6 = CatBoostRegressor(iterations = 3000, l2_leaf_reg = 1, depth = 2, \n",
    "                        rsm = 1, learning_rate = 0.2)\n",
    "err6 = []\n",
    "for X_train, X_val, y_train, y_val in zip(train, test, train_pred, test_pred):\n",
    "    print('evaluating month %s ...'%(X_val.date_block_num.max()))\n",
    "    cat6.fit(X_train.values, y_train.values, early_stopping_rounds=50, eval_set=(X_val.values, y_val.values),\n",
    "            logging_level='Silent')\n",
    "    err6.append(cat6.score(X_val, y_val))\n",
    "    print('error for month %s: %.5f' %((X_val.date_block_num.max()), cat6.score(X_val, y_val)))"
   ]
  },
  {
   "cell_type": "markdown",
   "metadata": {},
   "source": [
    "Error on Leaderboard - 1.58"
   ]
  },
  {
   "cell_type": "markdown",
   "metadata": {},
   "source": [
    "Last 2 months seem to be good validation sets"
   ]
  },
  {
   "cell_type": "markdown",
   "metadata": {},
   "source": [
    "Trying another form of modeling where we use all the info but that month"
   ]
  },
  {
   "cell_type": "code",
   "execution_count": 61,
   "metadata": {},
   "outputs": [],
   "source": [
    "def create_cv_sets2(months, data):\n",
    "    X_train = data.loc[~data['date_block_num'].isin(months+[34]),:].drop('cnt_shop_item', axis=1)\n",
    "    X_val = data.loc[data['date_block_num'].isin(months),:]\n",
    "    X_val, y_val = create_test(X_val)\n",
    "    X_test = data.loc[data['date_block_num'] == 34,:].drop('cnt_shop_item',axis=1)\n",
    "    y_train = data.loc[~data['date_block_num'].isin(months+[34]),'cnt_shop_item']\n",
    "    return(dict({'train': X_train, 'val': X_val, 'test': X_test, 'train_y': y_train, 'val_y': y_val}))"
   ]
  },
  {
   "cell_type": "code",
   "execution_count": 62,
   "metadata": {},
   "outputs": [],
   "source": [
    "dict_cat = create_cv_sets2([9,21,33], full_data)"
   ]
  },
  {
   "cell_type": "code",
   "execution_count": 63,
   "metadata": {},
   "outputs": [
    {
     "data": {
      "text/plain": [
       "[(1483908, 62), (59742, 62), (214200, 62), (1483908,), (59742,)]"
      ]
     },
     "execution_count": 63,
     "metadata": {},
     "output_type": "execute_result"
    }
   ],
   "source": [
    "[i.shape for i in dict_cat.values()]"
   ]
  },
  {
   "cell_type": "code",
   "execution_count": 76,
   "metadata": {},
   "outputs": [
    {
     "name": "stdout",
     "output_type": "stream",
     "text": [
      "training for depth: 1...\n",
      "Warning: Overfitting detector is active, thus evaluation metric iscalculated on every iteration. 'metric_period' is ignored for evaluation metric.\n",
      "0:\tlearn: 2.9457124\ttest: 3.2351800\tbest: 3.2351800 (0)\ttotal: 192ms\tremaining: 12m 47s\n",
      "200:\tlearn: 1.8602080\ttest: 1.9782842\tbest: 1.9778840 (199)\ttotal: 39.6s\tremaining: 12m 28s\n",
      "400:\tlearn: 1.8374875\ttest: 1.9513821\tbest: 1.9509247 (397)\ttotal: 1m 19s\tremaining: 11m 49s\n",
      "600:\tlearn: 1.8274620\ttest: 1.9375525\tbest: 1.9375525 (600)\ttotal: 1m 58s\tremaining: 11m 11s\n",
      "800:\tlearn: 1.8213901\ttest: 1.9302040\tbest: 1.9302040 (800)\ttotal: 2m 38s\tremaining: 10m 32s\n",
      "1000:\tlearn: 1.8173435\ttest: 1.9269726\tbest: 1.9267369 (991)\ttotal: 3m 17s\tremaining: 9m 53s\n",
      "1200:\tlearn: 1.8143419\ttest: 1.9233860\tbest: 1.9231803 (1178)\ttotal: 3m 57s\tremaining: 9m 13s\n",
      "1400:\tlearn: 1.8119681\ttest: 1.9216809\tbest: 1.9214879 (1344)\ttotal: 4m 37s\tremaining: 8m 33s\n",
      "Stopped by overfitting detector  (100 iterations wait)\n",
      "\n",
      "bestTest = 1.921487888\n",
      "bestIteration = 1344\n",
      "\n",
      "Shrink model to first 1345 iterations.\n",
      "n_trees:  1345\n",
      "error:  1.9214878877390544\n",
      "training for depth: 3...\n",
      "Warning: Overfitting detector is active, thus evaluation metric iscalculated on every iteration. 'metric_period' is ignored for evaluation metric.\n",
      "0:\tlearn: 2.8887437\ttest: 3.1471474\tbest: 3.1471474 (0)\ttotal: 234ms\tremaining: 15m 37s\n",
      "200:\tlearn: 1.6250900\ttest: 1.7279002\tbest: 1.7279002 (200)\ttotal: 50s\tremaining: 15m 44s\n",
      "400:\tlearn: 1.5793589\ttest: 1.6907028\tbest: 1.6897048 (399)\ttotal: 1m 38s\tremaining: 14m 42s\n",
      "600:\tlearn: 1.5539118\ttest: 1.6737233\tbest: 1.6731028 (595)\ttotal: 2m 26s\tremaining: 13m 47s\n",
      "800:\tlearn: 1.5358781\ttest: 1.6644353\tbest: 1.6644009 (799)\ttotal: 3m 14s\tremaining: 12m 58s\n",
      "1000:\tlearn: 1.5217422\ttest: 1.6561588\tbest: 1.6558297 (995)\ttotal: 4m 3s\tremaining: 12m 10s\n",
      "1200:\tlearn: 1.5109451\ttest: 1.6499114\tbest: 1.6499114 (1200)\ttotal: 4m 52s\tremaining: 11m 20s\n",
      "1400:\tlearn: 1.5019023\ttest: 1.6468246\tbest: 1.6466560 (1386)\ttotal: 5m 40s\tremaining: 10m 31s\n",
      "1600:\tlearn: 1.4944012\ttest: 1.6450301\tbest: 1.6442084 (1517)\ttotal: 6m 28s\tremaining: 9m 41s\n",
      "Stopped by overfitting detector  (100 iterations wait)\n",
      "\n",
      "bestTest = 1.644208437\n",
      "bestIteration = 1517\n",
      "\n",
      "Shrink model to first 1518 iterations.\n",
      "n_trees:  1518\n",
      "error:  1.644208437439405\n",
      "training for depth: 6...\n",
      "Warning: Overfitting detector is active, thus evaluation metric iscalculated on every iteration. 'metric_period' is ignored for evaluation metric.\n",
      "0:\tlearn: 2.8470216\ttest: 3.1076929\tbest: 3.1076929 (0)\ttotal: 410ms\tremaining: 27m 19s\n",
      "200:\tlearn: 1.5002546\ttest: 1.6337139\tbest: 1.6321173 (190)\ttotal: 1m 5s\tremaining: 20m 46s\n",
      "400:\tlearn: 1.4476481\ttest: 1.6081570\tbest: 1.6081570 (400)\ttotal: 2m 11s\tremaining: 19m 43s\n",
      "Stopped by overfitting detector  (100 iterations wait)\n",
      "\n",
      "bestTest = 1.601951622\n",
      "bestIteration = 491\n",
      "\n",
      "Shrink model to first 492 iterations.\n",
      "n_trees:  492\n",
      "error:  1.6019516219577954\n",
      "training for depth: 10...\n",
      "Warning: Overfitting detector is active, thus evaluation metric iscalculated on every iteration. 'metric_period' is ignored for evaluation metric.\n",
      "0:\tlearn: 2.8230603\ttest: 3.0732667\tbest: 3.0732667 (0)\ttotal: 569ms\tremaining: 37m 53s\n",
      "200:\tlearn: 1.3568535\ttest: 1.6066100\tbest: 1.6065348 (198)\ttotal: 1m 46s\tremaining: 33m 26s\n",
      "400:\tlearn: 1.2694052\ttest: 1.5927654\tbest: 1.5927654 (400)\ttotal: 3m 34s\tremaining: 32m 5s\n",
      "Stopped by overfitting detector  (100 iterations wait)\n",
      "\n",
      "bestTest = 1.592669083\n",
      "bestIteration = 401\n",
      "\n",
      "Shrink model to first 402 iterations.\n",
      "n_trees:  402\n",
      "error:  1.5926690829678212\n"
     ]
    }
   ],
   "source": [
    "depth = [1,3,6,10]\n",
    "err1 = []\n",
    "n_tree = []\n",
    "test_y = []\n",
    "for d in depth:\n",
    "    print('training for depth: {}...'.format(d))\n",
    "    cat1 = CatBoostRegressor(iterations = 4000, l2_leaf_reg = 1, depth = d, \n",
    "                        rsm = 1, learning_rate = 0.2, metric_period = 200)\n",
    "    cat1.fit(dict_cat['train'], dict_cat['train_y'], eval_set = (dict_cat['val'], dict_cat['val_y']), \n",
    "             early_stopping_rounds = 100)\n",
    "    test_y.append(cat1.predict(dict_cat['test']))\n",
    "    n_tree.append(cat1.tree_count_)\n",
    "    print('n_trees: ', cat1.tree_count_)\n",
    "    err1.append(cat1.score(dict_cat['val'], dict_cat['val_y']))\n",
    "    print('error: ', cat1.score(dict_cat['val'], dict_cat['val_y']))"
   ]
  },
  {
   "cell_type": "code",
   "execution_count": 77,
   "metadata": {},
   "outputs": [
    {
     "data": {
      "text/plain": [
       "[1.9214878877390544, 1.644208437439405, 1.6019516219577954, 1.5926690829678212]"
      ]
     },
     "execution_count": 77,
     "metadata": {},
     "output_type": "execute_result"
    }
   ],
   "source": [
    "err1"
   ]
  },
  {
   "cell_type": "code",
   "execution_count": 78,
   "metadata": {},
   "outputs": [
    {
     "data": {
      "text/plain": [
       "[1345, 1518, 492, 402]"
      ]
     },
     "execution_count": 78,
     "metadata": {},
     "output_type": "execute_result"
    }
   ],
   "source": [
    "n_tree"
   ]
  },
  {
   "cell_type": "code",
   "execution_count": 79,
   "metadata": {},
   "outputs": [
    {
     "data": {
      "text/plain": [
       "[array([1.72668807, 0.83318219, 1.96814911, ..., 0.55921222, 0.40157118,\n",
       "        1.41452957]),\n",
       " array([1.26791656, 1.27611849, 1.48385758, ..., 0.92259268, 1.01747371,\n",
       "        1.23718158]),\n",
       " array([1.52081201, 1.31822184, 2.08162242, ..., 1.03253175, 1.07949464,\n",
       "        1.16248167]),\n",
       " array([1.70202455, 1.42458317, 1.73219506, ..., 1.03040094, 0.89573067,\n",
       "        1.20761434])]"
      ]
     },
     "execution_count": 79,
     "metadata": {},
     "output_type": "execute_result"
    }
   ],
   "source": [
    "test_y"
   ]
  },
  {
   "cell_type": "code",
   "execution_count": 80,
   "metadata": {},
   "outputs": [],
   "source": [
    "test_ids = sales_test['item_id'].isin(sales_train['item_id']) & sales_test['shop_id'].isin(sales_train['shop_id'])"
   ]
  },
  {
   "cell_type": "code",
   "execution_count": 89,
   "metadata": {},
   "outputs": [],
   "source": [
    "test_y_final = test_y.copy()"
   ]
  },
  {
   "cell_type": "code",
   "execution_count": 90,
   "metadata": {},
   "outputs": [],
   "source": [
    "for i in range(len(test_y)):\n",
    "    test_y_final[i] = [test_y[i][j] if test_ids[j] else 0 for j in range(len(test_ids))]"
   ]
  },
  {
   "cell_type": "code",
   "execution_count": 94,
   "metadata": {},
   "outputs": [],
   "source": [
    "for i in range(len(test_y)):\n",
    "    create_submission_file(test_y_final[i], 'catboost_'+str(i))"
   ]
  },
  {
   "cell_type": "markdown",
   "metadata": {},
   "source": [
    "Optimizing the catboost parameters"
   ]
  },
  {
   "cell_type": "code",
   "execution_count": 47,
   "metadata": {},
   "outputs": [],
   "source": [
    "import hyperopt\n",
    "from hyperopt import hp\n",
    "from hyperopt.pyll.stochastic import sample\n",
    "import seaborn as sns\n",
    "from timeit import default_timer as timer\n",
    "from numpy.random import RandomState\n",
    "from hyperopt import STATUS_OK\n",
    "import csv\n",
    "import ast"
   ]
  },
  {
   "cell_type": "code",
   "execution_count": 98,
   "metadata": {},
   "outputs": [],
   "source": [
    "dict_cat = create_cv_sets2([9,21,33], full_data)"
   ]
  },
  {
   "cell_type": "code",
   "execution_count": 116,
   "metadata": {},
   "outputs": [],
   "source": [
    "def objective(params):\n",
    "    global ITERATION\n",
    "    ITERATION +=1\n",
    "    print('ITERATION: %d' %(ITERATION))\n",
    "    print('params: ', params)\n",
    "    model = CatBoostRegressor(iterations = 5000, l2_leaf_reg=params['l2_leaf_reg'], learning_rate = 0.2,\n",
    "                             rsm = params['rsm'], random_seed = 24, depth = params['depth'])\n",
    "    start = timer()\n",
    "    srtc = []\n",
    "    model.fit(dict_cat['train'], dict_cat['train_y'], eval_set = (dict_cat['val'], dict_cat['val_y']), \n",
    "              early_stopping_rounds=100, logging_level='Silent')\n",
    "    srtc.append(model.score(dict_cat['val'], dict_cat['val_y']))\n",
    "    train_time = timer()-start\n",
    "    loss = np.mean(srtc)\n",
    "    print('loss: %.5f' %(loss))\n",
    "    of_connection = open(out_file, 'a')\n",
    "    writer = csv.writer(of_connection)\n",
    "    writer.writerow([ITERATION, loss, params, train_time])\n",
    "    return {'iteration': ITERATION, 'loss': loss, 'params': params,   \n",
    "            'train_time': train_time, 'n_trees': model.tree_count_, 'status': STATUS_OK}"
   ]
  },
  {
   "cell_type": "code",
   "execution_count": 117,
   "metadata": {},
   "outputs": [],
   "source": [
    "params_space = {\n",
    "    'l2_leaf_reg': hyperopt.hp.quniform('l2_leaf_reg', 1, 100, 1),\n",
    "    'rsm': 1 - hp.loguniform('rsm',np.log(0.65) , np.log(1)),\n",
    "    'depth': hp.quniform('depth', 1, 15, 1)\n",
    "}"
   ]
  },
  {
   "cell_type": "code",
   "execution_count": 118,
   "metadata": {},
   "outputs": [
    {
     "data": {
      "text/plain": [
       "{'depth': 5.0, 'l2_leaf_reg': 70.0, 'rsm': 0.5723828869886644}"
      ]
     },
     "execution_count": 118,
     "metadata": {},
     "output_type": "execute_result"
    }
   ],
   "source": [
    "sample(params_space)"
   ]
  },
  {
   "cell_type": "code",
   "execution_count": 119,
   "metadata": {},
   "outputs": [],
   "source": [
    "out_file = 'cat_trials_pfs4.csv'\n",
    "of_connection = open(out_file, 'w')\n",
    "writer = csv.writer(of_connection)\n",
    "\n",
    "# Write the headers to the file\n",
    "writer.writerow(['iteration', 'loss', 'params', 'train_time', 'n_trees'])\n",
    "of_connection.close()"
   ]
  },
  {
   "cell_type": "code",
   "execution_count": null,
   "metadata": {},
   "outputs": [
    {
     "name": "stdout",
     "output_type": "stream",
     "text": [
      "ITERATION: 1\n",
      "params:  {'depth': 4.0, 'l2_leaf_reg': 59.0, 'rsm': 0.5572495708621457}\n",
      "loss: 1.61404\n",
      "ITERATION: 2\n",
      "params:  {'depth': 2.0, 'l2_leaf_reg': 37.0, 'rsm': 0.34512809960292457}\n",
      "loss: 1.68277\n",
      "ITERATION: 3\n",
      "params:  {'depth': 13.0, 'l2_leaf_reg': 77.0, 'rsm': 0.022164425319898817}\n",
      "loss: 1.64410\n",
      "ITERATION: 4\n",
      "params:  {'depth': 3.0, 'l2_leaf_reg': 70.0, 'rsm': 0.6240032305099308}\n",
      "loss: 1.65573\n",
      "ITERATION: 5\n",
      "params:  {'depth': 7.0, 'l2_leaf_reg': 36.0, 'rsm': 0.7302578041491085}\n",
      "loss: 1.58120\n",
      "ITERATION: 6\n",
      "params:  {'depth': 2.0, 'l2_leaf_reg': 46.0, 'rsm': 0.865277892292898}\n",
      "loss: 1.68535\n",
      "ITERATION: 7\n",
      "params:  {'depth': 10.0, 'l2_leaf_reg': 59.0, 'rsm': 0.8280432743593791}\n",
      "loss: 1.57424\n",
      "ITERATION: 8\n",
      "params:  {'depth': 14.0, 'l2_leaf_reg': 61.0, 'rsm': 0.5156078191294511}\n"
     ]
    }
   ],
   "source": [
    "trials = hyperopt.Trials()\n",
    "global  ITERATION\n",
    "ITERATION = 0\n",
    "best = hyperopt.fmin(\n",
    "    objective,\n",
    "    space=params_space,\n",
    "    algo=hyperopt.tpe.suggest,\n",
    "    max_evals=50,\n",
    "    trials=trials,\n",
    "    rstate=RandomState(123)\n",
    ")"
   ]
  },
  {
   "cell_type": "code",
   "execution_count": null,
   "metadata": {},
   "outputs": [],
   "source": []
  }
 ],
 "metadata": {
  "kernelspec": {
   "display_name": "Python 3",
   "language": "python",
   "name": "python3"
  },
  "language_info": {
   "codemirror_mode": {
    "name": "ipython",
    "version": 3
   },
   "file_extension": ".py",
   "mimetype": "text/x-python",
   "name": "python",
   "nbconvert_exporter": "python",
   "pygments_lexer": "ipython3",
   "version": "3.6.5"
  }
 },
 "nbformat": 4,
 "nbformat_minor": 2
}
