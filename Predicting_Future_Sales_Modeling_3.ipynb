{
 "cells": [
  {
   "cell_type": "code",
   "execution_count": 3,
   "metadata": {},
   "outputs": [],
   "source": [
    "import os\n",
    "mingw_path = 'C:\\\\Program Files\\\\mingw-w64\\\\x86_64-7.3.0-posix-seh-rt_v5-rev0\\\\mingw64\\\\bin'\n",
    "os.environ['PATH'] = mingw_path + ';' + os.environ['PATH']\n"
   ]
  },
  {
   "cell_type": "code",
   "execution_count": 2,
   "metadata": {},
   "outputs": [],
   "source": [
    "import pandas as pd\n",
    "import numpy as np\n",
    "import matplotlib.pyplot as plt\n",
    "% matplotlib inline\n",
    "from matplotlib import rc\n",
    "rc('figure', figsize=(15, 5))\n",
    "import xgboost as xgb\n",
    "from xgboost import XGBRegressor\n",
    "from sklearn.ensemble import RandomForestRegressor \n",
    "from sklearn.metrics import mean_squared_error\n",
    "from catboost import CatBoostRegressor\n",
    "from sklearn.preprocessing import LabelEncoder\n",
    "from timeit import default_timer as timer"
   ]
  },
  {
   "cell_type": "code",
   "execution_count": 3,
   "metadata": {},
   "outputs": [],
   "source": [
    "def create_submission_df(pred):\n",
    "    new_df = by_month.loc[:,('shop_id','item_id')]\n",
    "    new_df = sales_test.merge(new_df, on = ['shop_id', 'item_id'], how = 'inner').drop(['ID'], axis = 1)\n",
    "    new_df['target'] = pred\n",
    "    new_df = sales_test.merge(new_df, on = ['shop_id', 'item_id'], how = 'left')\n",
    "    new_df['target'].fillna(0,inplace=True)\n",
    "    return(new_df)"
   ]
  },
  {
   "cell_type": "code",
   "execution_count": 4,
   "metadata": {},
   "outputs": [],
   "source": [
    "def error(pred, act):\n",
    "    return(np.sqrt(np.sum(np.square(np.subtract(act,pred)))/sales_test.shape[0]))"
   ]
  },
  {
   "cell_type": "code",
   "execution_count": 5,
   "metadata": {},
   "outputs": [],
   "source": [
    "def create_submission_file(pred, name):\n",
    "    ID = np.arange(0, sales_test.shape[0]) \n",
    "    new_df = pd.DataFrame({'ID': ID, 'item_cnt_month': pred})\n",
    "    new_df.to_csv('Submission Time Series/'+name+'.csv',index = False)"
   ]
  },
  {
   "cell_type": "code",
   "execution_count": 6,
   "metadata": {},
   "outputs": [],
   "source": [
    "def create_test(test):\n",
    "    test = test.loc[(test['shop_id'].isin(sales_test['shop_id']))&(test['item_id'].isin(sales_test['item_id'])),:]\n",
    "    test_pred = test['item_cnt_day']\n",
    "    test.drop('item_cnt_day', axis = 1, inplace = True)\n",
    "    return(test, test_pred)"
   ]
  },
  {
   "cell_type": "code",
   "execution_count": 7,
   "metadata": {},
   "outputs": [],
   "source": [
    "def add_prev_month(m, if_test = False):\n",
    "    by_month_prev = by_month.copy()\n",
    "    by_month_prev.drop(['item_category_id', 'grouped_category_id'], axis = 1, inplace = True)\n",
    "    cols = []\n",
    "    for i in np.arange(1,m+1):\n",
    "        by_month_prev['date_block_num'] = by_month['date_block_num']+i\n",
    "        if not if_test:\n",
    "            by_month_prev.rename({'item_cnt_day': 'prev_cnt'+str(i)}, axis = 1, inplace = True)\n",
    "            by_month_prev = by_month.merge(by_month_prev, on = ['date_block_num', 'shop_id', 'item_id'], how = 'left')\n",
    "            cols.append(by_month_prev['prev_cnt'+str(i)])\n",
    "        else:\n",
    "            sales_test_prev = sales_test_m.merge(by_month_prev, on = ['date_block_num', 'shop_id', 'item_id'], how = 'left')\n",
    "            col = sales_test_prev['item_cnt_day'].rename('prev_cnt'+str(i))\n",
    "            cols.append(col)\n",
    "    names = [i.name for i in cols]\n",
    "    mat = np.array(cols).T\n",
    "    df = pd.DataFrame(mat, columns = names)\n",
    "    if not if_test:\n",
    "        by_month_prev = pd.concat([by_month, df], axis = 1)\n",
    "    else:\n",
    "        by_month_prev = pd.concat([sales_test_m, df], axis = 1)\n",
    "    by_month_prev.fillna(0, inplace = True)\n",
    "    return(by_month_prev)"
   ]
  },
  {
   "cell_type": "code",
   "execution_count": 8,
   "metadata": {},
   "outputs": [],
   "source": [
    "def create_cv_sets(months, data):\n",
    "    train = []\n",
    "    test = []\n",
    "    train_pred = []\n",
    "    test_pred = []\n",
    "    for i in months:\n",
    "        x = data.loc[by_month['date_block_num']<i,:].drop('item_cnt_day', axis = 1)\n",
    "        y_pred = data.loc[by_month['date_block_num']<i,'item_cnt_day']\n",
    "        x_test = data.loc[by_month['date_block_num']==i,:]\n",
    "        x_test = x_test.loc[(x_test['shop_id'].isin(sales_test['shop_id']))&(x_test['item_id'].isin(sales_test['item_id'])),:]\n",
    "        y_test_pred = x_test['item_cnt_day']\n",
    "        x_test.drop('item_cnt_day', axis = 1, inplace = True)\n",
    "        train.append(x)\n",
    "        test.append(x_test)\n",
    "        train_pred.append(y_pred)\n",
    "        test_pred.append(y_test_pred)\n",
    "    return(train,test,train_pred,test_pred) "
   ]
  },
  {
   "cell_type": "code",
   "execution_count": 96,
   "metadata": {},
   "outputs": [],
   "source": [
    "def add_diff(m, data = by_month_prev):\n",
    "    by_month_diff = data.copy()\n",
    "    for i in np.arange(m)+1:\n",
    "        by_month_diff['diff'+str(i)]=by_month_prev['prev_cnt'+str(i)]-by_month_prev['prev_cnt'+str(i+1)]\n",
    "    return(by_month_diff)"
   ]
  },
  {
   "cell_type": "code",
   "execution_count": 10,
   "metadata": {},
   "outputs": [],
   "source": [
    "sales_train = pd.read_csv(r'sales_train_v2.csv')\n",
    "items = pd.read_csv(r'items.csv')\n",
    "item_categories = pd.read_csv(r'item_categories.csv')\n",
    "shops = pd.read_csv(r'shops.csv')\n",
    "sales_test = pd.read_csv(r'test.csv')"
   ]
  },
  {
   "cell_type": "code",
   "execution_count": 11,
   "metadata": {},
   "outputs": [],
   "source": [
    "sales_test = sales_test.loc[:, ['ID', 'shop_id', 'item_id']]"
   ]
  },
  {
   "cell_type": "code",
   "execution_count": 12,
   "metadata": {},
   "outputs": [],
   "source": [
    "by_month = sales_train.groupby(['date_block_num', 'shop_id', 'item_id']).sum()['item_cnt_day'].reset_index()"
   ]
  },
  {
   "cell_type": "code",
   "execution_count": 13,
   "metadata": {},
   "outputs": [
    {
     "data": {
      "text/plain": [
       "array(['PC', 'Аксессуары', 'Билеты', 'Доставка', 'Игровые', 'Игры',\n",
       "       'Карты', 'Кино', 'Книги', 'Музыка', 'Подарки', 'Программы',\n",
       "       'Служебные', 'Чистые', 'Элементы'], dtype='<U10')"
      ]
     },
     "execution_count": 13,
     "metadata": {},
     "output_type": "execute_result"
    }
   ],
   "source": [
    "np.unique([i.split(' ')[0] for i in item_categories['item_category_name']])"
   ]
  },
  {
   "cell_type": "code",
   "execution_count": 14,
   "metadata": {},
   "outputs": [],
   "source": [
    "item_categories['grouped_category_id'] = [i.split(' ')[0] for i in item_categories['item_category_name']]\n",
    "le = LabelEncoder().fit(item_categories['grouped_category_id'])\n",
    "item_categories['grouped_category_id'] = le.transform(item_categories['grouped_category_id'])"
   ]
  },
  {
   "cell_type": "code",
   "execution_count": 15,
   "metadata": {
    "scrolled": true
   },
   "outputs": [],
   "source": [
    "items = items.merge(item_categories.loc[:, ['item_category_id', 'grouped_category_id']], on = 'item_category_id', how = 'left')"
   ]
  },
  {
   "cell_type": "code",
   "execution_count": 16,
   "metadata": {},
   "outputs": [
    {
     "data": {
      "text/html": [
       "<div>\n",
       "<style scoped>\n",
       "    .dataframe tbody tr th:only-of-type {\n",
       "        vertical-align: middle;\n",
       "    }\n",
       "\n",
       "    .dataframe tbody tr th {\n",
       "        vertical-align: top;\n",
       "    }\n",
       "\n",
       "    .dataframe thead th {\n",
       "        text-align: right;\n",
       "    }\n",
       "</style>\n",
       "<table border=\"1\" class=\"dataframe\">\n",
       "  <thead>\n",
       "    <tr style=\"text-align: right;\">\n",
       "      <th></th>\n",
       "      <th>item_name</th>\n",
       "      <th>item_id</th>\n",
       "      <th>item_category_id</th>\n",
       "      <th>grouped_category_id</th>\n",
       "    </tr>\n",
       "  </thead>\n",
       "  <tbody>\n",
       "    <tr>\n",
       "      <th>0</th>\n",
       "      <td>! ВО ВЛАСТИ НАВАЖДЕНИЯ (ПЛАСТ.)         D</td>\n",
       "      <td>0</td>\n",
       "      <td>40</td>\n",
       "      <td>7</td>\n",
       "    </tr>\n",
       "    <tr>\n",
       "      <th>1</th>\n",
       "      <td>!ABBYY FineReader 12 Professional Edition Full...</td>\n",
       "      <td>1</td>\n",
       "      <td>76</td>\n",
       "      <td>11</td>\n",
       "    </tr>\n",
       "    <tr>\n",
       "      <th>2</th>\n",
       "      <td>***В ЛУЧАХ СЛАВЫ   (UNV)                    D</td>\n",
       "      <td>2</td>\n",
       "      <td>40</td>\n",
       "      <td>7</td>\n",
       "    </tr>\n",
       "    <tr>\n",
       "      <th>3</th>\n",
       "      <td>***ГОЛУБАЯ ВОЛНА  (Univ)                      D</td>\n",
       "      <td>3</td>\n",
       "      <td>40</td>\n",
       "      <td>7</td>\n",
       "    </tr>\n",
       "    <tr>\n",
       "      <th>4</th>\n",
       "      <td>***КОРОБКА (СТЕКЛО)                       D</td>\n",
       "      <td>4</td>\n",
       "      <td>40</td>\n",
       "      <td>7</td>\n",
       "    </tr>\n",
       "  </tbody>\n",
       "</table>\n",
       "</div>"
      ],
      "text/plain": [
       "                                           item_name  item_id  \\\n",
       "0          ! ВО ВЛАСТИ НАВАЖДЕНИЯ (ПЛАСТ.)         D        0   \n",
       "1  !ABBYY FineReader 12 Professional Edition Full...        1   \n",
       "2      ***В ЛУЧАХ СЛАВЫ   (UNV)                    D        2   \n",
       "3    ***ГОЛУБАЯ ВОЛНА  (Univ)                      D        3   \n",
       "4        ***КОРОБКА (СТЕКЛО)                       D        4   \n",
       "\n",
       "   item_category_id  grouped_category_id  \n",
       "0                40                    7  \n",
       "1                76                   11  \n",
       "2                40                    7  \n",
       "3                40                    7  \n",
       "4                40                    7  "
      ]
     },
     "execution_count": 16,
     "metadata": {},
     "output_type": "execute_result"
    }
   ],
   "source": [
    "items.head()"
   ]
  },
  {
   "cell_type": "code",
   "execution_count": 17,
   "metadata": {},
   "outputs": [],
   "source": [
    "by_month = by_month.merge(items.loc[:, ['item_id', 'item_category_id', 'grouped_category_id']], on = 'item_id', how = 'left')"
   ]
  },
  {
   "cell_type": "code",
   "execution_count": 18,
   "metadata": {},
   "outputs": [
    {
     "data": {
      "text/html": [
       "<div>\n",
       "<style scoped>\n",
       "    .dataframe tbody tr th:only-of-type {\n",
       "        vertical-align: middle;\n",
       "    }\n",
       "\n",
       "    .dataframe tbody tr th {\n",
       "        vertical-align: top;\n",
       "    }\n",
       "\n",
       "    .dataframe thead th {\n",
       "        text-align: right;\n",
       "    }\n",
       "</style>\n",
       "<table border=\"1\" class=\"dataframe\">\n",
       "  <thead>\n",
       "    <tr style=\"text-align: right;\">\n",
       "      <th></th>\n",
       "      <th>date_block_num</th>\n",
       "      <th>shop_id</th>\n",
       "      <th>item_id</th>\n",
       "      <th>item_cnt_day</th>\n",
       "      <th>item_category_id</th>\n",
       "      <th>grouped_category_id</th>\n",
       "    </tr>\n",
       "  </thead>\n",
       "  <tbody>\n",
       "    <tr>\n",
       "      <th>0</th>\n",
       "      <td>0</td>\n",
       "      <td>0</td>\n",
       "      <td>32</td>\n",
       "      <td>6.0</td>\n",
       "      <td>40</td>\n",
       "      <td>7</td>\n",
       "    </tr>\n",
       "    <tr>\n",
       "      <th>1</th>\n",
       "      <td>0</td>\n",
       "      <td>0</td>\n",
       "      <td>33</td>\n",
       "      <td>3.0</td>\n",
       "      <td>37</td>\n",
       "      <td>7</td>\n",
       "    </tr>\n",
       "    <tr>\n",
       "      <th>2</th>\n",
       "      <td>0</td>\n",
       "      <td>0</td>\n",
       "      <td>35</td>\n",
       "      <td>1.0</td>\n",
       "      <td>40</td>\n",
       "      <td>7</td>\n",
       "    </tr>\n",
       "    <tr>\n",
       "      <th>3</th>\n",
       "      <td>0</td>\n",
       "      <td>0</td>\n",
       "      <td>43</td>\n",
       "      <td>1.0</td>\n",
       "      <td>40</td>\n",
       "      <td>7</td>\n",
       "    </tr>\n",
       "    <tr>\n",
       "      <th>4</th>\n",
       "      <td>0</td>\n",
       "      <td>0</td>\n",
       "      <td>51</td>\n",
       "      <td>2.0</td>\n",
       "      <td>57</td>\n",
       "      <td>9</td>\n",
       "    </tr>\n",
       "  </tbody>\n",
       "</table>\n",
       "</div>"
      ],
      "text/plain": [
       "   date_block_num  shop_id  item_id  item_cnt_day  item_category_id  \\\n",
       "0               0        0       32           6.0                40   \n",
       "1               0        0       33           3.0                37   \n",
       "2               0        0       35           1.0                40   \n",
       "3               0        0       43           1.0                40   \n",
       "4               0        0       51           2.0                57   \n",
       "\n",
       "   grouped_category_id  \n",
       "0                    7  \n",
       "1                    7  \n",
       "2                    7  \n",
       "3                    7  \n",
       "4                    9  "
      ]
     },
     "execution_count": 18,
     "metadata": {},
     "output_type": "execute_result"
    }
   ],
   "source": [
    "by_month.head()"
   ]
  },
  {
   "cell_type": "code",
   "execution_count": 19,
   "metadata": {},
   "outputs": [],
   "source": [
    "sales_test_m = sales_test.copy()"
   ]
  },
  {
   "cell_type": "code",
   "execution_count": 20,
   "metadata": {},
   "outputs": [],
   "source": [
    "sales_test_m['ID'] = [34]*sales_test.shape[0]\n",
    "sales_test_m.rename({'ID': 'date_block_num'}, axis = 1, inplace = True)\n",
    "sales_test_m = sales_test_m.merge(items.loc[:, ['item_id', 'item_category_id', 'grouped_category_id']], \n",
    "                                  on = 'item_id', how = 'left')"
   ]
  },
  {
   "cell_type": "code",
   "execution_count": 21,
   "metadata": {},
   "outputs": [
    {
     "data": {
      "text/html": [
       "<div>\n",
       "<style scoped>\n",
       "    .dataframe tbody tr th:only-of-type {\n",
       "        vertical-align: middle;\n",
       "    }\n",
       "\n",
       "    .dataframe tbody tr th {\n",
       "        vertical-align: top;\n",
       "    }\n",
       "\n",
       "    .dataframe thead th {\n",
       "        text-align: right;\n",
       "    }\n",
       "</style>\n",
       "<table border=\"1\" class=\"dataframe\">\n",
       "  <thead>\n",
       "    <tr style=\"text-align: right;\">\n",
       "      <th></th>\n",
       "      <th>date_block_num</th>\n",
       "      <th>shop_id</th>\n",
       "      <th>item_id</th>\n",
       "      <th>item_category_id</th>\n",
       "      <th>grouped_category_id</th>\n",
       "    </tr>\n",
       "  </thead>\n",
       "  <tbody>\n",
       "    <tr>\n",
       "      <th>0</th>\n",
       "      <td>34</td>\n",
       "      <td>5</td>\n",
       "      <td>5037</td>\n",
       "      <td>19</td>\n",
       "      <td>5</td>\n",
       "    </tr>\n",
       "    <tr>\n",
       "      <th>1</th>\n",
       "      <td>34</td>\n",
       "      <td>5</td>\n",
       "      <td>5320</td>\n",
       "      <td>55</td>\n",
       "      <td>9</td>\n",
       "    </tr>\n",
       "    <tr>\n",
       "      <th>2</th>\n",
       "      <td>34</td>\n",
       "      <td>5</td>\n",
       "      <td>5233</td>\n",
       "      <td>19</td>\n",
       "      <td>5</td>\n",
       "    </tr>\n",
       "    <tr>\n",
       "      <th>3</th>\n",
       "      <td>34</td>\n",
       "      <td>5</td>\n",
       "      <td>5232</td>\n",
       "      <td>23</td>\n",
       "      <td>5</td>\n",
       "    </tr>\n",
       "    <tr>\n",
       "      <th>4</th>\n",
       "      <td>34</td>\n",
       "      <td>5</td>\n",
       "      <td>5268</td>\n",
       "      <td>20</td>\n",
       "      <td>5</td>\n",
       "    </tr>\n",
       "  </tbody>\n",
       "</table>\n",
       "</div>"
      ],
      "text/plain": [
       "   date_block_num  shop_id  item_id  item_category_id  grouped_category_id\n",
       "0              34        5     5037                19                    5\n",
       "1              34        5     5320                55                    9\n",
       "2              34        5     5233                19                    5\n",
       "3              34        5     5232                23                    5\n",
       "4              34        5     5268                20                    5"
      ]
     },
     "execution_count": 21,
     "metadata": {},
     "output_type": "execute_result"
    }
   ],
   "source": [
    "sales_test_m.head()"
   ]
  },
  {
   "cell_type": "markdown",
   "metadata": {},
   "source": [
    "### Baseline Model"
   ]
  },
  {
   "cell_type": "code",
   "execution_count": 22,
   "metadata": {},
   "outputs": [],
   "source": [
    "val_months = [28,29,30,31,32]"
   ]
  },
  {
   "cell_type": "code",
   "execution_count": 243,
   "metadata": {},
   "outputs": [],
   "source": [
    "[train,test,train_pred,test_pred] = create_cv_sets(val_months,by_month)"
   ]
  },
  {
   "cell_type": "code",
   "execution_count": 252,
   "metadata": {},
   "outputs": [
    {
     "name": "stdout",
     "output_type": "stream",
     "text": [
      "month 28 - error 3.55228\n",
      "month 29 - error 2.21728\n",
      "month 30 - error 0.89138\n",
      "month 31 - error 1.01365\n",
      "month 32 - error 1.32927\n",
      "mean error - 1.80077\n"
     ]
    }
   ],
   "source": [
    "rf_base = RandomForestRegressor(n_estimators = 50, n_jobs = -1, random_state = 24)\n",
    "base_err = []\n",
    "for i in range(len(train)):\n",
    "    rf_base.fit(train[i], train_pred[i])\n",
    "    base_err.append(error(rf_base.predict(test[i]), test_pred[i]))\n",
    "    print('month %d - error %.5f' %(val_months[i], base_err[i]))\n",
    "print('mean error - %.5f' %(np.mean(base_err)))"
   ]
  },
  {
   "cell_type": "code",
   "execution_count": 25,
   "metadata": {},
   "outputs": [],
   "source": [
    "[train,test,train_pred,test_pred] = create_cv_sets([33],by_month)"
   ]
  },
  {
   "cell_type": "code",
   "execution_count": 26,
   "metadata": {},
   "outputs": [
    {
     "data": {
      "text/plain": [
       "4.720726170618724"
      ]
     },
     "execution_count": 26,
     "metadata": {},
     "output_type": "execute_result"
    }
   ],
   "source": [
    "rf_base = RandomForestRegressor(n_estimators = 50, n_jobs = -1, random_state = 24)\n",
    "rf_base.fit(train[0], train_pred[0])\n",
    "error(rf_base.predict(test[0]), test_pred[0])"
   ]
  },
  {
   "cell_type": "markdown",
   "metadata": {},
   "source": [
    "### Adding 1 previous month sales "
   ]
  },
  {
   "cell_type": "code",
   "execution_count": 71,
   "metadata": {},
   "outputs": [
    {
     "data": {
      "text/html": [
       "<div>\n",
       "<style scoped>\n",
       "    .dataframe tbody tr th:only-of-type {\n",
       "        vertical-align: middle;\n",
       "    }\n",
       "\n",
       "    .dataframe tbody tr th {\n",
       "        vertical-align: top;\n",
       "    }\n",
       "\n",
       "    .dataframe thead th {\n",
       "        text-align: right;\n",
       "    }\n",
       "</style>\n",
       "<table border=\"1\" class=\"dataframe\">\n",
       "  <thead>\n",
       "    <tr style=\"text-align: right;\">\n",
       "      <th></th>\n",
       "      <th>date_block_num</th>\n",
       "      <th>shop_id</th>\n",
       "      <th>item_id</th>\n",
       "      <th>item_cnt_day</th>\n",
       "      <th>item_category_id</th>\n",
       "      <th>grouped_category_id</th>\n",
       "      <th>prev_cnt1</th>\n",
       "    </tr>\n",
       "  </thead>\n",
       "  <tbody>\n",
       "    <tr>\n",
       "      <th>0</th>\n",
       "      <td>0</td>\n",
       "      <td>0</td>\n",
       "      <td>32</td>\n",
       "      <td>6.0</td>\n",
       "      <td>40</td>\n",
       "      <td>7</td>\n",
       "      <td>0.0</td>\n",
       "    </tr>\n",
       "    <tr>\n",
       "      <th>1</th>\n",
       "      <td>0</td>\n",
       "      <td>0</td>\n",
       "      <td>33</td>\n",
       "      <td>3.0</td>\n",
       "      <td>37</td>\n",
       "      <td>7</td>\n",
       "      <td>0.0</td>\n",
       "    </tr>\n",
       "    <tr>\n",
       "      <th>2</th>\n",
       "      <td>0</td>\n",
       "      <td>0</td>\n",
       "      <td>35</td>\n",
       "      <td>1.0</td>\n",
       "      <td>40</td>\n",
       "      <td>7</td>\n",
       "      <td>0.0</td>\n",
       "    </tr>\n",
       "    <tr>\n",
       "      <th>3</th>\n",
       "      <td>0</td>\n",
       "      <td>0</td>\n",
       "      <td>43</td>\n",
       "      <td>1.0</td>\n",
       "      <td>40</td>\n",
       "      <td>7</td>\n",
       "      <td>0.0</td>\n",
       "    </tr>\n",
       "    <tr>\n",
       "      <th>4</th>\n",
       "      <td>0</td>\n",
       "      <td>0</td>\n",
       "      <td>51</td>\n",
       "      <td>2.0</td>\n",
       "      <td>57</td>\n",
       "      <td>9</td>\n",
       "      <td>0.0</td>\n",
       "    </tr>\n",
       "  </tbody>\n",
       "</table>\n",
       "</div>"
      ],
      "text/plain": [
       "   date_block_num  shop_id  item_id  item_cnt_day  item_category_id  \\\n",
       "0               0        0       32           6.0                40   \n",
       "1               0        0       33           3.0                37   \n",
       "2               0        0       35           1.0                40   \n",
       "3               0        0       43           1.0                40   \n",
       "4               0        0       51           2.0                57   \n",
       "\n",
       "   grouped_category_id  prev_cnt1  \n",
       "0                    7        0.0  \n",
       "1                    7        0.0  \n",
       "2                    7        0.0  \n",
       "3                    7        0.0  \n",
       "4                    9        0.0  "
      ]
     },
     "execution_count": 71,
     "metadata": {},
     "output_type": "execute_result"
    }
   ],
   "source": [
    "by_month_prev = add_prev_month(1)\n",
    "by_month_prev.head()"
   ]
  },
  {
   "cell_type": "code",
   "execution_count": 256,
   "metadata": {},
   "outputs": [
    {
     "name": "stdout",
     "output_type": "stream",
     "text": [
      "month 28 - error 2.89693\n",
      "month 29 - error 2.26001\n",
      "month 30 - error 0.96714\n",
      "month 31 - error 1.10177\n",
      "month 32 - error 1.45209\n",
      "mean error - 1.73559\n"
     ]
    }
   ],
   "source": [
    "[train,test,train_pred,test_pred] = create_cv_sets(val_months,by_month_prev)\n",
    "rf_prev = RandomForestRegressor(n_estimators = 50, n_jobs = -1, random_state = 24)\n",
    "prev_err = []\n",
    "for i in range(len(train)):\n",
    "    rf_prev.fit(train[i], train_pred[i])\n",
    "    prev_err.append(error(rf_prev.predict(test[i]), test_pred[i]))\n",
    "    print('month %d - error %.5f' %(val_months[i], prev_err[i]))\n",
    "print('mean error - %.5f' %(np.mean(prev_err)))"
   ]
  },
  {
   "cell_type": "code",
   "execution_count": 73,
   "metadata": {},
   "outputs": [
    {
     "data": {
      "text/plain": [
       "4.641172764031045"
      ]
     },
     "execution_count": 73,
     "metadata": {},
     "output_type": "execute_result"
    }
   ],
   "source": [
    "[train,test,train_pred,test_pred] = create_cv_sets([33],by_month_prev)\n",
    "rf_prev = RandomForestRegressor(n_estimators = 50, n_jobs = -1, random_state = 24)\n",
    "rf_prev.fit(train[0], train_pred[0])\n",
    "error(rf_prev.predict(test[0]), test_pred[0])"
   ]
  },
  {
   "cell_type": "code",
   "execution_count": 74,
   "metadata": {},
   "outputs": [
    {
     "data": {
      "text/html": [
       "<div>\n",
       "<style scoped>\n",
       "    .dataframe tbody tr th:only-of-type {\n",
       "        vertical-align: middle;\n",
       "    }\n",
       "\n",
       "    .dataframe tbody tr th {\n",
       "        vertical-align: top;\n",
       "    }\n",
       "\n",
       "    .dataframe thead th {\n",
       "        text-align: right;\n",
       "    }\n",
       "</style>\n",
       "<table border=\"1\" class=\"dataframe\">\n",
       "  <thead>\n",
       "    <tr style=\"text-align: right;\">\n",
       "      <th></th>\n",
       "      <th>date_block_num</th>\n",
       "      <th>shop_id</th>\n",
       "      <th>item_id</th>\n",
       "      <th>item_category_id</th>\n",
       "      <th>grouped_category_id</th>\n",
       "      <th>prev_cnt1</th>\n",
       "    </tr>\n",
       "  </thead>\n",
       "  <tbody>\n",
       "    <tr>\n",
       "      <th>0</th>\n",
       "      <td>34</td>\n",
       "      <td>5</td>\n",
       "      <td>5037</td>\n",
       "      <td>19</td>\n",
       "      <td>5</td>\n",
       "      <td>0.0</td>\n",
       "    </tr>\n",
       "    <tr>\n",
       "      <th>1</th>\n",
       "      <td>34</td>\n",
       "      <td>5</td>\n",
       "      <td>5320</td>\n",
       "      <td>55</td>\n",
       "      <td>9</td>\n",
       "      <td>0.0</td>\n",
       "    </tr>\n",
       "    <tr>\n",
       "      <th>2</th>\n",
       "      <td>34</td>\n",
       "      <td>5</td>\n",
       "      <td>5233</td>\n",
       "      <td>19</td>\n",
       "      <td>5</td>\n",
       "      <td>1.0</td>\n",
       "    </tr>\n",
       "    <tr>\n",
       "      <th>3</th>\n",
       "      <td>34</td>\n",
       "      <td>5</td>\n",
       "      <td>5232</td>\n",
       "      <td>23</td>\n",
       "      <td>5</td>\n",
       "      <td>0.0</td>\n",
       "    </tr>\n",
       "    <tr>\n",
       "      <th>4</th>\n",
       "      <td>34</td>\n",
       "      <td>5</td>\n",
       "      <td>5268</td>\n",
       "      <td>20</td>\n",
       "      <td>5</td>\n",
       "      <td>0.0</td>\n",
       "    </tr>\n",
       "  </tbody>\n",
       "</table>\n",
       "</div>"
      ],
      "text/plain": [
       "   date_block_num  shop_id  item_id  item_category_id  grouped_category_id  \\\n",
       "0              34        5     5037                19                    5   \n",
       "1              34        5     5320                55                    9   \n",
       "2              34        5     5233                19                    5   \n",
       "3              34        5     5232                23                    5   \n",
       "4              34        5     5268                20                    5   \n",
       "\n",
       "   prev_cnt1  \n",
       "0        0.0  \n",
       "1        0.0  \n",
       "2        1.0  \n",
       "3        0.0  \n",
       "4        0.0  "
      ]
     },
     "execution_count": 74,
     "metadata": {},
     "output_type": "execute_result"
    }
   ],
   "source": [
    "sales_test_prev = add_prev_month(1, if_test = True)\n",
    "sales_test_prev.head()"
   ]
  },
  {
   "cell_type": "code",
   "execution_count": 80,
   "metadata": {},
   "outputs": [],
   "source": [
    "pred = rf_prev.predict(sales_test_prev)"
   ]
  },
  {
   "cell_type": "code",
   "execution_count": 85,
   "metadata": {},
   "outputs": [],
   "source": [
    "create_submission_file(pred, 'rf_prev_1')"
   ]
  },
  {
   "cell_type": "markdown",
   "metadata": {},
   "source": [
    "### Adding 2 previous month sales "
   ]
  },
  {
   "cell_type": "code",
   "execution_count": 139,
   "metadata": {},
   "outputs": [],
   "source": [
    "by_month_prev = add_prev_month(2)"
   ]
  },
  {
   "cell_type": "code",
   "execution_count": 142,
   "metadata": {
    "scrolled": true
   },
   "outputs": [
    {
     "data": {
      "text/html": [
       "<div>\n",
       "<style scoped>\n",
       "    .dataframe tbody tr th:only-of-type {\n",
       "        vertical-align: middle;\n",
       "    }\n",
       "\n",
       "    .dataframe tbody tr th {\n",
       "        vertical-align: top;\n",
       "    }\n",
       "\n",
       "    .dataframe thead th {\n",
       "        text-align: right;\n",
       "    }\n",
       "</style>\n",
       "<table border=\"1\" class=\"dataframe\">\n",
       "  <thead>\n",
       "    <tr style=\"text-align: right;\">\n",
       "      <th></th>\n",
       "      <th>date_block_num</th>\n",
       "      <th>shop_id</th>\n",
       "      <th>item_id</th>\n",
       "      <th>item_cnt_day</th>\n",
       "      <th>item_category_id</th>\n",
       "      <th>grouped_category_id</th>\n",
       "      <th>prev_cnt1</th>\n",
       "      <th>prev_cnt2</th>\n",
       "    </tr>\n",
       "  </thead>\n",
       "  <tbody>\n",
       "    <tr>\n",
       "      <th>0</th>\n",
       "      <td>0</td>\n",
       "      <td>0</td>\n",
       "      <td>32</td>\n",
       "      <td>6.0</td>\n",
       "      <td>40</td>\n",
       "      <td>7</td>\n",
       "      <td>0.0</td>\n",
       "      <td>0.0</td>\n",
       "    </tr>\n",
       "    <tr>\n",
       "      <th>1</th>\n",
       "      <td>0</td>\n",
       "      <td>0</td>\n",
       "      <td>33</td>\n",
       "      <td>3.0</td>\n",
       "      <td>37</td>\n",
       "      <td>7</td>\n",
       "      <td>0.0</td>\n",
       "      <td>0.0</td>\n",
       "    </tr>\n",
       "    <tr>\n",
       "      <th>2</th>\n",
       "      <td>0</td>\n",
       "      <td>0</td>\n",
       "      <td>35</td>\n",
       "      <td>1.0</td>\n",
       "      <td>40</td>\n",
       "      <td>7</td>\n",
       "      <td>0.0</td>\n",
       "      <td>0.0</td>\n",
       "    </tr>\n",
       "    <tr>\n",
       "      <th>3</th>\n",
       "      <td>0</td>\n",
       "      <td>0</td>\n",
       "      <td>43</td>\n",
       "      <td>1.0</td>\n",
       "      <td>40</td>\n",
       "      <td>7</td>\n",
       "      <td>0.0</td>\n",
       "      <td>0.0</td>\n",
       "    </tr>\n",
       "    <tr>\n",
       "      <th>4</th>\n",
       "      <td>0</td>\n",
       "      <td>0</td>\n",
       "      <td>51</td>\n",
       "      <td>2.0</td>\n",
       "      <td>57</td>\n",
       "      <td>9</td>\n",
       "      <td>0.0</td>\n",
       "      <td>0.0</td>\n",
       "    </tr>\n",
       "  </tbody>\n",
       "</table>\n",
       "</div>"
      ],
      "text/plain": [
       "   date_block_num  shop_id  item_id  item_cnt_day  item_category_id  \\\n",
       "0               0        0       32           6.0                40   \n",
       "1               0        0       33           3.0                37   \n",
       "2               0        0       35           1.0                40   \n",
       "3               0        0       43           1.0                40   \n",
       "4               0        0       51           2.0                57   \n",
       "\n",
       "   grouped_category_id  prev_cnt1  prev_cnt2  \n",
       "0                    7        0.0        0.0  \n",
       "1                    7        0.0        0.0  \n",
       "2                    7        0.0        0.0  \n",
       "3                    7        0.0        0.0  \n",
       "4                    9        0.0        0.0  "
      ]
     },
     "execution_count": 142,
     "metadata": {},
     "output_type": "execute_result"
    }
   ],
   "source": [
    "by_month_prev.head()"
   ]
  },
  {
   "cell_type": "code",
   "execution_count": 260,
   "metadata": {},
   "outputs": [],
   "source": [
    "[train,test,train_pred,test_pred] = create_cv_sets(val_months,by_month_prev)"
   ]
  },
  {
   "cell_type": "code",
   "execution_count": 261,
   "metadata": {},
   "outputs": [
    {
     "name": "stdout",
     "output_type": "stream",
     "text": [
      "month 28 - error 2.93152\n",
      "month 29 - error 2.15942\n",
      "month 30 - error 0.92099\n",
      "month 31 - error 1.03831\n",
      "month 32 - error 1.39534\n",
      "mean error - 1.68912\n"
     ]
    }
   ],
   "source": [
    "rf_prev_2 = RandomForestRegressor(n_estimators = 50, n_jobs = -1, random_state = 24)\n",
    "prev_err_2 = []\n",
    "for i in range(len(train)):\n",
    "    rf_prev_2.fit(train[i], train_pred[i])\n",
    "    prev_err_2.append(error(rf_prev_2.predict(test[i]), test_pred[i]))\n",
    "    print('month %d - error %.5f' %(val_months[i], prev_err_2[i]))\n",
    "print('mean error - %.5f' %(np.mean(prev_err_2)))"
   ]
  },
  {
   "cell_type": "code",
   "execution_count": 90,
   "metadata": {},
   "outputs": [],
   "source": [
    "[train,test,train_pred,test_pred] = create_cv_sets([33],by_month_prev)"
   ]
  },
  {
   "cell_type": "code",
   "execution_count": 91,
   "metadata": {},
   "outputs": [
    {
     "data": {
      "text/plain": [
       "5.083675150192008"
      ]
     },
     "execution_count": 91,
     "metadata": {},
     "output_type": "execute_result"
    }
   ],
   "source": [
    "rf_prev_2 = RandomForestRegressor(n_estimators = 50, n_jobs = -1, random_state = 24)\n",
    "rf_prev_2.fit(train[0], train_pred[0])\n",
    "error(rf_prev_2.predict(test[0]), test_pred[0])"
   ]
  },
  {
   "cell_type": "code",
   "execution_count": 145,
   "metadata": {
    "scrolled": true
   },
   "outputs": [
    {
     "data": {
      "text/html": [
       "<div>\n",
       "<style scoped>\n",
       "    .dataframe tbody tr th:only-of-type {\n",
       "        vertical-align: middle;\n",
       "    }\n",
       "\n",
       "    .dataframe tbody tr th {\n",
       "        vertical-align: top;\n",
       "    }\n",
       "\n",
       "    .dataframe thead th {\n",
       "        text-align: right;\n",
       "    }\n",
       "</style>\n",
       "<table border=\"1\" class=\"dataframe\">\n",
       "  <thead>\n",
       "    <tr style=\"text-align: right;\">\n",
       "      <th></th>\n",
       "      <th>date_block_num</th>\n",
       "      <th>shop_id</th>\n",
       "      <th>item_id</th>\n",
       "      <th>item_category_id</th>\n",
       "      <th>grouped_category_id</th>\n",
       "      <th>prev_cnt1</th>\n",
       "      <th>prev_cnt2</th>\n",
       "    </tr>\n",
       "  </thead>\n",
       "  <tbody>\n",
       "    <tr>\n",
       "      <th>0</th>\n",
       "      <td>34</td>\n",
       "      <td>5</td>\n",
       "      <td>5037</td>\n",
       "      <td>19</td>\n",
       "      <td>5</td>\n",
       "      <td>0.0</td>\n",
       "      <td>1.0</td>\n",
       "    </tr>\n",
       "    <tr>\n",
       "      <th>1</th>\n",
       "      <td>34</td>\n",
       "      <td>5</td>\n",
       "      <td>5320</td>\n",
       "      <td>55</td>\n",
       "      <td>9</td>\n",
       "      <td>0.0</td>\n",
       "      <td>0.0</td>\n",
       "    </tr>\n",
       "    <tr>\n",
       "      <th>2</th>\n",
       "      <td>34</td>\n",
       "      <td>5</td>\n",
       "      <td>5233</td>\n",
       "      <td>19</td>\n",
       "      <td>5</td>\n",
       "      <td>1.0</td>\n",
       "      <td>3.0</td>\n",
       "    </tr>\n",
       "    <tr>\n",
       "      <th>3</th>\n",
       "      <td>34</td>\n",
       "      <td>5</td>\n",
       "      <td>5232</td>\n",
       "      <td>23</td>\n",
       "      <td>5</td>\n",
       "      <td>0.0</td>\n",
       "      <td>0.0</td>\n",
       "    </tr>\n",
       "    <tr>\n",
       "      <th>4</th>\n",
       "      <td>34</td>\n",
       "      <td>5</td>\n",
       "      <td>5268</td>\n",
       "      <td>20</td>\n",
       "      <td>5</td>\n",
       "      <td>0.0</td>\n",
       "      <td>0.0</td>\n",
       "    </tr>\n",
       "  </tbody>\n",
       "</table>\n",
       "</div>"
      ],
      "text/plain": [
       "   date_block_num  shop_id  item_id  item_category_id  grouped_category_id  \\\n",
       "0              34        5     5037                19                    5   \n",
       "1              34        5     5320                55                    9   \n",
       "2              34        5     5233                19                    5   \n",
       "3              34        5     5232                23                    5   \n",
       "4              34        5     5268                20                    5   \n",
       "\n",
       "   prev_cnt1  prev_cnt2  \n",
       "0        0.0        1.0  \n",
       "1        0.0        0.0  \n",
       "2        1.0        3.0  \n",
       "3        0.0        0.0  \n",
       "4        0.0        0.0  "
      ]
     },
     "execution_count": 145,
     "metadata": {},
     "output_type": "execute_result"
    }
   ],
   "source": [
    "sales_test_prev = add_prev_month(2, if_test = True)\n",
    "sales_test_prev.head()"
   ]
  },
  {
   "cell_type": "code",
   "execution_count": 149,
   "metadata": {},
   "outputs": [],
   "source": [
    "pred = rf_prev_2.predict(sales_test_prev)"
   ]
  },
  {
   "cell_type": "code",
   "execution_count": 150,
   "metadata": {},
   "outputs": [],
   "source": [
    "create_submission_file(pred, 'rf_prev_2')"
   ]
  },
  {
   "cell_type": "markdown",
   "metadata": {},
   "source": [
    "### Adding 3 previous month sales "
   ]
  },
  {
   "cell_type": "code",
   "execution_count": 152,
   "metadata": {},
   "outputs": [
    {
     "data": {
      "text/html": [
       "<div>\n",
       "<style scoped>\n",
       "    .dataframe tbody tr th:only-of-type {\n",
       "        vertical-align: middle;\n",
       "    }\n",
       "\n",
       "    .dataframe tbody tr th {\n",
       "        vertical-align: top;\n",
       "    }\n",
       "\n",
       "    .dataframe thead th {\n",
       "        text-align: right;\n",
       "    }\n",
       "</style>\n",
       "<table border=\"1\" class=\"dataframe\">\n",
       "  <thead>\n",
       "    <tr style=\"text-align: right;\">\n",
       "      <th></th>\n",
       "      <th>date_block_num</th>\n",
       "      <th>shop_id</th>\n",
       "      <th>item_id</th>\n",
       "      <th>item_cnt_day</th>\n",
       "      <th>item_category_id</th>\n",
       "      <th>grouped_category_id</th>\n",
       "      <th>prev_cnt1</th>\n",
       "      <th>prev_cnt2</th>\n",
       "      <th>prev_cnt3</th>\n",
       "    </tr>\n",
       "  </thead>\n",
       "  <tbody>\n",
       "    <tr>\n",
       "      <th>0</th>\n",
       "      <td>0</td>\n",
       "      <td>0</td>\n",
       "      <td>32</td>\n",
       "      <td>6.0</td>\n",
       "      <td>40</td>\n",
       "      <td>7</td>\n",
       "      <td>0.0</td>\n",
       "      <td>0.0</td>\n",
       "      <td>0.0</td>\n",
       "    </tr>\n",
       "    <tr>\n",
       "      <th>1</th>\n",
       "      <td>0</td>\n",
       "      <td>0</td>\n",
       "      <td>33</td>\n",
       "      <td>3.0</td>\n",
       "      <td>37</td>\n",
       "      <td>7</td>\n",
       "      <td>0.0</td>\n",
       "      <td>0.0</td>\n",
       "      <td>0.0</td>\n",
       "    </tr>\n",
       "    <tr>\n",
       "      <th>2</th>\n",
       "      <td>0</td>\n",
       "      <td>0</td>\n",
       "      <td>35</td>\n",
       "      <td>1.0</td>\n",
       "      <td>40</td>\n",
       "      <td>7</td>\n",
       "      <td>0.0</td>\n",
       "      <td>0.0</td>\n",
       "      <td>0.0</td>\n",
       "    </tr>\n",
       "    <tr>\n",
       "      <th>3</th>\n",
       "      <td>0</td>\n",
       "      <td>0</td>\n",
       "      <td>43</td>\n",
       "      <td>1.0</td>\n",
       "      <td>40</td>\n",
       "      <td>7</td>\n",
       "      <td>0.0</td>\n",
       "      <td>0.0</td>\n",
       "      <td>0.0</td>\n",
       "    </tr>\n",
       "    <tr>\n",
       "      <th>4</th>\n",
       "      <td>0</td>\n",
       "      <td>0</td>\n",
       "      <td>51</td>\n",
       "      <td>2.0</td>\n",
       "      <td>57</td>\n",
       "      <td>9</td>\n",
       "      <td>0.0</td>\n",
       "      <td>0.0</td>\n",
       "      <td>0.0</td>\n",
       "    </tr>\n",
       "  </tbody>\n",
       "</table>\n",
       "</div>"
      ],
      "text/plain": [
       "   date_block_num  shop_id  item_id  item_cnt_day  item_category_id  \\\n",
       "0               0        0       32           6.0                40   \n",
       "1               0        0       33           3.0                37   \n",
       "2               0        0       35           1.0                40   \n",
       "3               0        0       43           1.0                40   \n",
       "4               0        0       51           2.0                57   \n",
       "\n",
       "   grouped_category_id  prev_cnt1  prev_cnt2  prev_cnt3  \n",
       "0                    7        0.0        0.0        0.0  \n",
       "1                    7        0.0        0.0        0.0  \n",
       "2                    7        0.0        0.0        0.0  \n",
       "3                    7        0.0        0.0        0.0  \n",
       "4                    9        0.0        0.0        0.0  "
      ]
     },
     "execution_count": 152,
     "metadata": {},
     "output_type": "execute_result"
    }
   ],
   "source": [
    "by_month_prev = add_prev_month(3)\n",
    "by_month_prev.head()"
   ]
  },
  {
   "cell_type": "code",
   "execution_count": 24,
   "metadata": {},
   "outputs": [
    {
     "name": "stdout",
     "output_type": "stream",
     "text": [
      "month 28 - error 2.91102\n",
      "month 29 - error 1.49512\n",
      "month 30 - error 0.86104\n",
      "month 31 - error 1.12077\n",
      "month 32 - error 1.45817\n",
      "mean error - 1.56922\n"
     ]
    }
   ],
   "source": [
    "[train,test,train_pred,test_pred] = create_cv_sets(val_months,by_month_prev)\n",
    "rf_prev_3 = RandomForestRegressor(n_estimators = 50, n_jobs = -1, random_state = 24)\n",
    "prev_err_3 = []\n",
    "for i in range(len(train)):\n",
    "    rf_prev_3.fit(train[i], train_pred[i])\n",
    "    prev_err_3.append(error(rf_prev_3.predict(test[i]), test_pred[i]))\n",
    "    print('month %d - error %.5f' %(val_months[i], prev_err_3[i]))\n",
    "print('mean error - %.5f' %(np.mean(prev_err_3)))"
   ]
  },
  {
   "cell_type": "code",
   "execution_count": 153,
   "metadata": {},
   "outputs": [],
   "source": [
    "[train,test,train_pred,test_pred] = create_cv_sets([33],by_month_prev)"
   ]
  },
  {
   "cell_type": "code",
   "execution_count": 154,
   "metadata": {},
   "outputs": [
    {
     "data": {
      "text/plain": [
       "5.1884110533608245"
      ]
     },
     "execution_count": 154,
     "metadata": {},
     "output_type": "execute_result"
    }
   ],
   "source": [
    "rf_prev_3 = RandomForestRegressor(n_estimators = 50, n_jobs = -1, random_state = 24)\n",
    "rf_prev_3.fit(train[0], train_pred[0])\n",
    "error(rf_prev_3.predict(test[0]), test_pred[0])"
   ]
  },
  {
   "cell_type": "code",
   "execution_count": 155,
   "metadata": {},
   "outputs": [
    {
     "data": {
      "text/html": [
       "<div>\n",
       "<style scoped>\n",
       "    .dataframe tbody tr th:only-of-type {\n",
       "        vertical-align: middle;\n",
       "    }\n",
       "\n",
       "    .dataframe tbody tr th {\n",
       "        vertical-align: top;\n",
       "    }\n",
       "\n",
       "    .dataframe thead th {\n",
       "        text-align: right;\n",
       "    }\n",
       "</style>\n",
       "<table border=\"1\" class=\"dataframe\">\n",
       "  <thead>\n",
       "    <tr style=\"text-align: right;\">\n",
       "      <th></th>\n",
       "      <th>date_block_num</th>\n",
       "      <th>shop_id</th>\n",
       "      <th>item_id</th>\n",
       "      <th>item_category_id</th>\n",
       "      <th>grouped_category_id</th>\n",
       "      <th>prev_cnt1</th>\n",
       "      <th>prev_cnt2</th>\n",
       "      <th>prev_cnt3</th>\n",
       "    </tr>\n",
       "  </thead>\n",
       "  <tbody>\n",
       "    <tr>\n",
       "      <th>0</th>\n",
       "      <td>34</td>\n",
       "      <td>5</td>\n",
       "      <td>5037</td>\n",
       "      <td>19</td>\n",
       "      <td>5</td>\n",
       "      <td>0.0</td>\n",
       "      <td>1.0</td>\n",
       "      <td>3.0</td>\n",
       "    </tr>\n",
       "    <tr>\n",
       "      <th>1</th>\n",
       "      <td>34</td>\n",
       "      <td>5</td>\n",
       "      <td>5320</td>\n",
       "      <td>55</td>\n",
       "      <td>9</td>\n",
       "      <td>0.0</td>\n",
       "      <td>0.0</td>\n",
       "      <td>0.0</td>\n",
       "    </tr>\n",
       "    <tr>\n",
       "      <th>2</th>\n",
       "      <td>34</td>\n",
       "      <td>5</td>\n",
       "      <td>5233</td>\n",
       "      <td>19</td>\n",
       "      <td>5</td>\n",
       "      <td>1.0</td>\n",
       "      <td>3.0</td>\n",
       "      <td>1.0</td>\n",
       "    </tr>\n",
       "    <tr>\n",
       "      <th>3</th>\n",
       "      <td>34</td>\n",
       "      <td>5</td>\n",
       "      <td>5232</td>\n",
       "      <td>23</td>\n",
       "      <td>5</td>\n",
       "      <td>0.0</td>\n",
       "      <td>0.0</td>\n",
       "      <td>1.0</td>\n",
       "    </tr>\n",
       "    <tr>\n",
       "      <th>4</th>\n",
       "      <td>34</td>\n",
       "      <td>5</td>\n",
       "      <td>5268</td>\n",
       "      <td>20</td>\n",
       "      <td>5</td>\n",
       "      <td>0.0</td>\n",
       "      <td>0.0</td>\n",
       "      <td>0.0</td>\n",
       "    </tr>\n",
       "  </tbody>\n",
       "</table>\n",
       "</div>"
      ],
      "text/plain": [
       "   date_block_num  shop_id  item_id  item_category_id  grouped_category_id  \\\n",
       "0              34        5     5037                19                    5   \n",
       "1              34        5     5320                55                    9   \n",
       "2              34        5     5233                19                    5   \n",
       "3              34        5     5232                23                    5   \n",
       "4              34        5     5268                20                    5   \n",
       "\n",
       "   prev_cnt1  prev_cnt2  prev_cnt3  \n",
       "0        0.0        1.0        3.0  \n",
       "1        0.0        0.0        0.0  \n",
       "2        1.0        3.0        1.0  \n",
       "3        0.0        0.0        1.0  \n",
       "4        0.0        0.0        0.0  "
      ]
     },
     "execution_count": 155,
     "metadata": {},
     "output_type": "execute_result"
    }
   ],
   "source": [
    "sales_test_prev = add_prev_month(3, if_test = True)\n",
    "sales_test_prev.head()"
   ]
  },
  {
   "cell_type": "code",
   "execution_count": 156,
   "metadata": {},
   "outputs": [],
   "source": [
    "pred = rf_prev_3.predict(sales_test_prev)"
   ]
  },
  {
   "cell_type": "code",
   "execution_count": 157,
   "metadata": {},
   "outputs": [],
   "source": [
    "create_submission_file(pred, 'rf_prev_3')"
   ]
  },
  {
   "cell_type": "markdown",
   "metadata": {},
   "source": [
    "#### ** Seems like months over 30 are not related much with more than 1 previous months"
   ]
  },
  {
   "cell_type": "markdown",
   "metadata": {},
   "source": [
    "### Adding 4 previous month sales "
   ]
  },
  {
   "cell_type": "code",
   "execution_count": 158,
   "metadata": {},
   "outputs": [
    {
     "data": {
      "text/html": [
       "<div>\n",
       "<style scoped>\n",
       "    .dataframe tbody tr th:only-of-type {\n",
       "        vertical-align: middle;\n",
       "    }\n",
       "\n",
       "    .dataframe tbody tr th {\n",
       "        vertical-align: top;\n",
       "    }\n",
       "\n",
       "    .dataframe thead th {\n",
       "        text-align: right;\n",
       "    }\n",
       "</style>\n",
       "<table border=\"1\" class=\"dataframe\">\n",
       "  <thead>\n",
       "    <tr style=\"text-align: right;\">\n",
       "      <th></th>\n",
       "      <th>date_block_num</th>\n",
       "      <th>shop_id</th>\n",
       "      <th>item_id</th>\n",
       "      <th>item_cnt_day</th>\n",
       "      <th>item_category_id</th>\n",
       "      <th>grouped_category_id</th>\n",
       "      <th>prev_cnt1</th>\n",
       "      <th>prev_cnt2</th>\n",
       "      <th>prev_cnt3</th>\n",
       "      <th>prev_cnt4</th>\n",
       "    </tr>\n",
       "  </thead>\n",
       "  <tbody>\n",
       "    <tr>\n",
       "      <th>0</th>\n",
       "      <td>0</td>\n",
       "      <td>0</td>\n",
       "      <td>32</td>\n",
       "      <td>6.0</td>\n",
       "      <td>40</td>\n",
       "      <td>7</td>\n",
       "      <td>0.0</td>\n",
       "      <td>0.0</td>\n",
       "      <td>0.0</td>\n",
       "      <td>0.0</td>\n",
       "    </tr>\n",
       "    <tr>\n",
       "      <th>1</th>\n",
       "      <td>0</td>\n",
       "      <td>0</td>\n",
       "      <td>33</td>\n",
       "      <td>3.0</td>\n",
       "      <td>37</td>\n",
       "      <td>7</td>\n",
       "      <td>0.0</td>\n",
       "      <td>0.0</td>\n",
       "      <td>0.0</td>\n",
       "      <td>0.0</td>\n",
       "    </tr>\n",
       "    <tr>\n",
       "      <th>2</th>\n",
       "      <td>0</td>\n",
       "      <td>0</td>\n",
       "      <td>35</td>\n",
       "      <td>1.0</td>\n",
       "      <td>40</td>\n",
       "      <td>7</td>\n",
       "      <td>0.0</td>\n",
       "      <td>0.0</td>\n",
       "      <td>0.0</td>\n",
       "      <td>0.0</td>\n",
       "    </tr>\n",
       "    <tr>\n",
       "      <th>3</th>\n",
       "      <td>0</td>\n",
       "      <td>0</td>\n",
       "      <td>43</td>\n",
       "      <td>1.0</td>\n",
       "      <td>40</td>\n",
       "      <td>7</td>\n",
       "      <td>0.0</td>\n",
       "      <td>0.0</td>\n",
       "      <td>0.0</td>\n",
       "      <td>0.0</td>\n",
       "    </tr>\n",
       "    <tr>\n",
       "      <th>4</th>\n",
       "      <td>0</td>\n",
       "      <td>0</td>\n",
       "      <td>51</td>\n",
       "      <td>2.0</td>\n",
       "      <td>57</td>\n",
       "      <td>9</td>\n",
       "      <td>0.0</td>\n",
       "      <td>0.0</td>\n",
       "      <td>0.0</td>\n",
       "      <td>0.0</td>\n",
       "    </tr>\n",
       "  </tbody>\n",
       "</table>\n",
       "</div>"
      ],
      "text/plain": [
       "   date_block_num  shop_id  item_id  item_cnt_day  item_category_id  \\\n",
       "0               0        0       32           6.0                40   \n",
       "1               0        0       33           3.0                37   \n",
       "2               0        0       35           1.0                40   \n",
       "3               0        0       43           1.0                40   \n",
       "4               0        0       51           2.0                57   \n",
       "\n",
       "   grouped_category_id  prev_cnt1  prev_cnt2  prev_cnt3  prev_cnt4  \n",
       "0                    7        0.0        0.0        0.0        0.0  \n",
       "1                    7        0.0        0.0        0.0        0.0  \n",
       "2                    7        0.0        0.0        0.0        0.0  \n",
       "3                    7        0.0        0.0        0.0        0.0  \n",
       "4                    9        0.0        0.0        0.0        0.0  "
      ]
     },
     "execution_count": 158,
     "metadata": {},
     "output_type": "execute_result"
    }
   ],
   "source": [
    "by_month_prev = add_prev_month(4)\n",
    "by_month_prev.head()"
   ]
  },
  {
   "cell_type": "code",
   "execution_count": 162,
   "metadata": {},
   "outputs": [
    {
     "name": "stdout",
     "output_type": "stream",
     "text": [
      "month 28 - error 2.91293\n",
      "month 29 - error 1.50417\n",
      "month 30 - error 0.80604\n",
      "month 31 - error 1.04127\n",
      "month 32 - error 1.40656\n",
      "mean error - 1.53419\n"
     ]
    }
   ],
   "source": [
    "[train,test,train_pred,test_pred] = create_cv_sets(val_months,by_month_prev)\n",
    "rf_prev_4 = RandomForestRegressor(n_estimators = 50, n_jobs = -1, random_state = 24)\n",
    "prev_err_4 = []\n",
    "for i in range(len(train)):\n",
    "    rf_prev_4.fit(train[i], train_pred[i])\n",
    "    prev_err_4.append(error(rf_prev_4.predict(test[i]), test_pred[i]))\n",
    "    print('month %d - error %.5f' %(val_months[i], prev_err_4[i]))\n",
    "print('mean error - %.5f' %(np.mean(prev_err_4)))"
   ]
  },
  {
   "cell_type": "code",
   "execution_count": 163,
   "metadata": {},
   "outputs": [],
   "source": [
    "[train,test,train_pred,test_pred] = create_cv_sets([33],by_month_prev)"
   ]
  },
  {
   "cell_type": "code",
   "execution_count": 166,
   "metadata": {},
   "outputs": [
    {
     "data": {
      "text/plain": [
       "5.110434590066329"
      ]
     },
     "execution_count": 166,
     "metadata": {},
     "output_type": "execute_result"
    }
   ],
   "source": [
    "rf_prev_4 = RandomForestRegressor(n_estimators = 50, n_jobs = -1, random_state = 24)\n",
    "rf_prev_4.fit(train[0], train_pred[0])\n",
    "error(rf_prev_4.predict(test[0]), test_pred[0])"
   ]
  },
  {
   "cell_type": "markdown",
   "metadata": {},
   "source": [
    "### Finding the optimum number of previous months"
   ]
  },
  {
   "cell_type": "code",
   "execution_count": 23,
   "metadata": {
    "scrolled": true
   },
   "outputs": [
    {
     "name": "stdout",
     "output_type": "stream",
     "text": [
      "Number of previous months: 5\n",
      "month 28 - error 2.81213\n",
      "month 29 - error 1.29434\n",
      "month 30 - error 0.89061\n",
      "month 31 - error 1.07408\n",
      "month 32 - error 1.43215\n",
      "---->mean error - 1.50066\n",
      "---->test error - 4.80254\n",
      "Number of previous months: 6\n",
      "month 28 - error 2.69452\n",
      "month 29 - error 1.47860\n",
      "month 30 - error 0.98381\n",
      "month 31 - error 1.04382\n",
      "month 32 - error 1.37531\n",
      "---->mean error - 1.51521\n",
      "---->test error - 4.80783\n",
      "Number of previous months: 7\n",
      "month 28 - error 2.71304\n",
      "month 29 - error 1.48447\n",
      "month 30 - error 0.93602\n",
      "month 31 - error 1.01396\n",
      "month 32 - error 1.36379\n",
      "---->mean error - 1.50225\n",
      "---->test error - 4.84367\n",
      "Number of previous months: 8\n",
      "month 28 - error 2.82987\n",
      "month 29 - error 1.43500\n",
      "month 30 - error 1.16965\n",
      "month 31 - error 1.07490\n",
      "month 32 - error 1.39844\n",
      "---->mean error - 1.58157\n",
      "---->test error - 4.83463\n",
      "Number of previous months: 9\n",
      "month 28 - error 2.83748\n",
      "month 29 - error 1.38862\n",
      "month 30 - error 1.12903\n",
      "month 31 - error 1.09326\n",
      "month 32 - error 1.41433\n",
      "---->mean error - 1.57254\n",
      "---->test error - 4.86293\n",
      "Number of previous months: 10\n",
      "month 28 - error 2.86081\n",
      "month 29 - error 1.39876\n",
      "month 30 - error 1.14431\n",
      "month 31 - error 1.06420\n",
      "month 32 - error 1.40121\n",
      "---->mean error - 1.57386\n",
      "---->test error - 4.93906\n",
      "Number of previous months: 11\n",
      "month 28 - error 2.84759\n",
      "month 29 - error 1.34074\n",
      "month 30 - error 1.11345\n",
      "month 31 - error 1.11104\n",
      "month 32 - error 1.41233\n",
      "---->mean error - 1.56503\n",
      "---->test error - 4.86983\n",
      "Number of previous months: 12\n",
      "month 28 - error 2.78575\n",
      "month 29 - error 1.30235\n",
      "month 30 - error 1.05401\n",
      "month 31 - error 1.04979\n",
      "month 32 - error 1.39122\n",
      "---->mean error - 1.51662\n",
      "---->test error - 4.84753\n"
     ]
    }
   ],
   "source": [
    "prev_err_opt = []\n",
    "prev_err_test = []\n",
    "for j in np.arange(5,13):\n",
    "    print('Number of previous months: %d' %(j))\n",
    "    by_month_prev = add_prev_month(j)\n",
    "    [train,test,train_pred,test_pred] = create_cv_sets(val_months,by_month_prev)\n",
    "    rf_prev_opt = RandomForestRegressor(n_estimators = 50, n_jobs = -1, random_state = 24)\n",
    "    err =  []\n",
    "    for i in range(len(train)):\n",
    "        rf_prev_opt.fit(train[i], train_pred[i])\n",
    "        err.append(error(rf_prev_opt.predict(test[i]), test_pred[i]))\n",
    "        print('month %d - error %.5f' %(val_months[i], err[i]))\n",
    "    print('---->mean error - %.5f' %(np.mean(err)))\n",
    "    prev_err_opt.append(err)\n",
    "    \n",
    "    [train,test,train_pred,test_pred] = create_cv_sets([33],by_month_prev)\n",
    "    rf_prev_test = RandomForestRegressor(n_estimators = 50, n_jobs = -1, random_state = 24)\n",
    "    rf_prev_test.fit(train[0], train_pred[0])\n",
    "    err_test = error(rf_prev_test.predict(test[0]), test_pred[0])\n",
    "    prev_err_test.append(err_test)\n",
    "    print('---->test error - %.5f' %(err_test))"
   ]
  },
  {
   "cell_type": "code",
   "execution_count": 43,
   "metadata": {},
   "outputs": [],
   "source": [
    "mean_err_opt = [1.735, 1.689, 1.569, 1.534]\n",
    "mean_err_opt.extend(np.mean(prev_err_opt, axis = 1).tolist())"
   ]
  },
  {
   "cell_type": "code",
   "execution_count": 46,
   "metadata": {},
   "outputs": [],
   "source": [
    "test_err = [4.641, 5.083, 5.188, 5.110]\n",
    "test_err.extend(prev_err_test)"
   ]
  },
  {
   "cell_type": "code",
   "execution_count": 56,
   "metadata": {},
   "outputs": [
    {
     "data": {
      "text/plain": [
       "Text(0,0.5,'RMSE')"
      ]
     },
     "execution_count": 56,
     "metadata": {},
     "output_type": "execute_result"
    },
    {
     "data": {
      "image/png": "[encoded data removed]",
      "text/plain": [
       "<Figure size 432x288 with 1 Axes>"
      ]
     },
     "metadata": {},
     "output_type": "display_data"
    }
   ],
   "source": [
    "plt.plot(np.arange(len(mean_err_opt))+1, mean_err_opt, marker = 'o')\n",
    "plt.plot(np.arange(len(test_err))+1, test_err, marker = 'o')\n",
    "plt.legend(['validation', 'Test'])\n",
    "plt.xlabel('Number of Previous months')\n",
    "plt.ylabel('RMSE')"
   ]
  },
  {
   "cell_type": "markdown",
   "metadata": {},
   "source": [
    "#### ** 5 previous months are optimum"
   ]
  },
  {
   "cell_type": "markdown",
   "metadata": {},
   "source": [
    "### Adding differences "
   ]
  },
  {
   "cell_type": "code",
   "execution_count": 26,
   "metadata": {},
   "outputs": [],
   "source": [
    "by_month_prev = add_prev_month(5)"
   ]
  },
  {
   "cell_type": "code",
   "execution_count": 84,
   "metadata": {},
   "outputs": [],
   "source": [
    "by_month_diff = add_diff(1)"
   ]
  },
  {
   "cell_type": "code",
   "execution_count": 86,
   "metadata": {},
   "outputs": [
    {
     "name": "stdout",
     "output_type": "stream",
     "text": [
      "month 28 - error 2.84137\n",
      "month 29 - error 1.34319\n",
      "month 30 - error 0.89283\n",
      "month 31 - error 1.05895\n",
      "month 32 - error 1.41600\n",
      "mean error - 1.51046\n"
     ]
    }
   ],
   "source": [
    "[train,test,train_pred,test_pred] = create_cv_sets(val_months,by_month_diff)\n",
    "rf_prev_diff = RandomForestRegressor(n_estimators = 50, n_jobs = -1, random_state = 24)\n",
    "prev_err_diff = []\n",
    "for i in range(len(train)):\n",
    "    rf_prev_diff.fit(train[i], train_pred[i])\n",
    "    prev_err_diff.append(error(rf_prev_diff.predict(test[i]), test_pred[i]))\n",
    "    print('month %d - error %.5f' %(val_months[i], prev_err_diff[i]))\n",
    "print('mean error - %.5f' %(np.mean(prev_err_diff)))"
   ]
  },
  {
   "cell_type": "code",
   "execution_count": 87,
   "metadata": {},
   "outputs": [],
   "source": [
    "[train,test,train_pred,test_pred] = create_cv_sets([33],by_month_diff)"
   ]
  },
  {
   "cell_type": "code",
   "execution_count": 90,
   "metadata": {},
   "outputs": [
    {
     "name": "stdout",
     "output_type": "stream",
     "text": [
      "total time: 190.32013\n"
     ]
    },
    {
     "data": {
      "text/plain": [
       "5.112846652928145"
      ]
     },
     "execution_count": 90,
     "metadata": {},
     "output_type": "execute_result"
    }
   ],
   "source": [
    "start = timer()\n",
    "rf_prev_diff = RandomForestRegressor(n_estimators = 50, n_jobs = -1, random_state = 24)\n",
    "rf_prev_diff.fit(train[0], train_pred[0])\n",
    "print('total time: %.5f' %(timer()-start))\n",
    "error(rf_prev_diff.predict(test[0]), test_pred[0])"
   ]
  },
  {
   "cell_type": "markdown",
   "metadata": {},
   "source": [
    "#### Comparing timing with catboost"
   ]
  },
  {
   "cell_type": "code",
   "execution_count": 106,
   "metadata": {
    "scrolled": true
   },
   "outputs": [
    {
     "name": "stdout",
     "output_type": "stream",
     "text": [
      "Warning: Overfitting detector is active, thus evaluation metric iscalculated on every iteration. 'metric_period' is ignored for evaluation metric.\n",
      "0:\tlearn: 8.4318635\ttest: 14.7853321\tbest: 14.7853321 (0)\ttotal: 699ms\tremaining: 34m 55s\n",
      "50:\tlearn: 5.7755249\ttest: 12.9520640\tbest: 12.9499696 (45)\ttotal: 15s\tremaining: 14m 25s\n",
      "100:\tlearn: 5.6764437\ttest: 12.6876368\tbest: 12.6779742 (87)\ttotal: 29.1s\tremaining: 13m 56s\n",
      "150:\tlearn: 5.6128217\ttest: 12.5580507\tbest: 12.5580507 (150)\ttotal: 44.5s\tremaining: 14m\n",
      "200:\tlearn: 5.5702661\ttest: 12.3623441\tbest: 12.3576128 (191)\ttotal: 58.9s\tremaining: 13m 39s\n",
      "250:\tlearn: 5.5359352\ttest: 12.1036631\tbest: 12.0942814 (243)\ttotal: 1m 14s\tremaining: 13m 32s\n",
      "300:\tlearn: 5.5121058\ttest: 12.0132547\tbest: 12.0132547 (300)\ttotal: 1m 29s\tremaining: 13m 21s\n",
      "350:\tlearn: 5.4873184\ttest: 11.9467962\tbest: 11.9451531 (348)\ttotal: 1m 44s\tremaining: 13m 5s\n",
      "400:\tlearn: 5.4647444\ttest: 11.8691145\tbest: 11.8532445 (391)\ttotal: 1m 59s\tremaining: 12m 56s\n",
      "450:\tlearn: 5.4460086\ttest: 11.7983957\tbest: 11.7857573 (448)\ttotal: 2m 14s\tremaining: 12m 41s\n",
      "500:\tlearn: 5.4290140\ttest: 11.8101760\tbest: 11.7857573 (448)\ttotal: 2m 30s\tremaining: 12m 30s\n",
      "550:\tlearn: 5.4145015\ttest: 11.8418645\tbest: 11.7857573 (448)\ttotal: 2m 45s\tremaining: 12m 16s\n",
      "600:\tlearn: 5.3987177\ttest: 11.7532370\tbest: 11.7532370 (600)\ttotal: 3m\tremaining: 11m 59s\n",
      "650:\tlearn: 5.3802009\ttest: 11.6846576\tbest: 11.6846576 (650)\ttotal: 3m 15s\tremaining: 11m 44s\n",
      "700:\tlearn: 5.3632291\ttest: 11.6642519\tbest: 11.6434873 (675)\ttotal: 3m 30s\tremaining: 11m 30s\n",
      "750:\tlearn: 5.3477056\ttest: 11.6236803\tbest: 11.6205490 (724)\ttotal: 3m 45s\tremaining: 11m 16s\n",
      "800:\tlearn: 5.3385014\ttest: 11.6435012\tbest: 11.6160816 (757)\ttotal: 4m 1s\tremaining: 11m 1s\n",
      "850:\tlearn: 5.3282710\ttest: 11.6074817\tbest: 11.6023555 (842)\ttotal: 4m 17s\tremaining: 10m 49s\n",
      "900:\tlearn: 5.3203325\ttest: 11.5838671\tbest: 11.5821227 (894)\ttotal: 4m 32s\tremaining: 10m 35s\n",
      "950:\tlearn: 5.3101979\ttest: 11.5928087\tbest: 11.5813391 (924)\ttotal: 4m 48s\tremaining: 10m 22s\n",
      "1000:\tlearn: 5.3016357\ttest: 11.5920667\tbest: 11.5813391 (924)\ttotal: 5m 4s\tremaining: 10m 8s\n",
      "1050:\tlearn: 5.2910563\ttest: 11.6131966\tbest: 11.5813391 (924)\ttotal: 5m 19s\tremaining: 9m 52s\n",
      "1100:\tlearn: 5.2806862\ttest: 11.6010633\tbest: 11.5813391 (924)\ttotal: 5m 34s\tremaining: 9m 36s\n",
      "Stopped by overfitting detector  (200 iterations wait)\n",
      "\n",
      "bestTest = 11.58133915\n",
      "bestIteration = 924\n",
      "\n",
      "Shrink model to first 925 iterations.\n",
      "total time: 356.14424\n"
     ]
    },
    {
     "ename": "AttributeError",
     "evalue": "'list' object has no attribute 'values'",
     "output_type": "error",
     "traceback": [
      "\u001b[1;31m---------------------------------------------------------------------------\u001b[0m",
      "\u001b[1;31mAttributeError\u001b[0m                            Traceback (most recent call last)",
      "\u001b[1;32m<ipython-input-106-ff4a527cdff2>\u001b[0m in \u001b[0;36m<module>\u001b[1;34m()\u001b[0m\n\u001b[0;32m      6\u001b[0m              eval_set=(test[0].values, test_pred[0].values)) \n\u001b[0;32m      7\u001b[0m \u001b[0mprint\u001b[0m\u001b[1;33m(\u001b[0m\u001b[1;34m'total time: %.5f'\u001b[0m \u001b[1;33m%\u001b[0m\u001b[1;33m(\u001b[0m\u001b[0mtimer\u001b[0m\u001b[1;33m(\u001b[0m\u001b[1;33m)\u001b[0m\u001b[1;33m-\u001b[0m\u001b[0mstart\u001b[0m\u001b[1;33m)\u001b[0m\u001b[1;33m)\u001b[0m\u001b[1;33m\u001b[0m\u001b[0m\n\u001b[1;32m----> 8\u001b[1;33m \u001b[0mpred\u001b[0m \u001b[1;33m=\u001b[0m \u001b[0mcat_diff\u001b[0m\u001b[1;33m.\u001b[0m\u001b[0mpredict\u001b[0m\u001b[1;33m(\u001b[0m\u001b[0mtest\u001b[0m\u001b[1;33m.\u001b[0m\u001b[0mvalues\u001b[0m\u001b[1;33m)\u001b[0m\u001b[1;33m\u001b[0m\u001b[0m\n\u001b[0m\u001b[0;32m      9\u001b[0m \u001b[0merror\u001b[0m\u001b[1;33m(\u001b[0m\u001b[0mpred\u001b[0m\u001b[1;33m,\u001b[0m \u001b[0mtest_pred\u001b[0m\u001b[1;33m[\u001b[0m\u001b[1;36m0\u001b[0m\u001b[1;33m]\u001b[0m\u001b[1;33m)\u001b[0m\u001b[1;33m\u001b[0m\u001b[0m\n",
      "\u001b[1;31mAttributeError\u001b[0m: 'list' object has no attribute 'values'"
     ]
    }
   ],
   "source": [
    "cat_features = [1,2,3,4]\n",
    "start = timer()\n",
    "cat_diff = CatBoostRegressor(iterations = 3000, l2_leaf_reg = 2, depth = 2, \n",
    "                           one_hot_max_size=2, rsm = 1, thread_count = 4, learning_rate = 0.1, metric_period = 50)\n",
    "cat_diff.fit(train[0].values, train_pred[0].values, cat_features = cat_features, early_stopping_rounds=200, \n",
    "             eval_set=(test[0].values, test_pred[0].values)) \n",
    "print('total time: %.5f' %(timer()-start))\n"
   ]
  },
  {
   "cell_type": "code",
   "execution_count": 107,
   "metadata": {},
   "outputs": [
    {
     "data": {
      "text/plain": [
       "4.2377820776374175"
      ]
     },
     "execution_count": 107,
     "metadata": {},
     "output_type": "execute_result"
    }
   ],
   "source": [
    "pred = cat_diff.predict(test[0].values)\n",
    "error(pred, test_pred[0])"
   ]
  },
  {
   "cell_type": "markdown",
   "metadata": {},
   "source": [
    "#### Since, catoost takes almost double the time, let's stick to rf"
   ]
  },
  {
   "cell_type": "markdown",
   "metadata": {},
   "source": [
    "### Adding 2 month differences"
   ]
  },
  {
   "cell_type": "code",
   "execution_count": 112,
   "metadata": {},
   "outputs": [],
   "source": [
    "by_month_diff = add_diff(2)"
   ]
  },
  {
   "cell_type": "code",
   "execution_count": 115,
   "metadata": {},
   "outputs": [
    {
     "name": "stdout",
     "output_type": "stream",
     "text": [
      "month 28 - error 2.83720\n",
      "month 29 - error 1.29068\n",
      "month 30 - error 0.89308\n",
      "month 31 - error 1.04541\n",
      "month 32 - error 1.42188\n",
      "mean error - 1.49765\n"
     ]
    }
   ],
   "source": [
    "[train,test,train_pred,test_pred] = create_cv_sets(val_months,by_month_diff)\n",
    "rf_prev_diff2 = RandomForestRegressor(n_estimators = 50, n_jobs = -1, random_state = 24)\n",
    "prev_err_diff2 = []\n",
    "for i in range(len(train)):\n",
    "    rf_prev_diff2.fit(train[i], train_pred[i])\n",
    "    prev_err_diff2.append(error(rf_prev_diff2.predict(test[i]), test_pred[i]))\n",
    "    print('month %d - error %.5f' %(val_months[i], prev_err_diff2[i]))\n",
    "print('mean error - %.5f' %(np.mean(prev_err_diff2)))"
   ]
  },
  {
   "cell_type": "code",
   "execution_count": 116,
   "metadata": {},
   "outputs": [],
   "source": [
    "[train,test,train_pred,test_pred] = create_cv_sets([33],by_month_diff)"
   ]
  },
  {
   "cell_type": "code",
   "execution_count": 117,
   "metadata": {},
   "outputs": [
    {
     "name": "stdout",
     "output_type": "stream",
     "text": [
      "total time: 198.34587\n"
     ]
    },
    {
     "data": {
      "text/plain": [
       "4.944233412506764"
      ]
     },
     "execution_count": 117,
     "metadata": {},
     "output_type": "execute_result"
    }
   ],
   "source": [
    "start = timer()\n",
    "rf_prev_diff2 = RandomForestRegressor(n_estimators = 50, n_jobs = -1, random_state = 24)\n",
    "rf_prev_diff2.fit(train[0], train_pred[0])\n",
    "print('total time: %.5f' %(timer()-start))\n",
    "error(rf_prev_diff2.predict(test[0]), test_pred[0])"
   ]
  },
  {
   "cell_type": "markdown",
   "metadata": {},
   "source": [
    "### Adding 3 month differences"
   ]
  },
  {
   "cell_type": "code",
   "execution_count": 118,
   "metadata": {},
   "outputs": [],
   "source": [
    "by_month_diff = add_diff(3)"
   ]
  },
  {
   "cell_type": "code",
   "execution_count": 119,
   "metadata": {},
   "outputs": [
    {
     "name": "stdout",
     "output_type": "stream",
     "text": [
      "month 28 - error 2.84033\n",
      "month 29 - error 1.32877\n",
      "month 30 - error 0.88898\n",
      "month 31 - error 1.04066\n",
      "month 32 - error 1.42330\n",
      "mean error - 1.50441\n"
     ]
    }
   ],
   "source": [
    "[train,test,train_pred,test_pred] = create_cv_sets(val_months,by_month_diff)\n",
    "rf_prev_diff3 = RandomForestRegressor(n_estimators = 50, n_jobs = -1, random_state = 24)\n",
    "prev_err_diff3 = []\n",
    "for i in range(len(train)):\n",
    "    rf_prev_diff3.fit(train[i], train_pred[i])\n",
    "    prev_err_diff3.append(error(rf_prev_diff3.predict(test[i]), test_pred[i]))\n",
    "    print('month %d - error %.5f' %(val_months[i], prev_err_diff3[i]))\n",
    "print('mean error - %.5f' %(np.mean(prev_err_diff3)))"
   ]
  },
  {
   "cell_type": "code",
   "execution_count": 120,
   "metadata": {},
   "outputs": [],
   "source": [
    "[train,test,train_pred,test_pred] = create_cv_sets([33],by_month_diff)"
   ]
  },
  {
   "cell_type": "code",
   "execution_count": 121,
   "metadata": {},
   "outputs": [
    {
     "name": "stdout",
     "output_type": "stream",
     "text": [
      "total time: 209.83999\n"
     ]
    },
    {
     "data": {
      "text/plain": [
       "5.107486928841944"
      ]
     },
     "execution_count": 121,
     "metadata": {},
     "output_type": "execute_result"
    }
   ],
   "source": [
    "start = timer()\n",
    "rf_prev_diff3 = RandomForestRegressor(n_estimators = 50, n_jobs = -1, random_state = 24)\n",
    "rf_prev_diff3.fit(train[0], train_pred[0])\n",
    "print('total time: %.5f' %(timer()-start))\n",
    "error(rf_prev_diff3.predict(test[0]), test_pred[0])"
   ]
  },
  {
   "cell_type": "code",
   "execution_count": 129,
   "metadata": {},
   "outputs": [
    {
     "data": {
      "text/plain": [
       "<matplotlib.axes._subplots.AxesSubplot at 0x1de81bdfa58>"
      ]
     },
     "execution_count": 129,
     "metadata": {},
     "output_type": "execute_result"
    },
    {
     "data": {
      "image/png": "[encoded data removed]",
      "text/plain": [
       "<Figure size 432x288 with 1 Axes>"
      ]
     },
     "metadata": {},
     "output_type": "display_data"
    }
   ],
   "source": [
    "pd.DataFrame(index =  train[0].columns.tolist(), \n",
    "              data = {'imp':rf_prev_diff3.feature_importances_}).sort_values('imp', ascending = False).plot(kind = 'bar')"
   ]
  },
  {
   "cell_type": "markdown",
   "metadata": {},
   "source": [
    "### Adding 4 month differences"
   ]
  },
  {
   "cell_type": "code",
   "execution_count": 130,
   "metadata": {},
   "outputs": [],
   "source": [
    "by_month_diff = add_diff(4)"
   ]
  },
  {
   "cell_type": "code",
   "execution_count": 131,
   "metadata": {},
   "outputs": [
    {
     "name": "stdout",
     "output_type": "stream",
     "text": [
      "month 28 - error 2.84788\n",
      "month 29 - error 1.31015\n",
      "month 30 - error 0.89730\n",
      "month 31 - error 1.04485\n",
      "month 32 - error 1.42333\n",
      "mean error - 1.50470\n"
     ]
    }
   ],
   "source": [
    "[train,test,train_pred,test_pred] = create_cv_sets(val_months,by_month_diff)\n",
    "rf_prev_diff4 = RandomForestRegressor(n_estimators = 50, n_jobs = -1, random_state = 24)\n",
    "prev_err_diff4 = []\n",
    "for i in range(len(train)):\n",
    "    rf_prev_diff4.fit(train[i], train_pred[i])\n",
    "    prev_err_diff4.append(error(rf_prev_diff4.predict(test[i]), test_pred[i]))\n",
    "    print('month %d - error %.5f' %(val_months[i], prev_err_diff4[i]))\n",
    "print('mean error - %.5f' %(np.mean(prev_err_diff4)))"
   ]
  },
  {
   "cell_type": "code",
   "execution_count": 132,
   "metadata": {},
   "outputs": [],
   "source": [
    "[train,test,train_pred,test_pred] = create_cv_sets([33],by_month_diff)"
   ]
  },
  {
   "cell_type": "code",
   "execution_count": 133,
   "metadata": {},
   "outputs": [
    {
     "name": "stdout",
     "output_type": "stream",
     "text": [
      "total time: 224.15928\n"
     ]
    },
    {
     "data": {
      "text/plain": [
       "4.956354634066936"
      ]
     },
     "execution_count": 133,
     "metadata": {},
     "output_type": "execute_result"
    }
   ],
   "source": [
    "start = timer()\n",
    "rf_prev_diff4 = RandomForestRegressor(n_estimators = 50, n_jobs = -1, random_state = 24)\n",
    "rf_prev_diff4.fit(train[0], train_pred[0])\n",
    "print('total time: %.5f' %(timer()-start))\n",
    "error(rf_prev_diff4.predict(test[0]), test_pred[0])"
   ]
  },
  {
   "cell_type": "code",
   "execution_count": 134,
   "metadata": {},
   "outputs": [
    {
     "data": {
      "text/plain": [
       "<matplotlib.axes._subplots.AxesSubplot at 0x1de965c1c18>"
      ]
     },
     "execution_count": 134,
     "metadata": {},
     "output_type": "execute_result"
    },
    {
     "data": {
      "image/png": "[encoded data removed]",
      "text/plain": [
       "<Figure size 432x288 with 1 Axes>"
      ]
     },
     "metadata": {},
     "output_type": "display_data"
    }
   ],
   "source": [
    "pd.DataFrame(index =  train[0].columns.tolist(), \n",
    "              data = {'imp':rf_prev_diff4.feature_importances_}).sort_values('imp', ascending = False).plot(kind = 'bar')"
   ]
  },
  {
   "cell_type": "markdown",
   "metadata": {},
   "source": [
    "#### ** Keep all the differences"
   ]
  },
  {
   "cell_type": "markdown",
   "metadata": {},
   "source": [
    "### Add frequencies"
   ]
  },
  {
   "cell_type": "markdown",
   "metadata": {},
   "source": [
    "#### Item frequencies"
   ]
  },
  {
   "cell_type": "code",
   "execution_count": 27,
   "metadata": {
    "scrolled": true
   },
   "outputs": [],
   "source": [
    "full_set = pd.concat([by_month.drop('item_cnt_day', axis = 1), sales_test_m])"
   ]
  },
  {
   "cell_type": "code",
   "execution_count": 28,
   "metadata": {},
   "outputs": [],
   "source": [
    "item_freq = full_set.groupby('item_id').size().rename('item_freq')"
   ]
  },
  {
   "cell_type": "code",
   "execution_count": 29,
   "metadata": {},
   "outputs": [],
   "source": [
    "by_month_diff = add_diff(4)\n",
    "by_month_item = by_month_diff.copy()\n",
    "by_month_item = by_month_item.join(item_freq, on = 'item_id')"
   ]
  },
  {
   "cell_type": "code",
   "execution_count": 151,
   "metadata": {},
   "outputs": [
    {
     "name": "stdout",
     "output_type": "stream",
     "text": [
      "month 28 - error 2.84063\n",
      "month 29 - error 1.37937\n",
      "month 30 - error 0.88843\n",
      "month 31 - error 1.05610\n",
      "month 32 - error 1.34345\n",
      "mean error - 1.50160\n"
     ]
    }
   ],
   "source": [
    "[train,test,train_pred,test_pred] = create_cv_sets(val_months,by_month_item)\n",
    "rf_item = RandomForestRegressor(n_estimators = 50, n_jobs = -1, random_state = 24)\n",
    "item_err = []\n",
    "for i in range(len(train)):\n",
    "    rf_item.fit(train[i], train_pred[i])\n",
    "    item_err.append(error(rf_item.predict(test[i]), test_pred[i]))\n",
    "    print('month %d - error %.5f' %(val_months[i], item_err[i]))\n",
    "print('mean error - %.5f' %(np.mean(item_err)))"
   ]
  },
  {
   "cell_type": "code",
   "execution_count": 152,
   "metadata": {},
   "outputs": [],
   "source": [
    "[train,test,train_pred,test_pred] = create_cv_sets([33],by_month_item)"
   ]
  },
  {
   "cell_type": "code",
   "execution_count": 153,
   "metadata": {},
   "outputs": [
    {
     "name": "stdout",
     "output_type": "stream",
     "text": [
      "total time: 257.62702\n"
     ]
    },
    {
     "data": {
      "text/plain": [
       "4.579282446776744"
      ]
     },
     "execution_count": 153,
     "metadata": {},
     "output_type": "execute_result"
    }
   ],
   "source": [
    "start = timer()\n",
    "rf_item = RandomForestRegressor(n_estimators = 50, n_jobs = -1, random_state = 24)\n",
    "rf_item.fit(train[0], train_pred[0])\n",
    "print('total time: %.5f' %(timer()-start))\n",
    "error(rf_item.predict(test[0]), test_pred[0])"
   ]
  },
  {
   "cell_type": "code",
   "execution_count": 154,
   "metadata": {},
   "outputs": [
    {
     "data": {
      "text/plain": [
       "<matplotlib.axes._subplots.AxesSubplot at 0x1de965d7d30>"
      ]
     },
     "execution_count": 154,
     "metadata": {},
     "output_type": "execute_result"
    },
    {
     "data": {
      "image/png": "[encoded data removed]",
      "text/plain": [
       "<Figure size 432x288 with 1 Axes>"
      ]
     },
     "metadata": {},
     "output_type": "display_data"
    }
   ],
   "source": [
    "pd.DataFrame(index =  train[0].columns.tolist(), \n",
    "              data = {'imp':rf_item.feature_importances_}).sort_values('imp', ascending = False).plot(kind = 'bar')"
   ]
  },
  {
   "cell_type": "markdown",
   "metadata": {},
   "source": [
    "#### Item and Shop frequencies"
   ]
  },
  {
   "cell_type": "code",
   "execution_count": 30,
   "metadata": {},
   "outputs": [],
   "source": [
    "shop_freq = full_set.groupby('shop_id').size().rename('shop_freq')"
   ]
  },
  {
   "cell_type": "code",
   "execution_count": 31,
   "metadata": {},
   "outputs": [],
   "source": [
    "by_month_item_shop = by_month_item.copy()\n",
    "by_month_item_shop = by_month_item.join(shop_freq, on = 'shop_id')"
   ]
  },
  {
   "cell_type": "code",
   "execution_count": 161,
   "metadata": {},
   "outputs": [
    {
     "name": "stdout",
     "output_type": "stream",
     "text": [
      "month 28 - error 2.81749\n",
      "month 29 - error 1.34576\n",
      "month 30 - error 0.91892\n",
      "month 31 - error 1.10659\n",
      "month 32 - error 1.33207\n",
      "mean error - 1.50417\n"
     ]
    }
   ],
   "source": [
    "[train,test,train_pred,test_pred] = create_cv_sets(val_months,by_month_item_shop)\n",
    "rf_item_shop = RandomForestRegressor(n_estimators = 50, n_jobs = -1, random_state = 24)\n",
    "item_shop_err = []\n",
    "for i in range(len(train)):\n",
    "    rf_item_shop.fit(train[i], train_pred[i])\n",
    "    item_shop_err.append(error(rf_item_shop.predict(test[i]), test_pred[i]))\n",
    "    print('month %d - error %.5f' %(val_months[i], item_shop_err[i]))\n",
    "print('mean error - %.5f' %(np.mean(item_shop_err)))"
   ]
  },
  {
   "cell_type": "code",
   "execution_count": 162,
   "metadata": {},
   "outputs": [],
   "source": [
    "[train,test,train_pred,test_pred] = create_cv_sets([33],by_month_item_shop)"
   ]
  },
  {
   "cell_type": "code",
   "execution_count": 163,
   "metadata": {},
   "outputs": [
    {
     "name": "stdout",
     "output_type": "stream",
     "text": [
      "total time: 285.20895\n"
     ]
    },
    {
     "data": {
      "text/plain": [
       "4.522403644378626"
      ]
     },
     "execution_count": 163,
     "metadata": {},
     "output_type": "execute_result"
    }
   ],
   "source": [
    "start = timer()\n",
    "rf_item_shop = RandomForestRegressor(n_estimators = 50, n_jobs = -1, random_state = 24)\n",
    "rf_item_shop.fit(train[0], train_pred[0])\n",
    "print('total time: %.5f' %(timer()-start))\n",
    "error(rf_item_shop.predict(test[0]), test_pred[0])"
   ]
  },
  {
   "cell_type": "code",
   "execution_count": 164,
   "metadata": {},
   "outputs": [
    {
     "data": {
      "text/plain": [
       "<matplotlib.axes._subplots.AxesSubplot at 0x1de81fb4630>"
      ]
     },
     "execution_count": 164,
     "metadata": {},
     "output_type": "execute_result"
    },
    {
     "data": {
      "image/png": "[encoded data removed]",
      "text/plain": [
       "<Figure size 432x288 with 1 Axes>"
      ]
     },
     "metadata": {},
     "output_type": "display_data"
    }
   ],
   "source": [
    "pd.DataFrame(index =  train[0].columns.tolist(), \n",
    "              data = {'imp':rf_item_shop.feature_importances_}).sort_values('imp', ascending = False).plot(kind = 'bar')"
   ]
  },
  {
   "cell_type": "markdown",
   "metadata": {},
   "source": [
    "#### Item, Shop and ItemCat_shop frequencies"
   ]
  },
  {
   "cell_type": "code",
   "execution_count": 32,
   "metadata": {},
   "outputs": [],
   "source": [
    "itcat_freq = full_set.groupby(['shop_id','item_category_id']).size().rename('itcat_shop_freq')"
   ]
  },
  {
   "cell_type": "code",
   "execution_count": 35,
   "metadata": {},
   "outputs": [],
   "source": [
    "by_month_freq = by_month_item_shop.copy()\n",
    "by_month_freq = by_month_freq.join(itcat_freq, on = ['shop_id', 'item_category_id'])"
   ]
  },
  {
   "cell_type": "code",
   "execution_count": 37,
   "metadata": {},
   "outputs": [
    {
     "name": "stdout",
     "output_type": "stream",
     "text": [
      "month 28 - error 2.81858\n",
      "month 29 - error 1.27240\n",
      "month 30 - error 0.88377\n",
      "month 31 - error 1.13091\n",
      "month 32 - error 1.34225\n",
      "mean error - 1.48958\n"
     ]
    }
   ],
   "source": [
    "[train,test,train_pred,test_pred] = create_cv_sets(val_months,by_month_freq)\n",
    "rf_freq = RandomForestRegressor(n_estimators = 50, n_jobs = -1, random_state = 24)\n",
    "freq_err = []\n",
    "for i in range(len(train)):\n",
    "    rf_freq.fit(train[i], train_pred[i])\n",
    "    freq_err.append(error(rf_freq.predict(test[i]), test_pred[i]))\n",
    "    print('month %d - error %.5f' %(val_months[i], freq_err[i]))\n",
    "print('mean error - %.5f' %(np.mean(freq_err)))"
   ]
  },
  {
   "cell_type": "code",
   "execution_count": 38,
   "metadata": {},
   "outputs": [],
   "source": [
    "[train,test,train_pred,test_pred] = create_cv_sets([33],by_month_freq)"
   ]
  },
  {
   "cell_type": "code",
   "execution_count": 39,
   "metadata": {},
   "outputs": [
    {
     "name": "stdout",
     "output_type": "stream",
     "text": [
      "total time: 322.82246\n"
     ]
    },
    {
     "data": {
      "text/plain": [
       "4.532187973204898"
      ]
     },
     "execution_count": 39,
     "metadata": {},
     "output_type": "execute_result"
    }
   ],
   "source": [
    "start = timer()\n",
    "rf_freq = RandomForestRegressor(n_estimators = 50, n_jobs = -1, random_state = 24)\n",
    "rf_freq.fit(train[0], train_pred[0])\n",
    "print('total time: %.5f' %(timer()-start))\n",
    "error(rf_freq.predict(test[0]), test_pred[0])"
   ]
  },
  {
   "cell_type": "code",
   "execution_count": 40,
   "metadata": {},
   "outputs": [
    {
     "data": {
      "text/plain": [
       "<matplotlib.axes._subplots.AxesSubplot at 0x1468b5eb898>"
      ]
     },
     "execution_count": 40,
     "metadata": {},
     "output_type": "execute_result"
    },
    {
     "data": {
      "image/png": "[encoded data removed]",
      "text/plain": [
       "<Figure size 432x288 with 1 Axes>"
      ]
     },
     "metadata": {},
     "output_type": "display_data"
    }
   ],
   "source": [
    "pd.DataFrame(index =  train[0].columns.tolist(), \n",
    "              data = {'imp':rf_freq.feature_importances_}).sort_values('imp', ascending = False).plot(kind = 'bar')"
   ]
  },
  {
   "cell_type": "markdown",
   "metadata": {},
   "source": [
    "### Adding item category wise sum, max, min, mean and standard deviations"
   ]
  },
  {
   "cell_type": "code",
   "execution_count": 53,
   "metadata": {},
   "outputs": [],
   "source": [
    "date_itcat = by_month.groupby(['date_block_num', 'item_category_id']).agg({'item_cnt_day': ['max', 'mean', 'min', 'sum', 'std']}).fillna(0)\n",
    "date_itcat.columns = ['cat_max', 'cat_mean', 'cat_min', 'cat_sum', 'cat_std']"
   ]
  },
  {
   "cell_type": "code",
   "execution_count": 60,
   "metadata": {},
   "outputs": [],
   "source": [
    "by_month_catstat = by_month_freq.copy()\n",
    "by_month_catstat = by_month_freq.join(date_itcat, on = ['date_block_num', 'item_category_id'])"
   ]
  },
  {
   "cell_type": "code",
   "execution_count": 61,
   "metadata": {},
   "outputs": [
    {
     "name": "stdout",
     "output_type": "stream",
     "text": [
      "month 28 - error 2.58829\n",
      "month 29 - error 0.95729\n",
      "month 30 - error 0.77888\n",
      "month 31 - error 0.93449\n",
      "month 32 - error 1.27518\n",
      "mean error - 1.30683\n"
     ]
    }
   ],
   "source": [
    "[train,test,train_pred,test_pred] = create_cv_sets(val_months,by_month_catstat)\n",
    "rf_catstat = RandomForestRegressor(n_estimators = 50, n_jobs = -1, random_state = 24)\n",
    "catstat_err = []\n",
    "for i in range(len(train)):\n",
    "    rf_catstat.fit(train[i], train_pred[i])\n",
    "    catstat_err.append(error(rf_catstat.predict(test[i]), test_pred[i]))\n",
    "    print('month %d - error %.5f' %(val_months[i], catstat_err[i]))\n",
    "print('mean error - %.5f' %(np.mean(catstat_err)))"
   ]
  },
  {
   "cell_type": "code",
   "execution_count": 83,
   "metadata": {},
   "outputs": [],
   "source": [
    "[train,test,train_pred,test_pred] = create_cv_sets([33],by_month_catstat)"
   ]
  },
  {
   "cell_type": "code",
   "execution_count": 63,
   "metadata": {},
   "outputs": [
    {
     "name": "stdout",
     "output_type": "stream",
     "text": [
      "total time: 397.79777\n"
     ]
    },
    {
     "data": {
      "text/plain": [
       "4.357898212984545"
      ]
     },
     "execution_count": 63,
     "metadata": {},
     "output_type": "execute_result"
    }
   ],
   "source": [
    "start = timer()\n",
    "rf_catstat = RandomForestRegressor(n_estimators = 50, n_jobs = -1, random_state = 24)\n",
    "rf_catstat.fit(train[0], train_pred[0])\n",
    "print('total time: %.5f' %(timer()-start))\n",
    "error(rf_catstat.predict(test[0]), test_pred[0])"
   ]
  },
  {
   "cell_type": "code",
   "execution_count": 84,
   "metadata": {},
   "outputs": [
    {
     "data": {
      "text/plain": [
       "<matplotlib.axes._subplots.AxesSubplot at 0x146842996d8>"
      ]
     },
     "execution_count": 84,
     "metadata": {},
     "output_type": "execute_result"
    },
    {
     "data": {
      "image/png": "[encoded data removed]",
      "text/plain": [
       "<Figure size 1080x360 with 1 Axes>"
      ]
     },
     "metadata": {},
     "output_type": "display_data"
    }
   ],
   "source": [
    "pd.DataFrame(index =  train[0].columns.tolist(), \n",
    "              data = {'imp':rf_catstat.feature_importances_}).sort_values('imp', ascending = False).plot(kind = 'bar')"
   ]
  },
  {
   "cell_type": "markdown",
   "metadata": {},
   "source": [
    "### Adding shop statistics"
   ]
  },
  {
   "cell_type": "code",
   "execution_count": 69,
   "metadata": {},
   "outputs": [],
   "source": [
    "date_shop = by_month.groupby(['date_block_num', 'shop_id']).agg({'item_cnt_day': ['max', 'mean', 'min', 'sum', 'std']}).fillna(0)\n",
    "date_shop.columns = ['shop_max', 'shop_mean', 'shop_min', 'shop_sum', 'shop_std']"
   ]
  },
  {
   "cell_type": "code",
   "execution_count": 70,
   "metadata": {},
   "outputs": [],
   "source": [
    "by_month_catshopstat = by_month_catstat.copy()\n",
    "by_month_catshopstat = by_month_catstat.join(date_shop, on = ['date_block_num', 'shop_id'])"
   ]
  },
  {
   "cell_type": "code",
   "execution_count": 76,
   "metadata": {},
   "outputs": [
    {
     "name": "stdout",
     "output_type": "stream",
     "text": [
      "month 28 - error 2.58518\n",
      "month 29 - error 0.87252\n",
      "month 30 - error 0.64479\n",
      "month 31 - error 0.78824\n",
      "month 32 - error 1.27437\n",
      "mean error - 1.23302\n"
     ]
    }
   ],
   "source": [
    "[train,test,train_pred,test_pred] = create_cv_sets(val_months,by_month_catshopstat)\n",
    "rf_catshopstat = RandomForestRegressor(n_estimators = 50, n_jobs = -1, random_state = 24)\n",
    "catshopstat_err = []\n",
    "for i in range(len(train)):\n",
    "    rf_catshopstat.fit(train[i], train_pred[i])\n",
    "    catshopstat_err.append(error(rf_catshopstat.predict(test[i]), test_pred[i]))\n",
    "    print('month %d - error %.5f' %(val_months[i], catshopstat_err[i]))\n",
    "print('mean error - %.5f' %(np.mean(catshopstat_err)))"
   ]
  },
  {
   "cell_type": "code",
   "execution_count": 77,
   "metadata": {},
   "outputs": [],
   "source": [
    "[train,test,train_pred,test_pred] = create_cv_sets([33],by_month_catshopstat)"
   ]
  },
  {
   "cell_type": "code",
   "execution_count": 78,
   "metadata": {},
   "outputs": [
    {
     "name": "stdout",
     "output_type": "stream",
     "text": [
      "total time: 525.07848\n"
     ]
    },
    {
     "data": {
      "text/plain": [
       "4.577598893756367"
      ]
     },
     "execution_count": 78,
     "metadata": {},
     "output_type": "execute_result"
    }
   ],
   "source": [
    "start = timer()\n",
    "rf_catshopstat = RandomForestRegressor(n_estimators = 50, n_jobs = -1, random_state = 24)\n",
    "rf_catshopstat.fit(train[0], train_pred[0])\n",
    "print('total time: %.5f' %(timer()-start))\n",
    "error(rf_catshopstat.predict(test[0]), test_pred[0])"
   ]
  },
  {
   "cell_type": "code",
   "execution_count": 81,
   "metadata": {},
   "outputs": [
    {
     "data": {
      "text/plain": [
       "<matplotlib.axes._subplots.AxesSubplot at 0x146842860f0>"
      ]
     },
     "execution_count": 81,
     "metadata": {},
     "output_type": "execute_result"
    },
    {
     "data": {
      "image/png": "[encoded data removed]",
      "text/plain": [
       "<Figure size 1080x360 with 1 Axes>"
      ]
     },
     "metadata": {},
     "output_type": "display_data"
    }
   ],
   "source": [
    "pd.DataFrame(index =  train[0].columns.tolist(), \n",
    "              data = {'imp':rf_catshopstat.feature_importances_}).sort_values('imp', ascending = False).plot(kind = 'bar')"
   ]
  },
  {
   "cell_type": "markdown",
   "metadata": {},
   "source": [
    "### Adding item statistics"
   ]
  },
  {
   "cell_type": "code",
   "execution_count": 87,
   "metadata": {},
   "outputs": [],
   "source": [
    "date_item = by_month.groupby(['date_block_num','item_id']).agg({'item_cnt_day': ['max', 'mean', 'min', 'sum', 'std']}).fillna(0)\n",
    "date_item.columns = ['item_max', 'item_mean', 'item_min', 'item_sum', 'item_std']"
   ]
  },
  {
   "cell_type": "code",
   "execution_count": 88,
   "metadata": {},
   "outputs": [],
   "source": [
    "by_month_catshopitemstat = by_month_catshopstat.copy()\n",
    "by_month_catshopitemstat = by_month_catshopstat.join(date_item, on = ['date_block_num', 'item_id'])"
   ]
  },
  {
   "cell_type": "code",
   "execution_count": 90,
   "metadata": {},
   "outputs": [
    {
     "name": "stdout",
     "output_type": "stream",
     "text": [
      "month 28 - error 1.09465\n",
      "month 29 - error 0.59951\n",
      "month 30 - error 0.55542\n",
      "month 31 - error 0.57921\n",
      "month 32 - error 0.73286\n",
      "mean error - 0.71233\n"
     ]
    }
   ],
   "source": [
    "[train,test,train_pred,test_pred] = create_cv_sets(val_months,by_month_catshopitemstat)\n",
    "rf_catshopitemstat = RandomForestRegressor(n_estimators = 50, n_jobs = -1, random_state = 24)\n",
    "catshopitemstat_err = []\n",
    "for i in range(len(train)):\n",
    "    rf_catshopitemstat.fit(train[i], train_pred[i])\n",
    "    catshopitemstat_err.append(error(rf_catshopitemstat.predict(test[i]), test_pred[i]))\n",
    "    print('month %d - error %.5f' %(val_months[i], catshopitemstat_err[i]))\n",
    "print('mean error - %.5f' %(np.mean(catshopitemstat_err)))"
   ]
  },
  {
   "cell_type": "code",
   "execution_count": 91,
   "metadata": {},
   "outputs": [],
   "source": [
    "[train,test,train_pred,test_pred] = create_cv_sets([33],by_month_catshopitemstat)"
   ]
  },
  {
   "cell_type": "code",
   "execution_count": 92,
   "metadata": {},
   "outputs": [
    {
     "name": "stdout",
     "output_type": "stream",
     "text": [
      "total time: 606.36634\n"
     ]
    },
    {
     "data": {
      "text/plain": [
       "2.0256516586990694"
      ]
     },
     "execution_count": 92,
     "metadata": {},
     "output_type": "execute_result"
    }
   ],
   "source": [
    "start = timer()\n",
    "rf_catshopitemstat = RandomForestRegressor(n_estimators = 50, n_jobs = -1, random_state = 24)\n",
    "rf_catshopitemstat.fit(train[0], train_pred[0])\n",
    "print('total time: %.5f' %(timer()-start))\n",
    "error(rf_catshopitemstat.predict(test[0]), test_pred[0])"
   ]
  },
  {
   "cell_type": "code",
   "execution_count": 93,
   "metadata": {},
   "outputs": [
    {
     "data": {
      "text/plain": [
       "<matplotlib.axes._subplots.AxesSubplot at 0x14684517470>"
      ]
     },
     "execution_count": 93,
     "metadata": {},
     "output_type": "execute_result"
    },
    {
     "data": {
      "image/png": "[encoded data removed]",
      "text/plain": [
       "<Figure size 1080x360 with 1 Axes>"
      ]
     },
     "metadata": {},
     "output_type": "display_data"
    }
   ],
   "source": [
    "pd.DataFrame(index =  train[0].columns.tolist(), \n",
    "              data = {'imp':rf_catshopitemstat.feature_importances_}).sort_values('imp', ascending = False).plot(kind = 'bar')"
   ]
  },
  {
   "cell_type": "markdown",
   "metadata": {},
   "source": [
    "#### Submitting "
   ]
  },
  {
   "cell_type": "code",
   "execution_count": 94,
   "metadata": {},
   "outputs": [],
   "source": [
    "sales_test_prev = add_prev_month(5, if_test=True)\n",
    "sales_test_prev = add_diff(4, data=sales_test_prev)\n",
    "sales_test_prev = sales_test_prev.join(item_freq, on = 'item_id')\n",
    "sales_test_prev = sales_test_prev.join(shop_freq, on = 'shop_id')\n",
    "sales_test_prev = sales_test_prev.join(itcat_freq, on  = ['shop_id', 'item_category_id'])\n",
    "sales_test_prev = sales_test_prev.join(date_itcat, on = ['date_block_num', 'item_category_id'])\n",
    "sales_test_prev = sales_test_prev.join(date_shop, on = ['date_block_num', 'shop_id'])\n",
    "sales_test_prev = sales_test_prev.join(date_item, on = ['date_block_num', 'item_id'])\n",
    "sales_test_prev.fillna(0, inplace = True)"
   ]
  },
  {
   "cell_type": "code",
   "execution_count": 113,
   "metadata": {},
   "outputs": [
    {
     "data": {
      "text/plain": [
       "(214200, 32)"
      ]
     },
     "execution_count": 113,
     "metadata": {},
     "output_type": "execute_result"
    }
   ],
   "source": [
    "sales_test_prev.shape"
   ]
  },
  {
   "cell_type": "code",
   "execution_count": 114,
   "metadata": {},
   "outputs": [],
   "source": [
    "pred = rf_catshopitemstat.predict(sales_test_prev)"
   ]
  },
  {
   "cell_type": "code",
   "execution_count": 115,
   "metadata": {},
   "outputs": [],
   "source": [
    "create_submission_file(pred, 'rf_catshopitemstat')"
   ]
  },
  {
   "cell_type": "markdown",
   "metadata": {},
   "source": [
    "### Adding ewms"
   ]
  },
  {
   "cell_type": "code",
   "execution_count": 118,
   "metadata": {},
   "outputs": [],
   "source": [
    "sales_pivot = by_month.pivot_table(values = 'item_cnt_day', columns = 'date_block_num', index = ['shop_id', 'item_id'],\n",
    "                                  aggfunc = 'sum', fill_value = 0)"
   ]
  },
  {
   "cell_type": "code",
   "execution_count": 120,
   "metadata": {},
   "outputs": [],
   "source": [
    "ewms26 = sales_pivot.ewm(span = 26, axis = 1).mean()\n",
    "ewms12 = sales_pivot.ewm(span = 12, axis = 1).mean()\n",
    "macd = ewms26-ewms12\n",
    "sig = macd.ewm(span = 9, axis = 1).mean()"
   ]
  },
  {
   "cell_type": "code",
   "execution_count": 188,
   "metadata": {},
   "outputs": [],
   "source": [
    "sig_list = []\n",
    "macd_list = []\n",
    "for col in sig.columns.tolist():\n",
    "    sig_list.append(full_set.loc[full_set['date_block_num']==col+1,\n",
    "                                 :].join(sig[col], on = ['shop_id', 'item_id']).loc[:,['date_block_num','shop_id','item_id', col]].rename({'col': 'sig_'+str(col)}))\n",
    "    macd_list.append(full_set.loc[full_set['date_block_num']==col+1,\n",
    "                                 :].join(macd[col], on = ['shop_id', 'item_id']).loc[:,['date_block_num','shop_id','item_id', col]].rename({'col': 'macd_'+str(col)}))"
   ]
  },
  {
   "cell_type": "code",
   "execution_count": 192,
   "metadata": {},
   "outputs": [],
   "source": [
    "sig_df = pd.DataFrame(data = np.vstack(sig_list), columns = ['date_block_num', 'shop_id','item_id', 'sig_prev'])\n",
    "macd_df = pd.DataFrame(data = np.vstack(macd_list), columns = ['date_block_num', 'shop_id','item_id', 'macd_prev'])"
   ]
  },
  {
   "cell_type": "code",
   "execution_count": 198,
   "metadata": {},
   "outputs": [],
   "source": [
    "by_month_ewms = by_month_catshopitemstat.copy()\n",
    "by_month_ewms = by_month_ewms.merge(sig_df, on = ['date_block_num', 'shop_id','item_id'], how = 'left')\n",
    "by_month_ewms = by_month_ewms.merge(macd_df, on = ['date_block_num', 'shop_id','item_id'], how = 'left')\n",
    "by_month_ewms.fillna(0, inplace = True)"
   ]
  },
  {
   "cell_type": "code",
   "execution_count": 204,
   "metadata": {},
   "outputs": [
    {
     "name": "stdout",
     "output_type": "stream",
     "text": [
      "month 28 - error 1.13085\n",
      "month 29 - error 0.61833\n",
      "month 30 - error 0.59923\n",
      "month 31 - error 0.57868\n",
      "month 32 - error 0.72657\n",
      "mean error - 0.73073\n"
     ]
    }
   ],
   "source": [
    "[train,test,train_pred,test_pred] = create_cv_sets(val_months,by_month_ewms)\n",
    "rf_ewms = RandomForestRegressor(n_estimators = 50, n_jobs = -1, random_state = 24)\n",
    "ewms_err = []\n",
    "for i in range(len(train)):\n",
    "    rf_ewms.fit(train[i], train_pred[i])\n",
    "    ewms_err.append(error(rf_ewms.predict(test[i]), test_pred[i]))\n",
    "    print('month %d - error %.5f' %(val_months[i], ewms_err[i]))\n",
    "print('mean error - %.5f' %(np.mean(ewms_err)))"
   ]
  },
  {
   "cell_type": "code",
   "execution_count": 205,
   "metadata": {},
   "outputs": [],
   "source": [
    "[train,test,train_pred,test_pred] = create_cv_sets([33],by_month_ewms)"
   ]
  },
  {
   "cell_type": "code",
   "execution_count": 206,
   "metadata": {},
   "outputs": [
    {
     "name": "stdout",
     "output_type": "stream",
     "text": [
      "total time: 704.85171\n"
     ]
    },
    {
     "data": {
      "text/plain": [
       "2.001454588223481"
      ]
     },
     "execution_count": 206,
     "metadata": {},
     "output_type": "execute_result"
    }
   ],
   "source": [
    "start = timer()\n",
    "rf_ewms = RandomForestRegressor(n_estimators = 50, n_jobs = -1, random_state = 24)\n",
    "rf_ewms.fit(train[0], train_pred[0])\n",
    "print('total time: %.5f' %(timer()-start))\n",
    "error(rf_ewms.predict(test[0]), test_pred[0])"
   ]
  },
  {
   "cell_type": "code",
   "execution_count": 207,
   "metadata": {},
   "outputs": [
    {
     "data": {
      "text/plain": [
       "<matplotlib.axes._subplots.AxesSubplot at 0x167ca060320>"
      ]
     },
     "execution_count": 207,
     "metadata": {},
     "output_type": "execute_result"
    },
    {
     "data": {
      "image/png": "[encoded data removed]",
      "text/plain": [
       "<Figure size 1080x360 with 1 Axes>"
      ]
     },
     "metadata": {},
     "output_type": "display_data"
    }
   ],
   "source": [
    "pd.DataFrame(index =  train[0].columns.tolist(), \n",
    "              data = {'imp':rf_ewms.feature_importances_}).sort_values('imp', ascending = False).plot(kind = 'bar')"
   ]
  },
  {
   "cell_type": "markdown",
   "metadata": {},
   "source": [
    "### Applying CatBoost"
   ]
  },
  {
   "cell_type": "code",
   "execution_count": 232,
   "metadata": {},
   "outputs": [
    {
     "name": "stdout",
     "output_type": "stream",
     "text": [
      "Warning: Overfitting detector is active, thus evaluation metric iscalculated on every iteration. 'metric_period' is ignored for evaluation metric.\n",
      "0:\tlearn: 8.2865410\ttest: 14.6522348\tbest: 14.6522348 (0)\ttotal: 495ms\tremaining: 24m 43s\n",
      "50:\tlearn: 3.8300992\ttest: 7.6992861\tbest: 7.6992852 (49)\ttotal: 17.9s\tremaining: 17m 12s\n",
      "100:\tlearn: 3.4183849\ttest: 6.5975460\tbest: 6.5975460 (100)\ttotal: 35.1s\tremaining: 16m 46s\n",
      "150:\tlearn: 3.2597006\ttest: 6.3848799\tbest: 6.3678611 (136)\ttotal: 51.9s\tremaining: 16m 18s\n",
      "200:\tlearn: 3.1425580\ttest: 6.0187195\tbest: 6.0187195 (200)\ttotal: 1m 8s\tremaining: 15m 52s\n",
      "250:\tlearn: 3.0537661\ttest: 5.8547527\tbest: 5.8547527 (250)\ttotal: 1m 25s\tremaining: 15m 32s\n",
      "300:\tlearn: 2.9919891\ttest: 5.9308969\tbest: 5.8547527 (250)\ttotal: 1m 41s\tremaining: 15m 14s\n",
      "350:\tlearn: 2.9469669\ttest: 5.9554877\tbest: 5.8547527 (250)\ttotal: 1m 58s\tremaining: 14m 55s\n",
      "400:\tlearn: 2.8932218\ttest: 5.8806593\tbest: 5.8546910 (393)\ttotal: 2m 15s\tremaining: 14m 36s\n",
      "450:\tlearn: 2.8438027\ttest: 5.9328417\tbest: 5.8366419 (432)\ttotal: 2m 31s\tremaining: 14m 17s\n",
      "500:\tlearn: 2.8080613\ttest: 5.8926586\tbest: 5.8366419 (432)\ttotal: 2m 47s\tremaining: 13m 57s\n",
      "550:\tlearn: 2.7741985\ttest: 5.8696734\tbest: 5.8366419 (432)\ttotal: 3m 4s\tremaining: 13m 39s\n",
      "600:\tlearn: 2.7357538\ttest: 5.8809621\tbest: 5.8366419 (432)\ttotal: 3m 20s\tremaining: 13m 21s\n",
      "Stopped by overfitting detector  (200 iterations wait)\n",
      "\n",
      "bestTest = 5.836641909\n",
      "bestIteration = 432\n",
      "\n",
      "Shrink model to first 433 iterations.\n",
      "total time: 233.03014\n"
     ]
    }
   ],
   "source": [
    "cat_features = [1,2,3,4]\n",
    "start = timer()\n",
    "cat_ewms = CatBoostRegressor(iterations = 3000, l2_leaf_reg = 2, depth = 2, \n",
    "                           one_hot_max_size=20, rsm = 1, thread_count = 4, learning_rate = 0.1, metric_period = 50)\n",
    "cat_ewms.fit(train[0].values, train_pred[0].values, cat_features = cat_features, early_stopping_rounds=200, \n",
    "             eval_set=(test[0].values, test_pred[0].values)) \n",
    "print('total time: %.5f' %(timer()-start))\n"
   ]
  },
  {
   "cell_type": "code",
   "execution_count": 233,
   "metadata": {},
   "outputs": [],
   "source": [
    "pred = cat_ewms.predict(test[0].values)"
   ]
  },
  {
   "cell_type": "code",
   "execution_count": 234,
   "metadata": {},
   "outputs": [
    {
     "data": {
      "text/plain": [
       "2.1357129913535657"
      ]
     },
     "execution_count": 234,
     "metadata": {},
     "output_type": "execute_result"
    }
   ],
   "source": [
    "error(pred, test_pred[0])"
   ]
  },
  {
   "cell_type": "code",
   "execution_count": 224,
   "metadata": {
    "scrolled": true
   },
   "outputs": [],
   "source": [
    "sales_test_ewms = sales_test_prev.merge(sig_df, on = ['date_block_num', 'shop_id','item_id'], how = 'left')\n",
    "sales_test_ewms = sales_test_ewms.merge(macd_df, on = ['date_block_num', 'shop_id','item_id'], how = 'left')"
   ]
  },
  {
   "cell_type": "code",
   "execution_count": 221,
   "metadata": {},
   "outputs": [],
   "source": [
    "sales_test_ewms.fillna(0, inplace = True)\n",
    "pred_test = cat_ewms.predict(sales_test_ewms.values)"
   ]
  },
  {
   "cell_type": "code",
   "execution_count": 223,
   "metadata": {},
   "outputs": [],
   "source": [
    "create_submission_file(pred_test, 'catboost_ewms')"
   ]
  },
  {
   "cell_type": "code",
   "execution_count": 226,
   "metadata": {},
   "outputs": [],
   "source": [
    "nulls = sales_test_ewms['sig_prev'].isnull()"
   ]
  },
  {
   "cell_type": "code",
   "execution_count": 228,
   "metadata": {},
   "outputs": [],
   "source": [
    "pred_test[nulls] = 0"
   ]
  },
  {
   "cell_type": "code",
   "execution_count": 230,
   "metadata": {},
   "outputs": [],
   "source": [
    "create_submission_file(pred_test, 'catboost_ewms_wonull')"
   ]
  },
  {
   "cell_type": "markdown",
   "metadata": {},
   "source": [
    "### Hyperparameter tuning"
   ]
  },
  {
   "cell_type": "code",
   "execution_count": 237,
   "metadata": {},
   "outputs": [],
   "source": [
    "import hyperopt\n",
    "from hyperopt import hp\n",
    "from hyperopt.pyll.stochastic import sample\n",
    "import seaborn as sns\n",
    "from timeit import default_timer as timer\n",
    "from numpy.random import RandomState\n",
    "from hyperopt import STATUS_OK\n",
    "import csv\n",
    "import ast"
   ]
  },
  {
   "cell_type": "code",
   "execution_count": 255,
   "metadata": {},
   "outputs": [],
   "source": [
    "[train,test,train_pred,test_pred] = create_cv_sets([31,32], by_month_ewms)"
   ]
  },
  {
   "cell_type": "code",
   "execution_count": 256,
   "metadata": {},
   "outputs": [],
   "source": [
    "def objective(params):\n",
    "    global ITERATION\n",
    "    ITERATION +=1\n",
    "    print('ITERATION: %d' %(ITERATION))\n",
    "    model = CatBoostRegressor(iterations = 3000, l2_leaf_reg=params['l2_leaf_reg'], learning_rate = params['learning_rate'],\n",
    "                             rsm = params['rsm'], random_seed = 42, thread_count = 4, \n",
    "                              depth = params['depth'], one_hot_max_size = params['one_hot_max_size'])\n",
    "    start = timer()\n",
    "    srtc = []\n",
    "    for i in range(len(train)):\n",
    "        model.fit(train[i], train_pred[i], eval_set = (test[i], test_pred[i]), cat_features = cat_features, \n",
    "                  early_stopping_rounds=200, logging_level = 'Silent')\n",
    "        pred = model.predict(test[i].values)\n",
    "        srtc.append(error(pred, test_pred[i]))\n",
    "    train_time = timer()-start\n",
    "    loss = np.mean(srtc)\n",
    "    print('loss: %.5f' %(loss))\n",
    "    of_connection = open(out_file, 'a')\n",
    "    writer = csv.writer(of_connection)\n",
    "    writer.writerow([ITERATION, loss, params, train_time])\n",
    "    return {'iteration': ITERATION, 'loss': loss, 'params': params,   \n",
    "            'train_time': train_time, 'status': STATUS_OK}"
   ]
  },
  {
   "cell_type": "code",
   "execution_count": 257,
   "metadata": {},
   "outputs": [],
   "source": [
    "params_space = {\n",
    "    'l2_leaf_reg': hyperopt.hp.qloguniform('l2_leaf_reg', np.log(1), np.log(100), 1),\n",
    "    'learning_rate': hp.loguniform('learning_rate', np.log(0.005), np.log(0.2)),\n",
    "    'rsm': 1 - hp.loguniform('rsm',np.log(0.05) , np.log(1)),\n",
    "    'depth': hp.quniform('depth', 1, 10, 1),\n",
    "    'one_hot_max_size': hp.choice('one_hot_max_size',[2,20])\n",
    "}"
   ]
  },
  {
   "cell_type": "code",
   "execution_count": 258,
   "metadata": {},
   "outputs": [
    {
     "data": {
      "text/plain": [
       "{'depth': 8.0,\n",
       " 'l2_leaf_reg': 88.0,\n",
       " 'learning_rate': 0.08779723973143137,\n",
       " 'one_hot_max_size': 2,\n",
       " 'rsm': 0.925746191816492}"
      ]
     },
     "execution_count": 258,
     "metadata": {},
     "output_type": "execute_result"
    }
   ],
   "source": [
    "sample(params_space)"
   ]
  },
  {
   "cell_type": "code",
   "execution_count": 239,
   "metadata": {},
   "outputs": [],
   "source": [
    "out_file = 'cat_trials2.csv'\n",
    "of_connection = open(out_file, 'w')\n",
    "writer = csv.writer(of_connection)\n",
    "\n",
    "# Write the headers to the file\n",
    "writer.writerow(['iteration', 'loss', 'params', 'train_time'])\n",
    "of_connection.close()"
   ]
  },
  {
   "cell_type": "code",
   "execution_count": 259,
   "metadata": {},
   "outputs": [
    {
     "name": "stdout",
     "output_type": "stream",
     "text": [
      "ITERATION: 1\n",
      "loss: 0.71365\n",
      "ITERATION: 2\n",
      "loss: 0.65326\n",
      "ITERATION: 3\n",
      "loss: 0.84319\n",
      "ITERATION: 4\n",
      "loss: 0.69346\n",
      "ITERATION: 5\n",
      "loss: 0.77932\n",
      "ITERATION: 6\n",
      "loss: 0.75894\n",
      "ITERATION: 7\n",
      "loss: 0.68272\n",
      "ITERATION: 8\n",
      "loss: 0.66004\n",
      "ITERATION: 9\n",
      "loss: 0.77116\n",
      "ITERATION: 10\n",
      "loss: 0.79772\n",
      "ITERATION: 11\n",
      "loss: 0.76217\n",
      "ITERATION: 12\n",
      "loss: 0.64633\n",
      "ITERATION: 13\n",
      "loss: 0.64930\n",
      "ITERATION: 14\n",
      "loss: 0.79728\n",
      "ITERATION: 15\n",
      "loss: 0.71976\n",
      "ITERATION: 16\n",
      "loss: 0.68199\n",
      "ITERATION: 17\n",
      "loss: 0.87219\n",
      "ITERATION: 18\n",
      "loss: 0.98696\n",
      "ITERATION: 19\n",
      "loss: 0.78444\n",
      "ITERATION: 20\n"
     ]
    },
    {
     "ename": "KeyboardInterrupt",
     "evalue": "",
     "output_type": "error",
     "traceback": [
      "\u001b[1;31m---------------------------------------------------------------------------\u001b[0m",
      "\u001b[1;31mKeyboardInterrupt\u001b[0m                         Traceback (most recent call last)",
      "\u001b[1;32m<ipython-input-259-ff1affeeee6b>\u001b[0m in \u001b[0;36m<module>\u001b[1;34m()\u001b[0m\n\u001b[0;32m      8\u001b[0m     \u001b[0mmax_evals\u001b[0m\u001b[1;33m=\u001b[0m\u001b[1;36m70\u001b[0m\u001b[1;33m,\u001b[0m\u001b[1;33m\u001b[0m\u001b[0m\n\u001b[0;32m      9\u001b[0m     \u001b[0mtrials\u001b[0m\u001b[1;33m=\u001b[0m\u001b[0mtrials\u001b[0m\u001b[1;33m,\u001b[0m\u001b[1;33m\u001b[0m\u001b[0m\n\u001b[1;32m---> 10\u001b[1;33m     \u001b[0mrstate\u001b[0m\u001b[1;33m=\u001b[0m\u001b[0mRandomState\u001b[0m\u001b[1;33m(\u001b[0m\u001b[1;36m123\u001b[0m\u001b[1;33m)\u001b[0m\u001b[1;33m\u001b[0m\u001b[0m\n\u001b[0m\u001b[0;32m     11\u001b[0m )\n",
      "\u001b[1;32m~\\AppData\\Local\\Continuum\\anaconda3\\lib\\site-packages\\hyperopt\\fmin.py\u001b[0m in \u001b[0;36mfmin\u001b[1;34m(fn, space, algo, max_evals, trials, rstate, allow_trials_fmin, pass_expr_memo_ctrl, catch_eval_exceptions, verbose, return_argmin)\u001b[0m\n\u001b[0;32m    305\u001b[0m             \u001b[0mverbose\u001b[0m\u001b[1;33m=\u001b[0m\u001b[0mverbose\u001b[0m\u001b[1;33m,\u001b[0m\u001b[1;33m\u001b[0m\u001b[0m\n\u001b[0;32m    306\u001b[0m             \u001b[0mcatch_eval_exceptions\u001b[0m\u001b[1;33m=\u001b[0m\u001b[0mcatch_eval_exceptions\u001b[0m\u001b[1;33m,\u001b[0m\u001b[1;33m\u001b[0m\u001b[0m\n\u001b[1;32m--> 307\u001b[1;33m             \u001b[0mreturn_argmin\u001b[0m\u001b[1;33m=\u001b[0m\u001b[0mreturn_argmin\u001b[0m\u001b[1;33m,\u001b[0m\u001b[1;33m\u001b[0m\u001b[0m\n\u001b[0m\u001b[0;32m    308\u001b[0m         )\n\u001b[0;32m    309\u001b[0m \u001b[1;33m\u001b[0m\u001b[0m\n",
      "\u001b[1;32m~\\AppData\\Local\\Continuum\\anaconda3\\lib\\site-packages\\hyperopt\\base.py\u001b[0m in \u001b[0;36mfmin\u001b[1;34m(self, fn, space, algo, max_evals, rstate, verbose, pass_expr_memo_ctrl, catch_eval_exceptions, return_argmin)\u001b[0m\n\u001b[0;32m    633\u001b[0m             \u001b[0mpass_expr_memo_ctrl\u001b[0m\u001b[1;33m=\u001b[0m\u001b[0mpass_expr_memo_ctrl\u001b[0m\u001b[1;33m,\u001b[0m\u001b[1;33m\u001b[0m\u001b[0m\n\u001b[0;32m    634\u001b[0m             \u001b[0mcatch_eval_exceptions\u001b[0m\u001b[1;33m=\u001b[0m\u001b[0mcatch_eval_exceptions\u001b[0m\u001b[1;33m,\u001b[0m\u001b[1;33m\u001b[0m\u001b[0m\n\u001b[1;32m--> 635\u001b[1;33m             return_argmin=return_argmin)\n\u001b[0m\u001b[0;32m    636\u001b[0m \u001b[1;33m\u001b[0m\u001b[0m\n\u001b[0;32m    637\u001b[0m \u001b[1;33m\u001b[0m\u001b[0m\n",
      "\u001b[1;32m~\\AppData\\Local\\Continuum\\anaconda3\\lib\\site-packages\\hyperopt\\fmin.py\u001b[0m in \u001b[0;36mfmin\u001b[1;34m(fn, space, algo, max_evals, trials, rstate, allow_trials_fmin, pass_expr_memo_ctrl, catch_eval_exceptions, verbose, return_argmin)\u001b[0m\n\u001b[0;32m    318\u001b[0m                     verbose=verbose)\n\u001b[0;32m    319\u001b[0m     \u001b[0mrval\u001b[0m\u001b[1;33m.\u001b[0m\u001b[0mcatch_eval_exceptions\u001b[0m \u001b[1;33m=\u001b[0m \u001b[0mcatch_eval_exceptions\u001b[0m\u001b[1;33m\u001b[0m\u001b[0m\n\u001b[1;32m--> 320\u001b[1;33m     \u001b[0mrval\u001b[0m\u001b[1;33m.\u001b[0m\u001b[0mexhaust\u001b[0m\u001b[1;33m(\u001b[0m\u001b[1;33m)\u001b[0m\u001b[1;33m\u001b[0m\u001b[0m\n\u001b[0m\u001b[0;32m    321\u001b[0m     \u001b[1;32mif\u001b[0m \u001b[0mreturn_argmin\u001b[0m\u001b[1;33m:\u001b[0m\u001b[1;33m\u001b[0m\u001b[0m\n\u001b[0;32m    322\u001b[0m         \u001b[1;32mreturn\u001b[0m \u001b[0mtrials\u001b[0m\u001b[1;33m.\u001b[0m\u001b[0margmin\u001b[0m\u001b[1;33m\u001b[0m\u001b[0m\n",
      "\u001b[1;32m~\\AppData\\Local\\Continuum\\anaconda3\\lib\\site-packages\\hyperopt\\fmin.py\u001b[0m in \u001b[0;36mexhaust\u001b[1;34m(self)\u001b[0m\n\u001b[0;32m    197\u001b[0m     \u001b[1;32mdef\u001b[0m \u001b[0mexhaust\u001b[0m\u001b[1;33m(\u001b[0m\u001b[0mself\u001b[0m\u001b[1;33m)\u001b[0m\u001b[1;33m:\u001b[0m\u001b[1;33m\u001b[0m\u001b[0m\n\u001b[0;32m    198\u001b[0m         \u001b[0mn_done\u001b[0m \u001b[1;33m=\u001b[0m \u001b[0mlen\u001b[0m\u001b[1;33m(\u001b[0m\u001b[0mself\u001b[0m\u001b[1;33m.\u001b[0m\u001b[0mtrials\u001b[0m\u001b[1;33m)\u001b[0m\u001b[1;33m\u001b[0m\u001b[0m\n\u001b[1;32m--> 199\u001b[1;33m         \u001b[0mself\u001b[0m\u001b[1;33m.\u001b[0m\u001b[0mrun\u001b[0m\u001b[1;33m(\u001b[0m\u001b[0mself\u001b[0m\u001b[1;33m.\u001b[0m\u001b[0mmax_evals\u001b[0m \u001b[1;33m-\u001b[0m \u001b[0mn_done\u001b[0m\u001b[1;33m,\u001b[0m \u001b[0mblock_until_done\u001b[0m\u001b[1;33m=\u001b[0m\u001b[0mself\u001b[0m\u001b[1;33m.\u001b[0m\u001b[0masync\u001b[0m\u001b[1;33m)\u001b[0m\u001b[1;33m\u001b[0m\u001b[0m\n\u001b[0m\u001b[0;32m    200\u001b[0m         \u001b[0mself\u001b[0m\u001b[1;33m.\u001b[0m\u001b[0mtrials\u001b[0m\u001b[1;33m.\u001b[0m\u001b[0mrefresh\u001b[0m\u001b[1;33m(\u001b[0m\u001b[1;33m)\u001b[0m\u001b[1;33m\u001b[0m\u001b[0m\n\u001b[0;32m    201\u001b[0m         \u001b[1;32mreturn\u001b[0m \u001b[0mself\u001b[0m\u001b[1;33m\u001b[0m\u001b[0m\n",
      "\u001b[1;32m~\\AppData\\Local\\Continuum\\anaconda3\\lib\\site-packages\\hyperopt\\fmin.py\u001b[0m in \u001b[0;36mrun\u001b[1;34m(self, N, block_until_done)\u001b[0m\n\u001b[0;32m    171\u001b[0m             \u001b[1;32melse\u001b[0m\u001b[1;33m:\u001b[0m\u001b[1;33m\u001b[0m\u001b[0m\n\u001b[0;32m    172\u001b[0m                 \u001b[1;31m# -- loop over trials and do the jobs directly\u001b[0m\u001b[1;33m\u001b[0m\u001b[1;33m\u001b[0m\u001b[0m\n\u001b[1;32m--> 173\u001b[1;33m                 \u001b[0mself\u001b[0m\u001b[1;33m.\u001b[0m\u001b[0mserial_evaluate\u001b[0m\u001b[1;33m(\u001b[0m\u001b[1;33m)\u001b[0m\u001b[1;33m\u001b[0m\u001b[0m\n\u001b[0m\u001b[0;32m    174\u001b[0m \u001b[1;33m\u001b[0m\u001b[0m\n\u001b[0;32m    175\u001b[0m             \u001b[1;32mif\u001b[0m \u001b[0mstopped\u001b[0m\u001b[1;33m:\u001b[0m\u001b[1;33m\u001b[0m\u001b[0m\n",
      "\u001b[1;32m~\\AppData\\Local\\Continuum\\anaconda3\\lib\\site-packages\\hyperopt\\fmin.py\u001b[0m in \u001b[0;36mserial_evaluate\u001b[1;34m(self, N)\u001b[0m\n\u001b[0;32m     90\u001b[0m                 \u001b[0mctrl\u001b[0m \u001b[1;33m=\u001b[0m \u001b[0mbase\u001b[0m\u001b[1;33m.\u001b[0m\u001b[0mCtrl\u001b[0m\u001b[1;33m(\u001b[0m\u001b[0mself\u001b[0m\u001b[1;33m.\u001b[0m\u001b[0mtrials\u001b[0m\u001b[1;33m,\u001b[0m \u001b[0mcurrent_trial\u001b[0m\u001b[1;33m=\u001b[0m\u001b[0mtrial\u001b[0m\u001b[1;33m)\u001b[0m\u001b[1;33m\u001b[0m\u001b[0m\n\u001b[0;32m     91\u001b[0m                 \u001b[1;32mtry\u001b[0m\u001b[1;33m:\u001b[0m\u001b[1;33m\u001b[0m\u001b[0m\n\u001b[1;32m---> 92\u001b[1;33m                     \u001b[0mresult\u001b[0m \u001b[1;33m=\u001b[0m \u001b[0mself\u001b[0m\u001b[1;33m.\u001b[0m\u001b[0mdomain\u001b[0m\u001b[1;33m.\u001b[0m\u001b[0mevaluate\u001b[0m\u001b[1;33m(\u001b[0m\u001b[0mspec\u001b[0m\u001b[1;33m,\u001b[0m \u001b[0mctrl\u001b[0m\u001b[1;33m)\u001b[0m\u001b[1;33m\u001b[0m\u001b[0m\n\u001b[0m\u001b[0;32m     93\u001b[0m                 \u001b[1;32mexcept\u001b[0m \u001b[0mException\u001b[0m \u001b[1;32mas\u001b[0m \u001b[0me\u001b[0m\u001b[1;33m:\u001b[0m\u001b[1;33m\u001b[0m\u001b[0m\n\u001b[0;32m     94\u001b[0m                     \u001b[0mlogger\u001b[0m\u001b[1;33m.\u001b[0m\u001b[0minfo\u001b[0m\u001b[1;33m(\u001b[0m\u001b[1;34m'job exception: %s'\u001b[0m \u001b[1;33m%\u001b[0m \u001b[0mstr\u001b[0m\u001b[1;33m(\u001b[0m\u001b[0me\u001b[0m\u001b[1;33m)\u001b[0m\u001b[1;33m)\u001b[0m\u001b[1;33m\u001b[0m\u001b[0m\n",
      "\u001b[1;32m~\\AppData\\Local\\Continuum\\anaconda3\\lib\\site-packages\\hyperopt\\base.py\u001b[0m in \u001b[0;36mevaluate\u001b[1;34m(self, config, ctrl, attach_attachments)\u001b[0m\n\u001b[0;32m    838\u001b[0m                 \u001b[0mmemo\u001b[0m\u001b[1;33m=\u001b[0m\u001b[0mmemo\u001b[0m\u001b[1;33m,\u001b[0m\u001b[1;33m\u001b[0m\u001b[0m\n\u001b[0;32m    839\u001b[0m                 print_node_on_error=self.rec_eval_print_node_on_error)\n\u001b[1;32m--> 840\u001b[1;33m             \u001b[0mrval\u001b[0m \u001b[1;33m=\u001b[0m \u001b[0mself\u001b[0m\u001b[1;33m.\u001b[0m\u001b[0mfn\u001b[0m\u001b[1;33m(\u001b[0m\u001b[0mpyll_rval\u001b[0m\u001b[1;33m)\u001b[0m\u001b[1;33m\u001b[0m\u001b[0m\n\u001b[0m\u001b[0;32m    841\u001b[0m \u001b[1;33m\u001b[0m\u001b[0m\n\u001b[0;32m    842\u001b[0m         \u001b[1;32mif\u001b[0m \u001b[0misinstance\u001b[0m\u001b[1;33m(\u001b[0m\u001b[0mrval\u001b[0m\u001b[1;33m,\u001b[0m \u001b[1;33m(\u001b[0m\u001b[0mfloat\u001b[0m\u001b[1;33m,\u001b[0m \u001b[0mint\u001b[0m\u001b[1;33m,\u001b[0m \u001b[0mnp\u001b[0m\u001b[1;33m.\u001b[0m\u001b[0mnumber\u001b[0m\u001b[1;33m)\u001b[0m\u001b[1;33m)\u001b[0m\u001b[1;33m:\u001b[0m\u001b[1;33m\u001b[0m\u001b[0m\n",
      "\u001b[1;32m<ipython-input-256-49cd8b4d3684>\u001b[0m in \u001b[0;36mobjective\u001b[1;34m(params)\u001b[0m\n\u001b[0;32m     10\u001b[0m     \u001b[1;32mfor\u001b[0m \u001b[0mi\u001b[0m \u001b[1;32min\u001b[0m \u001b[0mrange\u001b[0m\u001b[1;33m(\u001b[0m\u001b[0mlen\u001b[0m\u001b[1;33m(\u001b[0m\u001b[0mtrain\u001b[0m\u001b[1;33m)\u001b[0m\u001b[1;33m)\u001b[0m\u001b[1;33m:\u001b[0m\u001b[1;33m\u001b[0m\u001b[0m\n\u001b[0;32m     11\u001b[0m         model.fit(train[i], train_pred[i], eval_set = (test[i], test_pred[i]), cat_features = cat_features, \n\u001b[1;32m---> 12\u001b[1;33m                   early_stopping_rounds=200, logging_level = 'Silent')\n\u001b[0m\u001b[0;32m     13\u001b[0m         \u001b[0mpred\u001b[0m \u001b[1;33m=\u001b[0m \u001b[0mmodel\u001b[0m\u001b[1;33m.\u001b[0m\u001b[0mpredict\u001b[0m\u001b[1;33m(\u001b[0m\u001b[0mtest\u001b[0m\u001b[1;33m[\u001b[0m\u001b[0mi\u001b[0m\u001b[1;33m]\u001b[0m\u001b[1;33m.\u001b[0m\u001b[0mvalues\u001b[0m\u001b[1;33m)\u001b[0m\u001b[1;33m\u001b[0m\u001b[0m\n\u001b[0;32m     14\u001b[0m         \u001b[0msrtc\u001b[0m\u001b[1;33m.\u001b[0m\u001b[0mappend\u001b[0m\u001b[1;33m(\u001b[0m\u001b[0merror\u001b[0m\u001b[1;33m(\u001b[0m\u001b[0mpred\u001b[0m\u001b[1;33m,\u001b[0m \u001b[0mtest_pred\u001b[0m\u001b[1;33m[\u001b[0m\u001b[0mi\u001b[0m\u001b[1;33m]\u001b[0m\u001b[1;33m)\u001b[0m\u001b[1;33m)\u001b[0m\u001b[1;33m\u001b[0m\u001b[0m\n",
      "\u001b[1;32m~\\AppData\\Local\\Continuum\\anaconda3\\lib\\site-packages\\catboost\\core.py\u001b[0m in \u001b[0;36mfit\u001b[1;34m(self, X, y, cat_features, sample_weight, baseline, use_best_model, eval_set, verbose, logging_level, plot, column_description, verbose_eval, metric_period, silent, early_stopping_rounds, save_snapshot, snapshot_file, snapshot_interval)\u001b[0m\n\u001b[0;32m   2476\u001b[0m                          \u001b[0muse_best_model\u001b[0m\u001b[1;33m,\u001b[0m \u001b[0meval_set\u001b[0m\u001b[1;33m,\u001b[0m \u001b[0mverbose\u001b[0m\u001b[1;33m,\u001b[0m \u001b[0mlogging_level\u001b[0m\u001b[1;33m,\u001b[0m \u001b[0mplot\u001b[0m\u001b[1;33m,\u001b[0m \u001b[0mcolumn_description\u001b[0m\u001b[1;33m,\u001b[0m\u001b[1;33m\u001b[0m\u001b[0m\n\u001b[0;32m   2477\u001b[0m                          \u001b[0mverbose_eval\u001b[0m\u001b[1;33m,\u001b[0m \u001b[0mmetric_period\u001b[0m\u001b[1;33m,\u001b[0m \u001b[0msilent\u001b[0m\u001b[1;33m,\u001b[0m \u001b[0mearly_stopping_rounds\u001b[0m\u001b[1;33m,\u001b[0m\u001b[1;33m\u001b[0m\u001b[0m\n\u001b[1;32m-> 2478\u001b[1;33m                          save_snapshot, snapshot_file, snapshot_interval, default_loss='RMSE')\n\u001b[0m\u001b[0;32m   2479\u001b[0m \u001b[1;33m\u001b[0m\u001b[0m\n\u001b[0;32m   2480\u001b[0m     \u001b[1;32mdef\u001b[0m \u001b[0mpredict\u001b[0m\u001b[1;33m(\u001b[0m\u001b[0mself\u001b[0m\u001b[1;33m,\u001b[0m \u001b[0mdata\u001b[0m\u001b[1;33m,\u001b[0m \u001b[0mntree_start\u001b[0m\u001b[1;33m=\u001b[0m\u001b[1;36m0\u001b[0m\u001b[1;33m,\u001b[0m \u001b[0mntree_end\u001b[0m\u001b[1;33m=\u001b[0m\u001b[1;36m0\u001b[0m\u001b[1;33m,\u001b[0m \u001b[0mthread_count\u001b[0m\u001b[1;33m=\u001b[0m\u001b[1;33m-\u001b[0m\u001b[1;36m1\u001b[0m\u001b[1;33m,\u001b[0m \u001b[0mverbose\u001b[0m\u001b[1;33m=\u001b[0m\u001b[1;32mNone\u001b[0m\u001b[1;33m)\u001b[0m\u001b[1;33m:\u001b[0m\u001b[1;33m\u001b[0m\u001b[0m\n",
      "\u001b[1;32m~\\AppData\\Local\\Continuum\\anaconda3\\lib\\site-packages\\catboost\\core.py\u001b[0m in \u001b[0;36m_fit\u001b[1;34m(self, X, y, cat_features, pairs, sample_weight, group_id, group_weight, subgroup_id, pairs_weight, baseline, use_best_model, eval_set, verbose, logging_level, plot, column_description, verbose_eval, metric_period, silent, early_stopping_rounds, save_snapshot, snapshot_file, snapshot_interval, default_loss)\u001b[0m\n\u001b[0;32m   1095\u001b[0m \u001b[1;33m\u001b[0m\u001b[0m\n\u001b[0;32m   1096\u001b[0m         \u001b[1;32mwith\u001b[0m \u001b[0mlog_fixup\u001b[0m\u001b[1;33m(\u001b[0m\u001b[1;33m)\u001b[0m\u001b[1;33m,\u001b[0m \u001b[0mplot_wrapper\u001b[0m\u001b[1;33m(\u001b[0m\u001b[0mplot\u001b[0m\u001b[1;33m,\u001b[0m \u001b[0mself\u001b[0m\u001b[1;33m.\u001b[0m\u001b[0mget_params\u001b[0m\u001b[1;33m(\u001b[0m\u001b[1;33m)\u001b[0m\u001b[1;33m)\u001b[0m\u001b[1;33m:\u001b[0m\u001b[1;33m\u001b[0m\u001b[0m\n\u001b[1;32m-> 1097\u001b[1;33m             \u001b[0mself\u001b[0m\u001b[1;33m.\u001b[0m\u001b[0m_train\u001b[0m\u001b[1;33m(\u001b[0m\u001b[0mtrain_pool\u001b[0m\u001b[1;33m,\u001b[0m \u001b[0meval_sets\u001b[0m\u001b[1;33m,\u001b[0m \u001b[0mparams\u001b[0m\u001b[1;33m,\u001b[0m \u001b[0mallow_clear_pool\u001b[0m\u001b[1;33m)\u001b[0m\u001b[1;33m\u001b[0m\u001b[0m\n\u001b[0m\u001b[0;32m   1098\u001b[0m \u001b[1;33m\u001b[0m\u001b[0m\n\u001b[0;32m   1099\u001b[0m         \u001b[1;32mif\u001b[0m \u001b[1;33m(\u001b[0m\u001b[1;32mnot\u001b[0m \u001b[0mself\u001b[0m\u001b[1;33m.\u001b[0m\u001b[0m_object\u001b[0m\u001b[1;33m.\u001b[0m\u001b[0m_has_leaf_weights_in_model\u001b[0m\u001b[1;33m(\u001b[0m\u001b[1;33m)\u001b[0m\u001b[1;33m)\u001b[0m \u001b[1;32mand\u001b[0m \u001b[0mallow_clear_pool\u001b[0m\u001b[1;33m:\u001b[0m\u001b[1;33m\u001b[0m\u001b[0m\n",
      "\u001b[1;32m~\\AppData\\Local\\Continuum\\anaconda3\\lib\\site-packages\\catboost\\core.py\u001b[0m in \u001b[0;36m_train\u001b[1;34m(self, train_pool, test_pool, params, allow_clear_pool)\u001b[0m\n\u001b[0;32m    838\u001b[0m \u001b[1;33m\u001b[0m\u001b[0m\n\u001b[0;32m    839\u001b[0m     \u001b[1;32mdef\u001b[0m \u001b[0m_train\u001b[0m\u001b[1;33m(\u001b[0m\u001b[0mself\u001b[0m\u001b[1;33m,\u001b[0m \u001b[0mtrain_pool\u001b[0m\u001b[1;33m,\u001b[0m \u001b[0mtest_pool\u001b[0m\u001b[1;33m,\u001b[0m \u001b[0mparams\u001b[0m\u001b[1;33m,\u001b[0m \u001b[0mallow_clear_pool\u001b[0m\u001b[1;33m)\u001b[0m\u001b[1;33m:\u001b[0m\u001b[1;33m\u001b[0m\u001b[0m\n\u001b[1;32m--> 840\u001b[1;33m         \u001b[0mself\u001b[0m\u001b[1;33m.\u001b[0m\u001b[0m_object\u001b[0m\u001b[1;33m.\u001b[0m\u001b[0m_train\u001b[0m\u001b[1;33m(\u001b[0m\u001b[0mtrain_pool\u001b[0m\u001b[1;33m,\u001b[0m \u001b[0mtest_pool\u001b[0m\u001b[1;33m,\u001b[0m \u001b[0mparams\u001b[0m\u001b[1;33m,\u001b[0m \u001b[0mallow_clear_pool\u001b[0m\u001b[1;33m)\u001b[0m\u001b[1;33m\u001b[0m\u001b[0m\n\u001b[0m\u001b[0;32m    841\u001b[0m         \u001b[0mself\u001b[0m\u001b[1;33m.\u001b[0m\u001b[0m_set_trained_model_attributes\u001b[0m\u001b[1;33m(\u001b[0m\u001b[1;33m)\u001b[0m\u001b[1;33m\u001b[0m\u001b[0m\n\u001b[0;32m    842\u001b[0m \u001b[1;33m\u001b[0m\u001b[0m\n",
      "\u001b[1;32m_catboost.pyx\u001b[0m in \u001b[0;36m_catboost._CatBoost._train\u001b[1;34m()\u001b[0m\n",
      "\u001b[1;32m_catboost.pyx\u001b[0m in \u001b[0;36m_catboost._CatBoost._train\u001b[1;34m()\u001b[0m\n",
      "\u001b[1;31mKeyboardInterrupt\u001b[0m: "
     ]
    }
   ],
   "source": [
    "trials = hyperopt.Trials()\n",
    "global  ITERATION\n",
    "ITERATION = 0\n",
    "best = hyperopt.fmin(\n",
    "    objective,\n",
    "    space=params_space,\n",
    "    algo=hyperopt.tpe.suggest,\n",
    "    max_evals=70,\n",
    "    trials=trials,\n",
    "    rstate=RandomState(123)\n",
    ")"
   ]
  },
  {
   "cell_type": "code",
   "execution_count": 261,
   "metadata": {},
   "outputs": [
    {
     "data": {
      "text/html": [
       "<div>\n",
       "<style scoped>\n",
       "    .dataframe tbody tr th:only-of-type {\n",
       "        vertical-align: middle;\n",
       "    }\n",
       "\n",
       "    .dataframe tbody tr th {\n",
       "        vertical-align: top;\n",
       "    }\n",
       "\n",
       "    .dataframe thead th {\n",
       "        text-align: right;\n",
       "    }\n",
       "</style>\n",
       "<table border=\"1\" class=\"dataframe\">\n",
       "  <thead>\n",
       "    <tr style=\"text-align: right;\">\n",
       "      <th></th>\n",
       "      <th>iteration</th>\n",
       "      <th>loss</th>\n",
       "      <th>params</th>\n",
       "      <th>train_time</th>\n",
       "    </tr>\n",
       "  </thead>\n",
       "  <tbody>\n",
       "    <tr>\n",
       "      <th>0</th>\n",
       "      <td>12</td>\n",
       "      <td>0.646333</td>\n",
       "      <td>{'depth': 5.0, 'l2_leaf_reg': 2.0, 'learning_r...</td>\n",
       "      <td>5113.342901</td>\n",
       "    </tr>\n",
       "    <tr>\n",
       "      <th>1</th>\n",
       "      <td>13</td>\n",
       "      <td>0.649296</td>\n",
       "      <td>{'depth': 6.0, 'l2_leaf_reg': 2.0, 'learning_r...</td>\n",
       "      <td>7315.796317</td>\n",
       "    </tr>\n",
       "    <tr>\n",
       "      <th>2</th>\n",
       "      <td>2</td>\n",
       "      <td>0.653256</td>\n",
       "      <td>{'depth': 5.0, 'l2_leaf_reg': 3.0, 'learning_r...</td>\n",
       "      <td>3574.988559</td>\n",
       "    </tr>\n",
       "    <tr>\n",
       "      <th>3</th>\n",
       "      <td>8</td>\n",
       "      <td>0.660037</td>\n",
       "      <td>{'depth': 5.0, 'l2_leaf_reg': 12.0, 'learning_...</td>\n",
       "      <td>3416.176511</td>\n",
       "    </tr>\n",
       "    <tr>\n",
       "      <th>4</th>\n",
       "      <td>16</td>\n",
       "      <td>0.681995</td>\n",
       "      <td>{'depth': 6.0, 'l2_leaf_reg': 13.0, 'learning_...</td>\n",
       "      <td>5072.312344</td>\n",
       "    </tr>\n",
       "  </tbody>\n",
       "</table>\n",
       "</div>"
      ],
      "text/plain": [
       "   iteration      loss                                             params  \\\n",
       "0         12  0.646333  {'depth': 5.0, 'l2_leaf_reg': 2.0, 'learning_r...   \n",
       "1         13  0.649296  {'depth': 6.0, 'l2_leaf_reg': 2.0, 'learning_r...   \n",
       "2          2  0.653256  {'depth': 5.0, 'l2_leaf_reg': 3.0, 'learning_r...   \n",
       "3          8  0.660037  {'depth': 5.0, 'l2_leaf_reg': 12.0, 'learning_...   \n",
       "4         16  0.681995  {'depth': 6.0, 'l2_leaf_reg': 13.0, 'learning_...   \n",
       "\n",
       "    train_time  \n",
       "0  5113.342901  \n",
       "1  7315.796317  \n",
       "2  3574.988559  \n",
       "3  3416.176511  \n",
       "4  5072.312344  "
      ]
     },
     "execution_count": 261,
     "metadata": {},
     "output_type": "execute_result"
    }
   ],
   "source": [
    "results = pd.read_csv('cat_trials2.csv')\n",
    "results.sort_values('loss', ascending = True, inplace = True)\n",
    "results.reset_index(inplace = True, drop = True)\n",
    "results.rename({'n_estimators': 'train_time'}, axis = 1, inplace = True)\n",
    "results.head()"
   ]
  },
  {
   "cell_type": "code",
   "execution_count": 262,
   "metadata": {},
   "outputs": [],
   "source": [
    "best_params = ast.literal_eval(results.loc[0, 'params'])"
   ]
  },
  {
   "cell_type": "code",
   "execution_count": 263,
   "metadata": {},
   "outputs": [
    {
     "data": {
      "text/plain": [
       "{'depth': 5.0,\n",
       " 'l2_leaf_reg': 2.0,\n",
       " 'learning_rate': 0.06218462935144204,\n",
       " 'one_hot_max_size': 20,\n",
       " 'rsm': 0.9492290749219809}"
      ]
     },
     "execution_count": 263,
     "metadata": {},
     "output_type": "execute_result"
    }
   ],
   "source": [
    "best_params"
   ]
  },
  {
   "cell_type": "code",
   "execution_count": 264,
   "metadata": {},
   "outputs": [],
   "source": [
    "[train,test,train_pred,test_pred] = create_cv_sets([33],by_month_ewms)"
   ]
  },
  {
   "cell_type": "code",
   "execution_count": 269,
   "metadata": {
    "scrolled": true
   },
   "outputs": [
    {
     "name": "stdout",
     "output_type": "stream",
     "text": [
      "Warning: Overfitting detector is active, thus evaluation metric iscalculated on every iteration. 'metric_period' is ignored for evaluation metric.\n",
      "0:\tlearn: 8.3555608\ttest: 14.9218338\tbest: 14.9218338 (0)\ttotal: 437ms\tremaining: 21m 49s\n",
      "50:\tlearn: 3.7568966\ttest: 7.8038811\tbest: 7.8038811 (50)\ttotal: 17s\tremaining: 16m 21s\n",
      "100:\tlearn: 3.3632724\ttest: 6.5773384\tbest: 6.5771433 (97)\ttotal: 33.7s\tremaining: 16m 6s\n",
      "150:\tlearn: 3.2010540\ttest: 6.3219408\tbest: 6.3111810 (148)\ttotal: 50.3s\tremaining: 15m 48s\n",
      "200:\tlearn: 3.1048713\ttest: 6.1461771\tbest: 6.1461771 (200)\ttotal: 1m 7s\tremaining: 15m 40s\n",
      "250:\tlearn: 3.0014098\ttest: 6.0000013\tbest: 6.0000013 (250)\ttotal: 1m 24s\tremaining: 15m 22s\n",
      "300:\tlearn: 2.9437080\ttest: 5.8906813\tbest: 5.8706079 (291)\ttotal: 1m 40s\tremaining: 15m 3s\n",
      "350:\tlearn: 2.8869821\ttest: 5.8639367\tbest: 5.7798367 (330)\ttotal: 1m 56s\tremaining: 14m 41s\n",
      "400:\tlearn: 2.8376385\ttest: 5.7043856\tbest: 5.6636543 (388)\ttotal: 2m 13s\tremaining: 14m 25s\n",
      "450:\tlearn: 2.8003777\ttest: 5.6914935\tbest: 5.6561271 (441)\ttotal: 2m 30s\tremaining: 14m 8s\n",
      "500:\tlearn: 2.7731609\ttest: 5.6595759\tbest: 5.6502512 (498)\ttotal: 2m 45s\tremaining: 13m 47s\n",
      "550:\tlearn: 2.7495641\ttest: 5.6513090\tbest: 5.6386297 (531)\ttotal: 3m 2s\tremaining: 13m 32s\n",
      "600:\tlearn: 2.7199803\ttest: 5.6110374\tbest: 5.5792801 (578)\ttotal: 3m 19s\tremaining: 13m 16s\n",
      "650:\tlearn: 2.6953771\ttest: 5.6023305\tbest: 5.5695648 (622)\ttotal: 3m 35s\tremaining: 12m 57s\n",
      "700:\tlearn: 2.6717711\ttest: 5.6214925\tbest: 5.5695648 (622)\ttotal: 3m 52s\tremaining: 12m 42s\n",
      "750:\tlearn: 2.6408645\ttest: 5.5872934\tbest: 5.5695648 (622)\ttotal: 4m 9s\tremaining: 12m 27s\n",
      "800:\tlearn: 2.6225637\ttest: 5.6101573\tbest: 5.5688756 (769)\ttotal: 4m 26s\tremaining: 12m 10s\n",
      "850:\tlearn: 2.6043530\ttest: 5.6063549\tbest: 5.5688756 (769)\ttotal: 4m 43s\tremaining: 11m 55s\n",
      "900:\tlearn: 2.5926845\ttest: 5.6032652\tbest: 5.5688756 (769)\ttotal: 4m 59s\tremaining: 11m 38s\n",
      "950:\tlearn: 2.5797682\ttest: 5.5998044\tbest: 5.5688756 (769)\ttotal: 5m 16s\tremaining: 11m 22s\n",
      "1000:\tlearn: 2.5694339\ttest: 5.5996434\tbest: 5.5688756 (769)\ttotal: 5m 33s\tremaining: 11m 6s\n",
      "1050:\tlearn: 2.5504140\ttest: 5.5651123\tbest: 5.5645052 (1049)\ttotal: 5m 50s\tremaining: 10m 50s\n",
      "1100:\tlearn: 2.5377940\ttest: 5.6002452\tbest: 5.5645052 (1049)\ttotal: 6m 7s\tremaining: 10m 34s\n",
      "1150:\tlearn: 2.5296058\ttest: 5.5899538\tbest: 5.5645052 (1049)\ttotal: 6m 24s\tremaining: 10m 17s\n",
      "1200:\tlearn: 2.5200930\ttest: 5.5829899\tbest: 5.5645052 (1049)\ttotal: 6m 41s\tremaining: 10m 1s\n",
      "1250:\tlearn: 2.5082926\ttest: 5.5688826\tbest: 5.5644871 (1239)\ttotal: 6m 59s\tremaining: 9m 45s\n",
      "1300:\tlearn: 2.4989871\ttest: 5.5495128\tbest: 5.5449250 (1283)\ttotal: 7m 15s\tremaining: 9m 28s\n",
      "1350:\tlearn: 2.4920224\ttest: 5.5567696\tbest: 5.5449250 (1283)\ttotal: 7m 32s\tremaining: 9m 12s\n",
      "1400:\tlearn: 2.4843061\ttest: 5.5594904\tbest: 5.5389172 (1376)\ttotal: 7m 49s\tremaining: 8m 56s\n",
      "1450:\tlearn: 2.4758288\ttest: 5.5771644\tbest: 5.5389172 (1376)\ttotal: 8m 6s\tremaining: 8m 39s\n",
      "1500:\tlearn: 2.4673656\ttest: 5.5798476\tbest: 5.5389172 (1376)\ttotal: 8m 23s\tremaining: 8m 23s\n",
      "1550:\tlearn: 2.4615228\ttest: 5.5796193\tbest: 5.5389172 (1376)\ttotal: 8m 40s\tremaining: 8m 6s\n",
      "1600:\tlearn: 2.4538210\ttest: 5.5709223\tbest: 5.5389172 (1376)\ttotal: 8m 58s\tremaining: 7m 50s\n",
      "1650:\tlearn: 2.4446607\ttest: 5.5291123\tbest: 5.5256402 (1641)\ttotal: 9m 14s\tremaining: 7m 33s\n",
      "1700:\tlearn: 2.4396720\ttest: 5.5496141\tbest: 5.5256402 (1641)\ttotal: 9m 32s\tremaining: 7m 16s\n",
      "1750:\tlearn: 2.4345942\ttest: 5.5390674\tbest: 5.5256402 (1641)\ttotal: 9m 50s\tremaining: 7m 1s\n",
      "1800:\tlearn: 2.4262091\ttest: 5.5321018\tbest: 5.5256402 (1641)\ttotal: 10m 7s\tremaining: 6m 44s\n",
      "1850:\tlearn: 2.4194522\ttest: 5.5304056\tbest: 5.5256402 (1641)\ttotal: 10m 24s\tremaining: 6m 27s\n",
      "1900:\tlearn: 2.4152582\ttest: 5.5324061\tbest: 5.5148514 (1871)\ttotal: 10m 41s\tremaining: 6m 10s\n",
      "1950:\tlearn: 2.4104149\ttest: 5.5359290\tbest: 5.5148514 (1871)\ttotal: 10m 58s\tremaining: 5m 53s\n",
      "2000:\tlearn: 2.3986513\ttest: 5.5331614\tbest: 5.5148514 (1871)\ttotal: 11m 14s\tremaining: 5m 36s\n",
      "2050:\tlearn: 2.3942029\ttest: 5.5098012\tbest: 5.5098012 (2050)\ttotal: 11m 31s\tremaining: 5m 20s\n",
      "2100:\tlearn: 2.3884709\ttest: 5.5175085\tbest: 5.5098012 (2050)\ttotal: 11m 48s\tremaining: 5m 3s\n",
      "2150:\tlearn: 2.3821288\ttest: 5.5010350\tbest: 5.5008857 (2149)\ttotal: 12m 5s\tremaining: 4m 46s\n",
      "2200:\tlearn: 2.3766093\ttest: 5.4833353\tbest: 5.4814401 (2196)\ttotal: 12m 22s\tremaining: 4m 29s\n",
      "2250:\tlearn: 2.3724174\ttest: 5.4867057\tbest: 5.4699509 (2233)\ttotal: 12m 39s\tremaining: 4m 12s\n",
      "2300:\tlearn: 2.3634382\ttest: 5.4831144\tbest: 5.4671796 (2275)\ttotal: 12m 56s\tremaining: 3m 55s\n",
      "2350:\tlearn: 2.3599182\ttest: 5.4839767\tbest: 5.4671796 (2275)\ttotal: 13m 13s\tremaining: 3m 38s\n",
      "2400:\tlearn: 2.3554676\ttest: 5.4960874\tbest: 5.4671796 (2275)\ttotal: 13m 30s\tremaining: 3m 22s\n",
      "2450:\tlearn: 2.3516839\ttest: 5.5007783\tbest: 5.4671796 (2275)\ttotal: 13m 47s\tremaining: 3m 5s\n",
      "2500:\tlearn: 2.3478051\ttest: 5.4932849\tbest: 5.4671796 (2275)\ttotal: 14m 5s\tremaining: 2m 48s\n",
      "2550:\tlearn: 2.3430551\ttest: 5.4827506\tbest: 5.4671796 (2275)\ttotal: 14m 22s\tremaining: 2m 31s\n",
      "2600:\tlearn: 2.3376587\ttest: 5.4951400\tbest: 5.4671796 (2275)\ttotal: 14m 39s\tremaining: 2m 14s\n",
      "2650:\tlearn: 2.3341880\ttest: 5.4999254\tbest: 5.4671796 (2275)\ttotal: 14m 56s\tremaining: 1m 58s\n",
      "Stopped by overfitting detector  (400 iterations wait)\n",
      "\n",
      "bestTest = 5.467179622\n",
      "bestIteration = 2275\n",
      "\n",
      "Shrink model to first 2276 iterations.\n",
      "total time: 927.31272\n"
     ]
    }
   ],
   "source": [
    "cat_features = [1,2,3,4]\n",
    "start = timer()\n",
    "cat_tuned = CatBoostRegressor(iterations = 3000, l2_leaf_reg = 2, depth = 2, \n",
    "                           one_hot_max_size=20, rsm = 1, thread_count = 4, learning_rate = 0.1, metric_period = 50)\n",
    "cat_tuned.fit(train[0].values, train_pred[0].values, cat_features = cat_features, early_stopping_rounds=400, \n",
    "             eval_set=(test[0].values, test_pred[0].values)) \n",
    "print('total time: %.5f' %(timer()-start))\n"
   ]
  },
  {
   "cell_type": "code",
   "execution_count": 270,
   "metadata": {},
   "outputs": [
    {
     "data": {
      "text/plain": [
       "2.000521314478632"
      ]
     },
     "execution_count": 270,
     "metadata": {},
     "output_type": "execute_result"
    }
   ],
   "source": [
    "pred = cat_tuned.predict(test[0].values)\n",
    "error(pred, test_pred[0])"
   ]
  },
  {
   "cell_type": "code",
   "execution_count": 282,
   "metadata": {},
   "outputs": [
    {
     "data": {
      "text/plain": [
       "<matplotlib.axes._subplots.AxesSubplot at 0x1673abe7a20>"
      ]
     },
     "execution_count": 282,
     "metadata": {},
     "output_type": "execute_result"
    },
    {
     "data": {
      "image/png": "[encoded data removed]",
      "text/plain": [
       "<Figure size 1080x360 with 1 Axes>"
      ]
     },
     "metadata": {},
     "output_type": "display_data"
    }
   ],
   "source": [
    "imp = cat_tuned.get_feature_importance(prettified=True)\n",
    "features = [int(i[0].decode(\"utf-8\")) for i in imp]\n",
    "features = train[0].columns[features]\n",
    "pd.Series(data = [i[1] for i in imp], index=features).plot(kind= 'bar')"
   ]
  }
 ],
 "metadata": {
  "kernelspec": {
   "display_name": "Python 3",
   "language": "python",
   "name": "python3"
  },
  "language_info": {
   "codemirror_mode": {
    "name": "ipython",
    "version": 3
   },
   "file_extension": ".py",
   "mimetype": "text/x-python",
   "name": "python",
   "nbconvert_exporter": "python",
   "pygments_lexer": "ipython3",
   "version": "3.6.5"
  }
 },
 "nbformat": 4,
 "nbformat_minor": 2
}
