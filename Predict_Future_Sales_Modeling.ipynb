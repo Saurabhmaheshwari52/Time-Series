{
 "cells": [
  {
   "cell_type": "code",
   "execution_count": 1,
   "metadata": {
    "collapsed": true
   },
   "outputs": [],
   "source": [
    "import pandas as pd\n",
    "import numpy as np\n",
    "import matplotlib.pyplot as plt\n",
    "% matplotlib inline\n",
    "from matplotlib import rc\n",
    "rc('figure', figsize=(15, 5))\n",
    "import xgboost as xgb\n",
    "from xgboost import XGBRegressor\n",
    "from sklearn.ensemble import RandomForestRegressor \n",
    "from sklearn.metrics import mean_squared_error"
   ]
  },
  {
   "cell_type": "code",
   "execution_count": 2,
   "metadata": {
    "collapsed": true
   },
   "outputs": [],
   "source": [
    "def create_submission_df(pred):\n",
    "    new_df = by_month.loc[:,('shop_id','item_id')]\n",
    "    new_df['target'] = pred\n",
    "    new_df = sales_test.merge(new_df, on = ['shop_id', 'item_id'], how = 'left')\n",
    "    new_df['target'].fillna(0,inplace=True)\n",
    "    return(new_df)"
   ]
  },
  {
   "cell_type": "code",
   "execution_count": 3,
   "metadata": {
    "collapsed": true
   },
   "outputs": [],
   "source": [
    "def error(pred, tr_index):\n",
    "    return(np.sqrt(mean_squared_error(pred, create_y(tr_index))))"
   ]
  },
  {
   "cell_type": "code",
   "execution_count": 4,
   "metadata": {
    "collapsed": true
   },
   "outputs": [],
   "source": [
    "def create_submission_file(pred, name):\n",
    "    new_df = create_submission_df(pred)\n",
    "    new_df = new_df.loc[:,('ID', 'target')]\n",
    "    new_df.columns = ['ID', 'item_cnt_month']\n",
    "    new_df.loc[:,('ID','item_cnt_month')].to_csv('submissions_time_series/'+name+'.csv',index = False)"
   ]
  },
  {
   "cell_type": "code",
   "execution_count": 5,
   "metadata": {
    "collapsed": true
   },
   "outputs": [],
   "source": [
    "def expanding_mean_encode(x_tr_index, tr_index, var, times = 5):\n",
    "    encoded_feature = [0]*by_month.shape[0]\n",
    "    for i in range(times):\n",
    "        rows = np.arange(0,by_month.shape[0])\n",
    "        #np.random.shuffle(rows)\n",
    "        x_tr = by_month.loc[rows, x_tr_index]\n",
    "        cum_sum = by_month.groupby(var)[tr_index].cumsum()\n",
    "        cum_count = by_month.groupby(var).cumcount() + 1\n",
    "        x_tr[str(var)+'_enc'] = cum_sum/cum_count\n",
    "        x_tr[str(var)+'_enc'].fillna(by_month[tr_index].mean(), inplace = True)\n",
    "        encoded_feature += x_tr[str(var)+'_enc']\n",
    "    x_tr[str(var)+'_enc'] = encoded_feature/times\n",
    "    return(x_tr)"
   ]
  },
  {
   "cell_type": "code",
   "execution_count": 6,
   "metadata": {
    "collapsed": true
   },
   "outputs": [],
   "source": [
    "def max_sum_average(tr_index_init = 0, tr_index = 33, max_num = 1, sum_num = 12, ave_num = 1, expand = True):\n",
    "    months = np.arange(0,34)\n",
    "    x_tr_index = ['item_id', 'shop_id', 'item_category_id']\n",
    "    x_tr_pred_index = x_tr_index.copy()\n",
    "    x_tr_index.extend(np.arange(tr_index_init,tr_index).tolist())\n",
    "    x_tr_pred_index.extend(np.arange(tr_index_init+1,tr_index+1).tolist())\n",
    "    #print(x_tr_index)\n",
    "    if max_num>0:\n",
    "        by_month_shopid_max = by_month.groupby('shop_id').max().loc[:,months]\n",
    "        ##print(by_month_shopid_max)\n",
    "        #print(by_month_shopid_max.loc[:,(tr_index-max_num):(tr_index-1)])\n",
    "        x_tr_max = by_month[x_tr_index].join(by_month_shopid_max.loc[:,(tr_index-max_num):(tr_index-1)], \n",
    "                                         on = 'shop_id', rsuffix = '_max')\n",
    "        #print(by_month_shopid_max.columns)\n",
    "        #print(by_month[x_tr_index].columns)\n",
    "        #print(x_tr_max.columns)\n",
    "        x_tr_pred_max = by_month[x_tr_pred_index].join(by_month_shopid_max.loc[:,(tr_index-max_num+1):(tr_index)], \n",
    "                                                       on = 'shop_id', rsuffix = '_max')\n",
    "    else:\n",
    "        x_tr_max = by_month.loc[:,x_tr_index]\n",
    "        x_tr_pred_max = by_month.loc[:,x_tr_pred_index]\n",
    "\n",
    "    #print(x_tr_max.columns)\n",
    "    if sum_num>0:\n",
    "        by_month_shopid_sum = by_month.groupby('shop_id').sum(axis = 0).loc[:,months]\n",
    "        by_month_cols_sum = by_month_shopid_sum.loc[by_month['shop_id'].values,(tr_index-sum_num):(tr_index-1)]\n",
    "        by_month_cols_sum = by_month_cols_sum.reset_index().drop('shop_id', axis = 1).add_suffix('_sum')\n",
    "        x_tr_max_sum = x_tr_max.join(by_month_cols_sum)\n",
    "        \n",
    "        by_month_cols_sum = by_month_shopid_sum.loc[by_month['shop_id'].values,:].loc[:,(tr_index-sum_num+1):(tr_index)]\n",
    "        by_month_cols_sum = by_month_cols_sum.reset_index().drop('shop_id', axis = 1).add_suffix('_sum')\n",
    "        x_tr_pred_max_sum = x_tr_pred_max.join(by_month_cols_sum)\n",
    "        \n",
    "    else:\n",
    "        x_tr_max_sum = x_tr_max\n",
    "        x_tr_pred_max_sum = x_tr_pred_max\n",
    "     \n",
    "    #print(x_tr_max_sum.columns)\n",
    "    if ave_num>0:\n",
    "        by_month_shopid_item_count = by_month.groupby('shop_id')['item_id'].count()\n",
    "        by_month_shopid_average = by_month.groupby('shop_id').sum(axis = 0).divide(by_month_shopid_item_count, axis = 0).loc[:,months]\n",
    "        by_month_cols_average = by_month_shopid_average.loc[by_month['shop_id'].values,(tr_index-ave_num):(tr_index-1)].reset_index().drop('shop_id', axis = 1).add_suffix('_ave')\n",
    "        x_tr_max_sum_average = x_tr_max_sum.join(by_month_cols_average)\n",
    "        \n",
    "        by_month_cols_average = by_month_shopid_average.loc[by_month['shop_id'].values,(tr_index-ave_num+1):(tr_index)].reset_index().drop('shop_id', axis = 1).add_suffix('_ave')\n",
    "        x_tr_pred_max_sum_average = x_tr_pred_max_sum.join(by_month_cols_average)\n",
    "    else:\n",
    "        x_tr_max_sum_average = x_tr_max_sum\n",
    "        x_tr_pred_max_sum_average = x_tr_pred_max_sum\n",
    "    \n",
    "    #print(x_tr_max_sum_average.columns)\n",
    "    if expand:\n",
    "        x_tr_max_sum_average['item_id_enc'] = expanding_mean_encode(x_tr_index, tr_index, 'item_id',times = 1)['item_id_enc']\n",
    "        x_tr_max_sum_average['shop_id_enc'] = expanding_mean_encode(x_tr_index, tr_index, 'shop_id',times = 1)['shop_id_enc']\n",
    "        \n",
    "        x_tr_pred_max_sum_average['item_id_enc'] = x_tr_max_sum_average['item_id_enc']\n",
    "        x_tr_pred_max_sum_average['shop_id_enc'] = x_tr_max_sum_average['shop_id_enc']\n",
    "        \n",
    "        x_tr_max_sum_average = x_tr_max_sum_average.drop(['shop_id', 'item_id'], axis = 1)\n",
    "    \n",
    "    \n",
    "    x_tr = x_tr_max_sum_average.values\n",
    "    x_tr_pred_max_sum_average = sales_test.merge(x_tr_pred_max_sum_average, on = ['shop_id', 'item_id']).drop(['ID'], axis = 1)\n",
    "    if expand: \n",
    "        x_tr_pred_max_sum_average=x_tr_pred_max_sum_average.drop(['shop_id', 'item_id'], axis = 1)\n",
    "    x_tr_pred = x_tr_pred_max_sum_average.values\n",
    "    \n",
    "    return(x_tr_max_sum_average, x_tr, x_tr_pred_max_sum_average, x_tr_pred)"
   ]
  },
  {
   "cell_type": "code",
   "execution_count": 7,
   "metadata": {
    "collapsed": true
   },
   "outputs": [],
   "source": [
    "def create_y(tr_index):\n",
    "    val = sales_test.merge(by_month.loc[:,['item_id','shop_id',tr_index+1]], \n",
    "                           on = ['shop_id', 'item_id']).drop(['ID','shop_id', 'item_id'], axis = 1)\n",
    "    return(val)"
   ]
  },
  {
   "cell_type": "code",
   "execution_count": 8,
   "metadata": {
    "collapsed": true
   },
   "outputs": [],
   "source": [
    "sales_train = pd.read_csv(r'F:\\Old_Desktop\\Machine Learning Projects\\Time Series\\sales_train_v2.csv')\n",
    "items = pd.read_csv(r'F:\\Old_Desktop\\Machine Learning Projects\\Time Series\\items.csv')\n",
    "item_categories = pd.read_csv(r'F:\\Old_Desktop\\Machine Learning Projects\\Time Series\\item_categories.csv')\n",
    "shops = pd.read_csv(r'F:\\Old_Desktop\\Machine Learning Projects\\Time Series\\shops.csv')\n",
    "sales_test = pd.read_csv(r'F:\\Old_Desktop\\Machine Learning Projects\\Time Series\\test.csv')"
   ]
  },
  {
   "cell_type": "code",
   "execution_count": 4,
   "metadata": {},
   "outputs": [
    {
     "data": {
      "text/plain": [
       "date              0\n",
       "date_block_num    0\n",
       "shop_id           0\n",
       "item_id           0\n",
       "item_price        0\n",
       "item_cnt_day      0\n",
       "dtype: int64"
      ]
     },
     "execution_count": 4,
     "metadata": {},
     "output_type": "execute_result"
    }
   ],
   "source": [
    "sales_train.isnull().sum()"
   ]
  },
  {
   "cell_type": "code",
   "execution_count": 5,
   "metadata": {},
   "outputs": [
    {
     "data": {
      "text/html": [
       "<div>\n",
       "<style>\n",
       "    .dataframe thead tr:only-child th {\n",
       "        text-align: right;\n",
       "    }\n",
       "\n",
       "    .dataframe thead th {\n",
       "        text-align: left;\n",
       "    }\n",
       "\n",
       "    .dataframe tbody tr th {\n",
       "        vertical-align: top;\n",
       "    }\n",
       "</style>\n",
       "<table border=\"1\" class=\"dataframe\">\n",
       "  <thead>\n",
       "    <tr style=\"text-align: right;\">\n",
       "      <th></th>\n",
       "      <th>date</th>\n",
       "      <th>date_block_num</th>\n",
       "      <th>shop_id</th>\n",
       "      <th>item_id</th>\n",
       "      <th>item_price</th>\n",
       "      <th>item_cnt_day</th>\n",
       "    </tr>\n",
       "  </thead>\n",
       "  <tbody>\n",
       "    <tr>\n",
       "      <th>0</th>\n",
       "      <td>02.01.2013</td>\n",
       "      <td>0</td>\n",
       "      <td>59</td>\n",
       "      <td>22154</td>\n",
       "      <td>999.00</td>\n",
       "      <td>1.0</td>\n",
       "    </tr>\n",
       "    <tr>\n",
       "      <th>1</th>\n",
       "      <td>03.01.2013</td>\n",
       "      <td>0</td>\n",
       "      <td>25</td>\n",
       "      <td>2552</td>\n",
       "      <td>899.00</td>\n",
       "      <td>1.0</td>\n",
       "    </tr>\n",
       "    <tr>\n",
       "      <th>2</th>\n",
       "      <td>05.01.2013</td>\n",
       "      <td>0</td>\n",
       "      <td>25</td>\n",
       "      <td>2552</td>\n",
       "      <td>899.00</td>\n",
       "      <td>-1.0</td>\n",
       "    </tr>\n",
       "    <tr>\n",
       "      <th>3</th>\n",
       "      <td>06.01.2013</td>\n",
       "      <td>0</td>\n",
       "      <td>25</td>\n",
       "      <td>2554</td>\n",
       "      <td>1709.05</td>\n",
       "      <td>1.0</td>\n",
       "    </tr>\n",
       "    <tr>\n",
       "      <th>4</th>\n",
       "      <td>15.01.2013</td>\n",
       "      <td>0</td>\n",
       "      <td>25</td>\n",
       "      <td>2555</td>\n",
       "      <td>1099.00</td>\n",
       "      <td>1.0</td>\n",
       "    </tr>\n",
       "  </tbody>\n",
       "</table>\n",
       "</div>"
      ],
      "text/plain": [
       "         date  date_block_num  shop_id  item_id  item_price  item_cnt_day\n",
       "0  02.01.2013               0       59    22154      999.00           1.0\n",
       "1  03.01.2013               0       25     2552      899.00           1.0\n",
       "2  05.01.2013               0       25     2552      899.00          -1.0\n",
       "3  06.01.2013               0       25     2554     1709.05           1.0\n",
       "4  15.01.2013               0       25     2555     1099.00           1.0"
      ]
     },
     "execution_count": 5,
     "metadata": {},
     "output_type": "execute_result"
    }
   ],
   "source": [
    "sales_train.head()"
   ]
  },
  {
   "cell_type": "code",
   "execution_count": 6,
   "metadata": {},
   "outputs": [
    {
     "data": {
      "text/plain": [
       "(2935849, 6)"
      ]
     },
     "execution_count": 6,
     "metadata": {},
     "output_type": "execute_result"
    }
   ],
   "source": [
    "sales_train.shape"
   ]
  },
  {
   "cell_type": "code",
   "execution_count": 7,
   "metadata": {},
   "outputs": [
    {
     "data": {
      "text/plain": [
       "date               1034\n",
       "date_block_num       34\n",
       "shop_id              60\n",
       "item_id           21807\n",
       "item_price        19993\n",
       "item_cnt_day        198\n",
       "dtype: int64"
      ]
     },
     "execution_count": 7,
     "metadata": {},
     "output_type": "execute_result"
    }
   ],
   "source": [
    "sales_train.nunique(axis = 0)"
   ]
  },
  {
   "cell_type": "code",
   "execution_count": 59,
   "metadata": {},
   "outputs": [
    {
     "data": {
      "text/html": [
       "<div>\n",
       "<style>\n",
       "    .dataframe thead tr:only-child th {\n",
       "        text-align: right;\n",
       "    }\n",
       "\n",
       "    .dataframe thead th {\n",
       "        text-align: left;\n",
       "    }\n",
       "\n",
       "    .dataframe tbody tr th {\n",
       "        vertical-align: top;\n",
       "    }\n",
       "</style>\n",
       "<table border=\"1\" class=\"dataframe\">\n",
       "  <thead>\n",
       "    <tr style=\"text-align: right;\">\n",
       "      <th></th>\n",
       "      <th>ID</th>\n",
       "      <th>shop_id</th>\n",
       "      <th>item_id</th>\n",
       "    </tr>\n",
       "  </thead>\n",
       "  <tbody>\n",
       "    <tr>\n",
       "      <th>0</th>\n",
       "      <td>0</td>\n",
       "      <td>5</td>\n",
       "      <td>5037</td>\n",
       "    </tr>\n",
       "    <tr>\n",
       "      <th>1</th>\n",
       "      <td>1</td>\n",
       "      <td>5</td>\n",
       "      <td>5320</td>\n",
       "    </tr>\n",
       "    <tr>\n",
       "      <th>2</th>\n",
       "      <td>2</td>\n",
       "      <td>5</td>\n",
       "      <td>5233</td>\n",
       "    </tr>\n",
       "    <tr>\n",
       "      <th>3</th>\n",
       "      <td>3</td>\n",
       "      <td>5</td>\n",
       "      <td>5232</td>\n",
       "    </tr>\n",
       "    <tr>\n",
       "      <th>4</th>\n",
       "      <td>4</td>\n",
       "      <td>5</td>\n",
       "      <td>5268</td>\n",
       "    </tr>\n",
       "  </tbody>\n",
       "</table>\n",
       "</div>"
      ],
      "text/plain": [
       "   ID  shop_id  item_id\n",
       "0   0        5     5037\n",
       "1   1        5     5320\n",
       "2   2        5     5233\n",
       "3   3        5     5232\n",
       "4   4        5     5268"
      ]
     },
     "execution_count": 59,
     "metadata": {},
     "output_type": "execute_result"
    }
   ],
   "source": [
    "sales_test.head()"
   ]
  },
  {
   "cell_type": "code",
   "execution_count": 8,
   "metadata": {},
   "outputs": [
    {
     "data": {
      "text/plain": [
       "(214200, 3)"
      ]
     },
     "execution_count": 8,
     "metadata": {},
     "output_type": "execute_result"
    }
   ],
   "source": [
    "sales_test.shape"
   ]
  },
  {
   "cell_type": "code",
   "execution_count": 9,
   "metadata": {},
   "outputs": [
    {
     "data": {
      "text/plain": [
       "ID         214200\n",
       "shop_id        42\n",
       "item_id      5100\n",
       "dtype: int64"
      ]
     },
     "execution_count": 9,
     "metadata": {},
     "output_type": "execute_result"
    }
   ],
   "source": [
    "sales_test.nunique(dropna = False)"
   ]
  },
  {
   "cell_type": "code",
   "execution_count": 9,
   "metadata": {
    "collapsed": true
   },
   "outputs": [],
   "source": [
    "by_month = pd.pivot_table(sales_train, index= ('item_id','shop_id'), values='item_cnt_day', columns='date_block_num',aggfunc = sum)"
   ]
  },
  {
   "cell_type": "code",
   "execution_count": 10,
   "metadata": {
    "collapsed": true
   },
   "outputs": [],
   "source": [
    "by_month[by_month.isnull()] = 0\n",
    "by_month = by_month.reset_index()"
   ]
  },
  {
   "cell_type": "code",
   "execution_count": 11,
   "metadata": {
    "collapsed": true
   },
   "outputs": [],
   "source": [
    "by_month = by_month.join(items.loc[:,('item_id','item_category_id')].set_index('item_id'), on='item_id')"
   ]
  },
  {
   "cell_type": "code",
   "execution_count": 6,
   "metadata": {
    "scrolled": true
   },
   "outputs": [
    {
     "data": {
      "text/html": [
       "<div>\n",
       "<style>\n",
       "    .dataframe thead tr:only-child th {\n",
       "        text-align: right;\n",
       "    }\n",
       "\n",
       "    .dataframe thead th {\n",
       "        text-align: left;\n",
       "    }\n",
       "\n",
       "    .dataframe tbody tr th {\n",
       "        vertical-align: top;\n",
       "    }\n",
       "</style>\n",
       "<table border=\"1\" class=\"dataframe\">\n",
       "  <thead>\n",
       "    <tr style=\"text-align: right;\">\n",
       "      <th></th>\n",
       "      <th>item_id</th>\n",
       "      <th>shop_id</th>\n",
       "      <th>0</th>\n",
       "      <th>1</th>\n",
       "      <th>2</th>\n",
       "      <th>3</th>\n",
       "      <th>4</th>\n",
       "      <th>5</th>\n",
       "      <th>6</th>\n",
       "      <th>7</th>\n",
       "      <th>...</th>\n",
       "      <th>25</th>\n",
       "      <th>26</th>\n",
       "      <th>27</th>\n",
       "      <th>28</th>\n",
       "      <th>29</th>\n",
       "      <th>30</th>\n",
       "      <th>31</th>\n",
       "      <th>32</th>\n",
       "      <th>33</th>\n",
       "      <th>item_category_id</th>\n",
       "    </tr>\n",
       "  </thead>\n",
       "  <tbody>\n",
       "    <tr>\n",
       "      <th>0</th>\n",
       "      <td>0</td>\n",
       "      <td>54</td>\n",
       "      <td>0.0</td>\n",
       "      <td>0.0</td>\n",
       "      <td>0.0</td>\n",
       "      <td>0.0</td>\n",
       "      <td>0.0</td>\n",
       "      <td>0.0</td>\n",
       "      <td>0.0</td>\n",
       "      <td>0.0</td>\n",
       "      <td>...</td>\n",
       "      <td>0.0</td>\n",
       "      <td>0.0</td>\n",
       "      <td>0.0</td>\n",
       "      <td>0.0</td>\n",
       "      <td>0.0</td>\n",
       "      <td>0.0</td>\n",
       "      <td>0.0</td>\n",
       "      <td>0.0</td>\n",
       "      <td>0.0</td>\n",
       "      <td>40</td>\n",
       "    </tr>\n",
       "    <tr>\n",
       "      <th>1</th>\n",
       "      <td>1</td>\n",
       "      <td>55</td>\n",
       "      <td>0.0</td>\n",
       "      <td>0.0</td>\n",
       "      <td>0.0</td>\n",
       "      <td>0.0</td>\n",
       "      <td>0.0</td>\n",
       "      <td>0.0</td>\n",
       "      <td>0.0</td>\n",
       "      <td>0.0</td>\n",
       "      <td>...</td>\n",
       "      <td>0.0</td>\n",
       "      <td>0.0</td>\n",
       "      <td>0.0</td>\n",
       "      <td>0.0</td>\n",
       "      <td>0.0</td>\n",
       "      <td>0.0</td>\n",
       "      <td>0.0</td>\n",
       "      <td>0.0</td>\n",
       "      <td>0.0</td>\n",
       "      <td>76</td>\n",
       "    </tr>\n",
       "    <tr>\n",
       "      <th>2</th>\n",
       "      <td>2</td>\n",
       "      <td>54</td>\n",
       "      <td>0.0</td>\n",
       "      <td>0.0</td>\n",
       "      <td>0.0</td>\n",
       "      <td>0.0</td>\n",
       "      <td>0.0</td>\n",
       "      <td>0.0</td>\n",
       "      <td>0.0</td>\n",
       "      <td>0.0</td>\n",
       "      <td>...</td>\n",
       "      <td>0.0</td>\n",
       "      <td>0.0</td>\n",
       "      <td>0.0</td>\n",
       "      <td>0.0</td>\n",
       "      <td>0.0</td>\n",
       "      <td>0.0</td>\n",
       "      <td>0.0</td>\n",
       "      <td>0.0</td>\n",
       "      <td>0.0</td>\n",
       "      <td>40</td>\n",
       "    </tr>\n",
       "    <tr>\n",
       "      <th>3</th>\n",
       "      <td>3</td>\n",
       "      <td>54</td>\n",
       "      <td>0.0</td>\n",
       "      <td>0.0</td>\n",
       "      <td>0.0</td>\n",
       "      <td>0.0</td>\n",
       "      <td>0.0</td>\n",
       "      <td>0.0</td>\n",
       "      <td>0.0</td>\n",
       "      <td>0.0</td>\n",
       "      <td>...</td>\n",
       "      <td>0.0</td>\n",
       "      <td>0.0</td>\n",
       "      <td>0.0</td>\n",
       "      <td>0.0</td>\n",
       "      <td>0.0</td>\n",
       "      <td>0.0</td>\n",
       "      <td>0.0</td>\n",
       "      <td>0.0</td>\n",
       "      <td>0.0</td>\n",
       "      <td>40</td>\n",
       "    </tr>\n",
       "    <tr>\n",
       "      <th>4</th>\n",
       "      <td>4</td>\n",
       "      <td>54</td>\n",
       "      <td>0.0</td>\n",
       "      <td>0.0</td>\n",
       "      <td>0.0</td>\n",
       "      <td>0.0</td>\n",
       "      <td>0.0</td>\n",
       "      <td>0.0</td>\n",
       "      <td>0.0</td>\n",
       "      <td>0.0</td>\n",
       "      <td>...</td>\n",
       "      <td>0.0</td>\n",
       "      <td>0.0</td>\n",
       "      <td>0.0</td>\n",
       "      <td>0.0</td>\n",
       "      <td>0.0</td>\n",
       "      <td>0.0</td>\n",
       "      <td>0.0</td>\n",
       "      <td>0.0</td>\n",
       "      <td>0.0</td>\n",
       "      <td>40</td>\n",
       "    </tr>\n",
       "    <tr>\n",
       "      <th>5</th>\n",
       "      <td>5</td>\n",
       "      <td>54</td>\n",
       "      <td>0.0</td>\n",
       "      <td>0.0</td>\n",
       "      <td>0.0</td>\n",
       "      <td>0.0</td>\n",
       "      <td>0.0</td>\n",
       "      <td>0.0</td>\n",
       "      <td>0.0</td>\n",
       "      <td>0.0</td>\n",
       "      <td>...</td>\n",
       "      <td>0.0</td>\n",
       "      <td>0.0</td>\n",
       "      <td>0.0</td>\n",
       "      <td>0.0</td>\n",
       "      <td>0.0</td>\n",
       "      <td>0.0</td>\n",
       "      <td>0.0</td>\n",
       "      <td>0.0</td>\n",
       "      <td>0.0</td>\n",
       "      <td>40</td>\n",
       "    </tr>\n",
       "    <tr>\n",
       "      <th>6</th>\n",
       "      <td>6</td>\n",
       "      <td>54</td>\n",
       "      <td>0.0</td>\n",
       "      <td>0.0</td>\n",
       "      <td>0.0</td>\n",
       "      <td>0.0</td>\n",
       "      <td>0.0</td>\n",
       "      <td>0.0</td>\n",
       "      <td>0.0</td>\n",
       "      <td>0.0</td>\n",
       "      <td>...</td>\n",
       "      <td>0.0</td>\n",
       "      <td>0.0</td>\n",
       "      <td>0.0</td>\n",
       "      <td>0.0</td>\n",
       "      <td>0.0</td>\n",
       "      <td>0.0</td>\n",
       "      <td>0.0</td>\n",
       "      <td>0.0</td>\n",
       "      <td>0.0</td>\n",
       "      <td>40</td>\n",
       "    </tr>\n",
       "    <tr>\n",
       "      <th>7</th>\n",
       "      <td>7</td>\n",
       "      <td>54</td>\n",
       "      <td>0.0</td>\n",
       "      <td>0.0</td>\n",
       "      <td>0.0</td>\n",
       "      <td>0.0</td>\n",
       "      <td>0.0</td>\n",
       "      <td>0.0</td>\n",
       "      <td>0.0</td>\n",
       "      <td>0.0</td>\n",
       "      <td>...</td>\n",
       "      <td>0.0</td>\n",
       "      <td>0.0</td>\n",
       "      <td>0.0</td>\n",
       "      <td>0.0</td>\n",
       "      <td>0.0</td>\n",
       "      <td>0.0</td>\n",
       "      <td>0.0</td>\n",
       "      <td>0.0</td>\n",
       "      <td>0.0</td>\n",
       "      <td>40</td>\n",
       "    </tr>\n",
       "    <tr>\n",
       "      <th>8</th>\n",
       "      <td>8</td>\n",
       "      <td>54</td>\n",
       "      <td>0.0</td>\n",
       "      <td>0.0</td>\n",
       "      <td>0.0</td>\n",
       "      <td>0.0</td>\n",
       "      <td>0.0</td>\n",
       "      <td>0.0</td>\n",
       "      <td>0.0</td>\n",
       "      <td>0.0</td>\n",
       "      <td>...</td>\n",
       "      <td>0.0</td>\n",
       "      <td>0.0</td>\n",
       "      <td>0.0</td>\n",
       "      <td>0.0</td>\n",
       "      <td>0.0</td>\n",
       "      <td>0.0</td>\n",
       "      <td>0.0</td>\n",
       "      <td>0.0</td>\n",
       "      <td>0.0</td>\n",
       "      <td>40</td>\n",
       "    </tr>\n",
       "    <tr>\n",
       "      <th>9</th>\n",
       "      <td>9</td>\n",
       "      <td>54</td>\n",
       "      <td>0.0</td>\n",
       "      <td>0.0</td>\n",
       "      <td>0.0</td>\n",
       "      <td>0.0</td>\n",
       "      <td>0.0</td>\n",
       "      <td>0.0</td>\n",
       "      <td>0.0</td>\n",
       "      <td>0.0</td>\n",
       "      <td>...</td>\n",
       "      <td>0.0</td>\n",
       "      <td>0.0</td>\n",
       "      <td>0.0</td>\n",
       "      <td>0.0</td>\n",
       "      <td>0.0</td>\n",
       "      <td>0.0</td>\n",
       "      <td>0.0</td>\n",
       "      <td>0.0</td>\n",
       "      <td>0.0</td>\n",
       "      <td>40</td>\n",
       "    </tr>\n",
       "    <tr>\n",
       "      <th>10</th>\n",
       "      <td>10</td>\n",
       "      <td>54</td>\n",
       "      <td>0.0</td>\n",
       "      <td>0.0</td>\n",
       "      <td>0.0</td>\n",
       "      <td>0.0</td>\n",
       "      <td>0.0</td>\n",
       "      <td>0.0</td>\n",
       "      <td>0.0</td>\n",
       "      <td>0.0</td>\n",
       "      <td>...</td>\n",
       "      <td>0.0</td>\n",
       "      <td>0.0</td>\n",
       "      <td>0.0</td>\n",
       "      <td>0.0</td>\n",
       "      <td>0.0</td>\n",
       "      <td>0.0</td>\n",
       "      <td>0.0</td>\n",
       "      <td>0.0</td>\n",
       "      <td>0.0</td>\n",
       "      <td>40</td>\n",
       "    </tr>\n",
       "    <tr>\n",
       "      <th>11</th>\n",
       "      <td>11</td>\n",
       "      <td>54</td>\n",
       "      <td>0.0</td>\n",
       "      <td>0.0</td>\n",
       "      <td>0.0</td>\n",
       "      <td>0.0</td>\n",
       "      <td>0.0</td>\n",
       "      <td>0.0</td>\n",
       "      <td>0.0</td>\n",
       "      <td>0.0</td>\n",
       "      <td>...</td>\n",
       "      <td>0.0</td>\n",
       "      <td>0.0</td>\n",
       "      <td>0.0</td>\n",
       "      <td>0.0</td>\n",
       "      <td>0.0</td>\n",
       "      <td>0.0</td>\n",
       "      <td>0.0</td>\n",
       "      <td>0.0</td>\n",
       "      <td>0.0</td>\n",
       "      <td>40</td>\n",
       "    </tr>\n",
       "    <tr>\n",
       "      <th>12</th>\n",
       "      <td>12</td>\n",
       "      <td>54</td>\n",
       "      <td>0.0</td>\n",
       "      <td>1.0</td>\n",
       "      <td>0.0</td>\n",
       "      <td>0.0</td>\n",
       "      <td>0.0</td>\n",
       "      <td>0.0</td>\n",
       "      <td>0.0</td>\n",
       "      <td>0.0</td>\n",
       "      <td>...</td>\n",
       "      <td>0.0</td>\n",
       "      <td>0.0</td>\n",
       "      <td>0.0</td>\n",
       "      <td>0.0</td>\n",
       "      <td>0.0</td>\n",
       "      <td>0.0</td>\n",
       "      <td>0.0</td>\n",
       "      <td>0.0</td>\n",
       "      <td>0.0</td>\n",
       "      <td>55</td>\n",
       "    </tr>\n",
       "    <tr>\n",
       "      <th>13</th>\n",
       "      <td>13</td>\n",
       "      <td>54</td>\n",
       "      <td>0.0</td>\n",
       "      <td>0.0</td>\n",
       "      <td>0.0</td>\n",
       "      <td>0.0</td>\n",
       "      <td>0.0</td>\n",
       "      <td>0.0</td>\n",
       "      <td>0.0</td>\n",
       "      <td>0.0</td>\n",
       "      <td>...</td>\n",
       "      <td>0.0</td>\n",
       "      <td>0.0</td>\n",
       "      <td>0.0</td>\n",
       "      <td>0.0</td>\n",
       "      <td>0.0</td>\n",
       "      <td>0.0</td>\n",
       "      <td>0.0</td>\n",
       "      <td>0.0</td>\n",
       "      <td>0.0</td>\n",
       "      <td>40</td>\n",
       "    </tr>\n",
       "    <tr>\n",
       "      <th>14</th>\n",
       "      <td>14</td>\n",
       "      <td>54</td>\n",
       "      <td>0.0</td>\n",
       "      <td>0.0</td>\n",
       "      <td>0.0</td>\n",
       "      <td>0.0</td>\n",
       "      <td>0.0</td>\n",
       "      <td>0.0</td>\n",
       "      <td>0.0</td>\n",
       "      <td>0.0</td>\n",
       "      <td>...</td>\n",
       "      <td>0.0</td>\n",
       "      <td>0.0</td>\n",
       "      <td>0.0</td>\n",
       "      <td>0.0</td>\n",
       "      <td>0.0</td>\n",
       "      <td>0.0</td>\n",
       "      <td>0.0</td>\n",
       "      <td>0.0</td>\n",
       "      <td>0.0</td>\n",
       "      <td>40</td>\n",
       "    </tr>\n",
       "    <tr>\n",
       "      <th>15</th>\n",
       "      <td>15</td>\n",
       "      <td>54</td>\n",
       "      <td>0.0</td>\n",
       "      <td>0.0</td>\n",
       "      <td>0.0</td>\n",
       "      <td>0.0</td>\n",
       "      <td>0.0</td>\n",
       "      <td>0.0</td>\n",
       "      <td>0.0</td>\n",
       "      <td>0.0</td>\n",
       "      <td>...</td>\n",
       "      <td>0.0</td>\n",
       "      <td>0.0</td>\n",
       "      <td>0.0</td>\n",
       "      <td>0.0</td>\n",
       "      <td>0.0</td>\n",
       "      <td>0.0</td>\n",
       "      <td>0.0</td>\n",
       "      <td>0.0</td>\n",
       "      <td>0.0</td>\n",
       "      <td>40</td>\n",
       "    </tr>\n",
       "    <tr>\n",
       "      <th>16</th>\n",
       "      <td>16</td>\n",
       "      <td>56</td>\n",
       "      <td>0.0</td>\n",
       "      <td>0.0</td>\n",
       "      <td>0.0</td>\n",
       "      <td>0.0</td>\n",
       "      <td>0.0</td>\n",
       "      <td>0.0</td>\n",
       "      <td>0.0</td>\n",
       "      <td>0.0</td>\n",
       "      <td>...</td>\n",
       "      <td>0.0</td>\n",
       "      <td>0.0</td>\n",
       "      <td>0.0</td>\n",
       "      <td>0.0</td>\n",
       "      <td>0.0</td>\n",
       "      <td>0.0</td>\n",
       "      <td>0.0</td>\n",
       "      <td>0.0</td>\n",
       "      <td>0.0</td>\n",
       "      <td>40</td>\n",
       "    </tr>\n",
       "    <tr>\n",
       "      <th>17</th>\n",
       "      <td>17</td>\n",
       "      <td>44</td>\n",
       "      <td>0.0</td>\n",
       "      <td>0.0</td>\n",
       "      <td>0.0</td>\n",
       "      <td>0.0</td>\n",
       "      <td>0.0</td>\n",
       "      <td>0.0</td>\n",
       "      <td>0.0</td>\n",
       "      <td>0.0</td>\n",
       "      <td>...</td>\n",
       "      <td>0.0</td>\n",
       "      <td>0.0</td>\n",
       "      <td>0.0</td>\n",
       "      <td>0.0</td>\n",
       "      <td>0.0</td>\n",
       "      <td>0.0</td>\n",
       "      <td>0.0</td>\n",
       "      <td>0.0</td>\n",
       "      <td>0.0</td>\n",
       "      <td>40</td>\n",
       "    </tr>\n",
       "    <tr>\n",
       "      <th>18</th>\n",
       "      <td>18</td>\n",
       "      <td>25</td>\n",
       "      <td>0.0</td>\n",
       "      <td>0.0</td>\n",
       "      <td>0.0</td>\n",
       "      <td>0.0</td>\n",
       "      <td>0.0</td>\n",
       "      <td>0.0</td>\n",
       "      <td>0.0</td>\n",
       "      <td>0.0</td>\n",
       "      <td>...</td>\n",
       "      <td>0.0</td>\n",
       "      <td>0.0</td>\n",
       "      <td>0.0</td>\n",
       "      <td>0.0</td>\n",
       "      <td>0.0</td>\n",
       "      <td>0.0</td>\n",
       "      <td>0.0</td>\n",
       "      <td>0.0</td>\n",
       "      <td>0.0</td>\n",
       "      <td>40</td>\n",
       "    </tr>\n",
       "    <tr>\n",
       "      <th>19</th>\n",
       "      <td>19</td>\n",
       "      <td>25</td>\n",
       "      <td>1.0</td>\n",
       "      <td>0.0</td>\n",
       "      <td>0.0</td>\n",
       "      <td>0.0</td>\n",
       "      <td>0.0</td>\n",
       "      <td>0.0</td>\n",
       "      <td>0.0</td>\n",
       "      <td>0.0</td>\n",
       "      <td>...</td>\n",
       "      <td>0.0</td>\n",
       "      <td>0.0</td>\n",
       "      <td>0.0</td>\n",
       "      <td>0.0</td>\n",
       "      <td>0.0</td>\n",
       "      <td>0.0</td>\n",
       "      <td>0.0</td>\n",
       "      <td>0.0</td>\n",
       "      <td>0.0</td>\n",
       "      <td>40</td>\n",
       "    </tr>\n",
       "    <tr>\n",
       "      <th>20</th>\n",
       "      <td>20</td>\n",
       "      <td>54</td>\n",
       "      <td>0.0</td>\n",
       "      <td>0.0</td>\n",
       "      <td>0.0</td>\n",
       "      <td>0.0</td>\n",
       "      <td>0.0</td>\n",
       "      <td>0.0</td>\n",
       "      <td>0.0</td>\n",
       "      <td>0.0</td>\n",
       "      <td>...</td>\n",
       "      <td>0.0</td>\n",
       "      <td>0.0</td>\n",
       "      <td>0.0</td>\n",
       "      <td>0.0</td>\n",
       "      <td>0.0</td>\n",
       "      <td>0.0</td>\n",
       "      <td>0.0</td>\n",
       "      <td>0.0</td>\n",
       "      <td>0.0</td>\n",
       "      <td>40</td>\n",
       "    </tr>\n",
       "    <tr>\n",
       "      <th>21</th>\n",
       "      <td>21</td>\n",
       "      <td>54</td>\n",
       "      <td>0.0</td>\n",
       "      <td>0.0</td>\n",
       "      <td>0.0</td>\n",
       "      <td>0.0</td>\n",
       "      <td>0.0</td>\n",
       "      <td>0.0</td>\n",
       "      <td>0.0</td>\n",
       "      <td>0.0</td>\n",
       "      <td>...</td>\n",
       "      <td>0.0</td>\n",
       "      <td>0.0</td>\n",
       "      <td>0.0</td>\n",
       "      <td>0.0</td>\n",
       "      <td>0.0</td>\n",
       "      <td>0.0</td>\n",
       "      <td>0.0</td>\n",
       "      <td>0.0</td>\n",
       "      <td>0.0</td>\n",
       "      <td>40</td>\n",
       "    </tr>\n",
       "    <tr>\n",
       "      <th>22</th>\n",
       "      <td>22</td>\n",
       "      <td>54</td>\n",
       "      <td>0.0</td>\n",
       "      <td>0.0</td>\n",
       "      <td>0.0</td>\n",
       "      <td>0.0</td>\n",
       "      <td>0.0</td>\n",
       "      <td>0.0</td>\n",
       "      <td>0.0</td>\n",
       "      <td>0.0</td>\n",
       "      <td>...</td>\n",
       "      <td>0.0</td>\n",
       "      <td>0.0</td>\n",
       "      <td>1.0</td>\n",
       "      <td>0.0</td>\n",
       "      <td>0.0</td>\n",
       "      <td>0.0</td>\n",
       "      <td>0.0</td>\n",
       "      <td>0.0</td>\n",
       "      <td>0.0</td>\n",
       "      <td>40</td>\n",
       "    </tr>\n",
       "    <tr>\n",
       "      <th>23</th>\n",
       "      <td>23</td>\n",
       "      <td>54</td>\n",
       "      <td>0.0</td>\n",
       "      <td>0.0</td>\n",
       "      <td>0.0</td>\n",
       "      <td>0.0</td>\n",
       "      <td>0.0</td>\n",
       "      <td>0.0</td>\n",
       "      <td>0.0</td>\n",
       "      <td>0.0</td>\n",
       "      <td>...</td>\n",
       "      <td>1.0</td>\n",
       "      <td>0.0</td>\n",
       "      <td>0.0</td>\n",
       "      <td>0.0</td>\n",
       "      <td>0.0</td>\n",
       "      <td>0.0</td>\n",
       "      <td>0.0</td>\n",
       "      <td>0.0</td>\n",
       "      <td>0.0</td>\n",
       "      <td>40</td>\n",
       "    </tr>\n",
       "    <tr>\n",
       "      <th>24</th>\n",
       "      <td>24</td>\n",
       "      <td>54</td>\n",
       "      <td>0.0</td>\n",
       "      <td>0.0</td>\n",
       "      <td>0.0</td>\n",
       "      <td>0.0</td>\n",
       "      <td>0.0</td>\n",
       "      <td>0.0</td>\n",
       "      <td>0.0</td>\n",
       "      <td>0.0</td>\n",
       "      <td>...</td>\n",
       "      <td>0.0</td>\n",
       "      <td>0.0</td>\n",
       "      <td>1.0</td>\n",
       "      <td>0.0</td>\n",
       "      <td>0.0</td>\n",
       "      <td>0.0</td>\n",
       "      <td>0.0</td>\n",
       "      <td>0.0</td>\n",
       "      <td>0.0</td>\n",
       "      <td>40</td>\n",
       "    </tr>\n",
       "    <tr>\n",
       "      <th>25</th>\n",
       "      <td>25</td>\n",
       "      <td>54</td>\n",
       "      <td>0.0</td>\n",
       "      <td>0.0</td>\n",
       "      <td>0.0</td>\n",
       "      <td>0.0</td>\n",
       "      <td>0.0</td>\n",
       "      <td>0.0</td>\n",
       "      <td>0.0</td>\n",
       "      <td>0.0</td>\n",
       "      <td>...</td>\n",
       "      <td>0.0</td>\n",
       "      <td>0.0</td>\n",
       "      <td>0.0</td>\n",
       "      <td>0.0</td>\n",
       "      <td>0.0</td>\n",
       "      <td>0.0</td>\n",
       "      <td>0.0</td>\n",
       "      <td>0.0</td>\n",
       "      <td>0.0</td>\n",
       "      <td>40</td>\n",
       "    </tr>\n",
       "    <tr>\n",
       "      <th>26</th>\n",
       "      <td>26</td>\n",
       "      <td>31</td>\n",
       "      <td>0.0</td>\n",
       "      <td>0.0</td>\n",
       "      <td>0.0</td>\n",
       "      <td>0.0</td>\n",
       "      <td>0.0</td>\n",
       "      <td>0.0</td>\n",
       "      <td>0.0</td>\n",
       "      <td>0.0</td>\n",
       "      <td>...</td>\n",
       "      <td>0.0</td>\n",
       "      <td>0.0</td>\n",
       "      <td>0.0</td>\n",
       "      <td>0.0</td>\n",
       "      <td>0.0</td>\n",
       "      <td>0.0</td>\n",
       "      <td>0.0</td>\n",
       "      <td>0.0</td>\n",
       "      <td>0.0</td>\n",
       "      <td>40</td>\n",
       "    </tr>\n",
       "    <tr>\n",
       "      <th>27</th>\n",
       "      <td>27</td>\n",
       "      <td>1</td>\n",
       "      <td>1.0</td>\n",
       "      <td>0.0</td>\n",
       "      <td>0.0</td>\n",
       "      <td>0.0</td>\n",
       "      <td>0.0</td>\n",
       "      <td>0.0</td>\n",
       "      <td>0.0</td>\n",
       "      <td>0.0</td>\n",
       "      <td>...</td>\n",
       "      <td>0.0</td>\n",
       "      <td>0.0</td>\n",
       "      <td>0.0</td>\n",
       "      <td>0.0</td>\n",
       "      <td>0.0</td>\n",
       "      <td>0.0</td>\n",
       "      <td>0.0</td>\n",
       "      <td>0.0</td>\n",
       "      <td>0.0</td>\n",
       "      <td>19</td>\n",
       "    </tr>\n",
       "    <tr>\n",
       "      <th>28</th>\n",
       "      <td>27</td>\n",
       "      <td>2</td>\n",
       "      <td>1.0</td>\n",
       "      <td>0.0</td>\n",
       "      <td>0.0</td>\n",
       "      <td>0.0</td>\n",
       "      <td>0.0</td>\n",
       "      <td>0.0</td>\n",
       "      <td>0.0</td>\n",
       "      <td>0.0</td>\n",
       "      <td>...</td>\n",
       "      <td>0.0</td>\n",
       "      <td>0.0</td>\n",
       "      <td>0.0</td>\n",
       "      <td>0.0</td>\n",
       "      <td>0.0</td>\n",
       "      <td>0.0</td>\n",
       "      <td>0.0</td>\n",
       "      <td>0.0</td>\n",
       "      <td>0.0</td>\n",
       "      <td>19</td>\n",
       "    </tr>\n",
       "    <tr>\n",
       "      <th>29</th>\n",
       "      <td>27</td>\n",
       "      <td>3</td>\n",
       "      <td>0.0</td>\n",
       "      <td>0.0</td>\n",
       "      <td>0.0</td>\n",
       "      <td>0.0</td>\n",
       "      <td>0.0</td>\n",
       "      <td>0.0</td>\n",
       "      <td>0.0</td>\n",
       "      <td>0.0</td>\n",
       "      <td>...</td>\n",
       "      <td>0.0</td>\n",
       "      <td>0.0</td>\n",
       "      <td>0.0</td>\n",
       "      <td>0.0</td>\n",
       "      <td>0.0</td>\n",
       "      <td>0.0</td>\n",
       "      <td>0.0</td>\n",
       "      <td>0.0</td>\n",
       "      <td>0.0</td>\n",
       "      <td>19</td>\n",
       "    </tr>\n",
       "    <tr>\n",
       "      <th>...</th>\n",
       "      <td>...</td>\n",
       "      <td>...</td>\n",
       "      <td>...</td>\n",
       "      <td>...</td>\n",
       "      <td>...</td>\n",
       "      <td>...</td>\n",
       "      <td>...</td>\n",
       "      <td>...</td>\n",
       "      <td>...</td>\n",
       "      <td>...</td>\n",
       "      <td>...</td>\n",
       "      <td>...</td>\n",
       "      <td>...</td>\n",
       "      <td>...</td>\n",
       "      <td>...</td>\n",
       "      <td>...</td>\n",
       "      <td>...</td>\n",
       "      <td>...</td>\n",
       "      <td>...</td>\n",
       "      <td>...</td>\n",
       "      <td>...</td>\n",
       "    </tr>\n",
       "    <tr>\n",
       "      <th>424094</th>\n",
       "      <td>22167</td>\n",
       "      <td>33</td>\n",
       "      <td>0.0</td>\n",
       "      <td>0.0</td>\n",
       "      <td>0.0</td>\n",
       "      <td>0.0</td>\n",
       "      <td>0.0</td>\n",
       "      <td>0.0</td>\n",
       "      <td>0.0</td>\n",
       "      <td>0.0</td>\n",
       "      <td>...</td>\n",
       "      <td>0.0</td>\n",
       "      <td>0.0</td>\n",
       "      <td>0.0</td>\n",
       "      <td>0.0</td>\n",
       "      <td>0.0</td>\n",
       "      <td>0.0</td>\n",
       "      <td>0.0</td>\n",
       "      <td>0.0</td>\n",
       "      <td>0.0</td>\n",
       "      <td>49</td>\n",
       "    </tr>\n",
       "    <tr>\n",
       "      <th>424095</th>\n",
       "      <td>22167</td>\n",
       "      <td>34</td>\n",
       "      <td>0.0</td>\n",
       "      <td>0.0</td>\n",
       "      <td>0.0</td>\n",
       "      <td>0.0</td>\n",
       "      <td>0.0</td>\n",
       "      <td>0.0</td>\n",
       "      <td>0.0</td>\n",
       "      <td>0.0</td>\n",
       "      <td>...</td>\n",
       "      <td>0.0</td>\n",
       "      <td>0.0</td>\n",
       "      <td>0.0</td>\n",
       "      <td>0.0</td>\n",
       "      <td>1.0</td>\n",
       "      <td>0.0</td>\n",
       "      <td>0.0</td>\n",
       "      <td>0.0</td>\n",
       "      <td>0.0</td>\n",
       "      <td>49</td>\n",
       "    </tr>\n",
       "    <tr>\n",
       "      <th>424096</th>\n",
       "      <td>22167</td>\n",
       "      <td>35</td>\n",
       "      <td>0.0</td>\n",
       "      <td>0.0</td>\n",
       "      <td>0.0</td>\n",
       "      <td>0.0</td>\n",
       "      <td>0.0</td>\n",
       "      <td>0.0</td>\n",
       "      <td>0.0</td>\n",
       "      <td>0.0</td>\n",
       "      <td>...</td>\n",
       "      <td>0.0</td>\n",
       "      <td>1.0</td>\n",
       "      <td>0.0</td>\n",
       "      <td>0.0</td>\n",
       "      <td>1.0</td>\n",
       "      <td>0.0</td>\n",
       "      <td>1.0</td>\n",
       "      <td>0.0</td>\n",
       "      <td>0.0</td>\n",
       "      <td>49</td>\n",
       "    </tr>\n",
       "    <tr>\n",
       "      <th>424097</th>\n",
       "      <td>22167</td>\n",
       "      <td>37</td>\n",
       "      <td>0.0</td>\n",
       "      <td>0.0</td>\n",
       "      <td>0.0</td>\n",
       "      <td>0.0</td>\n",
       "      <td>0.0</td>\n",
       "      <td>0.0</td>\n",
       "      <td>0.0</td>\n",
       "      <td>0.0</td>\n",
       "      <td>...</td>\n",
       "      <td>1.0</td>\n",
       "      <td>0.0</td>\n",
       "      <td>0.0</td>\n",
       "      <td>0.0</td>\n",
       "      <td>0.0</td>\n",
       "      <td>0.0</td>\n",
       "      <td>0.0</td>\n",
       "      <td>0.0</td>\n",
       "      <td>1.0</td>\n",
       "      <td>49</td>\n",
       "    </tr>\n",
       "    <tr>\n",
       "      <th>424098</th>\n",
       "      <td>22167</td>\n",
       "      <td>38</td>\n",
       "      <td>0.0</td>\n",
       "      <td>0.0</td>\n",
       "      <td>0.0</td>\n",
       "      <td>0.0</td>\n",
       "      <td>0.0</td>\n",
       "      <td>0.0</td>\n",
       "      <td>0.0</td>\n",
       "      <td>0.0</td>\n",
       "      <td>...</td>\n",
       "      <td>0.0</td>\n",
       "      <td>0.0</td>\n",
       "      <td>2.0</td>\n",
       "      <td>1.0</td>\n",
       "      <td>0.0</td>\n",
       "      <td>0.0</td>\n",
       "      <td>0.0</td>\n",
       "      <td>0.0</td>\n",
       "      <td>0.0</td>\n",
       "      <td>49</td>\n",
       "    </tr>\n",
       "    <tr>\n",
       "      <th>424099</th>\n",
       "      <td>22167</td>\n",
       "      <td>39</td>\n",
       "      <td>0.0</td>\n",
       "      <td>0.0</td>\n",
       "      <td>0.0</td>\n",
       "      <td>0.0</td>\n",
       "      <td>0.0</td>\n",
       "      <td>0.0</td>\n",
       "      <td>0.0</td>\n",
       "      <td>0.0</td>\n",
       "      <td>...</td>\n",
       "      <td>0.0</td>\n",
       "      <td>1.0</td>\n",
       "      <td>0.0</td>\n",
       "      <td>1.0</td>\n",
       "      <td>1.0</td>\n",
       "      <td>2.0</td>\n",
       "      <td>1.0</td>\n",
       "      <td>0.0</td>\n",
       "      <td>0.0</td>\n",
       "      <td>49</td>\n",
       "    </tr>\n",
       "    <tr>\n",
       "      <th>424100</th>\n",
       "      <td>22167</td>\n",
       "      <td>41</td>\n",
       "      <td>0.0</td>\n",
       "      <td>0.0</td>\n",
       "      <td>0.0</td>\n",
       "      <td>0.0</td>\n",
       "      <td>0.0</td>\n",
       "      <td>0.0</td>\n",
       "      <td>0.0</td>\n",
       "      <td>0.0</td>\n",
       "      <td>...</td>\n",
       "      <td>1.0</td>\n",
       "      <td>0.0</td>\n",
       "      <td>0.0</td>\n",
       "      <td>0.0</td>\n",
       "      <td>0.0</td>\n",
       "      <td>0.0</td>\n",
       "      <td>0.0</td>\n",
       "      <td>0.0</td>\n",
       "      <td>0.0</td>\n",
       "      <td>49</td>\n",
       "    </tr>\n",
       "    <tr>\n",
       "      <th>424101</th>\n",
       "      <td>22167</td>\n",
       "      <td>42</td>\n",
       "      <td>0.0</td>\n",
       "      <td>0.0</td>\n",
       "      <td>0.0</td>\n",
       "      <td>0.0</td>\n",
       "      <td>0.0</td>\n",
       "      <td>0.0</td>\n",
       "      <td>0.0</td>\n",
       "      <td>0.0</td>\n",
       "      <td>...</td>\n",
       "      <td>4.0</td>\n",
       "      <td>3.0</td>\n",
       "      <td>2.0</td>\n",
       "      <td>3.0</td>\n",
       "      <td>2.0</td>\n",
       "      <td>2.0</td>\n",
       "      <td>3.0</td>\n",
       "      <td>4.0</td>\n",
       "      <td>4.0</td>\n",
       "      <td>49</td>\n",
       "    </tr>\n",
       "    <tr>\n",
       "      <th>424102</th>\n",
       "      <td>22167</td>\n",
       "      <td>43</td>\n",
       "      <td>0.0</td>\n",
       "      <td>0.0</td>\n",
       "      <td>0.0</td>\n",
       "      <td>0.0</td>\n",
       "      <td>0.0</td>\n",
       "      <td>0.0</td>\n",
       "      <td>0.0</td>\n",
       "      <td>0.0</td>\n",
       "      <td>...</td>\n",
       "      <td>0.0</td>\n",
       "      <td>0.0</td>\n",
       "      <td>0.0</td>\n",
       "      <td>0.0</td>\n",
       "      <td>0.0</td>\n",
       "      <td>0.0</td>\n",
       "      <td>0.0</td>\n",
       "      <td>0.0</td>\n",
       "      <td>0.0</td>\n",
       "      <td>49</td>\n",
       "    </tr>\n",
       "    <tr>\n",
       "      <th>424103</th>\n",
       "      <td>22167</td>\n",
       "      <td>44</td>\n",
       "      <td>0.0</td>\n",
       "      <td>0.0</td>\n",
       "      <td>0.0</td>\n",
       "      <td>0.0</td>\n",
       "      <td>0.0</td>\n",
       "      <td>0.0</td>\n",
       "      <td>0.0</td>\n",
       "      <td>0.0</td>\n",
       "      <td>...</td>\n",
       "      <td>0.0</td>\n",
       "      <td>0.0</td>\n",
       "      <td>0.0</td>\n",
       "      <td>0.0</td>\n",
       "      <td>0.0</td>\n",
       "      <td>0.0</td>\n",
       "      <td>0.0</td>\n",
       "      <td>0.0</td>\n",
       "      <td>0.0</td>\n",
       "      <td>49</td>\n",
       "    </tr>\n",
       "    <tr>\n",
       "      <th>424104</th>\n",
       "      <td>22167</td>\n",
       "      <td>45</td>\n",
       "      <td>0.0</td>\n",
       "      <td>0.0</td>\n",
       "      <td>0.0</td>\n",
       "      <td>0.0</td>\n",
       "      <td>0.0</td>\n",
       "      <td>0.0</td>\n",
       "      <td>0.0</td>\n",
       "      <td>0.0</td>\n",
       "      <td>...</td>\n",
       "      <td>0.0</td>\n",
       "      <td>0.0</td>\n",
       "      <td>0.0</td>\n",
       "      <td>0.0</td>\n",
       "      <td>0.0</td>\n",
       "      <td>0.0</td>\n",
       "      <td>0.0</td>\n",
       "      <td>0.0</td>\n",
       "      <td>0.0</td>\n",
       "      <td>49</td>\n",
       "    </tr>\n",
       "    <tr>\n",
       "      <th>424105</th>\n",
       "      <td>22167</td>\n",
       "      <td>46</td>\n",
       "      <td>0.0</td>\n",
       "      <td>0.0</td>\n",
       "      <td>0.0</td>\n",
       "      <td>0.0</td>\n",
       "      <td>0.0</td>\n",
       "      <td>0.0</td>\n",
       "      <td>0.0</td>\n",
       "      <td>0.0</td>\n",
       "      <td>...</td>\n",
       "      <td>0.0</td>\n",
       "      <td>0.0</td>\n",
       "      <td>0.0</td>\n",
       "      <td>0.0</td>\n",
       "      <td>0.0</td>\n",
       "      <td>0.0</td>\n",
       "      <td>0.0</td>\n",
       "      <td>0.0</td>\n",
       "      <td>0.0</td>\n",
       "      <td>49</td>\n",
       "    </tr>\n",
       "    <tr>\n",
       "      <th>424106</th>\n",
       "      <td>22167</td>\n",
       "      <td>47</td>\n",
       "      <td>0.0</td>\n",
       "      <td>0.0</td>\n",
       "      <td>0.0</td>\n",
       "      <td>0.0</td>\n",
       "      <td>0.0</td>\n",
       "      <td>0.0</td>\n",
       "      <td>0.0</td>\n",
       "      <td>0.0</td>\n",
       "      <td>...</td>\n",
       "      <td>0.0</td>\n",
       "      <td>0.0</td>\n",
       "      <td>0.0</td>\n",
       "      <td>0.0</td>\n",
       "      <td>1.0</td>\n",
       "      <td>2.0</td>\n",
       "      <td>0.0</td>\n",
       "      <td>0.0</td>\n",
       "      <td>1.0</td>\n",
       "      <td>49</td>\n",
       "    </tr>\n",
       "    <tr>\n",
       "      <th>424107</th>\n",
       "      <td>22167</td>\n",
       "      <td>48</td>\n",
       "      <td>0.0</td>\n",
       "      <td>0.0</td>\n",
       "      <td>0.0</td>\n",
       "      <td>0.0</td>\n",
       "      <td>0.0</td>\n",
       "      <td>0.0</td>\n",
       "      <td>0.0</td>\n",
       "      <td>0.0</td>\n",
       "      <td>...</td>\n",
       "      <td>0.0</td>\n",
       "      <td>0.0</td>\n",
       "      <td>0.0</td>\n",
       "      <td>0.0</td>\n",
       "      <td>0.0</td>\n",
       "      <td>0.0</td>\n",
       "      <td>0.0</td>\n",
       "      <td>0.0</td>\n",
       "      <td>0.0</td>\n",
       "      <td>49</td>\n",
       "    </tr>\n",
       "    <tr>\n",
       "      <th>424108</th>\n",
       "      <td>22167</td>\n",
       "      <td>49</td>\n",
       "      <td>0.0</td>\n",
       "      <td>0.0</td>\n",
       "      <td>0.0</td>\n",
       "      <td>0.0</td>\n",
       "      <td>0.0</td>\n",
       "      <td>0.0</td>\n",
       "      <td>0.0</td>\n",
       "      <td>0.0</td>\n",
       "      <td>...</td>\n",
       "      <td>1.0</td>\n",
       "      <td>0.0</td>\n",
       "      <td>0.0</td>\n",
       "      <td>0.0</td>\n",
       "      <td>0.0</td>\n",
       "      <td>1.0</td>\n",
       "      <td>0.0</td>\n",
       "      <td>0.0</td>\n",
       "      <td>0.0</td>\n",
       "      <td>49</td>\n",
       "    </tr>\n",
       "    <tr>\n",
       "      <th>424109</th>\n",
       "      <td>22167</td>\n",
       "      <td>50</td>\n",
       "      <td>0.0</td>\n",
       "      <td>0.0</td>\n",
       "      <td>0.0</td>\n",
       "      <td>0.0</td>\n",
       "      <td>0.0</td>\n",
       "      <td>0.0</td>\n",
       "      <td>0.0</td>\n",
       "      <td>0.0</td>\n",
       "      <td>...</td>\n",
       "      <td>0.0</td>\n",
       "      <td>0.0</td>\n",
       "      <td>0.0</td>\n",
       "      <td>0.0</td>\n",
       "      <td>0.0</td>\n",
       "      <td>0.0</td>\n",
       "      <td>0.0</td>\n",
       "      <td>0.0</td>\n",
       "      <td>1.0</td>\n",
       "      <td>49</td>\n",
       "    </tr>\n",
       "    <tr>\n",
       "      <th>424110</th>\n",
       "      <td>22167</td>\n",
       "      <td>51</td>\n",
       "      <td>0.0</td>\n",
       "      <td>0.0</td>\n",
       "      <td>0.0</td>\n",
       "      <td>0.0</td>\n",
       "      <td>0.0</td>\n",
       "      <td>0.0</td>\n",
       "      <td>0.0</td>\n",
       "      <td>0.0</td>\n",
       "      <td>...</td>\n",
       "      <td>0.0</td>\n",
       "      <td>0.0</td>\n",
       "      <td>0.0</td>\n",
       "      <td>0.0</td>\n",
       "      <td>1.0</td>\n",
       "      <td>0.0</td>\n",
       "      <td>0.0</td>\n",
       "      <td>0.0</td>\n",
       "      <td>0.0</td>\n",
       "      <td>49</td>\n",
       "    </tr>\n",
       "    <tr>\n",
       "      <th>424111</th>\n",
       "      <td>22167</td>\n",
       "      <td>52</td>\n",
       "      <td>0.0</td>\n",
       "      <td>0.0</td>\n",
       "      <td>0.0</td>\n",
       "      <td>0.0</td>\n",
       "      <td>0.0</td>\n",
       "      <td>0.0</td>\n",
       "      <td>0.0</td>\n",
       "      <td>0.0</td>\n",
       "      <td>...</td>\n",
       "      <td>1.0</td>\n",
       "      <td>1.0</td>\n",
       "      <td>1.0</td>\n",
       "      <td>0.0</td>\n",
       "      <td>0.0</td>\n",
       "      <td>2.0</td>\n",
       "      <td>2.0</td>\n",
       "      <td>0.0</td>\n",
       "      <td>0.0</td>\n",
       "      <td>49</td>\n",
       "    </tr>\n",
       "    <tr>\n",
       "      <th>424112</th>\n",
       "      <td>22167</td>\n",
       "      <td>53</td>\n",
       "      <td>0.0</td>\n",
       "      <td>0.0</td>\n",
       "      <td>0.0</td>\n",
       "      <td>0.0</td>\n",
       "      <td>0.0</td>\n",
       "      <td>0.0</td>\n",
       "      <td>0.0</td>\n",
       "      <td>0.0</td>\n",
       "      <td>...</td>\n",
       "      <td>0.0</td>\n",
       "      <td>0.0</td>\n",
       "      <td>0.0</td>\n",
       "      <td>0.0</td>\n",
       "      <td>0.0</td>\n",
       "      <td>0.0</td>\n",
       "      <td>0.0</td>\n",
       "      <td>0.0</td>\n",
       "      <td>0.0</td>\n",
       "      <td>49</td>\n",
       "    </tr>\n",
       "    <tr>\n",
       "      <th>424113</th>\n",
       "      <td>22167</td>\n",
       "      <td>54</td>\n",
       "      <td>0.0</td>\n",
       "      <td>0.0</td>\n",
       "      <td>0.0</td>\n",
       "      <td>0.0</td>\n",
       "      <td>0.0</td>\n",
       "      <td>0.0</td>\n",
       "      <td>0.0</td>\n",
       "      <td>0.0</td>\n",
       "      <td>...</td>\n",
       "      <td>3.0</td>\n",
       "      <td>3.0</td>\n",
       "      <td>1.0</td>\n",
       "      <td>0.0</td>\n",
       "      <td>0.0</td>\n",
       "      <td>0.0</td>\n",
       "      <td>0.0</td>\n",
       "      <td>0.0</td>\n",
       "      <td>0.0</td>\n",
       "      <td>49</td>\n",
       "    </tr>\n",
       "    <tr>\n",
       "      <th>424114</th>\n",
       "      <td>22167</td>\n",
       "      <td>56</td>\n",
       "      <td>0.0</td>\n",
       "      <td>0.0</td>\n",
       "      <td>0.0</td>\n",
       "      <td>0.0</td>\n",
       "      <td>0.0</td>\n",
       "      <td>0.0</td>\n",
       "      <td>0.0</td>\n",
       "      <td>0.0</td>\n",
       "      <td>...</td>\n",
       "      <td>0.0</td>\n",
       "      <td>0.0</td>\n",
       "      <td>0.0</td>\n",
       "      <td>0.0</td>\n",
       "      <td>0.0</td>\n",
       "      <td>0.0</td>\n",
       "      <td>0.0</td>\n",
       "      <td>0.0</td>\n",
       "      <td>0.0</td>\n",
       "      <td>49</td>\n",
       "    </tr>\n",
       "    <tr>\n",
       "      <th>424115</th>\n",
       "      <td>22167</td>\n",
       "      <td>57</td>\n",
       "      <td>0.0</td>\n",
       "      <td>0.0</td>\n",
       "      <td>0.0</td>\n",
       "      <td>0.0</td>\n",
       "      <td>0.0</td>\n",
       "      <td>0.0</td>\n",
       "      <td>0.0</td>\n",
       "      <td>0.0</td>\n",
       "      <td>...</td>\n",
       "      <td>0.0</td>\n",
       "      <td>0.0</td>\n",
       "      <td>0.0</td>\n",
       "      <td>0.0</td>\n",
       "      <td>0.0</td>\n",
       "      <td>0.0</td>\n",
       "      <td>0.0</td>\n",
       "      <td>0.0</td>\n",
       "      <td>0.0</td>\n",
       "      <td>49</td>\n",
       "    </tr>\n",
       "    <tr>\n",
       "      <th>424116</th>\n",
       "      <td>22167</td>\n",
       "      <td>58</td>\n",
       "      <td>0.0</td>\n",
       "      <td>0.0</td>\n",
       "      <td>0.0</td>\n",
       "      <td>0.0</td>\n",
       "      <td>0.0</td>\n",
       "      <td>0.0</td>\n",
       "      <td>0.0</td>\n",
       "      <td>0.0</td>\n",
       "      <td>...</td>\n",
       "      <td>0.0</td>\n",
       "      <td>0.0</td>\n",
       "      <td>0.0</td>\n",
       "      <td>0.0</td>\n",
       "      <td>0.0</td>\n",
       "      <td>0.0</td>\n",
       "      <td>0.0</td>\n",
       "      <td>0.0</td>\n",
       "      <td>0.0</td>\n",
       "      <td>49</td>\n",
       "    </tr>\n",
       "    <tr>\n",
       "      <th>424117</th>\n",
       "      <td>22167</td>\n",
       "      <td>59</td>\n",
       "      <td>0.0</td>\n",
       "      <td>0.0</td>\n",
       "      <td>0.0</td>\n",
       "      <td>0.0</td>\n",
       "      <td>0.0</td>\n",
       "      <td>0.0</td>\n",
       "      <td>0.0</td>\n",
       "      <td>0.0</td>\n",
       "      <td>...</td>\n",
       "      <td>0.0</td>\n",
       "      <td>0.0</td>\n",
       "      <td>0.0</td>\n",
       "      <td>0.0</td>\n",
       "      <td>0.0</td>\n",
       "      <td>0.0</td>\n",
       "      <td>0.0</td>\n",
       "      <td>0.0</td>\n",
       "      <td>0.0</td>\n",
       "      <td>49</td>\n",
       "    </tr>\n",
       "    <tr>\n",
       "      <th>424118</th>\n",
       "      <td>22168</td>\n",
       "      <td>2</td>\n",
       "      <td>1.0</td>\n",
       "      <td>0.0</td>\n",
       "      <td>0.0</td>\n",
       "      <td>0.0</td>\n",
       "      <td>0.0</td>\n",
       "      <td>0.0</td>\n",
       "      <td>0.0</td>\n",
       "      <td>0.0</td>\n",
       "      <td>...</td>\n",
       "      <td>0.0</td>\n",
       "      <td>0.0</td>\n",
       "      <td>0.0</td>\n",
       "      <td>0.0</td>\n",
       "      <td>0.0</td>\n",
       "      <td>0.0</td>\n",
       "      <td>0.0</td>\n",
       "      <td>0.0</td>\n",
       "      <td>0.0</td>\n",
       "      <td>62</td>\n",
       "    </tr>\n",
       "    <tr>\n",
       "      <th>424119</th>\n",
       "      <td>22168</td>\n",
       "      <td>12</td>\n",
       "      <td>1.0</td>\n",
       "      <td>0.0</td>\n",
       "      <td>0.0</td>\n",
       "      <td>0.0</td>\n",
       "      <td>0.0</td>\n",
       "      <td>0.0</td>\n",
       "      <td>0.0</td>\n",
       "      <td>0.0</td>\n",
       "      <td>...</td>\n",
       "      <td>0.0</td>\n",
       "      <td>0.0</td>\n",
       "      <td>0.0</td>\n",
       "      <td>0.0</td>\n",
       "      <td>0.0</td>\n",
       "      <td>0.0</td>\n",
       "      <td>0.0</td>\n",
       "      <td>0.0</td>\n",
       "      <td>0.0</td>\n",
       "      <td>62</td>\n",
       "    </tr>\n",
       "    <tr>\n",
       "      <th>424120</th>\n",
       "      <td>22168</td>\n",
       "      <td>16</td>\n",
       "      <td>0.0</td>\n",
       "      <td>1.0</td>\n",
       "      <td>0.0</td>\n",
       "      <td>0.0</td>\n",
       "      <td>0.0</td>\n",
       "      <td>0.0</td>\n",
       "      <td>0.0</td>\n",
       "      <td>0.0</td>\n",
       "      <td>...</td>\n",
       "      <td>0.0</td>\n",
       "      <td>0.0</td>\n",
       "      <td>0.0</td>\n",
       "      <td>0.0</td>\n",
       "      <td>0.0</td>\n",
       "      <td>0.0</td>\n",
       "      <td>0.0</td>\n",
       "      <td>0.0</td>\n",
       "      <td>0.0</td>\n",
       "      <td>62</td>\n",
       "    </tr>\n",
       "    <tr>\n",
       "      <th>424121</th>\n",
       "      <td>22168</td>\n",
       "      <td>42</td>\n",
       "      <td>0.0</td>\n",
       "      <td>1.0</td>\n",
       "      <td>0.0</td>\n",
       "      <td>0.0</td>\n",
       "      <td>0.0</td>\n",
       "      <td>0.0</td>\n",
       "      <td>0.0</td>\n",
       "      <td>0.0</td>\n",
       "      <td>...</td>\n",
       "      <td>0.0</td>\n",
       "      <td>0.0</td>\n",
       "      <td>0.0</td>\n",
       "      <td>0.0</td>\n",
       "      <td>0.0</td>\n",
       "      <td>0.0</td>\n",
       "      <td>0.0</td>\n",
       "      <td>0.0</td>\n",
       "      <td>0.0</td>\n",
       "      <td>62</td>\n",
       "    </tr>\n",
       "    <tr>\n",
       "      <th>424122</th>\n",
       "      <td>22168</td>\n",
       "      <td>43</td>\n",
       "      <td>0.0</td>\n",
       "      <td>0.0</td>\n",
       "      <td>1.0</td>\n",
       "      <td>0.0</td>\n",
       "      <td>0.0</td>\n",
       "      <td>0.0</td>\n",
       "      <td>0.0</td>\n",
       "      <td>0.0</td>\n",
       "      <td>...</td>\n",
       "      <td>0.0</td>\n",
       "      <td>0.0</td>\n",
       "      <td>0.0</td>\n",
       "      <td>0.0</td>\n",
       "      <td>0.0</td>\n",
       "      <td>0.0</td>\n",
       "      <td>0.0</td>\n",
       "      <td>0.0</td>\n",
       "      <td>0.0</td>\n",
       "      <td>62</td>\n",
       "    </tr>\n",
       "    <tr>\n",
       "      <th>424123</th>\n",
       "      <td>22169</td>\n",
       "      <td>25</td>\n",
       "      <td>0.0</td>\n",
       "      <td>0.0</td>\n",
       "      <td>0.0</td>\n",
       "      <td>0.0</td>\n",
       "      <td>0.0</td>\n",
       "      <td>0.0</td>\n",
       "      <td>0.0</td>\n",
       "      <td>0.0</td>\n",
       "      <td>...</td>\n",
       "      <td>0.0</td>\n",
       "      <td>0.0</td>\n",
       "      <td>0.0</td>\n",
       "      <td>0.0</td>\n",
       "      <td>0.0</td>\n",
       "      <td>0.0</td>\n",
       "      <td>0.0</td>\n",
       "      <td>0.0</td>\n",
       "      <td>0.0</td>\n",
       "      <td>69</td>\n",
       "    </tr>\n",
       "  </tbody>\n",
       "</table>\n",
       "<p>424124 rows × 37 columns</p>\n",
       "</div>"
      ],
      "text/plain": [
       "        item_id  shop_id    0    1    2    3    4    5    6    7  \\\n",
       "0             0       54  0.0  0.0  0.0  0.0  0.0  0.0  0.0  0.0   \n",
       "1             1       55  0.0  0.0  0.0  0.0  0.0  0.0  0.0  0.0   \n",
       "2             2       54  0.0  0.0  0.0  0.0  0.0  0.0  0.0  0.0   \n",
       "3             3       54  0.0  0.0  0.0  0.0  0.0  0.0  0.0  0.0   \n",
       "4             4       54  0.0  0.0  0.0  0.0  0.0  0.0  0.0  0.0   \n",
       "5             5       54  0.0  0.0  0.0  0.0  0.0  0.0  0.0  0.0   \n",
       "6             6       54  0.0  0.0  0.0  0.0  0.0  0.0  0.0  0.0   \n",
       "7             7       54  0.0  0.0  0.0  0.0  0.0  0.0  0.0  0.0   \n",
       "8             8       54  0.0  0.0  0.0  0.0  0.0  0.0  0.0  0.0   \n",
       "9             9       54  0.0  0.0  0.0  0.0  0.0  0.0  0.0  0.0   \n",
       "10           10       54  0.0  0.0  0.0  0.0  0.0  0.0  0.0  0.0   \n",
       "11           11       54  0.0  0.0  0.0  0.0  0.0  0.0  0.0  0.0   \n",
       "12           12       54  0.0  1.0  0.0  0.0  0.0  0.0  0.0  0.0   \n",
       "13           13       54  0.0  0.0  0.0  0.0  0.0  0.0  0.0  0.0   \n",
       "14           14       54  0.0  0.0  0.0  0.0  0.0  0.0  0.0  0.0   \n",
       "15           15       54  0.0  0.0  0.0  0.0  0.0  0.0  0.0  0.0   \n",
       "16           16       56  0.0  0.0  0.0  0.0  0.0  0.0  0.0  0.0   \n",
       "17           17       44  0.0  0.0  0.0  0.0  0.0  0.0  0.0  0.0   \n",
       "18           18       25  0.0  0.0  0.0  0.0  0.0  0.0  0.0  0.0   \n",
       "19           19       25  1.0  0.0  0.0  0.0  0.0  0.0  0.0  0.0   \n",
       "20           20       54  0.0  0.0  0.0  0.0  0.0  0.0  0.0  0.0   \n",
       "21           21       54  0.0  0.0  0.0  0.0  0.0  0.0  0.0  0.0   \n",
       "22           22       54  0.0  0.0  0.0  0.0  0.0  0.0  0.0  0.0   \n",
       "23           23       54  0.0  0.0  0.0  0.0  0.0  0.0  0.0  0.0   \n",
       "24           24       54  0.0  0.0  0.0  0.0  0.0  0.0  0.0  0.0   \n",
       "25           25       54  0.0  0.0  0.0  0.0  0.0  0.0  0.0  0.0   \n",
       "26           26       31  0.0  0.0  0.0  0.0  0.0  0.0  0.0  0.0   \n",
       "27           27        1  1.0  0.0  0.0  0.0  0.0  0.0  0.0  0.0   \n",
       "28           27        2  1.0  0.0  0.0  0.0  0.0  0.0  0.0  0.0   \n",
       "29           27        3  0.0  0.0  0.0  0.0  0.0  0.0  0.0  0.0   \n",
       "...         ...      ...  ...  ...  ...  ...  ...  ...  ...  ...   \n",
       "424094    22167       33  0.0  0.0  0.0  0.0  0.0  0.0  0.0  0.0   \n",
       "424095    22167       34  0.0  0.0  0.0  0.0  0.0  0.0  0.0  0.0   \n",
       "424096    22167       35  0.0  0.0  0.0  0.0  0.0  0.0  0.0  0.0   \n",
       "424097    22167       37  0.0  0.0  0.0  0.0  0.0  0.0  0.0  0.0   \n",
       "424098    22167       38  0.0  0.0  0.0  0.0  0.0  0.0  0.0  0.0   \n",
       "424099    22167       39  0.0  0.0  0.0  0.0  0.0  0.0  0.0  0.0   \n",
       "424100    22167       41  0.0  0.0  0.0  0.0  0.0  0.0  0.0  0.0   \n",
       "424101    22167       42  0.0  0.0  0.0  0.0  0.0  0.0  0.0  0.0   \n",
       "424102    22167       43  0.0  0.0  0.0  0.0  0.0  0.0  0.0  0.0   \n",
       "424103    22167       44  0.0  0.0  0.0  0.0  0.0  0.0  0.0  0.0   \n",
       "424104    22167       45  0.0  0.0  0.0  0.0  0.0  0.0  0.0  0.0   \n",
       "424105    22167       46  0.0  0.0  0.0  0.0  0.0  0.0  0.0  0.0   \n",
       "424106    22167       47  0.0  0.0  0.0  0.0  0.0  0.0  0.0  0.0   \n",
       "424107    22167       48  0.0  0.0  0.0  0.0  0.0  0.0  0.0  0.0   \n",
       "424108    22167       49  0.0  0.0  0.0  0.0  0.0  0.0  0.0  0.0   \n",
       "424109    22167       50  0.0  0.0  0.0  0.0  0.0  0.0  0.0  0.0   \n",
       "424110    22167       51  0.0  0.0  0.0  0.0  0.0  0.0  0.0  0.0   \n",
       "424111    22167       52  0.0  0.0  0.0  0.0  0.0  0.0  0.0  0.0   \n",
       "424112    22167       53  0.0  0.0  0.0  0.0  0.0  0.0  0.0  0.0   \n",
       "424113    22167       54  0.0  0.0  0.0  0.0  0.0  0.0  0.0  0.0   \n",
       "424114    22167       56  0.0  0.0  0.0  0.0  0.0  0.0  0.0  0.0   \n",
       "424115    22167       57  0.0  0.0  0.0  0.0  0.0  0.0  0.0  0.0   \n",
       "424116    22167       58  0.0  0.0  0.0  0.0  0.0  0.0  0.0  0.0   \n",
       "424117    22167       59  0.0  0.0  0.0  0.0  0.0  0.0  0.0  0.0   \n",
       "424118    22168        2  1.0  0.0  0.0  0.0  0.0  0.0  0.0  0.0   \n",
       "424119    22168       12  1.0  0.0  0.0  0.0  0.0  0.0  0.0  0.0   \n",
       "424120    22168       16  0.0  1.0  0.0  0.0  0.0  0.0  0.0  0.0   \n",
       "424121    22168       42  0.0  1.0  0.0  0.0  0.0  0.0  0.0  0.0   \n",
       "424122    22168       43  0.0  0.0  1.0  0.0  0.0  0.0  0.0  0.0   \n",
       "424123    22169       25  0.0  0.0  0.0  0.0  0.0  0.0  0.0  0.0   \n",
       "\n",
       "              ...          25   26   27   28   29   30   31   32   33  \\\n",
       "0             ...         0.0  0.0  0.0  0.0  0.0  0.0  0.0  0.0  0.0   \n",
       "1             ...         0.0  0.0  0.0  0.0  0.0  0.0  0.0  0.0  0.0   \n",
       "2             ...         0.0  0.0  0.0  0.0  0.0  0.0  0.0  0.0  0.0   \n",
       "3             ...         0.0  0.0  0.0  0.0  0.0  0.0  0.0  0.0  0.0   \n",
       "4             ...         0.0  0.0  0.0  0.0  0.0  0.0  0.0  0.0  0.0   \n",
       "5             ...         0.0  0.0  0.0  0.0  0.0  0.0  0.0  0.0  0.0   \n",
       "6             ...         0.0  0.0  0.0  0.0  0.0  0.0  0.0  0.0  0.0   \n",
       "7             ...         0.0  0.0  0.0  0.0  0.0  0.0  0.0  0.0  0.0   \n",
       "8             ...         0.0  0.0  0.0  0.0  0.0  0.0  0.0  0.0  0.0   \n",
       "9             ...         0.0  0.0  0.0  0.0  0.0  0.0  0.0  0.0  0.0   \n",
       "10            ...         0.0  0.0  0.0  0.0  0.0  0.0  0.0  0.0  0.0   \n",
       "11            ...         0.0  0.0  0.0  0.0  0.0  0.0  0.0  0.0  0.0   \n",
       "12            ...         0.0  0.0  0.0  0.0  0.0  0.0  0.0  0.0  0.0   \n",
       "13            ...         0.0  0.0  0.0  0.0  0.0  0.0  0.0  0.0  0.0   \n",
       "14            ...         0.0  0.0  0.0  0.0  0.0  0.0  0.0  0.0  0.0   \n",
       "15            ...         0.0  0.0  0.0  0.0  0.0  0.0  0.0  0.0  0.0   \n",
       "16            ...         0.0  0.0  0.0  0.0  0.0  0.0  0.0  0.0  0.0   \n",
       "17            ...         0.0  0.0  0.0  0.0  0.0  0.0  0.0  0.0  0.0   \n",
       "18            ...         0.0  0.0  0.0  0.0  0.0  0.0  0.0  0.0  0.0   \n",
       "19            ...         0.0  0.0  0.0  0.0  0.0  0.0  0.0  0.0  0.0   \n",
       "20            ...         0.0  0.0  0.0  0.0  0.0  0.0  0.0  0.0  0.0   \n",
       "21            ...         0.0  0.0  0.0  0.0  0.0  0.0  0.0  0.0  0.0   \n",
       "22            ...         0.0  0.0  1.0  0.0  0.0  0.0  0.0  0.0  0.0   \n",
       "23            ...         1.0  0.0  0.0  0.0  0.0  0.0  0.0  0.0  0.0   \n",
       "24            ...         0.0  0.0  1.0  0.0  0.0  0.0  0.0  0.0  0.0   \n",
       "25            ...         0.0  0.0  0.0  0.0  0.0  0.0  0.0  0.0  0.0   \n",
       "26            ...         0.0  0.0  0.0  0.0  0.0  0.0  0.0  0.0  0.0   \n",
       "27            ...         0.0  0.0  0.0  0.0  0.0  0.0  0.0  0.0  0.0   \n",
       "28            ...         0.0  0.0  0.0  0.0  0.0  0.0  0.0  0.0  0.0   \n",
       "29            ...         0.0  0.0  0.0  0.0  0.0  0.0  0.0  0.0  0.0   \n",
       "...           ...         ...  ...  ...  ...  ...  ...  ...  ...  ...   \n",
       "424094        ...         0.0  0.0  0.0  0.0  0.0  0.0  0.0  0.0  0.0   \n",
       "424095        ...         0.0  0.0  0.0  0.0  1.0  0.0  0.0  0.0  0.0   \n",
       "424096        ...         0.0  1.0  0.0  0.0  1.0  0.0  1.0  0.0  0.0   \n",
       "424097        ...         1.0  0.0  0.0  0.0  0.0  0.0  0.0  0.0  1.0   \n",
       "424098        ...         0.0  0.0  2.0  1.0  0.0  0.0  0.0  0.0  0.0   \n",
       "424099        ...         0.0  1.0  0.0  1.0  1.0  2.0  1.0  0.0  0.0   \n",
       "424100        ...         1.0  0.0  0.0  0.0  0.0  0.0  0.0  0.0  0.0   \n",
       "424101        ...         4.0  3.0  2.0  3.0  2.0  2.0  3.0  4.0  4.0   \n",
       "424102        ...         0.0  0.0  0.0  0.0  0.0  0.0  0.0  0.0  0.0   \n",
       "424103        ...         0.0  0.0  0.0  0.0  0.0  0.0  0.0  0.0  0.0   \n",
       "424104        ...         0.0  0.0  0.0  0.0  0.0  0.0  0.0  0.0  0.0   \n",
       "424105        ...         0.0  0.0  0.0  0.0  0.0  0.0  0.0  0.0  0.0   \n",
       "424106        ...         0.0  0.0  0.0  0.0  1.0  2.0  0.0  0.0  1.0   \n",
       "424107        ...         0.0  0.0  0.0  0.0  0.0  0.0  0.0  0.0  0.0   \n",
       "424108        ...         1.0  0.0  0.0  0.0  0.0  1.0  0.0  0.0  0.0   \n",
       "424109        ...         0.0  0.0  0.0  0.0  0.0  0.0  0.0  0.0  1.0   \n",
       "424110        ...         0.0  0.0  0.0  0.0  1.0  0.0  0.0  0.0  0.0   \n",
       "424111        ...         1.0  1.0  1.0  0.0  0.0  2.0  2.0  0.0  0.0   \n",
       "424112        ...         0.0  0.0  0.0  0.0  0.0  0.0  0.0  0.0  0.0   \n",
       "424113        ...         3.0  3.0  1.0  0.0  0.0  0.0  0.0  0.0  0.0   \n",
       "424114        ...         0.0  0.0  0.0  0.0  0.0  0.0  0.0  0.0  0.0   \n",
       "424115        ...         0.0  0.0  0.0  0.0  0.0  0.0  0.0  0.0  0.0   \n",
       "424116        ...         0.0  0.0  0.0  0.0  0.0  0.0  0.0  0.0  0.0   \n",
       "424117        ...         0.0  0.0  0.0  0.0  0.0  0.0  0.0  0.0  0.0   \n",
       "424118        ...         0.0  0.0  0.0  0.0  0.0  0.0  0.0  0.0  0.0   \n",
       "424119        ...         0.0  0.0  0.0  0.0  0.0  0.0  0.0  0.0  0.0   \n",
       "424120        ...         0.0  0.0  0.0  0.0  0.0  0.0  0.0  0.0  0.0   \n",
       "424121        ...         0.0  0.0  0.0  0.0  0.0  0.0  0.0  0.0  0.0   \n",
       "424122        ...         0.0  0.0  0.0  0.0  0.0  0.0  0.0  0.0  0.0   \n",
       "424123        ...         0.0  0.0  0.0  0.0  0.0  0.0  0.0  0.0  0.0   \n",
       "\n",
       "        item_category_id  \n",
       "0                     40  \n",
       "1                     76  \n",
       "2                     40  \n",
       "3                     40  \n",
       "4                     40  \n",
       "5                     40  \n",
       "6                     40  \n",
       "7                     40  \n",
       "8                     40  \n",
       "9                     40  \n",
       "10                    40  \n",
       "11                    40  \n",
       "12                    55  \n",
       "13                    40  \n",
       "14                    40  \n",
       "15                    40  \n",
       "16                    40  \n",
       "17                    40  \n",
       "18                    40  \n",
       "19                    40  \n",
       "20                    40  \n",
       "21                    40  \n",
       "22                    40  \n",
       "23                    40  \n",
       "24                    40  \n",
       "25                    40  \n",
       "26                    40  \n",
       "27                    19  \n",
       "28                    19  \n",
       "29                    19  \n",
       "...                  ...  \n",
       "424094                49  \n",
       "424095                49  \n",
       "424096                49  \n",
       "424097                49  \n",
       "424098                49  \n",
       "424099                49  \n",
       "424100                49  \n",
       "424101                49  \n",
       "424102                49  \n",
       "424103                49  \n",
       "424104                49  \n",
       "424105                49  \n",
       "424106                49  \n",
       "424107                49  \n",
       "424108                49  \n",
       "424109                49  \n",
       "424110                49  \n",
       "424111                49  \n",
       "424112                49  \n",
       "424113                49  \n",
       "424114                49  \n",
       "424115                49  \n",
       "424116                49  \n",
       "424117                49  \n",
       "424118                62  \n",
       "424119                62  \n",
       "424120                62  \n",
       "424121                62  \n",
       "424122                62  \n",
       "424123                69  \n",
       "\n",
       "[424124 rows x 37 columns]"
      ]
     },
     "execution_count": 6,
     "metadata": {},
     "output_type": "execute_result"
    }
   ],
   "source": [
    "by_month"
   ]
  },
  {
   "cell_type": "markdown",
   "metadata": {},
   "source": [
    "Applying Random Forest to the above data to understand the base score"
   ]
  },
  {
   "cell_type": "code",
   "execution_count": 18,
   "metadata": {},
   "outputs": [
    {
     "data": {
      "text/plain": [
       "Index([         'item_id',          'shop_id',                  0,\n",
       "                        1,                  2,                  3,\n",
       "                        4,                  5,                  6,\n",
       "                        7,                  8,                  9,\n",
       "                       10,                 11,                 12,\n",
       "                       13,                 14,                 15,\n",
       "                       16,                 17,                 18,\n",
       "                       19,                 20,                 21,\n",
       "                       22,                 23,                 24,\n",
       "                       25,                 26,                 27,\n",
       "                       28,                 29,                 30,\n",
       "                       31,                 32,                 33,\n",
       "       'item_category_id'],\n",
       "      dtype='object')"
      ]
     },
     "execution_count": 18,
     "metadata": {},
     "output_type": "execute_result"
    }
   ],
   "source": [
    "by_month.columns"
   ]
  },
  {
   "cell_type": "code",
   "execution_count": 53,
   "metadata": {
    "collapsed": true
   },
   "outputs": [],
   "source": [
    "x_tr_index = ['item_id', 'shop_id', 'item_category_id']\n",
    "tr_index = 21 # y for training\n",
    "x_tr_index.extend(np.arange(0,tr_index).tolist())\n",
    "x_tr = by_month[x_tr_index].values\n",
    "x_te = by_month[tr_index].values"
   ]
  },
  {
   "cell_type": "code",
   "execution_count": 54,
   "metadata": {},
   "outputs": [
    {
     "data": {
      "text/plain": [
       "(424124, 24)"
      ]
     },
     "execution_count": 54,
     "metadata": {},
     "output_type": "execute_result"
    }
   ],
   "source": [
    "x_tr.shape"
   ]
  },
  {
   "cell_type": "code",
   "execution_count": 55,
   "metadata": {
    "collapsed": true
   },
   "outputs": [],
   "source": [
    "x_tr_pred_index = ['item_id', 'shop_id', 'item_category_id']\n",
    "x_tr_pred_index.extend(np.arange(1,tr_index+1).tolist())\n",
    "x_tr_pred = by_month[x_tr_pred_index].values\n",
    "x_te_pred = by_month[tr_index+1].values"
   ]
  },
  {
   "cell_type": "code",
   "execution_count": 285,
   "metadata": {},
   "outputs": [
    {
     "data": {
      "text/plain": [
       "(424124, 24)"
      ]
     },
     "execution_count": 285,
     "metadata": {},
     "output_type": "execute_result"
    }
   ],
   "source": [
    "x_tr_pred.shape"
   ]
  },
  {
   "cell_type": "code",
   "execution_count": 287,
   "metadata": {
    "collapsed": true
   },
   "outputs": [],
   "source": [
    "rf = RandomForestRegressor(max_features='sqrt', max_depth=10, n_estimators=100, random_state = 24)"
   ]
  },
  {
   "cell_type": "code",
   "execution_count": 288,
   "metadata": {},
   "outputs": [
    {
     "data": {
      "text/plain": [
       "RandomForestRegressor(bootstrap=True, criterion='mse', max_depth=10,\n",
       "           max_features='sqrt', max_leaf_nodes=None,\n",
       "           min_impurity_decrease=0.0, min_impurity_split=None,\n",
       "           min_samples_leaf=1, min_samples_split=2,\n",
       "           min_weight_fraction_leaf=0.0, n_estimators=100, n_jobs=1,\n",
       "           oob_score=False, random_state=24, verbose=0, warm_start=False)"
      ]
     },
     "execution_count": 288,
     "metadata": {},
     "output_type": "execute_result"
    }
   ],
   "source": [
    "rf.fit(x_tr, x_te)"
   ]
  },
  {
   "cell_type": "code",
   "execution_count": 289,
   "metadata": {},
   "outputs": [
    {
     "data": {
      "text/plain": [
       "1.1738566628711373"
      ]
     },
     "execution_count": 289,
     "metadata": {},
     "output_type": "execute_result"
    }
   ],
   "source": [
    "error(rf.predict(x_tr), x_te)"
   ]
  },
  {
   "cell_type": "code",
   "execution_count": 290,
   "metadata": {},
   "outputs": [
    {
     "data": {
      "text/plain": [
       "2.744856409359998"
      ]
     },
     "execution_count": 290,
     "metadata": {},
     "output_type": "execute_result"
    }
   ],
   "source": [
    "error(rf.predict(x_tr_pred), x_te_pred)"
   ]
  },
  {
   "cell_type": "markdown",
   "metadata": {},
   "source": [
    "Trying feature encoding of shop ids and item ids"
   ]
  },
  {
   "cell_type": "code",
   "execution_count": 59,
   "metadata": {
    "collapsed": true
   },
   "outputs": [],
   "source": [
    "x_tr = expanding_mean_encode(x_tr_index, tr_index, 'item_id',times = 1)"
   ]
  },
  {
   "cell_type": "code",
   "execution_count": 52,
   "metadata": {},
   "outputs": [
    {
     "data": {
      "text/plain": [
       "array([[ 0., 54., 40., ...,  0.,  0.,  1.],\n",
       "       [ 1., 55., 76., ...,  1.,  1.,  1.],\n",
       "       [ 0., 54., 40., ...,  0.,  1.,  0.],\n",
       "       ...,\n",
       "       [ 0., 42., 62., ...,  0.,  0.,  0.],\n",
       "       [ 0., 43., 62., ...,  0.,  0.,  0.],\n",
       "       [ 0., 25., 69., ...,  0.,  0.,  0.]])"
      ]
     },
     "execution_count": 52,
     "metadata": {},
     "output_type": "execute_result"
    }
   ],
   "source": [
    "x_tr"
   ]
  },
  {
   "cell_type": "code",
   "execution_count": 53,
   "metadata": {},
   "outputs": [
    {
     "data": {
      "text/plain": [
       "1.0194687708265937"
      ]
     },
     "execution_count": 53,
     "metadata": {},
     "output_type": "execute_result"
    }
   ],
   "source": [
    "rf.fit(x_tr,x_te)\n",
    "print(error(rf.predict(x_tr),x_te))"
   ]
  },
  {
   "cell_type": "code",
   "execution_count": 57,
   "metadata": {},
   "outputs": [
    {
     "name": "stdout",
     "output_type": "stream",
     "text": [
      "2.7378107837478933\n"
     ]
    }
   ],
   "source": [
    "x_tr_pred[:,0] = x_tr[:,0]\n",
    "print(error(rf.predict(x_tr_pred), x_te_pred))"
   ]
  },
  {
   "cell_type": "code",
   "execution_count": 58,
   "metadata": {
    "collapsed": true
   },
   "outputs": [],
   "source": [
    "x_tr[:,1] = expanding_mean_encode(x_tr_index, tr_index,'shop_id', times=1)[:,1]"
   ]
  },
  {
   "cell_type": "code",
   "execution_count": 59,
   "metadata": {},
   "outputs": [
    {
     "data": {
      "text/plain": [
       "0.9776210024659762"
      ]
     },
     "execution_count": 59,
     "metadata": {},
     "output_type": "execute_result"
    }
   ],
   "source": [
    "rf.fit(x_tr,x_te)\n",
    "error(rf.predict(x_tr),x_te)"
   ]
  },
  {
   "cell_type": "code",
   "execution_count": 60,
   "metadata": {
    "collapsed": true
   },
   "outputs": [],
   "source": [
    "x_tr_pred[:,1] = x_tr[:,1]"
   ]
  },
  {
   "cell_type": "code",
   "execution_count": 61,
   "metadata": {},
   "outputs": [
    {
     "data": {
      "text/plain": [
       "2.7146221457353357"
      ]
     },
     "execution_count": 61,
     "metadata": {},
     "output_type": "execute_result"
    }
   ],
   "source": [
    "error(rf.predict(x_tr_pred),x_te_pred)"
   ]
  },
  {
   "cell_type": "code",
   "execution_count": 62,
   "metadata": {
    "collapsed": true
   },
   "outputs": [],
   "source": [
    "x_tr[:,2] = expanding_mean_encode(x_tr_index, tr_index,'item_category_id', times=1)[:,2]"
   ]
  },
  {
   "cell_type": "code",
   "execution_count": 63,
   "metadata": {},
   "outputs": [
    {
     "data": {
      "text/plain": [
       "0.9757683207617935"
      ]
     },
     "execution_count": 63,
     "metadata": {},
     "output_type": "execute_result"
    }
   ],
   "source": [
    "rf.fit(x_tr,x_te)\n",
    "error(rf.predict(x_tr),x_te)"
   ]
  },
  {
   "cell_type": "code",
   "execution_count": 64,
   "metadata": {
    "collapsed": true
   },
   "outputs": [],
   "source": [
    "x_tr_pred[:,2] = x_tr[:,2]"
   ]
  },
  {
   "cell_type": "code",
   "execution_count": 65,
   "metadata": {},
   "outputs": [
    {
     "data": {
      "text/plain": [
       "2.721588920604293"
      ]
     },
     "execution_count": 65,
     "metadata": {},
     "output_type": "execute_result"
    }
   ],
   "source": [
    "error(rf.predict(x_tr_pred),x_te_pred)"
   ]
  },
  {
   "cell_type": "code",
   "execution_count": 66,
   "metadata": {
    "collapsed": true
   },
   "outputs": [],
   "source": [
    "x_tr[:,2] = by_month['item_category_id']"
   ]
  },
  {
   "cell_type": "code",
   "execution_count": 67,
   "metadata": {
    "collapsed": true
   },
   "outputs": [],
   "source": [
    "x_tr_pred[:,2] = by_month['item_category_id']"
   ]
  },
  {
   "cell_type": "markdown",
   "metadata": {},
   "source": [
    "Adding previous months max shop wise"
   ]
  },
  {
   "cell_type": "code",
   "execution_count": 47,
   "metadata": {
    "collapsed": true
   },
   "outputs": [],
   "source": [
    "months = np.arange(0,34)"
   ]
  },
  {
   "cell_type": "code",
   "execution_count": 70,
   "metadata": {
    "collapsed": true
   },
   "outputs": [],
   "source": [
    "by_month_shopid_max = by_month.groupby('shop_id').max().loc[:,months]"
   ]
  },
  {
   "cell_type": "code",
   "execution_count": 135,
   "metadata": {
    "collapsed": true
   },
   "outputs": [],
   "source": [
    "x_tr_max = by_month[x_tr_index].join(by_month_shopid_max[tr_index-1], on = 'shop_id', rsuffix = '_max')\n",
    "x_tr_max['item_id'] = expanding_mean_encode(x_tr_index, tr_index, 'item_id',times = 1)[:,0]\n",
    "x_tr_max['shop_id'] = expanding_mean_encode(x_tr_index, tr_index, 'shop_id',times = 1)[:,1]\n",
    "x_tr = x_tr_max.values"
   ]
  },
  {
   "cell_type": "code",
   "execution_count": 137,
   "metadata": {
    "collapsed": true
   },
   "outputs": [],
   "source": [
    "x_tr_pred_max = pd.DataFrame(by_month[x_tr_pred_index]).join(by_month_shopid_max[tr_index], on = 'shop_id', rsuffix = '_max')\n",
    "x_tr_pred_max['item_id'] = x_tr[:,0]\n",
    "x_tr_pred_max['shop_id'] = x_tr[:,1]\n",
    "x_tr_pred = x_tr_pred_max.values"
   ]
  },
  {
   "cell_type": "code",
   "execution_count": 138,
   "metadata": {},
   "outputs": [
    {
     "data": {
      "text/plain": [
       "RandomForestRegressor(bootstrap=True, criterion='mse', max_depth=10,\n",
       "           max_features='sqrt', max_leaf_nodes=None,\n",
       "           min_impurity_decrease=0.0, min_impurity_split=None,\n",
       "           min_samples_leaf=1, min_samples_split=2,\n",
       "           min_weight_fraction_leaf=0.0, n_estimators=100, n_jobs=1,\n",
       "           oob_score=False, random_state=24, verbose=0, warm_start=False)"
      ]
     },
     "execution_count": 138,
     "metadata": {},
     "output_type": "execute_result"
    }
   ],
   "source": [
    "rf.fit(x_tr, x_te)"
   ]
  },
  {
   "cell_type": "code",
   "execution_count": 139,
   "metadata": {},
   "outputs": [
    {
     "name": "stdout",
     "output_type": "stream",
     "text": [
      "0.9098724462358695\n",
      "2.7040353001506015\n"
     ]
    }
   ],
   "source": [
    "print(error(rf.predict(x_tr),x_te))\n",
    "print(error(rf.predict(x_tr_pred),x_te_pred))"
   ]
  },
  {
   "cell_type": "code",
   "execution_count": 140,
   "metadata": {
    "collapsed": true
   },
   "outputs": [],
   "source": [
    "by_month_shopid_sum = by_month.groupby('shop_id').sum(axis = 0).loc[:,months]"
   ]
  },
  {
   "cell_type": "code",
   "execution_count": 203,
   "metadata": {
    "collapsed": true,
    "scrolled": true
   },
   "outputs": [],
   "source": [
    "by_month_cols_sum = by_month_shopid_sum.loc[by_month['shop_id'].values,:].loc[:,(tr_index-6):(tr_index-1)]\n",
    "by_month_cols_sum = by_month_cols_sum.add_suffix('_sum').reset_index().drop('shop_id', axis = 1)"
   ]
  },
  {
   "cell_type": "code",
   "execution_count": 207,
   "metadata": {
    "collapsed": true,
    "scrolled": true
   },
   "outputs": [],
   "source": [
    "x_tr_max_sum = x_tr_max.join(by_month_cols_sum)\n",
    "x_tr = x_tr_max_sum.values"
   ]
  },
  {
   "cell_type": "code",
   "execution_count": 208,
   "metadata": {
    "collapsed": true
   },
   "outputs": [],
   "source": [
    "by_month_cols_sum = by_month_shopid_sum.loc[by_month['shop_id'].values,:].loc[:,(tr_index-5):(tr_index)]\n",
    "by_month_cols_sum = by_month_cols_sum.add_suffix('_sum').reset_index().drop('shop_id', axis = 1)"
   ]
  },
  {
   "cell_type": "code",
   "execution_count": 211,
   "metadata": {
    "collapsed": true
   },
   "outputs": [],
   "source": [
    "x_tr_pred_max_sum = x_tr_pred_max.join(by_month_cols_sum)\n",
    "x_tr_pred = x_tr_pred_max_sum.values"
   ]
  },
  {
   "cell_type": "code",
   "execution_count": 212,
   "metadata": {},
   "outputs": [
    {
     "data": {
      "text/plain": [
       "RandomForestRegressor(bootstrap=True, criterion='mse', max_depth=10,\n",
       "           max_features='sqrt', max_leaf_nodes=None,\n",
       "           min_impurity_decrease=0.0, min_impurity_split=None,\n",
       "           min_samples_leaf=1, min_samples_split=2,\n",
       "           min_weight_fraction_leaf=0.0, n_estimators=100, n_jobs=1,\n",
       "           oob_score=False, random_state=24, verbose=0, warm_start=False)"
      ]
     },
     "execution_count": 212,
     "metadata": {},
     "output_type": "execute_result"
    }
   ],
   "source": [
    "rf.fit(x_tr, x_te)"
   ]
  },
  {
   "cell_type": "code",
   "execution_count": 213,
   "metadata": {},
   "outputs": [
    {
     "name": "stdout",
     "output_type": "stream",
     "text": [
      "0.9235328776463213\n",
      "2.7163689002765268\n"
     ]
    }
   ],
   "source": [
    "print(error(rf.predict(x_tr),x_te))\n",
    "print(error(rf.predict(x_tr_pred),x_te_pred))"
   ]
  },
  {
   "cell_type": "code",
   "execution_count": 237,
   "metadata": {
    "collapsed": true
   },
   "outputs": [],
   "source": [
    "by_month_shopid_item_count = by_month.groupby('shop_id')['item_id'].count()\n",
    "by_month_shopid_average = by_month.groupby('shop_id').sum(axis = 0).divide(by_month_shopid_item_count, axis = 0).loc[:,months] "
   ]
  },
  {
   "cell_type": "code",
   "execution_count": 243,
   "metadata": {
    "collapsed": true,
    "scrolled": true
   },
   "outputs": [],
   "source": [
    "by_month_cols_average = by_month_shopid_average.loc[by_month['shop_id'].values,(tr_index-12):(tr_index-1)].reset_index().drop('shop_id', axis = 1).add_suffix('_ave')\n",
    "x_tr_max_sum_average = x_tr_max_sum.join(by_month_cols_average)"
   ]
  },
  {
   "cell_type": "code",
   "execution_count": 419,
   "metadata": {
    "collapsed": true
   },
   "outputs": [],
   "source": [
    "by_month_cols_average = by_month_shopid_average.loc[by_month['shop_id'].values,(tr_index-11):(tr_index)].reset_index().drop('shop_id', axis = 1).add_suffix('_ave')\n",
    "x_tr_pred_max_sum_average = x_tr_pred_max_sum.join(by_month_cols_average)"
   ]
  },
  {
   "cell_type": "code",
   "execution_count": 248,
   "metadata": {},
   "outputs": [
    {
     "data": {
      "text/plain": [
       "(424124, 43)"
      ]
     },
     "execution_count": 248,
     "metadata": {},
     "output_type": "execute_result"
    }
   ],
   "source": [
    "x_tr_max_sum_average.shape"
   ]
  },
  {
   "cell_type": "code",
   "execution_count": 249,
   "metadata": {},
   "outputs": [
    {
     "data": {
      "text/plain": [
       "(424124, 43)"
      ]
     },
     "execution_count": 249,
     "metadata": {},
     "output_type": "execute_result"
    }
   ],
   "source": [
    "x_tr_pred_max_sum_average.shape"
   ]
  },
  {
   "cell_type": "code",
   "execution_count": 250,
   "metadata": {},
   "outputs": [
    {
     "data": {
      "text/plain": [
       "RandomForestRegressor(bootstrap=True, criterion='mse', max_depth=10,\n",
       "           max_features='sqrt', max_leaf_nodes=None,\n",
       "           min_impurity_decrease=0.0, min_impurity_split=None,\n",
       "           min_samples_leaf=1, min_samples_split=2,\n",
       "           min_weight_fraction_leaf=0.0, n_estimators=100, n_jobs=1,\n",
       "           oob_score=False, random_state=24, verbose=0, warm_start=False)"
      ]
     },
     "execution_count": 250,
     "metadata": {},
     "output_type": "execute_result"
    }
   ],
   "source": [
    "rf.fit(x_tr_max_sum_average.values, x_te)"
   ]
  },
  {
   "cell_type": "code",
   "execution_count": 251,
   "metadata": {},
   "outputs": [
    {
     "name": "stdout",
     "output_type": "stream",
     "text": [
      "0.9500088366600667\n",
      "2.7311910270930055\n"
     ]
    }
   ],
   "source": [
    "print(error(rf.predict(x_tr_max_sum_average.values),x_te))\n",
    "print(error(rf.predict(x_tr_pred_max_sum_average.values),x_te_pred))"
   ]
  },
  {
   "cell_type": "markdown",
   "metadata": {},
   "source": [
    "Just adding 12th month previous average and 12 month sum "
   ]
  },
  {
   "cell_type": "code",
   "execution_count": 291,
   "metadata": {
    "collapsed": true
   },
   "outputs": [],
   "source": [
    "by_month_cols_sum = by_month_shopid_sum.loc[by_month['shop_id'].values,:].loc[:,(tr_index-12):(tr_index-1)]\n",
    "by_month_cols_sum = by_month_cols_sum.add_suffix('_sum').reset_index().drop('shop_id', axis = 1)"
   ]
  },
  {
   "cell_type": "code",
   "execution_count": 292,
   "metadata": {
    "collapsed": true
   },
   "outputs": [],
   "source": [
    "x_tr_max_sum_12 = x_tr_max.join(by_month_cols_sum)\n",
    "x_tr = x_tr_max_sum_12.values"
   ]
  },
  {
   "cell_type": "code",
   "execution_count": 293,
   "metadata": {
    "collapsed": true
   },
   "outputs": [],
   "source": [
    "by_month_cols_sum = by_month_shopid_sum.loc[by_month['shop_id'].values,:].loc[:,(tr_index-11):(tr_index)]\n",
    "by_month_cols_sum = by_month_cols_sum.add_suffix('_sum').reset_index().drop('shop_id', axis = 1)"
   ]
  },
  {
   "cell_type": "code",
   "execution_count": 294,
   "metadata": {
    "collapsed": true
   },
   "outputs": [],
   "source": [
    "x_tr_pred_max_sum_12 = x_tr_pred_max.join(by_month_cols_sum)\n",
    "x_tr_pred = x_tr_pred_max_sum_12.values"
   ]
  },
  {
   "cell_type": "code",
   "execution_count": 299,
   "metadata": {},
   "outputs": [
    {
     "name": "stdout",
     "output_type": "stream",
     "text": [
      "0.9187052651480402\n",
      "2.7054658084055205\n"
     ]
    }
   ],
   "source": [
    "rf.fit(x_tr_max_sum_12.values, x_te)\n",
    "print(error(rf.predict(x_tr_max_sum_12.values),x_te))\n",
    "print(error(rf.predict(x_tr_pred_max_sum_12.values),x_te_pred))"
   ]
  },
  {
   "cell_type": "code",
   "execution_count": 304,
   "metadata": {
    "collapsed": true,
    "scrolled": true
   },
   "outputs": [],
   "source": [
    "by_month_cols_average = by_month_shopid_average.loc[by_month['shop_id'].values,tr_index-12].reset_index().drop('shop_id', axis = 1).add_suffix('_ave')\n",
    "x_tr_max_sum_12_average_1 = x_tr_max_sum_12.join(by_month_cols_average, rsuffix = '_ave')\n",
    "by_month_cols_average = by_month_shopid_average.loc[by_month['shop_id'].values,tr_index-11].reset_index().drop('shop_id', axis = 1)..add_suffix('_ave')\n",
    "x_tr_pred_max_sum_12_average_1 = x_tr_pred_max_sum_12.join(by_month_cols_average, rsuffix = '_ave')"
   ]
  },
  {
   "cell_type": "code",
   "execution_count": 308,
   "metadata": {},
   "outputs": [
    {
     "name": "stdout",
     "output_type": "stream",
     "text": [
      "0.9314531509320796\n",
      "2.7076184460374715\n"
     ]
    }
   ],
   "source": [
    "rf.fit(x_tr_max_sum_12_average_1.values, x_te)\n",
    "print(error(rf.predict(x_tr_max_sum_12_average_1.values),x_te))\n",
    "print(error(rf.predict(x_tr_pred_max_sum_12_average_1.values),x_te_pred))"
   ]
  },
  {
   "cell_type": "markdown",
   "metadata": {},
   "source": [
    "***Try xgboost on this dataset***"
   ]
  },
  {
   "cell_type": "code",
   "execution_count": 226,
   "metadata": {
    "collapsed": true
   },
   "outputs": [],
   "source": [
    "xgbalg = XGBRegressor(learning_rate = 0.1, n_estimators = 1000, max_depth = 5, min_child_weight = 15, gamma = 0,\n",
    "                    subsample = 1, colsample_bytree=0.8, seed = 21, silent = True)"
   ]
  },
  {
   "cell_type": "code",
   "execution_count": 233,
   "metadata": {
    "collapsed": true
   },
   "outputs": [],
   "source": [
    "xgtrain = xgb.DMatrix(x_tr_max_sum.values, x_te)\n",
    "xgtest = xgb.DMatrix(x_tr_pred_max_sum.values, x_te_pred)"
   ]
  },
  {
   "cell_type": "code",
   "execution_count": 234,
   "metadata": {},
   "outputs": [
    {
     "name": "stdout",
     "output_type": "stream",
     "text": [
      "[0]\ttest-rmse-rmse:3.53497\n",
      "Will train until test-rmse-rmse hasn't improved in 50 rounds.\n",
      "[10]\ttest-rmse-rmse:2.92963\n",
      "[20]\ttest-rmse-rmse:2.91764\n",
      "[30]\ttest-rmse-rmse:2.93362\n",
      "[40]\ttest-rmse-rmse:2.96821\n",
      "[50]\ttest-rmse-rmse:2.98603\n",
      "[60]\ttest-rmse-rmse:2.99905\n",
      "Stopping. Best iteration:\n",
      "[15]\ttest-rmse-rmse:2.90627\n",
      "\n"
     ]
    }
   ],
   "source": [
    "xgbresults = xgb.train(xgbalg.get_xgb_params(), xgtrain, num_boost_round=5000, early_stopping_rounds = 50, verbose_eval=10,\n",
    "                      evals = [(xgtest, 'test-rmse')])"
   ]
  },
  {
   "cell_type": "code",
   "execution_count": 236,
   "metadata": {},
   "outputs": [
    {
     "data": {
      "text/plain": [
       "(424124, 31)"
      ]
     },
     "execution_count": 236,
     "metadata": {},
     "output_type": "execute_result"
    }
   ],
   "source": [
    "x_tr_max_sum.values.shape"
   ]
  },
  {
   "cell_type": "code",
   "execution_count": 235,
   "metadata": {},
   "outputs": [
    {
     "data": {
      "text/plain": [
       "<matplotlib.axes._subplots.AxesSubplot at 0x26f60448c50>"
      ]
     },
     "execution_count": 235,
     "metadata": {},
     "output_type": "execute_result"
    },
    {
     "data": {
      "image/png": "[encoded data removed]",
      "text/plain": [
       "<matplotlib.figure.Figure at 0x26f64514ba8>"
      ]
     },
     "metadata": {},
     "output_type": "display_data"
    }
   ],
   "source": [
    "xgb.plot_importance(xgbresults)"
   ]
  },
  {
   "cell_type": "code",
   "execution_count": 229,
   "metadata": {
    "collapsed": true
   },
   "outputs": [],
   "source": [
    "xgtrain = xgb.DMatrix(x_tr_max.values, x_te)\n",
    "xgtest = xgb.DMatrix(x_tr_pred_max.values, x_te_pred)"
   ]
  },
  {
   "cell_type": "code",
   "execution_count": 230,
   "metadata": {},
   "outputs": [
    {
     "name": "stdout",
     "output_type": "stream",
     "text": [
      "[0]\ttest-rmse-rmse:3.5332\n",
      "Will train until test-rmse-rmse hasn't improved in 50 rounds.\n",
      "[10]\ttest-rmse-rmse:2.93124\n",
      "[20]\ttest-rmse-rmse:2.92817\n",
      "[30]\ttest-rmse-rmse:2.9674\n",
      "[40]\ttest-rmse-rmse:2.98528\n",
      "[50]\ttest-rmse-rmse:3.00553\n",
      "[60]\ttest-rmse-rmse:3.01345\n",
      "Stopping. Best iteration:\n",
      "[15]\ttest-rmse-rmse:2.91011\n",
      "\n"
     ]
    }
   ],
   "source": [
    "xgbresults = xgb.train(xgbalg.get_xgb_params(), xgtrain, num_boost_round=5000, early_stopping_rounds = 50, verbose_eval=10,\n",
    "                      evals = [(xgtest, 'test-rmse')])"
   ]
  },
  {
   "cell_type": "code",
   "execution_count": 232,
   "metadata": {},
   "outputs": [
    {
     "data": {
      "text/plain": [
       "(424124, 25)"
      ]
     },
     "execution_count": 232,
     "metadata": {},
     "output_type": "execute_result"
    }
   ],
   "source": [
    "x_tr_max.values.shape"
   ]
  },
  {
   "cell_type": "code",
   "execution_count": 231,
   "metadata": {},
   "outputs": [
    {
     "data": {
      "text/plain": [
       "<matplotlib.axes._subplots.AxesSubplot at 0x26f5f20d668>"
      ]
     },
     "execution_count": 231,
     "metadata": {},
     "output_type": "execute_result"
    },
    {
     "data": {
      "image/png": "[encoded data removed]",
      "text/plain": [
       "<matplotlib.figure.Figure at 0x26fa2b87d68>"
      ]
     },
     "metadata": {},
     "output_type": "display_data"
    }
   ],
   "source": [
    "xgb.plot_importance(xgbresults)"
   ]
  },
  {
   "cell_type": "code",
   "execution_count": 252,
   "metadata": {
    "collapsed": true
   },
   "outputs": [],
   "source": [
    "xgtrain = xgb.DMatrix(x_tr_max_sum_average.values, x_te)\n",
    "xgtest = xgb.DMatrix(x_tr_pred_max_sum_average.values, x_te_pred)"
   ]
  },
  {
   "cell_type": "code",
   "execution_count": 253,
   "metadata": {},
   "outputs": [
    {
     "name": "stdout",
     "output_type": "stream",
     "text": [
      "[0]\ttest-rmse-rmse:3.5735\n",
      "Will train until test-rmse-rmse hasn't improved in 50 rounds.\n",
      "[10]\ttest-rmse-rmse:2.97095\n",
      "[20]\ttest-rmse-rmse:2.92633\n",
      "[30]\ttest-rmse-rmse:2.94672\n",
      "[40]\ttest-rmse-rmse:2.9733\n",
      "[50]\ttest-rmse-rmse:3.01219\n",
      "[60]\ttest-rmse-rmse:3.05738\n",
      "Stopping. Best iteration:\n",
      "[17]\ttest-rmse-rmse:2.92159\n",
      "\n"
     ]
    }
   ],
   "source": [
    "xgbresults = xgb.train(xgbalg.get_xgb_params(), xgtrain, num_boost_round=5000, early_stopping_rounds = 50, verbose_eval=10,\n",
    "                      evals = [(xgtest, 'test-rmse')])"
   ]
  },
  {
   "cell_type": "code",
   "execution_count": 268,
   "metadata": {},
   "outputs": [
    {
     "data": {
      "text/plain": [
       "<matplotlib.axes._subplots.AxesSubplot at 0x27098fdfda0>"
      ]
     },
     "execution_count": 268,
     "metadata": {},
     "output_type": "execute_result"
    },
    {
     "data": {
      "image/png": "[encoded data removed]",
      "text/plain": [
       "<matplotlib.figure.Figure at 0x27099187048>"
      ]
     },
     "metadata": {},
     "output_type": "display_data"
    }
   ],
   "source": [
    "xgb.plot_importance(xgbresults, height = 0.1)"
   ]
  },
  {
   "cell_type": "markdown",
   "metadata": {},
   "source": [
    "**Using last 12 months average does not work really well!**"
   ]
  },
  {
   "cell_type": "code",
   "execution_count": 309,
   "metadata": {},
   "outputs": [
    {
     "name": "stdout",
     "output_type": "stream",
     "text": [
      "[0]\ttest-rmse-rmse:3.53394\n",
      "Will train until test-rmse-rmse hasn't improved in 50 rounds.\n",
      "[10]\ttest-rmse-rmse:2.94116\n",
      "[20]\ttest-rmse-rmse:2.91763\n",
      "[30]\ttest-rmse-rmse:2.94044\n",
      "[40]\ttest-rmse-rmse:2.9622\n",
      "[50]\ttest-rmse-rmse:2.99376\n",
      "[60]\ttest-rmse-rmse:3.01053\n",
      "Stopping. Best iteration:\n",
      "[17]\ttest-rmse-rmse:2.91026\n",
      "\n"
     ]
    }
   ],
   "source": [
    "xgtrain = xgb.DMatrix(x_tr_max_sum_12.values, x_te)\n",
    "xgtest = xgb.DMatrix(x_tr_pred_max_sum_12.values, x_te_pred)\n",
    "xgbresults = xgb.train(xgbalg.get_xgb_params(), xgtrain, num_boost_round=5000, early_stopping_rounds = 50, verbose_eval=10,\n",
    "                      evals = [(xgtest, 'test-rmse')])"
   ]
  },
  {
   "cell_type": "code",
   "execution_count": 310,
   "metadata": {},
   "outputs": [
    {
     "name": "stdout",
     "output_type": "stream",
     "text": [
      "[0]\ttest-rmse-rmse:3.53279\n",
      "Will train until test-rmse-rmse hasn't improved in 50 rounds.\n",
      "[10]\ttest-rmse-rmse:2.92482\n",
      "[20]\ttest-rmse-rmse:2.91025\n",
      "[30]\ttest-rmse-rmse:2.93966\n",
      "[40]\ttest-rmse-rmse:2.96597\n",
      "[50]\ttest-rmse-rmse:3.00811\n",
      "[60]\ttest-rmse-rmse:3.03413\n",
      "Stopping. Best iteration:\n",
      "[17]\ttest-rmse-rmse:2.90411\n",
      "\n"
     ]
    }
   ],
   "source": [
    "xgtrain = xgb.DMatrix(x_tr_max_sum_12_average_1.values, x_te)\n",
    "xgtest = xgb.DMatrix(x_tr_pred_max_sum_12_average_1.values, x_te_pred)\n",
    "xgbresults = xgb.train(xgbalg.get_xgb_params(), xgtrain, num_boost_round=5000, early_stopping_rounds = 50, verbose_eval=10,\n",
    "                      evals = [(xgtest, 'test-rmse')])"
   ]
  },
  {
   "cell_type": "code",
   "execution_count": 312,
   "metadata": {},
   "outputs": [
    {
     "data": {
      "text/plain": [
       "(424124, 38)"
      ]
     },
     "execution_count": 312,
     "metadata": {},
     "output_type": "execute_result"
    }
   ],
   "source": [
    "x_tr_max_sum_12_average_1.shape"
   ]
  },
  {
   "cell_type": "code",
   "execution_count": 313,
   "metadata": {},
   "outputs": [
    {
     "data": {
      "text/plain": [
       "Index([         'item_id',          'shop_id', 'item_category_id',\n",
       "                        0,                  1,                  2,\n",
       "                        3,                  4,                  5,\n",
       "                        6,                  7,                  8,\n",
       "                      '9',                 10,                 11,\n",
       "                       12,                 13,                 14,\n",
       "                       15,                 16,                 17,\n",
       "                       18,                 19,               '20',\n",
       "                 '20_max',            '9_sum',           '10_sum',\n",
       "                 '11_sum',           '12_sum',           '13_sum',\n",
       "                 '14_sum',           '15_sum',           '16_sum',\n",
       "                 '17_sum',           '18_sum',           '19_sum',\n",
       "                 '20_sum',            '9_ave'],\n",
       "      dtype='object')"
      ]
     },
     "execution_count": 313,
     "metadata": {},
     "output_type": "execute_result"
    }
   ],
   "source": [
    "x_tr_max_sum_12_average_1.columns"
   ]
  },
  {
   "cell_type": "code",
   "execution_count": 311,
   "metadata": {},
   "outputs": [
    {
     "data": {
      "text/plain": [
       "<matplotlib.axes._subplots.AxesSubplot at 0x2710c50ec88>"
      ]
     },
     "execution_count": 311,
     "metadata": {},
     "output_type": "execute_result"
    },
    {
     "data": {
      "image/png": "[encoded data removed]",
      "text/plain": [
       "<matplotlib.figure.Figure at 0x2710c4f7240>"
      ]
     },
     "metadata": {},
     "output_type": "display_data"
    }
   ],
   "source": [
    "xgb.plot_importance(xgbresults)"
   ]
  },
  {
   "cell_type": "markdown",
   "metadata": {},
   "source": [
    "**So far: max_num = 1, sum_num = 12, ave_num = 1**"
   ]
  },
  {
   "cell_type": "markdown",
   "metadata": {},
   "source": [
    "Check results for tr_index = 20"
   ]
  },
  {
   "cell_type": "code",
   "execution_count": 16,
   "metadata": {
    "collapsed": true
   },
   "outputs": [],
   "source": [
    "xgbalg = XGBRegressor(learning_rate = 0.1, n_estimators = 1000, max_depth = 5, min_child_weight = 15, gamma = 0,\n",
    "                    subsample = 1, colsample_bytree=0.8, seed = 21, silent = True)"
   ]
  },
  {
   "cell_type": "code",
   "execution_count": 126,
   "metadata": {
    "collapsed": true
   },
   "outputs": [],
   "source": [
    "tr_index = 20\n",
    "tr_index_init = 9"
   ]
  },
  {
   "cell_type": "code",
   "execution_count": 82,
   "metadata": {
    "collapsed": true
   },
   "outputs": [],
   "source": [
    "[x_tr_max_sum_average, x_tr, x_tr_pred_max_sum_average, x_tr_pred] = max_sum_average(tr_index_init=tr_index_init, \n",
    "                                                                                     tr_index=tr_index, max_num=1, sum_num=12, \n",
    "                                                                                     ave_num=1, expand=True)"
   ]
  },
  {
   "cell_type": "code",
   "execution_count": 83,
   "metadata": {},
   "outputs": [
    {
     "data": {
      "text/plain": [
       "Index(['item_category_id',                  9,                 10,\n",
       "                       11,                 12,                 13,\n",
       "                       14,                 15,                 16,\n",
       "                       17,                 18,               '19',\n",
       "                 '19_max',            '8_sum',            '9_sum',\n",
       "                 '10_sum',           '11_sum',           '12_sum',\n",
       "                 '13_sum',           '14_sum',           '15_sum',\n",
       "                 '16_sum',           '17_sum',           '18_sum',\n",
       "                 '19_sum',           '19_ave',      'item_id_enc',\n",
       "            'shop_id_enc'],\n",
       "      dtype='object')"
      ]
     },
     "execution_count": 83,
     "metadata": {},
     "output_type": "execute_result"
    }
   ],
   "source": [
    "x_tr_max_sum_average.columns"
   ]
  },
  {
   "cell_type": "code",
   "execution_count": 84,
   "metadata": {},
   "outputs": [
    {
     "data": {
      "text/plain": [
       "(424124, 28)"
      ]
     },
     "execution_count": 84,
     "metadata": {},
     "output_type": "execute_result"
    }
   ],
   "source": [
    "x_tr_max_sum_average.shape"
   ]
  },
  {
   "cell_type": "code",
   "execution_count": 85,
   "metadata": {},
   "outputs": [
    {
     "data": {
      "text/plain": [
       "(111404, 28)"
      ]
     },
     "execution_count": 85,
     "metadata": {},
     "output_type": "execute_result"
    }
   ],
   "source": [
    "x_tr_pred_max_sum_average.shape"
   ]
  },
  {
   "cell_type": "code",
   "execution_count": 127,
   "metadata": {
    "collapsed": true
   },
   "outputs": [],
   "source": [
    "x_te = by_month[tr_index]\n",
    "x_te_pred = create_y(tr_index)\n",
    "#sales_test.merge(by_month.loc[:,['item_id','shop_id',tr_index+1]], on = ['shop_id', 'item_id']).drop(['ID','shop_id', 'item_id'], axis = 1)"
   ]
  },
  {
   "cell_type": "code",
   "execution_count": 103,
   "metadata": {},
   "outputs": [
    {
     "data": {
      "text/plain": [
       "Index(['item_category_id',                 10,                 11,\n",
       "                       12,                 13,                 14,\n",
       "                       15,                 16,                 17,\n",
       "                       18,                 19,               '20',\n",
       "                 '20_max',            '9_sum',           '10_sum',\n",
       "                 '11_sum',           '12_sum',           '13_sum',\n",
       "                 '14_sum',           '15_sum',           '16_sum',\n",
       "                 '17_sum',           '18_sum',           '19_sum',\n",
       "                 '20_sum',           '20_ave',      'item_id_enc',\n",
       "            'shop_id_enc'],\n",
       "      dtype='object')"
      ]
     },
     "execution_count": 103,
     "metadata": {},
     "output_type": "execute_result"
    }
   ],
   "source": [
    "x_tr_pred_max_sum_average.columns"
   ]
  },
  {
   "cell_type": "code",
   "execution_count": 104,
   "metadata": {},
   "outputs": [
    {
     "data": {
      "text/plain": [
       "Index(['item_category_id',                  9,                 10,\n",
       "                       11,                 12,                 13,\n",
       "                       14,                 15,                 16,\n",
       "                       17,                 18,               '19',\n",
       "                 '19_max',            '8_sum',            '9_sum',\n",
       "                 '10_sum',           '11_sum',           '12_sum',\n",
       "                 '13_sum',           '14_sum',           '15_sum',\n",
       "                 '16_sum',           '17_sum',           '18_sum',\n",
       "                 '19_sum',           '19_ave',      'item_id_enc',\n",
       "            'shop_id_enc'],\n",
       "      dtype='object')"
      ]
     },
     "execution_count": 104,
     "metadata": {},
     "output_type": "execute_result"
    }
   ],
   "source": [
    "x_tr_max_sum_average.columns"
   ]
  },
  {
   "cell_type": "code",
   "execution_count": 128,
   "metadata": {},
   "outputs": [
    {
     "name": "stdout",
     "output_type": "stream",
     "text": [
      "[0]\ttest-rmse-rmse:3.96277\n",
      "Will train until test-rmse-rmse hasn't improved in 50 rounds.\n",
      "[10]\ttest-rmse-rmse:2.57509\n",
      "[20]\ttest-rmse-rmse:2.34406\n",
      "[30]\ttest-rmse-rmse:2.28768\n",
      "[40]\ttest-rmse-rmse:2.28155\n",
      "[50]\ttest-rmse-rmse:2.27079\n",
      "[60]\ttest-rmse-rmse:2.27288\n",
      "[70]\ttest-rmse-rmse:2.28465\n",
      "[80]\ttest-rmse-rmse:2.29373\n",
      "[90]\ttest-rmse-rmse:2.2966\n",
      "[100]\ttest-rmse-rmse:2.29956\n",
      "[110]\ttest-rmse-rmse:2.31168\n",
      "Stopping. Best iteration:\n",
      "[62]\ttest-rmse-rmse:2.27005\n",
      "\n"
     ]
    }
   ],
   "source": [
    "xgtrain = xgb.DMatrix(x_tr_max_sum_average.values, x_te)\n",
    "xgtest = xgb.DMatrix(x_tr_pred_max_sum_average.values, x_te_pred)\n",
    "xgbresults = xgb.train(xgbalg.get_xgb_params(), xgtrain, num_boost_round=1000, early_stopping_rounds = 50, verbose_eval=10,\n",
    "                      evals = [(xgtest, 'test-rmse')])"
   ]
  },
  {
   "cell_type": "code",
   "execution_count": 138,
   "metadata": {
    "collapsed": true
   },
   "outputs": [],
   "source": [
    "tr_index = 32\n",
    "tr_init_index = 21\n",
    "[_,_,x_test_df, x_test] = max_sum_average(tr_index_init=tr_init_index, tr_index=tr_index, max_num=1, sum_num=12, ave_num=1, expand=True)"
   ]
  },
  {
   "cell_type": "code",
   "execution_count": 139,
   "metadata": {},
   "outputs": [
    {
     "data": {
      "text/plain": [
       "Index(['item_category_id',                 21,                 22,\n",
       "                       23,                 24,                 25,\n",
       "                       26,                 27,                 28,\n",
       "                       29,                 30,               '31',\n",
       "                 '31_max',           '20_sum',           '21_sum',\n",
       "                 '22_sum',           '23_sum',           '24_sum',\n",
       "                 '25_sum',           '26_sum',           '27_sum',\n",
       "                 '28_sum',           '29_sum',           '30_sum',\n",
       "                 '31_sum',           '31_ave',      'item_id_enc',\n",
       "            'shop_id_enc'],\n",
       "      dtype='object')"
      ]
     },
     "execution_count": 139,
     "metadata": {},
     "output_type": "execute_result"
    }
   ],
   "source": [
    "x_test_1.columns"
   ]
  },
  {
   "cell_type": "code",
   "execution_count": 140,
   "metadata": {},
   "outputs": [
    {
     "data": {
      "text/plain": [
       "Index(['item_category_id',                 22,                 23,\n",
       "                       24,                 25,                 26,\n",
       "                       27,                 28,                 29,\n",
       "                       30,                 31,               '32',\n",
       "                 '32_max',           '21_sum',           '22_sum',\n",
       "                 '23_sum',           '24_sum',           '25_sum',\n",
       "                 '26_sum',           '27_sum',           '28_sum',\n",
       "                 '29_sum',           '30_sum',           '31_sum',\n",
       "                 '32_sum',           '32_ave',      'item_id_enc',\n",
       "            'shop_id_enc'],\n",
       "      dtype='object')"
      ]
     },
     "execution_count": 140,
     "metadata": {},
     "output_type": "execute_result"
    }
   ],
   "source": [
    "x_test_df.columns"
   ]
  },
  {
   "cell_type": "code",
   "execution_count": 141,
   "metadata": {},
   "outputs": [
    {
     "name": "stdout",
     "output_type": "stream",
     "text": [
      "0.9371722236932865\n"
     ]
    }
   ],
   "source": [
    "print(error(xgbresults.predict(xgtrain), x_te))"
   ]
  },
  {
   "cell_type": "code",
   "execution_count": 124,
   "metadata": {},
   "outputs": [
    {
     "data": {
      "text/plain": [
       "2.3095438737635194"
      ]
     },
     "execution_count": 124,
     "metadata": {},
     "output_type": "execute_result"
    }
   ],
   "source": [
    "np.sqrt(mean_squared_error(xgbresults.predict(xgtest), x_te_pred))"
   ]
  },
  {
   "cell_type": "code",
   "execution_count": 142,
   "metadata": {
    "collapsed": true
   },
   "outputs": [],
   "source": [
    "y_test = xgbresults.predict(xgb.DMatrix(x_test))"
   ]
  },
  {
   "cell_type": "code",
   "execution_count": 150,
   "metadata": {},
   "outputs": [
    {
     "data": {
      "text/plain": [
       "6.751686624925714"
      ]
     },
     "execution_count": 150,
     "metadata": {},
     "output_type": "execute_result"
    }
   ],
   "source": [
    "error(y_test, tr_index)"
   ]
  },
  {
   "cell_type": "code",
   "execution_count": 147,
   "metadata": {},
   "outputs": [
    {
     "data": {
      "text/plain": [
       "<matplotlib.axes._subplots.AxesSubplot at 0x2bf83d21b70>"
      ]
     },
     "execution_count": 147,
     "metadata": {},
     "output_type": "execute_result"
    },
    {
     "data": {
      "image/png": "[encoded data removed]",
      "text/plain": [
       "<matplotlib.figure.Figure at 0x2bf81efc0b8>"
      ]
     },
     "metadata": {},
     "output_type": "display_data"
    }
   ],
   "source": [
    "xgb.plot_importance(xgbresults)"
   ]
  },
  {
   "cell_type": "markdown",
   "metadata": {},
   "source": [
    "Check if performance same with tr_index = 32 "
   ]
  },
  {
   "cell_type": "code",
   "execution_count": 13,
   "metadata": {},
   "outputs": [],
   "source": [
    "xgbalg = XGBRegressor(learning_rate = 0.2, n_estimators = 1000, max_depth = 10, min_child_weight = 1000, gamma = 0,\n",
    "                    subsample = 0.5, colsample_bytree=1, seed = 24, silent = True)"
   ]
  },
  {
   "cell_type": "code",
   "execution_count": 14,
   "metadata": {
    "collapsed": true
   },
   "outputs": [],
   "source": [
    "tr_index = 32\n",
    "tr_index_init = 0"
   ]
  },
  {
   "cell_type": "code",
   "execution_count": 15,
   "metadata": {
    "collapsed": true,
    "scrolled": true
   },
   "outputs": [],
   "source": [
    "[x_tr_max_sum_average, x_tr, x_tr_pred_max_sum_average, x_tr_pred] = max_sum_average(tr_index_init=tr_index_init, \n",
    "                                                                                     tr_index=tr_index, max_num=1, \n",
    "                                                                                     sum_num=12, ave_num=1)"
   ]
  },
  {
   "cell_type": "code",
   "execution_count": 16,
   "metadata": {
    "scrolled": true
   },
   "outputs": [
    {
     "data": {
      "text/plain": [
       "Index(['item_category_id',                  0,                  1,\n",
       "                        2,                  3,                  4,\n",
       "                        5,                  6,                  7,\n",
       "                        8,                  9,                 10,\n",
       "                       11,                 12,                 13,\n",
       "                       14,                 15,                 16,\n",
       "                       17,                 18,                 19,\n",
       "                       20,                 21,                 22,\n",
       "                       23,                 24,                 25,\n",
       "                       26,                 27,                 28,\n",
       "                       29,                 30,               '31',\n",
       "                 '31_max',           '20_sum',           '21_sum',\n",
       "                 '22_sum',           '23_sum',           '24_sum',\n",
       "                 '25_sum',           '26_sum',           '27_sum',\n",
       "                 '28_sum',           '29_sum',           '30_sum',\n",
       "                 '31_sum',           '31_ave',      'item_id_enc',\n",
       "            'shop_id_enc'],\n",
       "      dtype='object')"
      ]
     },
     "execution_count": 16,
     "metadata": {},
     "output_type": "execute_result"
    }
   ],
   "source": [
    "x_tr_max_sum_average.columns"
   ]
  },
  {
   "cell_type": "code",
   "execution_count": 17,
   "metadata": {
    "scrolled": true
   },
   "outputs": [
    {
     "data": {
      "text/plain": [
       "Index(['item_category_id',                  1,                  2,\n",
       "                        3,                  4,                  5,\n",
       "                        6,                  7,                  8,\n",
       "                        9,                 10,                 11,\n",
       "                       12,                 13,                 14,\n",
       "                       15,                 16,                 17,\n",
       "                       18,                 19,                 20,\n",
       "                       21,                 22,                 23,\n",
       "                       24,                 25,                 26,\n",
       "                       27,                 28,                 29,\n",
       "                       30,                 31,               '32',\n",
       "                 '32_max',           '21_sum',           '22_sum',\n",
       "                 '23_sum',           '24_sum',           '25_sum',\n",
       "                 '26_sum',           '27_sum',           '28_sum',\n",
       "                 '29_sum',           '30_sum',           '31_sum',\n",
       "                 '32_sum',           '32_ave',      'item_id_enc',\n",
       "            'shop_id_enc'],\n",
       "      dtype='object')"
      ]
     },
     "execution_count": 17,
     "metadata": {},
     "output_type": "execute_result"
    }
   ],
   "source": [
    "x_tr_pred_max_sum_average.columns"
   ]
  },
  {
   "cell_type": "code",
   "execution_count": 18,
   "metadata": {
    "collapsed": true
   },
   "outputs": [],
   "source": [
    "x_te = by_month[tr_index]\n",
    "x_te_pred = create_y(tr_index)"
   ]
  },
  {
   "cell_type": "code",
   "execution_count": null,
   "metadata": {},
   "outputs": [
    {
     "name": "stdout",
     "output_type": "stream",
     "text": [
      "[0]\ttest-rmse-rmse:7.64716\n",
      "Will train until test-rmse-rmse hasn't improved in 30 rounds.\n",
      "[10]\ttest-rmse-rmse:7.60428\n"
     ]
    }
   ],
   "source": [
    "xgtrain = xgb.DMatrix(x_tr, x_te)\n",
    "xgtest = xgb.DMatrix(x_tr_pred, x_te_pred)\n",
    "xgbresults = xgb.train(xgbalg.get_xgb_params(), xgtrain, num_boost_round=1000, early_stopping_rounds = 30, verbose_eval=10,\n",
    "                      evals = [(xgtest, 'test-rmse')])"
   ]
  },
  {
   "cell_type": "code",
   "execution_count": 579,
   "metadata": {},
   "outputs": [
    {
     "data": {
      "text/plain": [
       "2.2322772413720293"
      ]
     },
     "execution_count": 579,
     "metadata": {},
     "output_type": "execute_result"
    }
   ],
   "source": [
    "error(xgbresults.predict(xgtrain), x_te)"
   ]
  },
  {
   "cell_type": "code",
   "execution_count": 580,
   "metadata": {},
   "outputs": [
    {
     "name": "stderr",
     "output_type": "stream",
     "text": [
      "Exception ignored in: <bound method DMatrix.__del__ of <xgboost.core.DMatrix object at 0x0000026F5F164240>>\n",
      "Traceback (most recent call last):\n",
      "  File \"F:\\Python\\lib\\site-packages\\xgboost-0.71-py3.6.egg\\xgboost\\core.py\", line 366, in __del__\n",
      "    if self.handle is not None:\n",
      "AttributeError: 'DMatrix' object has no attribute 'handle'\n",
      "Exception ignored in: <bound method DMatrix.__del__ of <xgboost.core.DMatrix object at 0x0000026F02B69358>>\n",
      "Traceback (most recent call last):\n",
      "  File \"F:\\Python\\lib\\site-packages\\xgboost-0.71-py3.6.egg\\xgboost\\core.py\", line 366, in __del__\n",
      "    if self.handle is not None:\n",
      "AttributeError: 'DMatrix' object has no attribute 'handle'\n"
     ]
    },
    {
     "data": {
      "text/plain": [
       "5.480500397751413"
      ]
     },
     "execution_count": 580,
     "metadata": {},
     "output_type": "execute_result"
    }
   ],
   "source": [
    "error(xgbresults.predict(xgtest), x_te_pred)"
   ]
  },
  {
   "cell_type": "code",
   "execution_count": null,
   "metadata": {
    "collapsed": true
   },
   "outputs": [],
   "source": []
  },
  {
   "cell_type": "markdown",
   "metadata": {},
   "source": [
    "Trying Catboost with categorical features"
   ]
  },
  {
   "cell_type": "code",
   "execution_count": 383,
   "metadata": {
    "collapsed": true
   },
   "outputs": [],
   "source": [
    "from catboost import CatBoostRegressor"
   ]
  },
  {
   "cell_type": "code",
   "execution_count": 387,
   "metadata": {
    "collapsed": true
   },
   "outputs": [],
   "source": [
    "i = tr_index\n",
    "x_tr_index = ['item_id', 'shop_id', 'item_category_id']\n",
    "x_tr_index.extend(np.arange(tr_index-i,tr_index+1).tolist())\n",
    "x_tr = by_month[x_tr_index].values\n",
    "te_index = tr_index+1\n",
    "x_te = by_month[te_index].values\n",
    "\n",
    "x_tr_pred_index = ['item_id', 'shop_id', 'item_category_id']\n",
    "x_tr_pred_index.extend(np.arange(tr_index-i+1,tr_index+2).tolist())\n",
    "x_tr_pred = by_month[x_tr_pred_index].values\n",
    "x_te_pred = by_month[te_index+1].values"
   ]
  },
  {
   "cell_type": "code",
   "execution_count": 385,
   "metadata": {},
   "outputs": [
    {
     "data": {
      "text/plain": [
       "(424124, 35)"
      ]
     },
     "execution_count": 385,
     "metadata": {},
     "output_type": "execute_result"
    }
   ],
   "source": [
    "x_tr.shape"
   ]
  },
  {
   "cell_type": "code",
   "execution_count": 388,
   "metadata": {},
   "outputs": [
    {
     "data": {
      "text/plain": [
       "(424124, 35)"
      ]
     },
     "execution_count": 388,
     "metadata": {},
     "output_type": "execute_result"
    }
   ],
   "source": [
    "x_tr_pred.shape"
   ]
  },
  {
   "cell_type": "code",
   "execution_count": 398,
   "metadata": {},
   "outputs": [
    {
     "name": "stdout",
     "output_type": "stream",
     "text": [
      "0:\tlearn: 4.8058445\ttotal: 641ms\tremaining: 3m 11s\n",
      "30:\tlearn: 2.1459048\ttotal: 13.8s\tremaining: 2m\n",
      "60:\tlearn: 1.3224343\ttotal: 29s\tremaining: 1m 53s\n",
      "90:\tlearn: 1.0710105\ttotal: 42.9s\tremaining: 1m 38s\n",
      "120:\tlearn: 0.9478056\ttotal: 57.2s\tremaining: 1m 24s\n",
      "150:\tlearn: 0.8729653\ttotal: 1m 12s\tremaining: 1m 11s\n",
      "180:\tlearn: 0.8171830\ttotal: 1m 26s\tremaining: 56.9s\n",
      "210:\tlearn: 0.7762640\ttotal: 1m 41s\tremaining: 42.8s\n",
      "240:\tlearn: 0.7520354\ttotal: 1m 57s\tremaining: 28.7s\n",
      "270:\tlearn: 0.7290384\ttotal: 2m 12s\tremaining: 14.2s\n",
      "299:\tlearn: 0.7037876\ttotal: 2m 25s\tremaining: 0us\n"
     ]
    },
    {
     "data": {
      "text/plain": [
       "<catboost.core.CatBoostRegressor at 0x216a1a7e240>"
      ]
     },
     "execution_count": 398,
     "metadata": {},
     "output_type": "execute_result"
    }
   ],
   "source": [
    "cat_features = [0,1,2]\n",
    "cat = CatBoostRegressor(learning_rate=0.1, iterations = 300, l2_leaf_reg = 1, depth = 6, one_hot_max_size=2, metric_period=30,\n",
    "                       rsm = 0.7)\n",
    "cat.fit(x_tr, x_te, cat_features = cat_features)"
   ]
  },
  {
   "cell_type": "code",
   "execution_count": 399,
   "metadata": {},
   "outputs": [
    {
     "data": {
      "text/plain": [
       "1.5808061535877806"
      ]
     },
     "execution_count": 399,
     "metadata": {},
     "output_type": "execute_result"
    }
   ],
   "source": [
    "cat.score(x_tr, x_te)"
   ]
  },
  {
   "cell_type": "code",
   "execution_count": 400,
   "metadata": {},
   "outputs": [
    {
     "data": {
      "text/plain": [
       "4.7159103668225537"
      ]
     },
     "execution_count": 400,
     "metadata": {},
     "output_type": "execute_result"
    }
   ],
   "source": [
    "cat.score(x_tr_pred, x_te_pred)"
   ]
  },
  {
   "cell_type": "code",
   "execution_count": 419,
   "metadata": {},
   "outputs": [
    {
     "data": {
      "text/plain": [
       "<Container object of 35 artists>"
      ]
     },
     "execution_count": 419,
     "metadata": {},
     "output_type": "execute_result"
    },
    {
     "data": {
      "image/png": "[encoded data removed]",
      "text/plain": [
       "<matplotlib.figure.Figure at 0x216add47a20>"
      ]
     },
     "metadata": {},
     "output_type": "display_data"
    }
   ],
   "source": [
    "ind = np.arange(len(cat.feature_importances_.tolist()))\n",
    "plt.bar(ind, cat.feature_importances_.tolist()) "
   ]
  },
  {
   "cell_type": "code",
   "execution_count": 421,
   "metadata": {
    "collapsed": true
   },
   "outputs": [],
   "source": [
    "i = 8\n",
    "x_tr_index = ['item_id', 'shop_id', 'item_category_id']\n",
    "x_tr_index.extend(np.arange(tr_index-i,tr_index+1).tolist())\n",
    "x_tr = by_month[x_tr_index].values\n",
    "te_index = tr_index+1\n",
    "x_te = by_month[te_index].values\n",
    "\n",
    "x_tr_pred_index = ['item_id', 'shop_id', 'item_category_id']\n",
    "x_tr_pred_index.extend(np.arange(tr_index-i+1,tr_index+2).tolist())\n",
    "x_tr_pred = by_month[x_tr_pred_index].values\n",
    "x_te_pred = by_month[te_index+1].values"
   ]
  },
  {
   "cell_type": "code",
   "execution_count": 423,
   "metadata": {},
   "outputs": [
    {
     "data": {
      "text/plain": [
       "(424124, 12)"
      ]
     },
     "execution_count": 423,
     "metadata": {},
     "output_type": "execute_result"
    }
   ],
   "source": [
    "x_tr.shape"
   ]
  },
  {
   "cell_type": "code",
   "execution_count": 425,
   "metadata": {},
   "outputs": [
    {
     "data": {
      "text/plain": [
       "(424124, 12)"
      ]
     },
     "execution_count": 425,
     "metadata": {},
     "output_type": "execute_result"
    }
   ],
   "source": [
    "x_tr_pred.shape"
   ]
  },
  {
   "cell_type": "code",
   "execution_count": 426,
   "metadata": {},
   "outputs": [
    {
     "name": "stdout",
     "output_type": "stream",
     "text": [
      "0:\tlearn: 4.8191510\ttotal: 598ms\tremaining: 2m 58s\n",
      "30:\tlearn: 1.8526607\ttotal: 13s\tremaining: 1m 52s\n",
      "60:\tlearn: 1.2516952\ttotal: 25.4s\tremaining: 1m 39s\n",
      "90:\tlearn: 1.0139677\ttotal: 38s\tremaining: 1m 27s\n",
      "120:\tlearn: 0.9158535\ttotal: 51.6s\tremaining: 1m 16s\n",
      "150:\tlearn: 0.8441025\ttotal: 1m 3s\tremaining: 1m 2s\n",
      "180:\tlearn: 0.8065659\ttotal: 1m 14s\tremaining: 49.2s\n",
      "210:\tlearn: 0.7769005\ttotal: 1m 26s\tremaining: 36.7s\n",
      "240:\tlearn: 0.7532703\ttotal: 1m 39s\tremaining: 24.3s\n",
      "270:\tlearn: 0.7307512\ttotal: 1m 51s\tremaining: 12s\n",
      "299:\tlearn: 0.7104555\ttotal: 2m 2s\tremaining: 0us\n"
     ]
    },
    {
     "data": {
      "text/plain": [
       "<catboost.core.CatBoostRegressor at 0x216fa825b00>"
      ]
     },
     "execution_count": 426,
     "metadata": {},
     "output_type": "execute_result"
    }
   ],
   "source": [
    "cat_features = [0,1,2]\n",
    "cat = CatBoostRegressor(learning_rate=0.1, iterations = 300, l2_leaf_reg = 1, depth = 6, one_hot_max_size=2, metric_period=30,\n",
    "                       rsm = 0.7)\n",
    "cat.fit(x_tr, x_te, cat_features = cat_features)"
   ]
  },
  {
   "cell_type": "code",
   "execution_count": 427,
   "metadata": {},
   "outputs": [
    {
     "data": {
      "text/plain": [
       "1.6417495942166527"
      ]
     },
     "execution_count": 427,
     "metadata": {},
     "output_type": "execute_result"
    }
   ],
   "source": [
    "cat.score(x_tr, x_te)"
   ]
  },
  {
   "cell_type": "code",
   "execution_count": 428,
   "metadata": {},
   "outputs": [
    {
     "data": {
      "text/plain": [
       "4.2235296149090393"
      ]
     },
     "execution_count": 428,
     "metadata": {},
     "output_type": "execute_result"
    }
   ],
   "source": [
    "cat.score(x_tr_pred, x_te_pred)"
   ]
  },
  {
   "cell_type": "code",
   "execution_count": 435,
   "metadata": {
    "collapsed": true
   },
   "outputs": [],
   "source": [
    "i = tr_index\n",
    "x_tr_index = ['item_id', 'shop_id', 'item_category_id']\n",
    "x_tr_index.extend(np.arange(tr_index-i,tr_index+2).tolist())\n",
    "x_tr = by_month[x_tr_index].values\n",
    "te_index = tr_index+2\n",
    "x_te = by_month[te_index].values\n",
    "\n",
    "x_tr_pred_index = ['item_id', 'shop_id', 'item_category_id']\n",
    "x_tr_pred_index.extend(np.arange(tr_index-i+1,tr_index+3).tolist())\n",
    "x_tr_pred = by_month[x_tr_pred_index].values\n",
    "#x_te_pred = by_month[te_index+1].values"
   ]
  },
  {
   "cell_type": "code",
   "execution_count": 430,
   "metadata": {},
   "outputs": [
    {
     "data": {
      "text/plain": [
       "(424124, 36)"
      ]
     },
     "execution_count": 430,
     "metadata": {},
     "output_type": "execute_result"
    }
   ],
   "source": [
    "x_tr.shape"
   ]
  },
  {
   "cell_type": "code",
   "execution_count": 431,
   "metadata": {},
   "outputs": [
    {
     "name": "stdout",
     "output_type": "stream",
     "text": [
      "0:\tlearn: 3.8217929\ttotal: 477ms\tremaining: 2m 22s\n",
      "30:\tlearn: 1.3555334\ttotal: 14.2s\tremaining: 2m 3s\n",
      "60:\tlearn: 0.9961963\ttotal: 29.5s\tremaining: 1m 55s\n",
      "90:\tlearn: 0.9315647\ttotal: 43.8s\tremaining: 1m 40s\n",
      "120:\tlearn: 0.9007517\ttotal: 58.4s\tremaining: 1m 26s\n",
      "150:\tlearn: 0.8752005\ttotal: 1m 12s\tremaining: 1m 11s\n",
      "180:\tlearn: 0.8599238\ttotal: 1m 27s\tremaining: 57.4s\n",
      "210:\tlearn: 0.8396671\ttotal: 1m 41s\tremaining: 43s\n",
      "240:\tlearn: 0.8242110\ttotal: 1m 57s\tremaining: 28.7s\n",
      "270:\tlearn: 0.8107804\ttotal: 2m 11s\tremaining: 14.1s\n",
      "299:\tlearn: 0.7968987\ttotal: 2m 24s\tremaining: 0us\n"
     ]
    },
    {
     "data": {
      "text/plain": [
       "<catboost.core.CatBoostRegressor at 0x216a1a13358>"
      ]
     },
     "execution_count": 431,
     "metadata": {},
     "output_type": "execute_result"
    }
   ],
   "source": [
    "cat_features = [0,1,2]\n",
    "cat = CatBoostRegressor(learning_rate=0.1, iterations = 300, l2_leaf_reg = 1, depth = 6, one_hot_max_size=2, metric_period=30,\n",
    "                       rsm = 0.7)\n",
    "cat.fit(x_tr, x_te, cat_features = cat_features)"
   ]
  },
  {
   "cell_type": "code",
   "execution_count": 432,
   "metadata": {},
   "outputs": [
    {
     "data": {
      "text/plain": [
       "0.88594188490406944"
      ]
     },
     "execution_count": 432,
     "metadata": {},
     "output_type": "execute_result"
    }
   ],
   "source": [
    "cat.score(x_tr, x_te)"
   ]
  },
  {
   "cell_type": "code",
   "execution_count": 446,
   "metadata": {
    "collapsed": true
   },
   "outputs": [],
   "source": [
    "pred_tr = np.round(cat.predict(x_tr))"
   ]
  },
  {
   "cell_type": "code",
   "execution_count": 445,
   "metadata": {},
   "outputs": [
    {
     "data": {
      "text/plain": [
       "2.0"
      ]
     },
     "execution_count": 445,
     "metadata": {},
     "output_type": "execute_result"
    }
   ],
   "source": [
    "np.round(1.51)"
   ]
  },
  {
   "cell_type": "code",
   "execution_count": 452,
   "metadata": {},
   "outputs": [
    {
     "data": {
      "text/plain": [
       "1.0284764324842532"
      ]
     },
     "execution_count": 452,
     "metadata": {},
     "output_type": "execute_result"
    }
   ],
   "source": [
    "error(np.clip(pred_tr,0,1e10), x_te)"
   ]
  },
  {
   "cell_type": "code",
   "execution_count": 448,
   "metadata": {},
   "outputs": [
    {
     "data": {
      "text/plain": [
       "1.0154866552084254"
      ]
     },
     "execution_count": 448,
     "metadata": {},
     "output_type": "execute_result"
    }
   ],
   "source": [
    "error(cat.predict(x_tr), x_te)"
   ]
  },
  {
   "cell_type": "code",
   "execution_count": 433,
   "metadata": {},
   "outputs": [
    {
     "data": {
      "text/plain": [
       "<Container object of 36 artists>"
      ]
     },
     "execution_count": 433,
     "metadata": {},
     "output_type": "execute_result"
    },
    {
     "data": {
      "image/png": "[encoded data removed]",
      "text/plain": [
       "<matplotlib.figure.Figure at 0x216a1a13940>"
      ]
     },
     "metadata": {},
     "output_type": "display_data"
    }
   ],
   "source": [
    "ind = np.arange(len(cat.feature_importances_.tolist()))\n",
    "plt.bar(ind, cat.feature_importances_.tolist()) "
   ]
  },
  {
   "cell_type": "code",
   "execution_count": 455,
   "metadata": {},
   "outputs": [
    {
     "name": "stdout",
     "output_type": "stream",
     "text": [
      "0:\tlearn: 3.8213041\ttotal: 303ms\tremaining: 1m 30s\n",
      "30:\tlearn: 1.3780559\ttotal: 10.5s\tremaining: 1m 30s\n",
      "60:\tlearn: 1.0357754\ttotal: 20.3s\tremaining: 1m 19s\n",
      "90:\tlearn: 0.9469658\ttotal: 30.3s\tremaining: 1m 9s\n",
      "120:\tlearn: 0.8986377\ttotal: 40.3s\tremaining: 59.7s\n",
      "150:\tlearn: 0.8643237\ttotal: 50.3s\tremaining: 49.6s\n",
      "180:\tlearn: 0.8336663\ttotal: 1m 1s\tremaining: 40.5s\n",
      "210:\tlearn: 0.8006472\ttotal: 1m 11s\tremaining: 30.3s\n",
      "240:\tlearn: 0.7832023\ttotal: 1m 22s\tremaining: 20.1s\n",
      "270:\tlearn: 0.7679338\ttotal: 1m 32s\tremaining: 9.88s\n",
      "299:\tlearn: 0.7597068\ttotal: 1m 42s\tremaining: 0us\n"
     ]
    },
    {
     "data": {
      "text/plain": [
       "<catboost.core.CatBoostRegressor at 0x216a10e2828>"
      ]
     },
     "execution_count": 455,
     "metadata": {},
     "output_type": "execute_result"
    }
   ],
   "source": [
    "cat_features = [0,1,2]\n",
    "cat = CatBoostRegressor(learning_rate=0.1, iterations = 300, l2_leaf_reg = 1, depth = 6, one_hot_max_size=90, metric_period=30,\n",
    "                       rsm = 0.7)\n",
    "cat.fit(x_tr, x_te, cat_features = cat_features)"
   ]
  },
  {
   "cell_type": "code",
   "execution_count": 459,
   "metadata": {},
   "outputs": [
    {
     "data": {
      "text/plain": [
       "0.88826447989052859"
      ]
     },
     "execution_count": 459,
     "metadata": {},
     "output_type": "execute_result"
    }
   ],
   "source": [
    "error(cat.predict(x_tr), x_te)"
   ]
  },
  {
   "cell_type": "code",
   "execution_count": 458,
   "metadata": {
    "collapsed": true
   },
   "outputs": [],
   "source": [
    "create_submission_file(cat.predict(x_tr_pred), 'cat3')"
   ]
  },
  {
   "cell_type": "code",
   "execution_count": 481,
   "metadata": {
    "collapsed": true
   },
   "outputs": [],
   "source": [
    "by_month_corr = by_month.iloc[:,2:36].corr('kendall')"
   ]
  },
  {
   "cell_type": "code",
   "execution_count": 482,
   "metadata": {
    "scrolled": true
   },
   "outputs": [
    {
     "data": {
      "text/html": [
       "<div>\n",
       "<style>\n",
       "    .dataframe thead tr:only-child th {\n",
       "        text-align: right;\n",
       "    }\n",
       "\n",
       "    .dataframe thead th {\n",
       "        text-align: left;\n",
       "    }\n",
       "\n",
       "    .dataframe tbody tr th {\n",
       "        vertical-align: top;\n",
       "    }\n",
       "</style>\n",
       "<table border=\"1\" class=\"dataframe\">\n",
       "  <thead>\n",
       "    <tr style=\"text-align: right;\">\n",
       "      <th></th>\n",
       "      <th>0</th>\n",
       "      <th>1</th>\n",
       "      <th>2</th>\n",
       "      <th>3</th>\n",
       "      <th>4</th>\n",
       "      <th>5</th>\n",
       "      <th>6</th>\n",
       "      <th>7</th>\n",
       "      <th>8</th>\n",
       "      <th>9</th>\n",
       "      <th>...</th>\n",
       "      <th>24</th>\n",
       "      <th>25</th>\n",
       "      <th>26</th>\n",
       "      <th>27</th>\n",
       "      <th>28</th>\n",
       "      <th>29</th>\n",
       "      <th>30</th>\n",
       "      <th>31</th>\n",
       "      <th>32</th>\n",
       "      <th>33</th>\n",
       "    </tr>\n",
       "  </thead>\n",
       "  <tbody>\n",
       "    <tr>\n",
       "      <th>0</th>\n",
       "      <td>1.000000</td>\n",
       "      <td>0.342357</td>\n",
       "      <td>0.252005</td>\n",
       "      <td>0.204598</td>\n",
       "      <td>0.186263</td>\n",
       "      <td>0.164640</td>\n",
       "      <td>0.157740</td>\n",
       "      <td>0.145135</td>\n",
       "      <td>0.122797</td>\n",
       "      <td>0.090734</td>\n",
       "      <td>...</td>\n",
       "      <td>-0.035914</td>\n",
       "      <td>-0.036512</td>\n",
       "      <td>-0.039043</td>\n",
       "      <td>-0.037880</td>\n",
       "      <td>-0.045142</td>\n",
       "      <td>-0.048064</td>\n",
       "      <td>-0.050042</td>\n",
       "      <td>-0.058670</td>\n",
       "      <td>-0.055567</td>\n",
       "      <td>-0.063819</td>\n",
       "    </tr>\n",
       "    <tr>\n",
       "      <th>1</th>\n",
       "      <td>0.342357</td>\n",
       "      <td>1.000000</td>\n",
       "      <td>0.301607</td>\n",
       "      <td>0.235038</td>\n",
       "      <td>0.213814</td>\n",
       "      <td>0.189294</td>\n",
       "      <td>0.173147</td>\n",
       "      <td>0.165390</td>\n",
       "      <td>0.141652</td>\n",
       "      <td>0.103612</td>\n",
       "      <td>...</td>\n",
       "      <td>-0.029553</td>\n",
       "      <td>-0.026380</td>\n",
       "      <td>-0.030129</td>\n",
       "      <td>-0.030484</td>\n",
       "      <td>-0.037115</td>\n",
       "      <td>-0.041179</td>\n",
       "      <td>-0.044103</td>\n",
       "      <td>-0.051148</td>\n",
       "      <td>-0.048928</td>\n",
       "      <td>-0.056229</td>\n",
       "    </tr>\n",
       "    <tr>\n",
       "      <th>2</th>\n",
       "      <td>0.252005</td>\n",
       "      <td>0.301607</td>\n",
       "      <td>1.000000</td>\n",
       "      <td>0.343184</td>\n",
       "      <td>0.297864</td>\n",
       "      <td>0.258443</td>\n",
       "      <td>0.240648</td>\n",
       "      <td>0.222555</td>\n",
       "      <td>0.190375</td>\n",
       "      <td>0.145785</td>\n",
       "      <td>...</td>\n",
       "      <td>-0.013559</td>\n",
       "      <td>-0.009860</td>\n",
       "      <td>-0.013759</td>\n",
       "      <td>-0.018882</td>\n",
       "      <td>-0.027714</td>\n",
       "      <td>-0.030811</td>\n",
       "      <td>-0.033432</td>\n",
       "      <td>-0.040252</td>\n",
       "      <td>-0.041155</td>\n",
       "      <td>-0.048342</td>\n",
       "    </tr>\n",
       "    <tr>\n",
       "      <th>3</th>\n",
       "      <td>0.204598</td>\n",
       "      <td>0.235038</td>\n",
       "      <td>0.343184</td>\n",
       "      <td>1.000000</td>\n",
       "      <td>0.337552</td>\n",
       "      <td>0.286831</td>\n",
       "      <td>0.266498</td>\n",
       "      <td>0.242221</td>\n",
       "      <td>0.204464</td>\n",
       "      <td>0.164020</td>\n",
       "      <td>...</td>\n",
       "      <td>-0.002210</td>\n",
       "      <td>-0.000815</td>\n",
       "      <td>-0.004245</td>\n",
       "      <td>-0.006278</td>\n",
       "      <td>-0.016650</td>\n",
       "      <td>-0.021709</td>\n",
       "      <td>-0.023980</td>\n",
       "      <td>-0.031486</td>\n",
       "      <td>-0.032779</td>\n",
       "      <td>-0.038985</td>\n",
       "    </tr>\n",
       "    <tr>\n",
       "      <th>4</th>\n",
       "      <td>0.186263</td>\n",
       "      <td>0.213814</td>\n",
       "      <td>0.297864</td>\n",
       "      <td>0.337552</td>\n",
       "      <td>1.000000</td>\n",
       "      <td>0.336818</td>\n",
       "      <td>0.305878</td>\n",
       "      <td>0.277909</td>\n",
       "      <td>0.232109</td>\n",
       "      <td>0.187330</td>\n",
       "      <td>...</td>\n",
       "      <td>0.007509</td>\n",
       "      <td>0.008012</td>\n",
       "      <td>0.005928</td>\n",
       "      <td>0.002037</td>\n",
       "      <td>-0.008166</td>\n",
       "      <td>-0.015913</td>\n",
       "      <td>-0.017672</td>\n",
       "      <td>-0.023320</td>\n",
       "      <td>-0.025349</td>\n",
       "      <td>-0.034138</td>\n",
       "    </tr>\n",
       "    <tr>\n",
       "      <th>5</th>\n",
       "      <td>0.164640</td>\n",
       "      <td>0.189294</td>\n",
       "      <td>0.258443</td>\n",
       "      <td>0.286831</td>\n",
       "      <td>0.336818</td>\n",
       "      <td>1.000000</td>\n",
       "      <td>0.355226</td>\n",
       "      <td>0.318359</td>\n",
       "      <td>0.258902</td>\n",
       "      <td>0.204459</td>\n",
       "      <td>...</td>\n",
       "      <td>0.005333</td>\n",
       "      <td>0.007011</td>\n",
       "      <td>0.002439</td>\n",
       "      <td>-0.002264</td>\n",
       "      <td>-0.011993</td>\n",
       "      <td>-0.018144</td>\n",
       "      <td>-0.018855</td>\n",
       "      <td>-0.024485</td>\n",
       "      <td>-0.025482</td>\n",
       "      <td>-0.034057</td>\n",
       "    </tr>\n",
       "    <tr>\n",
       "      <th>6</th>\n",
       "      <td>0.157740</td>\n",
       "      <td>0.173147</td>\n",
       "      <td>0.240648</td>\n",
       "      <td>0.266498</td>\n",
       "      <td>0.305878</td>\n",
       "      <td>0.355226</td>\n",
       "      <td>1.000000</td>\n",
       "      <td>0.374318</td>\n",
       "      <td>0.309682</td>\n",
       "      <td>0.244241</td>\n",
       "      <td>...</td>\n",
       "      <td>0.017858</td>\n",
       "      <td>0.019105</td>\n",
       "      <td>0.011928</td>\n",
       "      <td>0.005933</td>\n",
       "      <td>-0.004868</td>\n",
       "      <td>-0.009481</td>\n",
       "      <td>-0.011831</td>\n",
       "      <td>-0.018248</td>\n",
       "      <td>-0.021614</td>\n",
       "      <td>-0.031044</td>\n",
       "    </tr>\n",
       "    <tr>\n",
       "      <th>7</th>\n",
       "      <td>0.145135</td>\n",
       "      <td>0.165390</td>\n",
       "      <td>0.222555</td>\n",
       "      <td>0.242221</td>\n",
       "      <td>0.277909</td>\n",
       "      <td>0.318359</td>\n",
       "      <td>0.374318</td>\n",
       "      <td>1.000000</td>\n",
       "      <td>0.374588</td>\n",
       "      <td>0.291841</td>\n",
       "      <td>...</td>\n",
       "      <td>0.030522</td>\n",
       "      <td>0.031540</td>\n",
       "      <td>0.023637</td>\n",
       "      <td>0.017569</td>\n",
       "      <td>0.006094</td>\n",
       "      <td>-0.003105</td>\n",
       "      <td>-0.004926</td>\n",
       "      <td>-0.011786</td>\n",
       "      <td>-0.016920</td>\n",
       "      <td>-0.027810</td>\n",
       "    </tr>\n",
       "    <tr>\n",
       "      <th>8</th>\n",
       "      <td>0.122797</td>\n",
       "      <td>0.141652</td>\n",
       "      <td>0.190375</td>\n",
       "      <td>0.204464</td>\n",
       "      <td>0.232109</td>\n",
       "      <td>0.258902</td>\n",
       "      <td>0.309682</td>\n",
       "      <td>0.374588</td>\n",
       "      <td>1.000000</td>\n",
       "      <td>0.345934</td>\n",
       "      <td>...</td>\n",
       "      <td>0.047386</td>\n",
       "      <td>0.044315</td>\n",
       "      <td>0.037251</td>\n",
       "      <td>0.027938</td>\n",
       "      <td>0.018608</td>\n",
       "      <td>0.010473</td>\n",
       "      <td>0.007011</td>\n",
       "      <td>-0.001789</td>\n",
       "      <td>-0.002640</td>\n",
       "      <td>-0.015510</td>\n",
       "    </tr>\n",
       "    <tr>\n",
       "      <th>9</th>\n",
       "      <td>0.090734</td>\n",
       "      <td>0.103612</td>\n",
       "      <td>0.145785</td>\n",
       "      <td>0.164020</td>\n",
       "      <td>0.187330</td>\n",
       "      <td>0.204459</td>\n",
       "      <td>0.244241</td>\n",
       "      <td>0.291841</td>\n",
       "      <td>0.345934</td>\n",
       "      <td>1.000000</td>\n",
       "      <td>...</td>\n",
       "      <td>0.061051</td>\n",
       "      <td>0.055797</td>\n",
       "      <td>0.046959</td>\n",
       "      <td>0.036324</td>\n",
       "      <td>0.026287</td>\n",
       "      <td>0.019732</td>\n",
       "      <td>0.012840</td>\n",
       "      <td>0.007404</td>\n",
       "      <td>0.003671</td>\n",
       "      <td>-0.009442</td>\n",
       "    </tr>\n",
       "    <tr>\n",
       "      <th>10</th>\n",
       "      <td>0.074844</td>\n",
       "      <td>0.087911</td>\n",
       "      <td>0.126196</td>\n",
       "      <td>0.144274</td>\n",
       "      <td>0.162043</td>\n",
       "      <td>0.175185</td>\n",
       "      <td>0.208841</td>\n",
       "      <td>0.246234</td>\n",
       "      <td>0.289763</td>\n",
       "      <td>0.355820</td>\n",
       "      <td>...</td>\n",
       "      <td>0.077690</td>\n",
       "      <td>0.071840</td>\n",
       "      <td>0.061552</td>\n",
       "      <td>0.049344</td>\n",
       "      <td>0.036515</td>\n",
       "      <td>0.031072</td>\n",
       "      <td>0.024050</td>\n",
       "      <td>0.017631</td>\n",
       "      <td>0.012792</td>\n",
       "      <td>-0.002640</td>\n",
       "    </tr>\n",
       "    <tr>\n",
       "      <th>11</th>\n",
       "      <td>0.061460</td>\n",
       "      <td>0.075032</td>\n",
       "      <td>0.118463</td>\n",
       "      <td>0.135197</td>\n",
       "      <td>0.152685</td>\n",
       "      <td>0.161918</td>\n",
       "      <td>0.194983</td>\n",
       "      <td>0.232732</td>\n",
       "      <td>0.266130</td>\n",
       "      <td>0.309441</td>\n",
       "      <td>...</td>\n",
       "      <td>0.094768</td>\n",
       "      <td>0.087642</td>\n",
       "      <td>0.071416</td>\n",
       "      <td>0.057746</td>\n",
       "      <td>0.044594</td>\n",
       "      <td>0.035197</td>\n",
       "      <td>0.028904</td>\n",
       "      <td>0.022110</td>\n",
       "      <td>0.014966</td>\n",
       "      <td>-0.002306</td>\n",
       "    </tr>\n",
       "    <tr>\n",
       "      <th>12</th>\n",
       "      <td>0.061147</td>\n",
       "      <td>0.076363</td>\n",
       "      <td>0.111214</td>\n",
       "      <td>0.122540</td>\n",
       "      <td>0.143232</td>\n",
       "      <td>0.152368</td>\n",
       "      <td>0.181238</td>\n",
       "      <td>0.213359</td>\n",
       "      <td>0.246642</td>\n",
       "      <td>0.273794</td>\n",
       "      <td>...</td>\n",
       "      <td>0.107700</td>\n",
       "      <td>0.099373</td>\n",
       "      <td>0.083215</td>\n",
       "      <td>0.066616</td>\n",
       "      <td>0.057803</td>\n",
       "      <td>0.048066</td>\n",
       "      <td>0.039083</td>\n",
       "      <td>0.031520</td>\n",
       "      <td>0.021886</td>\n",
       "      <td>0.008687</td>\n",
       "    </tr>\n",
       "    <tr>\n",
       "      <th>13</th>\n",
       "      <td>0.047869</td>\n",
       "      <td>0.065155</td>\n",
       "      <td>0.096592</td>\n",
       "      <td>0.108146</td>\n",
       "      <td>0.125888</td>\n",
       "      <td>0.135493</td>\n",
       "      <td>0.155434</td>\n",
       "      <td>0.187588</td>\n",
       "      <td>0.214000</td>\n",
       "      <td>0.237657</td>\n",
       "      <td>...</td>\n",
       "      <td>0.125366</td>\n",
       "      <td>0.116225</td>\n",
       "      <td>0.100920</td>\n",
       "      <td>0.082767</td>\n",
       "      <td>0.073212</td>\n",
       "      <td>0.062159</td>\n",
       "      <td>0.051836</td>\n",
       "      <td>0.043724</td>\n",
       "      <td>0.034154</td>\n",
       "      <td>0.018770</td>\n",
       "    </tr>\n",
       "    <tr>\n",
       "      <th>14</th>\n",
       "      <td>0.033967</td>\n",
       "      <td>0.045207</td>\n",
       "      <td>0.077660</td>\n",
       "      <td>0.090058</td>\n",
       "      <td>0.106743</td>\n",
       "      <td>0.111322</td>\n",
       "      <td>0.132407</td>\n",
       "      <td>0.160994</td>\n",
       "      <td>0.188238</td>\n",
       "      <td>0.211162</td>\n",
       "      <td>...</td>\n",
       "      <td>0.141619</td>\n",
       "      <td>0.129903</td>\n",
       "      <td>0.115163</td>\n",
       "      <td>0.093757</td>\n",
       "      <td>0.082116</td>\n",
       "      <td>0.070506</td>\n",
       "      <td>0.060211</td>\n",
       "      <td>0.050127</td>\n",
       "      <td>0.041479</td>\n",
       "      <td>0.024381</td>\n",
       "    </tr>\n",
       "    <tr>\n",
       "      <th>15</th>\n",
       "      <td>0.017131</td>\n",
       "      <td>0.028770</td>\n",
       "      <td>0.057567</td>\n",
       "      <td>0.069603</td>\n",
       "      <td>0.083935</td>\n",
       "      <td>0.090129</td>\n",
       "      <td>0.110512</td>\n",
       "      <td>0.132733</td>\n",
       "      <td>0.157361</td>\n",
       "      <td>0.177776</td>\n",
       "      <td>...</td>\n",
       "      <td>0.157111</td>\n",
       "      <td>0.144481</td>\n",
       "      <td>0.129650</td>\n",
       "      <td>0.108095</td>\n",
       "      <td>0.093722</td>\n",
       "      <td>0.082050</td>\n",
       "      <td>0.070745</td>\n",
       "      <td>0.060560</td>\n",
       "      <td>0.050001</td>\n",
       "      <td>0.033772</td>\n",
       "    </tr>\n",
       "    <tr>\n",
       "      <th>16</th>\n",
       "      <td>0.011142</td>\n",
       "      <td>0.021494</td>\n",
       "      <td>0.046550</td>\n",
       "      <td>0.056422</td>\n",
       "      <td>0.073396</td>\n",
       "      <td>0.077448</td>\n",
       "      <td>0.099043</td>\n",
       "      <td>0.122918</td>\n",
       "      <td>0.144467</td>\n",
       "      <td>0.165900</td>\n",
       "      <td>...</td>\n",
       "      <td>0.173928</td>\n",
       "      <td>0.161098</td>\n",
       "      <td>0.144159</td>\n",
       "      <td>0.120101</td>\n",
       "      <td>0.109468</td>\n",
       "      <td>0.093812</td>\n",
       "      <td>0.083883</td>\n",
       "      <td>0.073464</td>\n",
       "      <td>0.057997</td>\n",
       "      <td>0.041500</td>\n",
       "    </tr>\n",
       "    <tr>\n",
       "      <th>17</th>\n",
       "      <td>0.010541</td>\n",
       "      <td>0.023557</td>\n",
       "      <td>0.047460</td>\n",
       "      <td>0.056862</td>\n",
       "      <td>0.073811</td>\n",
       "      <td>0.080576</td>\n",
       "      <td>0.098383</td>\n",
       "      <td>0.121410</td>\n",
       "      <td>0.138588</td>\n",
       "      <td>0.157575</td>\n",
       "      <td>...</td>\n",
       "      <td>0.197497</td>\n",
       "      <td>0.177679</td>\n",
       "      <td>0.158804</td>\n",
       "      <td>0.130674</td>\n",
       "      <td>0.122525</td>\n",
       "      <td>0.106792</td>\n",
       "      <td>0.098822</td>\n",
       "      <td>0.086707</td>\n",
       "      <td>0.068336</td>\n",
       "      <td>0.052759</td>\n",
       "    </tr>\n",
       "    <tr>\n",
       "      <th>18</th>\n",
       "      <td>0.003076</td>\n",
       "      <td>0.010568</td>\n",
       "      <td>0.036611</td>\n",
       "      <td>0.047240</td>\n",
       "      <td>0.061377</td>\n",
       "      <td>0.067068</td>\n",
       "      <td>0.086191</td>\n",
       "      <td>0.103877</td>\n",
       "      <td>0.123745</td>\n",
       "      <td>0.141542</td>\n",
       "      <td>...</td>\n",
       "      <td>0.212738</td>\n",
       "      <td>0.190275</td>\n",
       "      <td>0.176051</td>\n",
       "      <td>0.143794</td>\n",
       "      <td>0.131411</td>\n",
       "      <td>0.115340</td>\n",
       "      <td>0.107744</td>\n",
       "      <td>0.094224</td>\n",
       "      <td>0.076673</td>\n",
       "      <td>0.059032</td>\n",
       "    </tr>\n",
       "    <tr>\n",
       "      <th>19</th>\n",
       "      <td>-0.002581</td>\n",
       "      <td>0.008107</td>\n",
       "      <td>0.032967</td>\n",
       "      <td>0.042334</td>\n",
       "      <td>0.055244</td>\n",
       "      <td>0.060792</td>\n",
       "      <td>0.077918</td>\n",
       "      <td>0.099466</td>\n",
       "      <td>0.117570</td>\n",
       "      <td>0.133881</td>\n",
       "      <td>...</td>\n",
       "      <td>0.244504</td>\n",
       "      <td>0.214171</td>\n",
       "      <td>0.196041</td>\n",
       "      <td>0.161196</td>\n",
       "      <td>0.150267</td>\n",
       "      <td>0.132071</td>\n",
       "      <td>0.126496</td>\n",
       "      <td>0.110513</td>\n",
       "      <td>0.090641</td>\n",
       "      <td>0.071107</td>\n",
       "    </tr>\n",
       "    <tr>\n",
       "      <th>20</th>\n",
       "      <td>-0.014991</td>\n",
       "      <td>-0.006327</td>\n",
       "      <td>0.014595</td>\n",
       "      <td>0.023630</td>\n",
       "      <td>0.036837</td>\n",
       "      <td>0.040993</td>\n",
       "      <td>0.055802</td>\n",
       "      <td>0.069719</td>\n",
       "      <td>0.090630</td>\n",
       "      <td>0.106774</td>\n",
       "      <td>...</td>\n",
       "      <td>0.269036</td>\n",
       "      <td>0.231914</td>\n",
       "      <td>0.210104</td>\n",
       "      <td>0.174997</td>\n",
       "      <td>0.166099</td>\n",
       "      <td>0.148656</td>\n",
       "      <td>0.135750</td>\n",
       "      <td>0.125892</td>\n",
       "      <td>0.107757</td>\n",
       "      <td>0.084692</td>\n",
       "    </tr>\n",
       "    <tr>\n",
       "      <th>21</th>\n",
       "      <td>-0.025724</td>\n",
       "      <td>-0.016242</td>\n",
       "      <td>0.001693</td>\n",
       "      <td>0.013987</td>\n",
       "      <td>0.026055</td>\n",
       "      <td>0.026534</td>\n",
       "      <td>0.041264</td>\n",
       "      <td>0.055872</td>\n",
       "      <td>0.071605</td>\n",
       "      <td>0.088704</td>\n",
       "      <td>...</td>\n",
       "      <td>0.296664</td>\n",
       "      <td>0.254946</td>\n",
       "      <td>0.228499</td>\n",
       "      <td>0.193686</td>\n",
       "      <td>0.179911</td>\n",
       "      <td>0.159065</td>\n",
       "      <td>0.151044</td>\n",
       "      <td>0.137954</td>\n",
       "      <td>0.116988</td>\n",
       "      <td>0.099584</td>\n",
       "    </tr>\n",
       "    <tr>\n",
       "      <th>22</th>\n",
       "      <td>-0.032832</td>\n",
       "      <td>-0.024888</td>\n",
       "      <td>-0.008408</td>\n",
       "      <td>0.002868</td>\n",
       "      <td>0.013184</td>\n",
       "      <td>0.013085</td>\n",
       "      <td>0.026826</td>\n",
       "      <td>0.041720</td>\n",
       "      <td>0.058272</td>\n",
       "      <td>0.072662</td>\n",
       "      <td>...</td>\n",
       "      <td>0.372399</td>\n",
       "      <td>0.310800</td>\n",
       "      <td>0.273639</td>\n",
       "      <td>0.225475</td>\n",
       "      <td>0.209841</td>\n",
       "      <td>0.194331</td>\n",
       "      <td>0.181802</td>\n",
       "      <td>0.165663</td>\n",
       "      <td>0.137442</td>\n",
       "      <td>0.107988</td>\n",
       "    </tr>\n",
       "    <tr>\n",
       "      <th>23</th>\n",
       "      <td>-0.049528</td>\n",
       "      <td>-0.040224</td>\n",
       "      <td>-0.023597</td>\n",
       "      <td>-0.011164</td>\n",
       "      <td>-0.001425</td>\n",
       "      <td>-0.002595</td>\n",
       "      <td>0.010201</td>\n",
       "      <td>0.024525</td>\n",
       "      <td>0.041020</td>\n",
       "      <td>0.055221</td>\n",
       "      <td>...</td>\n",
       "      <td>0.447204</td>\n",
       "      <td>0.385816</td>\n",
       "      <td>0.334350</td>\n",
       "      <td>0.265598</td>\n",
       "      <td>0.249359</td>\n",
       "      <td>0.229624</td>\n",
       "      <td>0.213379</td>\n",
       "      <td>0.197439</td>\n",
       "      <td>0.166046</td>\n",
       "      <td>0.131040</td>\n",
       "    </tr>\n",
       "    <tr>\n",
       "      <th>24</th>\n",
       "      <td>-0.035914</td>\n",
       "      <td>-0.029553</td>\n",
       "      <td>-0.013559</td>\n",
       "      <td>-0.002210</td>\n",
       "      <td>0.007509</td>\n",
       "      <td>0.005333</td>\n",
       "      <td>0.017858</td>\n",
       "      <td>0.030522</td>\n",
       "      <td>0.047386</td>\n",
       "      <td>0.061051</td>\n",
       "      <td>...</td>\n",
       "      <td>1.000000</td>\n",
       "      <td>0.399472</td>\n",
       "      <td>0.351699</td>\n",
       "      <td>0.280834</td>\n",
       "      <td>0.258732</td>\n",
       "      <td>0.238920</td>\n",
       "      <td>0.222942</td>\n",
       "      <td>0.204470</td>\n",
       "      <td>0.172114</td>\n",
       "      <td>0.140089</td>\n",
       "    </tr>\n",
       "    <tr>\n",
       "      <th>25</th>\n",
       "      <td>-0.036512</td>\n",
       "      <td>-0.026380</td>\n",
       "      <td>-0.009860</td>\n",
       "      <td>-0.000815</td>\n",
       "      <td>0.008012</td>\n",
       "      <td>0.007011</td>\n",
       "      <td>0.019105</td>\n",
       "      <td>0.031540</td>\n",
       "      <td>0.044315</td>\n",
       "      <td>0.055797</td>\n",
       "      <td>...</td>\n",
       "      <td>0.399472</td>\n",
       "      <td>1.000000</td>\n",
       "      <td>0.398737</td>\n",
       "      <td>0.316892</td>\n",
       "      <td>0.284872</td>\n",
       "      <td>0.259607</td>\n",
       "      <td>0.237023</td>\n",
       "      <td>0.218077</td>\n",
       "      <td>0.183065</td>\n",
       "      <td>0.153059</td>\n",
       "    </tr>\n",
       "    <tr>\n",
       "      <th>26</th>\n",
       "      <td>-0.039043</td>\n",
       "      <td>-0.030129</td>\n",
       "      <td>-0.013759</td>\n",
       "      <td>-0.004245</td>\n",
       "      <td>0.005928</td>\n",
       "      <td>0.002439</td>\n",
       "      <td>0.011928</td>\n",
       "      <td>0.023637</td>\n",
       "      <td>0.037251</td>\n",
       "      <td>0.046959</td>\n",
       "      <td>...</td>\n",
       "      <td>0.351699</td>\n",
       "      <td>0.398737</td>\n",
       "      <td>1.000000</td>\n",
       "      <td>0.367209</td>\n",
       "      <td>0.325347</td>\n",
       "      <td>0.289153</td>\n",
       "      <td>0.264865</td>\n",
       "      <td>0.237398</td>\n",
       "      <td>0.199989</td>\n",
       "      <td>0.168025</td>\n",
       "    </tr>\n",
       "    <tr>\n",
       "      <th>27</th>\n",
       "      <td>-0.037880</td>\n",
       "      <td>-0.030484</td>\n",
       "      <td>-0.018882</td>\n",
       "      <td>-0.006278</td>\n",
       "      <td>0.002037</td>\n",
       "      <td>-0.002264</td>\n",
       "      <td>0.005933</td>\n",
       "      <td>0.017569</td>\n",
       "      <td>0.027938</td>\n",
       "      <td>0.036324</td>\n",
       "      <td>...</td>\n",
       "      <td>0.280834</td>\n",
       "      <td>0.316892</td>\n",
       "      <td>0.367209</td>\n",
       "      <td>1.000000</td>\n",
       "      <td>0.369031</td>\n",
       "      <td>0.328612</td>\n",
       "      <td>0.297931</td>\n",
       "      <td>0.264478</td>\n",
       "      <td>0.221149</td>\n",
       "      <td>0.192849</td>\n",
       "    </tr>\n",
       "    <tr>\n",
       "      <th>28</th>\n",
       "      <td>-0.045142</td>\n",
       "      <td>-0.037115</td>\n",
       "      <td>-0.027714</td>\n",
       "      <td>-0.016650</td>\n",
       "      <td>-0.008166</td>\n",
       "      <td>-0.011993</td>\n",
       "      <td>-0.004868</td>\n",
       "      <td>0.006094</td>\n",
       "      <td>0.018608</td>\n",
       "      <td>0.026287</td>\n",
       "      <td>...</td>\n",
       "      <td>0.258732</td>\n",
       "      <td>0.284872</td>\n",
       "      <td>0.325347</td>\n",
       "      <td>0.369031</td>\n",
       "      <td>1.000000</td>\n",
       "      <td>0.381202</td>\n",
       "      <td>0.339471</td>\n",
       "      <td>0.301900</td>\n",
       "      <td>0.256552</td>\n",
       "      <td>0.209001</td>\n",
       "    </tr>\n",
       "    <tr>\n",
       "      <th>29</th>\n",
       "      <td>-0.048064</td>\n",
       "      <td>-0.041179</td>\n",
       "      <td>-0.030811</td>\n",
       "      <td>-0.021709</td>\n",
       "      <td>-0.015913</td>\n",
       "      <td>-0.018144</td>\n",
       "      <td>-0.009481</td>\n",
       "      <td>-0.003105</td>\n",
       "      <td>0.010473</td>\n",
       "      <td>0.019732</td>\n",
       "      <td>...</td>\n",
       "      <td>0.238920</td>\n",
       "      <td>0.259607</td>\n",
       "      <td>0.289153</td>\n",
       "      <td>0.328612</td>\n",
       "      <td>0.381202</td>\n",
       "      <td>1.000000</td>\n",
       "      <td>0.390718</td>\n",
       "      <td>0.342792</td>\n",
       "      <td>0.283984</td>\n",
       "      <td>0.237377</td>\n",
       "    </tr>\n",
       "    <tr>\n",
       "      <th>30</th>\n",
       "      <td>-0.050042</td>\n",
       "      <td>-0.044103</td>\n",
       "      <td>-0.033432</td>\n",
       "      <td>-0.023980</td>\n",
       "      <td>-0.017672</td>\n",
       "      <td>-0.018855</td>\n",
       "      <td>-0.011831</td>\n",
       "      <td>-0.004926</td>\n",
       "      <td>0.007011</td>\n",
       "      <td>0.012840</td>\n",
       "      <td>...</td>\n",
       "      <td>0.222942</td>\n",
       "      <td>0.237023</td>\n",
       "      <td>0.264865</td>\n",
       "      <td>0.297931</td>\n",
       "      <td>0.339471</td>\n",
       "      <td>0.390718</td>\n",
       "      <td>1.000000</td>\n",
       "      <td>0.376370</td>\n",
       "      <td>0.311783</td>\n",
       "      <td>0.261211</td>\n",
       "    </tr>\n",
       "    <tr>\n",
       "      <th>31</th>\n",
       "      <td>-0.058670</td>\n",
       "      <td>-0.051148</td>\n",
       "      <td>-0.040252</td>\n",
       "      <td>-0.031486</td>\n",
       "      <td>-0.023320</td>\n",
       "      <td>-0.024485</td>\n",
       "      <td>-0.018248</td>\n",
       "      <td>-0.011786</td>\n",
       "      <td>-0.001789</td>\n",
       "      <td>0.007404</td>\n",
       "      <td>...</td>\n",
       "      <td>0.204470</td>\n",
       "      <td>0.218077</td>\n",
       "      <td>0.237398</td>\n",
       "      <td>0.264478</td>\n",
       "      <td>0.301900</td>\n",
       "      <td>0.342792</td>\n",
       "      <td>0.376370</td>\n",
       "      <td>1.000000</td>\n",
       "      <td>0.377342</td>\n",
       "      <td>0.312972</td>\n",
       "    </tr>\n",
       "    <tr>\n",
       "      <th>32</th>\n",
       "      <td>-0.055567</td>\n",
       "      <td>-0.048928</td>\n",
       "      <td>-0.041155</td>\n",
       "      <td>-0.032779</td>\n",
       "      <td>-0.025349</td>\n",
       "      <td>-0.025482</td>\n",
       "      <td>-0.021614</td>\n",
       "      <td>-0.016920</td>\n",
       "      <td>-0.002640</td>\n",
       "      <td>0.003671</td>\n",
       "      <td>...</td>\n",
       "      <td>0.172114</td>\n",
       "      <td>0.183065</td>\n",
       "      <td>0.199989</td>\n",
       "      <td>0.221149</td>\n",
       "      <td>0.256552</td>\n",
       "      <td>0.283984</td>\n",
       "      <td>0.311783</td>\n",
       "      <td>0.377342</td>\n",
       "      <td>1.000000</td>\n",
       "      <td>0.340178</td>\n",
       "    </tr>\n",
       "    <tr>\n",
       "      <th>33</th>\n",
       "      <td>-0.063819</td>\n",
       "      <td>-0.056229</td>\n",
       "      <td>-0.048342</td>\n",
       "      <td>-0.038985</td>\n",
       "      <td>-0.034138</td>\n",
       "      <td>-0.034057</td>\n",
       "      <td>-0.031044</td>\n",
       "      <td>-0.027810</td>\n",
       "      <td>-0.015510</td>\n",
       "      <td>-0.009442</td>\n",
       "      <td>...</td>\n",
       "      <td>0.140089</td>\n",
       "      <td>0.153059</td>\n",
       "      <td>0.168025</td>\n",
       "      <td>0.192849</td>\n",
       "      <td>0.209001</td>\n",
       "      <td>0.237377</td>\n",
       "      <td>0.261211</td>\n",
       "      <td>0.312972</td>\n",
       "      <td>0.340178</td>\n",
       "      <td>1.000000</td>\n",
       "    </tr>\n",
       "  </tbody>\n",
       "</table>\n",
       "<p>34 rows × 34 columns</p>\n",
       "</div>"
      ],
      "text/plain": [
       "          0         1         2         3         4         5         6   \\\n",
       "0   1.000000  0.342357  0.252005  0.204598  0.186263  0.164640  0.157740   \n",
       "1   0.342357  1.000000  0.301607  0.235038  0.213814  0.189294  0.173147   \n",
       "2   0.252005  0.301607  1.000000  0.343184  0.297864  0.258443  0.240648   \n",
       "3   0.204598  0.235038  0.343184  1.000000  0.337552  0.286831  0.266498   \n",
       "4   0.186263  0.213814  0.297864  0.337552  1.000000  0.336818  0.305878   \n",
       "5   0.164640  0.189294  0.258443  0.286831  0.336818  1.000000  0.355226   \n",
       "6   0.157740  0.173147  0.240648  0.266498  0.305878  0.355226  1.000000   \n",
       "7   0.145135  0.165390  0.222555  0.242221  0.277909  0.318359  0.374318   \n",
       "8   0.122797  0.141652  0.190375  0.204464  0.232109  0.258902  0.309682   \n",
       "9   0.090734  0.103612  0.145785  0.164020  0.187330  0.204459  0.244241   \n",
       "10  0.074844  0.087911  0.126196  0.144274  0.162043  0.175185  0.208841   \n",
       "11  0.061460  0.075032  0.118463  0.135197  0.152685  0.161918  0.194983   \n",
       "12  0.061147  0.076363  0.111214  0.122540  0.143232  0.152368  0.181238   \n",
       "13  0.047869  0.065155  0.096592  0.108146  0.125888  0.135493  0.155434   \n",
       "14  0.033967  0.045207  0.077660  0.090058  0.106743  0.111322  0.132407   \n",
       "15  0.017131  0.028770  0.057567  0.069603  0.083935  0.090129  0.110512   \n",
       "16  0.011142  0.021494  0.046550  0.056422  0.073396  0.077448  0.099043   \n",
       "17  0.010541  0.023557  0.047460  0.056862  0.073811  0.080576  0.098383   \n",
       "18  0.003076  0.010568  0.036611  0.047240  0.061377  0.067068  0.086191   \n",
       "19 -0.002581  0.008107  0.032967  0.042334  0.055244  0.060792  0.077918   \n",
       "20 -0.014991 -0.006327  0.014595  0.023630  0.036837  0.040993  0.055802   \n",
       "21 -0.025724 -0.016242  0.001693  0.013987  0.026055  0.026534  0.041264   \n",
       "22 -0.032832 -0.024888 -0.008408  0.002868  0.013184  0.013085  0.026826   \n",
       "23 -0.049528 -0.040224 -0.023597 -0.011164 -0.001425 -0.002595  0.010201   \n",
       "24 -0.035914 -0.029553 -0.013559 -0.002210  0.007509  0.005333  0.017858   \n",
       "25 -0.036512 -0.026380 -0.009860 -0.000815  0.008012  0.007011  0.019105   \n",
       "26 -0.039043 -0.030129 -0.013759 -0.004245  0.005928  0.002439  0.011928   \n",
       "27 -0.037880 -0.030484 -0.018882 -0.006278  0.002037 -0.002264  0.005933   \n",
       "28 -0.045142 -0.037115 -0.027714 -0.016650 -0.008166 -0.011993 -0.004868   \n",
       "29 -0.048064 -0.041179 -0.030811 -0.021709 -0.015913 -0.018144 -0.009481   \n",
       "30 -0.050042 -0.044103 -0.033432 -0.023980 -0.017672 -0.018855 -0.011831   \n",
       "31 -0.058670 -0.051148 -0.040252 -0.031486 -0.023320 -0.024485 -0.018248   \n",
       "32 -0.055567 -0.048928 -0.041155 -0.032779 -0.025349 -0.025482 -0.021614   \n",
       "33 -0.063819 -0.056229 -0.048342 -0.038985 -0.034138 -0.034057 -0.031044   \n",
       "\n",
       "          7         8         9     ...           24        25        26  \\\n",
       "0   0.145135  0.122797  0.090734    ...    -0.035914 -0.036512 -0.039043   \n",
       "1   0.165390  0.141652  0.103612    ...    -0.029553 -0.026380 -0.030129   \n",
       "2   0.222555  0.190375  0.145785    ...    -0.013559 -0.009860 -0.013759   \n",
       "3   0.242221  0.204464  0.164020    ...    -0.002210 -0.000815 -0.004245   \n",
       "4   0.277909  0.232109  0.187330    ...     0.007509  0.008012  0.005928   \n",
       "5   0.318359  0.258902  0.204459    ...     0.005333  0.007011  0.002439   \n",
       "6   0.374318  0.309682  0.244241    ...     0.017858  0.019105  0.011928   \n",
       "7   1.000000  0.374588  0.291841    ...     0.030522  0.031540  0.023637   \n",
       "8   0.374588  1.000000  0.345934    ...     0.047386  0.044315  0.037251   \n",
       "9   0.291841  0.345934  1.000000    ...     0.061051  0.055797  0.046959   \n",
       "10  0.246234  0.289763  0.355820    ...     0.077690  0.071840  0.061552   \n",
       "11  0.232732  0.266130  0.309441    ...     0.094768  0.087642  0.071416   \n",
       "12  0.213359  0.246642  0.273794    ...     0.107700  0.099373  0.083215   \n",
       "13  0.187588  0.214000  0.237657    ...     0.125366  0.116225  0.100920   \n",
       "14  0.160994  0.188238  0.211162    ...     0.141619  0.129903  0.115163   \n",
       "15  0.132733  0.157361  0.177776    ...     0.157111  0.144481  0.129650   \n",
       "16  0.122918  0.144467  0.165900    ...     0.173928  0.161098  0.144159   \n",
       "17  0.121410  0.138588  0.157575    ...     0.197497  0.177679  0.158804   \n",
       "18  0.103877  0.123745  0.141542    ...     0.212738  0.190275  0.176051   \n",
       "19  0.099466  0.117570  0.133881    ...     0.244504  0.214171  0.196041   \n",
       "20  0.069719  0.090630  0.106774    ...     0.269036  0.231914  0.210104   \n",
       "21  0.055872  0.071605  0.088704    ...     0.296664  0.254946  0.228499   \n",
       "22  0.041720  0.058272  0.072662    ...     0.372399  0.310800  0.273639   \n",
       "23  0.024525  0.041020  0.055221    ...     0.447204  0.385816  0.334350   \n",
       "24  0.030522  0.047386  0.061051    ...     1.000000  0.399472  0.351699   \n",
       "25  0.031540  0.044315  0.055797    ...     0.399472  1.000000  0.398737   \n",
       "26  0.023637  0.037251  0.046959    ...     0.351699  0.398737  1.000000   \n",
       "27  0.017569  0.027938  0.036324    ...     0.280834  0.316892  0.367209   \n",
       "28  0.006094  0.018608  0.026287    ...     0.258732  0.284872  0.325347   \n",
       "29 -0.003105  0.010473  0.019732    ...     0.238920  0.259607  0.289153   \n",
       "30 -0.004926  0.007011  0.012840    ...     0.222942  0.237023  0.264865   \n",
       "31 -0.011786 -0.001789  0.007404    ...     0.204470  0.218077  0.237398   \n",
       "32 -0.016920 -0.002640  0.003671    ...     0.172114  0.183065  0.199989   \n",
       "33 -0.027810 -0.015510 -0.009442    ...     0.140089  0.153059  0.168025   \n",
       "\n",
       "          27        28        29        30        31        32        33  \n",
       "0  -0.037880 -0.045142 -0.048064 -0.050042 -0.058670 -0.055567 -0.063819  \n",
       "1  -0.030484 -0.037115 -0.041179 -0.044103 -0.051148 -0.048928 -0.056229  \n",
       "2  -0.018882 -0.027714 -0.030811 -0.033432 -0.040252 -0.041155 -0.048342  \n",
       "3  -0.006278 -0.016650 -0.021709 -0.023980 -0.031486 -0.032779 -0.038985  \n",
       "4   0.002037 -0.008166 -0.015913 -0.017672 -0.023320 -0.025349 -0.034138  \n",
       "5  -0.002264 -0.011993 -0.018144 -0.018855 -0.024485 -0.025482 -0.034057  \n",
       "6   0.005933 -0.004868 -0.009481 -0.011831 -0.018248 -0.021614 -0.031044  \n",
       "7   0.017569  0.006094 -0.003105 -0.004926 -0.011786 -0.016920 -0.027810  \n",
       "8   0.027938  0.018608  0.010473  0.007011 -0.001789 -0.002640 -0.015510  \n",
       "9   0.036324  0.026287  0.019732  0.012840  0.007404  0.003671 -0.009442  \n",
       "10  0.049344  0.036515  0.031072  0.024050  0.017631  0.012792 -0.002640  \n",
       "11  0.057746  0.044594  0.035197  0.028904  0.022110  0.014966 -0.002306  \n",
       "12  0.066616  0.057803  0.048066  0.039083  0.031520  0.021886  0.008687  \n",
       "13  0.082767  0.073212  0.062159  0.051836  0.043724  0.034154  0.018770  \n",
       "14  0.093757  0.082116  0.070506  0.060211  0.050127  0.041479  0.024381  \n",
       "15  0.108095  0.093722  0.082050  0.070745  0.060560  0.050001  0.033772  \n",
       "16  0.120101  0.109468  0.093812  0.083883  0.073464  0.057997  0.041500  \n",
       "17  0.130674  0.122525  0.106792  0.098822  0.086707  0.068336  0.052759  \n",
       "18  0.143794  0.131411  0.115340  0.107744  0.094224  0.076673  0.059032  \n",
       "19  0.161196  0.150267  0.132071  0.126496  0.110513  0.090641  0.071107  \n",
       "20  0.174997  0.166099  0.148656  0.135750  0.125892  0.107757  0.084692  \n",
       "21  0.193686  0.179911  0.159065  0.151044  0.137954  0.116988  0.099584  \n",
       "22  0.225475  0.209841  0.194331  0.181802  0.165663  0.137442  0.107988  \n",
       "23  0.265598  0.249359  0.229624  0.213379  0.197439  0.166046  0.131040  \n",
       "24  0.280834  0.258732  0.238920  0.222942  0.204470  0.172114  0.140089  \n",
       "25  0.316892  0.284872  0.259607  0.237023  0.218077  0.183065  0.153059  \n",
       "26  0.367209  0.325347  0.289153  0.264865  0.237398  0.199989  0.168025  \n",
       "27  1.000000  0.369031  0.328612  0.297931  0.264478  0.221149  0.192849  \n",
       "28  0.369031  1.000000  0.381202  0.339471  0.301900  0.256552  0.209001  \n",
       "29  0.328612  0.381202  1.000000  0.390718  0.342792  0.283984  0.237377  \n",
       "30  0.297931  0.339471  0.390718  1.000000  0.376370  0.311783  0.261211  \n",
       "31  0.264478  0.301900  0.342792  0.376370  1.000000  0.377342  0.312972  \n",
       "32  0.221149  0.256552  0.283984  0.311783  0.377342  1.000000  0.340178  \n",
       "33  0.192849  0.209001  0.237377  0.261211  0.312972  0.340178  1.000000  \n",
       "\n",
       "[34 rows x 34 columns]"
      ]
     },
     "execution_count": 482,
     "metadata": {},
     "output_type": "execute_result"
    }
   ],
   "source": [
    "by_month_corr"
   ]
  },
  {
   "cell_type": "code",
   "execution_count": 483,
   "metadata": {},
   "outputs": [
    {
     "data": {
      "text/plain": [
       "<matplotlib.colorbar.Colorbar at 0x216a117cc18>"
      ]
     },
     "execution_count": 483,
     "metadata": {},
     "output_type": "execute_result"
    },
    {
     "data": {
      "image/png": "[encoded data removed]",
      "text/plain": [
       "<matplotlib.figure.Figure at 0x216a0f4f4e0>"
      ]
     },
     "metadata": {},
     "output_type": "display_data"
    }
   ],
   "source": [
    "fig = plt.figure(figsize=(15,10))\n",
    "ax = fig.add_subplot(111)\n",
    "cax = ax.matshow(by_month_corr)\n",
    "fig.colorbar(cax)"
   ]
  },
  {
   "cell_type": "code",
   "execution_count": null,
   "metadata": {
    "collapsed": true
   },
   "outputs": [],
   "source": []
  }
 ],
 "metadata": {
  "kernelspec": {
   "display_name": "Python 3",
   "language": "python",
   "name": "python3"
  },
  "language_info": {
   "codemirror_mode": {
    "name": "ipython",
    "version": 3
   },
   "file_extension": ".py",
   "mimetype": "text/x-python",
   "name": "python",
   "nbconvert_exporter": "python",
   "pygments_lexer": "ipython3",
   "version": "3.6.2"
  }
 },
 "nbformat": 4,
 "nbformat_minor": 2
}
